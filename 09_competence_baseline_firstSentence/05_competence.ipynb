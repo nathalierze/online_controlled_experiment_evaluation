{
 "cells": [
  {
   "cell_type": "code",
   "execution_count": 98,
   "metadata": {},
   "outputs": [],
   "source": [
    "import pandas as pd\n",
    "import pickle\n",
    "from scipy import stats\n",
    "import pandas as pd\n",
    "import seaborn as sns\n",
    "import pingouin as pg\n",
    "import statsmodels.formula.api as s\n",
    "import statsmodels.api as sm\n",
    "from statsmodels.formula.api import ols\n"
   ]
  },
  {
   "cell_type": "code",
   "execution_count": 99,
   "metadata": {},
   "outputs": [],
   "source": [
    "final = pickle.load(open( '../00_data/final/competence_onlyBaseline_firstSentences.pkl','rb') )"
   ]
  },
  {
   "cell_type": "code",
   "execution_count": 100,
   "metadata": {},
   "outputs": [
    {
     "data": {
      "text/html": [
       "<div>\n",
       "<style scoped>\n",
       "    .dataframe tbody tr th:only-of-type {\n",
       "        vertical-align: middle;\n",
       "    }\n",
       "\n",
       "    .dataframe tbody tr th {\n",
       "        vertical-align: top;\n",
       "    }\n",
       "\n",
       "    .dataframe thead th {\n",
       "        text-align: right;\n",
       "    }\n",
       "</style>\n",
       "<table border=\"1\" class=\"dataframe\">\n",
       "  <thead>\n",
       "    <tr style=\"text-align: right;\">\n",
       "      <th></th>\n",
       "      <th>UserID</th>\n",
       "      <th>ability</th>\n",
       "      <th>interventiongroup</th>\n",
       "      <th>Geschlecht</th>\n",
       "      <th>Klassenstufe</th>\n",
       "    </tr>\n",
       "  </thead>\n",
       "  <tbody>\n",
       "    <tr>\n",
       "      <th>0</th>\n",
       "      <td>186923</td>\n",
       "      <td>-1.06917</td>\n",
       "      <td>6</td>\n",
       "      <td>m</td>\n",
       "      <td>9</td>\n",
       "    </tr>\n",
       "    <tr>\n",
       "      <th>1</th>\n",
       "      <td>360974</td>\n",
       "      <td>0.53027</td>\n",
       "      <td>2</td>\n",
       "      <td>w</td>\n",
       "      <td>10</td>\n",
       "    </tr>\n",
       "    <tr>\n",
       "      <th>2</th>\n",
       "      <td>373836</td>\n",
       "      <td>3.75596</td>\n",
       "      <td>2</td>\n",
       "      <td>w</td>\n",
       "      <td>6</td>\n",
       "    </tr>\n",
       "    <tr>\n",
       "      <th>3</th>\n",
       "      <td>435839</td>\n",
       "      <td>2.63559</td>\n",
       "      <td>control</td>\n",
       "      <td>w</td>\n",
       "      <td>8</td>\n",
       "    </tr>\n",
       "    <tr>\n",
       "      <th>4</th>\n",
       "      <td>452752</td>\n",
       "      <td>2.11162</td>\n",
       "      <td>5</td>\n",
       "      <td>w</td>\n",
       "      <td>8</td>\n",
       "    </tr>\n",
       "    <tr>\n",
       "      <th>...</th>\n",
       "      <td>...</td>\n",
       "      <td>...</td>\n",
       "      <td>...</td>\n",
       "      <td>...</td>\n",
       "      <td>...</td>\n",
       "    </tr>\n",
       "    <tr>\n",
       "      <th>11164</th>\n",
       "      <td>1063303</td>\n",
       "      <td>0.97849</td>\n",
       "      <td>4</td>\n",
       "      <td>d</td>\n",
       "      <td>10</td>\n",
       "    </tr>\n",
       "    <tr>\n",
       "      <th>11165</th>\n",
       "      <td>1063461</td>\n",
       "      <td>-0.07219</td>\n",
       "      <td>6</td>\n",
       "      <td>m</td>\n",
       "      <td>11</td>\n",
       "    </tr>\n",
       "    <tr>\n",
       "      <th>11166</th>\n",
       "      <td>1063470</td>\n",
       "      <td>-0.97366</td>\n",
       "      <td>2</td>\n",
       "      <td>w</td>\n",
       "      <td>11</td>\n",
       "    </tr>\n",
       "    <tr>\n",
       "      <th>11167</th>\n",
       "      <td>1063762</td>\n",
       "      <td>1.01398</td>\n",
       "      <td>NaN</td>\n",
       "      <td>NaN</td>\n",
       "      <td>NaN</td>\n",
       "    </tr>\n",
       "    <tr>\n",
       "      <th>11168</th>\n",
       "      <td>1063918</td>\n",
       "      <td>2.80859</td>\n",
       "      <td>6</td>\n",
       "      <td>w</td>\n",
       "      <td>13</td>\n",
       "    </tr>\n",
       "  </tbody>\n",
       "</table>\n",
       "<p>11169 rows × 5 columns</p>\n",
       "</div>"
      ],
      "text/plain": [
       "        UserID  ability interventiongroup Geschlecht Klassenstufe\n",
       "0       186923 -1.06917                 6          m            9\n",
       "1       360974  0.53027                 2          w           10\n",
       "2       373836  3.75596                 2          w            6\n",
       "3       435839  2.63559           control          w            8\n",
       "4       452752  2.11162                 5          w            8\n",
       "...        ...      ...               ...        ...          ...\n",
       "11164  1063303  0.97849                 4          d           10\n",
       "11165  1063461 -0.07219                 6          m           11\n",
       "11166  1063470 -0.97366                 2          w           11\n",
       "11167  1063762  1.01398               NaN        NaN          NaN\n",
       "11168  1063918  2.80859                 6          w           13\n",
       "\n",
       "[11169 rows x 5 columns]"
      ]
     },
     "execution_count": 100,
     "metadata": {},
     "output_type": "execute_result"
    }
   ],
   "source": [
    "final"
   ]
  },
  {
   "cell_type": "code",
   "execution_count": 101,
   "metadata": {},
   "outputs": [],
   "source": [
    "intvcontrol = final[(final['interventiongroup']=='control')]\n",
    "intv2 = final[(final['interventiongroup']=='2')]\n",
    "intv3 = final[(final['interventiongroup']=='3')]\n",
    "intv4 = final[(final['interventiongroup']=='4')]\n",
    "intv5 = final[(final['interventiongroup']=='5')]\n",
    "intv6 = final[(final['interventiongroup']=='6')]"
   ]
  },
  {
   "cell_type": "markdown",
   "metadata": {},
   "source": [
    "Check assumptions"
   ]
  },
  {
   "cell_type": "code",
   "execution_count": 102,
   "metadata": {},
   "outputs": [
    {
     "data": {
      "text/plain": [
       "LeveneResult(statistic=0.46465528285451424, pvalue=0.8028317796994692)"
      ]
     },
     "execution_count": 102,
     "metadata": {},
     "output_type": "execute_result"
    }
   ],
   "source": [
    "# Levenes homogeneity => homogeneity = not significant // significant = no homogeneity \n",
    "stats.levene(intvcontrol['ability'], intv2['ability'], intv3['ability'], intv4['ability'], intv5['ability'], intv6['ability'])"
   ]
  },
  {
   "cell_type": "code",
   "execution_count": 103,
   "metadata": {},
   "outputs": [
    {
     "name": "stdout",
     "output_type": "stream",
     "text": [
      "ShapiroResult(statistic=0.985084593296051, pvalue=4.674724013919648e-15)\n",
      "ShapiroResult(statistic=0.9895131587982178, pvalue=6.170537414362798e-10)\n",
      "ShapiroResult(statistic=0.9853017330169678, pvalue=7.977334613197551e-13)\n",
      "ShapiroResult(statistic=0.9904030561447144, pvalue=1.3387039254908473e-09)\n",
      "ShapiroResult(statistic=0.986544668674469, pvalue=2.7508356703620507e-11)\n",
      "ShapiroResult(statistic=0.9886510372161865, pvalue=4.234987083240327e-10)\n"
     ]
    }
   ],
   "source": [
    "# Shapiro-Wilk test for normality => normality = not significant // significant = no normality \n",
    "print(stats.shapiro(intvcontrol['ability']))\n",
    "print(stats.shapiro(intv2['ability']))\n",
    "print(stats.shapiro(intv3['ability']))\n",
    "print(stats.shapiro(intv4['ability']))\n",
    "print(stats.shapiro(intv5['ability']))\n",
    "print(stats.shapiro(intv6['ability']))"
   ]
  },
  {
   "cell_type": "code",
   "execution_count": 104,
   "metadata": {},
   "outputs": [
    {
     "data": {
      "text/plain": [
       "<AxesSubplot:xlabel='ability', ylabel='Count'>"
      ]
     },
     "execution_count": 104,
     "metadata": {},
     "output_type": "execute_result"
    },
    {
     "data": {
      "image/png": "[encoded data removed]",
      "text/plain": [
       "<Figure size 432x288 with 1 Axes>"
      ]
     },
     "metadata": {
      "needs_background": "light"
     },
     "output_type": "display_data"
    }
   ],
   "source": [
    "sns.histplot(data=final, x=\"ability\")"
   ]
  },
  {
   "cell_type": "code",
   "execution_count": 105,
   "metadata": {},
   "outputs": [],
   "source": [
    "# # Fit and summarize ols model\n",
    "# model = ols('ability ~ C(interventiongroup)+C(Geschlecht)+C(interventiongroup):C(Geschlecht)',data=final).fit()\n",
    "# # type-1 anova summary \n",
    "# table_type_1 = sm.stats.anova_lm(model, typ=1)\n",
    "\n",
    "# # type-2 anova summary\n",
    "# table_type_2 = sm.stats.anova_lm(model, typ=2)\n",
    "# table_type_1"
   ]
  },
  {
   "cell_type": "code",
   "execution_count": 106,
   "metadata": {},
   "outputs": [],
   "source": [
    "# aov = pg.anova(data=final, dv='ability', between=['interventiongroup'], detailed=True)\n",
    "# print(aov)\n"
   ]
  },
  {
   "cell_type": "markdown",
   "metadata": {},
   "source": [
    "Übersicht Effektgroeßen"
   ]
  },
  {
   "cell_type": "code",
   "execution_count": 107,
   "metadata": {},
   "outputs": [
    {
     "data": {
      "text/html": [
       "<div>\n",
       "<style scoped>\n",
       "    .dataframe tbody tr th:only-of-type {\n",
       "        vertical-align: middle;\n",
       "    }\n",
       "\n",
       "    .dataframe tbody tr th {\n",
       "        vertical-align: top;\n",
       "    }\n",
       "\n",
       "    .dataframe thead th {\n",
       "        text-align: right;\n",
       "    }\n",
       "</style>\n",
       "<table border=\"1\" class=\"dataframe\">\n",
       "  <thead>\n",
       "    <tr style=\"text-align: right;\">\n",
       "      <th></th>\n",
       "      <th>ability</th>\n",
       "      <th>count</th>\n",
       "    </tr>\n",
       "    <tr>\n",
       "      <th>interventiongroup</th>\n",
       "      <th></th>\n",
       "      <th></th>\n",
       "    </tr>\n",
       "  </thead>\n",
       "  <tbody>\n",
       "    <tr>\n",
       "      <th>2</th>\n",
       "      <td>0.639140</td>\n",
       "      <td>1752</td>\n",
       "    </tr>\n",
       "    <tr>\n",
       "      <th>3</th>\n",
       "      <td>0.621276</td>\n",
       "      <td>1847</td>\n",
       "    </tr>\n",
       "    <tr>\n",
       "      <th>4</th>\n",
       "      <td>0.577251</td>\n",
       "      <td>1822</td>\n",
       "    </tr>\n",
       "    <tr>\n",
       "      <th>5</th>\n",
       "      <td>0.588573</td>\n",
       "      <td>1652</td>\n",
       "    </tr>\n",
       "    <tr>\n",
       "      <th>6</th>\n",
       "      <td>0.570049</td>\n",
       "      <td>1658</td>\n",
       "    </tr>\n",
       "    <tr>\n",
       "      <th>control</th>\n",
       "      <td>0.571060</td>\n",
       "      <td>2370</td>\n",
       "    </tr>\n",
       "  </tbody>\n",
       "</table>\n",
       "</div>"
      ],
      "text/plain": [
       "                    ability  count\n",
       "interventiongroup                 \n",
       "2                  0.639140   1752\n",
       "3                  0.621276   1847\n",
       "4                  0.577251   1822\n",
       "5                  0.588573   1652\n",
       "6                  0.570049   1658\n",
       "control            0.571060   2370"
      ]
     },
     "execution_count": 107,
     "metadata": {},
     "output_type": "execute_result"
    }
   ],
   "source": [
    "ability_by_group = final.groupby(['interventiongroup']).agg({'ability':'mean','Geschlecht':'count'})\n",
    "ability_by_group = ability_by_group.rename(columns={'Geschlecht':'count'})\n",
    "ability_by_group"
   ]
  },
  {
   "cell_type": "code",
   "execution_count": 108,
   "metadata": {},
   "outputs": [
    {
     "data": {
      "text/html": [
       "<div>\n",
       "<style scoped>\n",
       "    .dataframe tbody tr th:only-of-type {\n",
       "        vertical-align: middle;\n",
       "    }\n",
       "\n",
       "    .dataframe tbody tr th {\n",
       "        vertical-align: top;\n",
       "    }\n",
       "\n",
       "    .dataframe thead th {\n",
       "        text-align: right;\n",
       "    }\n",
       "</style>\n",
       "<table border=\"1\" class=\"dataframe\">\n",
       "  <thead>\n",
       "    <tr style=\"text-align: right;\">\n",
       "      <th></th>\n",
       "      <th></th>\n",
       "      <th>ability</th>\n",
       "      <th>count</th>\n",
       "    </tr>\n",
       "    <tr>\n",
       "      <th>Geschlecht</th>\n",
       "      <th>interventiongroup</th>\n",
       "      <th></th>\n",
       "      <th></th>\n",
       "    </tr>\n",
       "  </thead>\n",
       "  <tbody>\n",
       "    <tr>\n",
       "      <th rowspan=\"6\" valign=\"top\">d</th>\n",
       "      <th>2</th>\n",
       "      <td>0.975640</td>\n",
       "      <td>47</td>\n",
       "    </tr>\n",
       "    <tr>\n",
       "      <th>3</th>\n",
       "      <td>0.720850</td>\n",
       "      <td>61</td>\n",
       "    </tr>\n",
       "    <tr>\n",
       "      <th>4</th>\n",
       "      <td>0.453640</td>\n",
       "      <td>53</td>\n",
       "    </tr>\n",
       "    <tr>\n",
       "      <th>5</th>\n",
       "      <td>0.555630</td>\n",
       "      <td>54</td>\n",
       "    </tr>\n",
       "    <tr>\n",
       "      <th>6</th>\n",
       "      <td>0.112505</td>\n",
       "      <td>68</td>\n",
       "    </tr>\n",
       "    <tr>\n",
       "      <th>control</th>\n",
       "      <td>0.285360</td>\n",
       "      <td>73</td>\n",
       "    </tr>\n",
       "    <tr>\n",
       "      <th rowspan=\"6\" valign=\"top\">m</th>\n",
       "      <th>2</th>\n",
       "      <td>0.638600</td>\n",
       "      <td>814</td>\n",
       "    </tr>\n",
       "    <tr>\n",
       "      <th>3</th>\n",
       "      <td>0.715450</td>\n",
       "      <td>839</td>\n",
       "    </tr>\n",
       "    <tr>\n",
       "      <th>4</th>\n",
       "      <td>0.617080</td>\n",
       "      <td>890</td>\n",
       "    </tr>\n",
       "    <tr>\n",
       "      <th>5</th>\n",
       "      <td>0.638960</td>\n",
       "      <td>782</td>\n",
       "    </tr>\n",
       "    <tr>\n",
       "      <th>6</th>\n",
       "      <td>0.542685</td>\n",
       "      <td>792</td>\n",
       "    </tr>\n",
       "    <tr>\n",
       "      <th>control</th>\n",
       "      <td>0.567770</td>\n",
       "      <td>1122</td>\n",
       "    </tr>\n",
       "    <tr>\n",
       "      <th rowspan=\"6\" valign=\"top\">w</th>\n",
       "      <th>2</th>\n",
       "      <td>0.724650</td>\n",
       "      <td>891</td>\n",
       "    </tr>\n",
       "    <tr>\n",
       "      <th>3</th>\n",
       "      <td>0.668160</td>\n",
       "      <td>947</td>\n",
       "    </tr>\n",
       "    <tr>\n",
       "      <th>4</th>\n",
       "      <td>0.644180</td>\n",
       "      <td>879</td>\n",
       "    </tr>\n",
       "    <tr>\n",
       "      <th>5</th>\n",
       "      <td>0.708000</td>\n",
       "      <td>816</td>\n",
       "    </tr>\n",
       "    <tr>\n",
       "      <th>6</th>\n",
       "      <td>0.793815</td>\n",
       "      <td>798</td>\n",
       "    </tr>\n",
       "    <tr>\n",
       "      <th>control</th>\n",
       "      <td>0.726510</td>\n",
       "      <td>1175</td>\n",
       "    </tr>\n",
       "  </tbody>\n",
       "</table>\n",
       "</div>"
      ],
      "text/plain": [
       "                               ability  count\n",
       "Geschlecht interventiongroup                 \n",
       "d          2                  0.975640     47\n",
       "           3                  0.720850     61\n",
       "           4                  0.453640     53\n",
       "           5                  0.555630     54\n",
       "           6                  0.112505     68\n",
       "           control            0.285360     73\n",
       "m          2                  0.638600    814\n",
       "           3                  0.715450    839\n",
       "           4                  0.617080    890\n",
       "           5                  0.638960    782\n",
       "           6                  0.542685    792\n",
       "           control            0.567770   1122\n",
       "w          2                  0.724650    891\n",
       "           3                  0.668160    947\n",
       "           4                  0.644180    879\n",
       "           5                  0.708000    816\n",
       "           6                  0.793815    798\n",
       "           control            0.726510   1175"
      ]
     },
     "execution_count": 108,
     "metadata": {},
     "output_type": "execute_result"
    }
   ],
   "source": [
    "ability_by_group = final.groupby(['Geschlecht','interventiongroup']).agg({'ability':'median','Klassenstufe':'count'})\n",
    "ability_by_group = ability_by_group.rename(columns={'Klassenstufe':'count'})\n",
    "\n",
    "ability_by_group"
   ]
  },
  {
   "cell_type": "code",
   "execution_count": 109,
   "metadata": {},
   "outputs": [
    {
     "data": {
      "text/html": [
       "<div>\n",
       "<style scoped>\n",
       "    .dataframe tbody tr th:only-of-type {\n",
       "        vertical-align: middle;\n",
       "    }\n",
       "\n",
       "    .dataframe tbody tr th {\n",
       "        vertical-align: top;\n",
       "    }\n",
       "\n",
       "    .dataframe thead th {\n",
       "        text-align: right;\n",
       "    }\n",
       "</style>\n",
       "<table border=\"1\" class=\"dataframe\">\n",
       "  <thead>\n",
       "    <tr style=\"text-align: right;\">\n",
       "      <th></th>\n",
       "      <th></th>\n",
       "      <th>ability</th>\n",
       "      <th>count</th>\n",
       "    </tr>\n",
       "    <tr>\n",
       "      <th>Klassenstufe</th>\n",
       "      <th>interventiongroup</th>\n",
       "      <th></th>\n",
       "      <th></th>\n",
       "    </tr>\n",
       "  </thead>\n",
       "  <tbody>\n",
       "    <tr>\n",
       "      <th rowspan=\"6\" valign=\"top\">10</th>\n",
       "      <th>2</th>\n",
       "      <td>1.059100</td>\n",
       "      <td>171</td>\n",
       "    </tr>\n",
       "    <tr>\n",
       "      <th>3</th>\n",
       "      <td>0.955270</td>\n",
       "      <td>181</td>\n",
       "    </tr>\n",
       "    <tr>\n",
       "      <th>4</th>\n",
       "      <td>1.033320</td>\n",
       "      <td>169</td>\n",
       "    </tr>\n",
       "    <tr>\n",
       "      <th>5</th>\n",
       "      <td>0.950615</td>\n",
       "      <td>156</td>\n",
       "    </tr>\n",
       "    <tr>\n",
       "      <th>6</th>\n",
       "      <td>0.807275</td>\n",
       "      <td>158</td>\n",
       "    </tr>\n",
       "    <tr>\n",
       "      <th>control</th>\n",
       "      <td>0.779500</td>\n",
       "      <td>208</td>\n",
       "    </tr>\n",
       "    <tr>\n",
       "      <th rowspan=\"6\" valign=\"top\">11</th>\n",
       "      <th>2</th>\n",
       "      <td>0.917710</td>\n",
       "      <td>159</td>\n",
       "    </tr>\n",
       "    <tr>\n",
       "      <th>3</th>\n",
       "      <td>0.652000</td>\n",
       "      <td>169</td>\n",
       "    </tr>\n",
       "    <tr>\n",
       "      <th>4</th>\n",
       "      <td>0.745650</td>\n",
       "      <td>160</td>\n",
       "    </tr>\n",
       "    <tr>\n",
       "      <th>5</th>\n",
       "      <td>0.783180</td>\n",
       "      <td>143</td>\n",
       "    </tr>\n",
       "    <tr>\n",
       "      <th>6</th>\n",
       "      <td>0.944320</td>\n",
       "      <td>144</td>\n",
       "    </tr>\n",
       "    <tr>\n",
       "      <th>control</th>\n",
       "      <td>0.748870</td>\n",
       "      <td>200</td>\n",
       "    </tr>\n",
       "    <tr>\n",
       "      <th rowspan=\"6\" valign=\"top\">12</th>\n",
       "      <th>2</th>\n",
       "      <td>0.841270</td>\n",
       "      <td>55</td>\n",
       "    </tr>\n",
       "    <tr>\n",
       "      <th>3</th>\n",
       "      <td>1.261670</td>\n",
       "      <td>49</td>\n",
       "    </tr>\n",
       "    <tr>\n",
       "      <th>4</th>\n",
       "      <td>1.104565</td>\n",
       "      <td>40</td>\n",
       "    </tr>\n",
       "    <tr>\n",
       "      <th>5</th>\n",
       "      <td>1.261790</td>\n",
       "      <td>53</td>\n",
       "    </tr>\n",
       "    <tr>\n",
       "      <th>6</th>\n",
       "      <td>1.436265</td>\n",
       "      <td>44</td>\n",
       "    </tr>\n",
       "    <tr>\n",
       "      <th>control</th>\n",
       "      <td>1.116105</td>\n",
       "      <td>58</td>\n",
       "    </tr>\n",
       "    <tr>\n",
       "      <th rowspan=\"6\" valign=\"top\">13</th>\n",
       "      <th>2</th>\n",
       "      <td>1.616570</td>\n",
       "      <td>31</td>\n",
       "    </tr>\n",
       "    <tr>\n",
       "      <th>3</th>\n",
       "      <td>1.505745</td>\n",
       "      <td>24</td>\n",
       "    </tr>\n",
       "    <tr>\n",
       "      <th>4</th>\n",
       "      <td>1.218930</td>\n",
       "      <td>31</td>\n",
       "    </tr>\n",
       "    <tr>\n",
       "      <th>5</th>\n",
       "      <td>1.206960</td>\n",
       "      <td>26</td>\n",
       "    </tr>\n",
       "    <tr>\n",
       "      <th>6</th>\n",
       "      <td>1.590185</td>\n",
       "      <td>32</td>\n",
       "    </tr>\n",
       "    <tr>\n",
       "      <th>control</th>\n",
       "      <td>1.039620</td>\n",
       "      <td>43</td>\n",
       "    </tr>\n",
       "    <tr>\n",
       "      <th rowspan=\"6\" valign=\"top\">5</th>\n",
       "      <th>2</th>\n",
       "      <td>0.224505</td>\n",
       "      <td>180</td>\n",
       "    </tr>\n",
       "    <tr>\n",
       "      <th>3</th>\n",
       "      <td>0.406700</td>\n",
       "      <td>181</td>\n",
       "    </tr>\n",
       "    <tr>\n",
       "      <th>4</th>\n",
       "      <td>0.348765</td>\n",
       "      <td>194</td>\n",
       "    </tr>\n",
       "    <tr>\n",
       "      <th>5</th>\n",
       "      <td>0.303610</td>\n",
       "      <td>149</td>\n",
       "    </tr>\n",
       "    <tr>\n",
       "      <th>6</th>\n",
       "      <td>0.269960</td>\n",
       "      <td>177</td>\n",
       "    </tr>\n",
       "    <tr>\n",
       "      <th>control</th>\n",
       "      <td>0.048960</td>\n",
       "      <td>243</td>\n",
       "    </tr>\n",
       "    <tr>\n",
       "      <th rowspan=\"6\" valign=\"top\">6</th>\n",
       "      <th>2</th>\n",
       "      <td>0.489560</td>\n",
       "      <td>267</td>\n",
       "    </tr>\n",
       "    <tr>\n",
       "      <th>3</th>\n",
       "      <td>0.449850</td>\n",
       "      <td>268</td>\n",
       "    </tr>\n",
       "    <tr>\n",
       "      <th>4</th>\n",
       "      <td>0.475480</td>\n",
       "      <td>284</td>\n",
       "    </tr>\n",
       "    <tr>\n",
       "      <th>5</th>\n",
       "      <td>0.494695</td>\n",
       "      <td>240</td>\n",
       "    </tr>\n",
       "    <tr>\n",
       "      <th>6</th>\n",
       "      <td>0.426710</td>\n",
       "      <td>241</td>\n",
       "    </tr>\n",
       "    <tr>\n",
       "      <th>control</th>\n",
       "      <td>0.493465</td>\n",
       "      <td>338</td>\n",
       "    </tr>\n",
       "    <tr>\n",
       "      <th rowspan=\"6\" valign=\"top\">7</th>\n",
       "      <th>2</th>\n",
       "      <td>0.556010</td>\n",
       "      <td>245</td>\n",
       "    </tr>\n",
       "    <tr>\n",
       "      <th>3</th>\n",
       "      <td>0.534025</td>\n",
       "      <td>274</td>\n",
       "    </tr>\n",
       "    <tr>\n",
       "      <th>4</th>\n",
       "      <td>0.531700</td>\n",
       "      <td>328</td>\n",
       "    </tr>\n",
       "    <tr>\n",
       "      <th>5</th>\n",
       "      <td>0.470180</td>\n",
       "      <td>293</td>\n",
       "    </tr>\n",
       "    <tr>\n",
       "      <th>6</th>\n",
       "      <td>0.407955</td>\n",
       "      <td>276</td>\n",
       "    </tr>\n",
       "    <tr>\n",
       "      <th>control</th>\n",
       "      <td>0.635185</td>\n",
       "      <td>422</td>\n",
       "    </tr>\n",
       "    <tr>\n",
       "      <th rowspan=\"6\" valign=\"top\">8</th>\n",
       "      <th>2</th>\n",
       "      <td>0.658980</td>\n",
       "      <td>331</td>\n",
       "    </tr>\n",
       "    <tr>\n",
       "      <th>3</th>\n",
       "      <td>0.698820</td>\n",
       "      <td>378</td>\n",
       "    </tr>\n",
       "    <tr>\n",
       "      <th>4</th>\n",
       "      <td>0.560485</td>\n",
       "      <td>332</td>\n",
       "    </tr>\n",
       "    <tr>\n",
       "      <th>5</th>\n",
       "      <td>0.718550</td>\n",
       "      <td>290</td>\n",
       "    </tr>\n",
       "    <tr>\n",
       "      <th>6</th>\n",
       "      <td>0.704685</td>\n",
       "      <td>306</td>\n",
       "    </tr>\n",
       "    <tr>\n",
       "      <th>control</th>\n",
       "      <td>0.626360</td>\n",
       "      <td>455</td>\n",
       "    </tr>\n",
       "    <tr>\n",
       "      <th rowspan=\"6\" valign=\"top\">9</th>\n",
       "      <th>2</th>\n",
       "      <td>0.863180</td>\n",
       "      <td>313</td>\n",
       "    </tr>\n",
       "    <tr>\n",
       "      <th>3</th>\n",
       "      <td>0.842970</td>\n",
       "      <td>323</td>\n",
       "    </tr>\n",
       "    <tr>\n",
       "      <th>4</th>\n",
       "      <td>0.765840</td>\n",
       "      <td>284</td>\n",
       "    </tr>\n",
       "    <tr>\n",
       "      <th>5</th>\n",
       "      <td>0.762410</td>\n",
       "      <td>302</td>\n",
       "    </tr>\n",
       "    <tr>\n",
       "      <th>6</th>\n",
       "      <td>0.733445</td>\n",
       "      <td>280</td>\n",
       "    </tr>\n",
       "    <tr>\n",
       "      <th>control</th>\n",
       "      <td>0.894760</td>\n",
       "      <td>403</td>\n",
       "    </tr>\n",
       "  </tbody>\n",
       "</table>\n",
       "</div>"
      ],
      "text/plain": [
       "                                 ability  count\n",
       "Klassenstufe interventiongroup                 \n",
       "10           2                  1.059100    171\n",
       "             3                  0.955270    181\n",
       "             4                  1.033320    169\n",
       "             5                  0.950615    156\n",
       "             6                  0.807275    158\n",
       "             control            0.779500    208\n",
       "11           2                  0.917710    159\n",
       "             3                  0.652000    169\n",
       "             4                  0.745650    160\n",
       "             5                  0.783180    143\n",
       "             6                  0.944320    144\n",
       "             control            0.748870    200\n",
       "12           2                  0.841270     55\n",
       "             3                  1.261670     49\n",
       "             4                  1.104565     40\n",
       "             5                  1.261790     53\n",
       "             6                  1.436265     44\n",
       "             control            1.116105     58\n",
       "13           2                  1.616570     31\n",
       "             3                  1.505745     24\n",
       "             4                  1.218930     31\n",
       "             5                  1.206960     26\n",
       "             6                  1.590185     32\n",
       "             control            1.039620     43\n",
       "5            2                  0.224505    180\n",
       "             3                  0.406700    181\n",
       "             4                  0.348765    194\n",
       "             5                  0.303610    149\n",
       "             6                  0.269960    177\n",
       "             control            0.048960    243\n",
       "6            2                  0.489560    267\n",
       "             3                  0.449850    268\n",
       "             4                  0.475480    284\n",
       "             5                  0.494695    240\n",
       "             6                  0.426710    241\n",
       "             control            0.493465    338\n",
       "7            2                  0.556010    245\n",
       "             3                  0.534025    274\n",
       "             4                  0.531700    328\n",
       "             5                  0.470180    293\n",
       "             6                  0.407955    276\n",
       "             control            0.635185    422\n",
       "8            2                  0.658980    331\n",
       "             3                  0.698820    378\n",
       "             4                  0.560485    332\n",
       "             5                  0.718550    290\n",
       "             6                  0.704685    306\n",
       "             control            0.626360    455\n",
       "9            2                  0.863180    313\n",
       "             3                  0.842970    323\n",
       "             4                  0.765840    284\n",
       "             5                  0.762410    302\n",
       "             6                  0.733445    280\n",
       "             control            0.894760    403"
      ]
     },
     "execution_count": 109,
     "metadata": {},
     "output_type": "execute_result"
    }
   ],
   "source": [
    "ability_by_group = final.groupby(['Klassenstufe','interventiongroup']).agg({'ability':'median','Geschlecht':'count'})\n",
    "ability_by_group = ability_by_group.rename(columns={'Geschlecht':'count'})\n",
    "\n",
    "ability_by_group"
   ]
  },
  {
   "cell_type": "markdown",
   "metadata": {},
   "source": [
    "Alle Daten"
   ]
  },
  {
   "cell_type": "code",
   "execution_count": 110,
   "metadata": {},
   "outputs": [
    {
     "data": {
      "text/plain": [
       "KruskalResult(statistic=5.00967827396081, pvalue=0.4147001792343346)"
      ]
     },
     "execution_count": 110,
     "metadata": {},
     "output_type": "execute_result"
    }
   ],
   "source": [
    "# Kruskal Wallis Test \n",
    "stats.kruskal(intvcontrol['ability'], intv2['ability'], intv3['ability'],intv4['ability'],intv5['ability'],intv6['ability'])\n"
   ]
  },
  {
   "cell_type": "code",
   "execution_count": 111,
   "metadata": {},
   "outputs": [
    {
     "name": "stdout",
     "output_type": "stream",
     "text": [
      "MannwhitneyuResult(statistic=2018581.5, pvalue=0.12767291356820834)\n",
      "MannwhitneyuResult(statistic=2134032.0, pvalue=0.1634565666618849)\n",
      "MannwhitneyuResult(statistic=2165565.5, pvalue=0.8672057230287806)\n",
      "MannwhitneyuResult(statistic=1941411.5, pvalue=0.6546085188605077)\n",
      "MannwhitneyuResult(statistic=1964734.0, pvalue=0.9999231163618805)\n"
     ]
    }
   ],
   "source": [
    "#Wilcoxon Mann Whitney Test\n",
    "print(stats.mannwhitneyu(intvcontrol['ability'], intv2['ability']))\n",
    "print(stats.mannwhitneyu(intvcontrol['ability'], intv3['ability']))\n",
    "print(stats.mannwhitneyu(intvcontrol['ability'], intv4['ability']))\n",
    "print(stats.mannwhitneyu(intvcontrol['ability'], intv5['ability']))\n",
    "print(stats.mannwhitneyu(intvcontrol['ability'], intv6['ability']))\n"
   ]
  },
  {
   "cell_type": "code",
   "execution_count": 112,
   "metadata": {},
   "outputs": [
    {
     "data": {
      "text/plain": [
       "<AxesSubplot:xlabel='ability', ylabel='interventiongroup'>"
      ]
     },
     "execution_count": 112,
     "metadata": {},
     "output_type": "execute_result"
    },
    {
     "data": {
      "image/png": "[encoded data removed]",
      "text/plain": [
       "<Figure size 432x288 with 1 Axes>"
      ]
     },
     "metadata": {
      "needs_background": "light"
     },
     "output_type": "display_data"
    }
   ],
   "source": [
    "sns.boxplot(data=final, x=\"ability\", y=\"interventiongroup\",showfliers = False)#,hue='Geschlecht'\n"
   ]
  },
  {
   "cell_type": "code",
   "execution_count": 113,
   "metadata": {},
   "outputs": [
    {
     "data": {
      "text/plain": [
       "<AxesSubplot:xlabel='ability', ylabel='Geschlecht'>"
      ]
     },
     "execution_count": 113,
     "metadata": {},
     "output_type": "execute_result"
    },
    {
     "data": {
      "image/png": "[encoded data removed]",
      "text/plain": [
       "<Figure size 432x288 with 1 Axes>"
      ]
     },
     "metadata": {
      "needs_background": "light"
     },
     "output_type": "display_data"
    }
   ],
   "source": [
    "sns.boxplot(data=final, x=\"ability\", hue=\"interventiongroup\",y='Geschlecht',showfliers = False)\n"
   ]
  },
  {
   "cell_type": "markdown",
   "metadata": {},
   "source": [
    "Gender Demographics"
   ]
  },
  {
   "cell_type": "code",
   "execution_count": 114,
   "metadata": {},
   "outputs": [],
   "source": [
    "final_m = final.loc[final.Geschlecht == 'm']\n",
    "final_w = final.loc[final.Geschlecht == 'w']\n",
    "final_d = final.loc[final.Geschlecht == 'd']"
   ]
  },
  {
   "cell_type": "markdown",
   "metadata": {},
   "source": [
    "Jungen"
   ]
  },
  {
   "cell_type": "code",
   "execution_count": 115,
   "metadata": {},
   "outputs": [
    {
     "data": {
      "text/plain": [
       "KruskalResult(statistic=9.012604495974214, pvalue=0.1085624619322569)"
      ]
     },
     "execution_count": 115,
     "metadata": {},
     "output_type": "execute_result"
    }
   ],
   "source": [
    "intvcontrol_m = final_m[(final_m['interventiongroup']=='control')]\n",
    "intv2_m = final_m[(final_m['interventiongroup']=='2')]\n",
    "intv3_m = final_m[(final_m['interventiongroup']=='3')]\n",
    "intv4_m = final_m[(final_m['interventiongroup']=='4')]\n",
    "intv5_m = final_m[(final_m['interventiongroup']=='5')]\n",
    "intv6_m = final_m[(final_m['interventiongroup']=='6')]\n",
    "\n",
    "# Kruskal Wallis Test \n",
    "stats.kruskal(intvcontrol_m['ability'], intv2_m['ability'], intv3_m['ability'],intv4_m['ability'],intv5_m['ability'],intv6_m['ability'])\n",
    "\n"
   ]
  },
  {
   "cell_type": "code",
   "execution_count": 116,
   "metadata": {},
   "outputs": [
    {
     "name": "stdout",
     "output_type": "stream",
     "text": [
      "MannwhitneyuResult(statistic=446727.5, pvalue=0.41363850343433695)\n",
      "MannwhitneyuResult(statistic=439206.5, pvalue=0.011186689825014098)\n",
      "MannwhitneyuResult(statistic=491096.5, pvalue=0.5267176003489509)\n",
      "MannwhitneyuResult(statistic=429952.0, pvalue=0.45847744710421)\n",
      "MannwhitneyuResult(statistic=448374.0, pvalue=0.7330564897919369)\n"
     ]
    }
   ],
   "source": [
    "#Wilcoxon Mann Whitney Test\n",
    "print(stats.mannwhitneyu(intvcontrol_m['ability'], intv2_m['ability']))\n",
    "print(stats.mannwhitneyu(intvcontrol_m['ability'], intv3_m['ability']))\n",
    "print(stats.mannwhitneyu(intvcontrol_m['ability'], intv4_m['ability']))\n",
    "print(stats.mannwhitneyu(intvcontrol_m['ability'], intv5_m['ability']))\n",
    "print(stats.mannwhitneyu(intvcontrol_m['ability'], intv6_m['ability']))\n"
   ]
  },
  {
   "cell_type": "code",
   "execution_count": 117,
   "metadata": {},
   "outputs": [
    {
     "data": {
      "text/plain": [
       "<AxesSubplot:xlabel='ability', ylabel='interventiongroup'>"
      ]
     },
     "execution_count": 117,
     "metadata": {},
     "output_type": "execute_result"
    },
    {
     "data": {
      "image/png": "[encoded data removed]",
      "text/plain": [
       "<Figure size 432x288 with 1 Axes>"
      ]
     },
     "metadata": {
      "needs_background": "light"
     },
     "output_type": "display_data"
    }
   ],
   "source": [
    "sns.boxplot(data=final_m, x=\"ability\", y=\"interventiongroup\",showfliers = False)\n"
   ]
  },
  {
   "cell_type": "markdown",
   "metadata": {},
   "source": [
    "Maedchen"
   ]
  },
  {
   "cell_type": "code",
   "execution_count": 118,
   "metadata": {},
   "outputs": [
    {
     "data": {
      "text/plain": [
       "KruskalResult(statistic=4.859403570703839, pvalue=0.4332787970101357)"
      ]
     },
     "execution_count": 118,
     "metadata": {},
     "output_type": "execute_result"
    }
   ],
   "source": [
    "intvcontrol_w = final_w[(final_w['interventiongroup']=='control')]\n",
    "intv2_w = final_w[(final_w['interventiongroup']=='2')]\n",
    "intv3_w = final_w[(final_w['interventiongroup']=='3')]\n",
    "intv4_w = final_w[(final_w['interventiongroup']=='4')]\n",
    "intv5_w = final_w[(final_w['interventiongroup']=='5')]\n",
    "intv6_w = final_w[(final_w['interventiongroup']=='6')]\n",
    "\n",
    "# Kruskal Wallis Test \n",
    "stats.kruskal(intvcontrol_w['ability'], intv2_w['ability'], intv3_w['ability'],intv4_w['ability'],intv5_w['ability'],intv6_w['ability'])\n"
   ]
  },
  {
   "cell_type": "code",
   "execution_count": 119,
   "metadata": {},
   "outputs": [
    {
     "name": "stdout",
     "output_type": "stream",
     "text": [
      "MannwhitneyuResult(statistic=512832.0, pvalue=0.4286042478838792)\n",
      "MannwhitneyuResult(statistic=568205.0, pvalue=0.39866443101970495)\n",
      "MannwhitneyuResult(statistic=528328.5, pvalue=0.37027927460401355)\n",
      "MannwhitneyuResult(statistic=480885.0, pvalue=0.906329859835964)\n",
      "MannwhitneyuResult(statistic=458485.0, pvalue=0.40511346159503103)\n"
     ]
    }
   ],
   "source": [
    "#Wilcoxon Mann Whitney Test\n",
    "print(stats.mannwhitneyu(intvcontrol_w['ability'], intv2_w['ability']))\n",
    "print(stats.mannwhitneyu(intvcontrol_w['ability'], intv3_w['ability']))\n",
    "print(stats.mannwhitneyu(intvcontrol_w['ability'], intv4_w['ability']))\n",
    "print(stats.mannwhitneyu(intvcontrol_w['ability'], intv5_w['ability']))\n",
    "print(stats.mannwhitneyu(intvcontrol_w['ability'], intv6_w['ability']))\n"
   ]
  },
  {
   "cell_type": "code",
   "execution_count": 120,
   "metadata": {},
   "outputs": [
    {
     "data": {
      "text/plain": [
       "<AxesSubplot:xlabel='ability', ylabel='interventiongroup'>"
      ]
     },
     "execution_count": 120,
     "metadata": {},
     "output_type": "execute_result"
    },
    {
     "data": {
      "image/png": "[encoded data removed]",
      "text/plain": [
       "<Figure size 432x288 with 1 Axes>"
      ]
     },
     "metadata": {
      "needs_background": "light"
     },
     "output_type": "display_data"
    }
   ],
   "source": [
    "sns.boxplot(data=final_w, x=\"ability\", y=\"interventiongroup\",showfliers = False)"
   ]
  },
  {
   "cell_type": "markdown",
   "metadata": {},
   "source": [
    "Divers"
   ]
  },
  {
   "cell_type": "code",
   "execution_count": 121,
   "metadata": {},
   "outputs": [
    {
     "data": {
      "text/plain": [
       "KruskalResult(statistic=8.583677453972061, pvalue=0.126867194130068)"
      ]
     },
     "execution_count": 121,
     "metadata": {},
     "output_type": "execute_result"
    }
   ],
   "source": [
    "intvcontrol_d = final_d[(final_d['interventiongroup']=='control')]\n",
    "intv2_d = final_d[(final_d['interventiongroup']=='2')]\n",
    "intv3_d = final_d[(final_d['interventiongroup']=='3')]\n",
    "intv4_d = final_d[(final_d['interventiongroup']=='4')]\n",
    "intv5_d = final_d[(final_d['interventiongroup']=='5')]\n",
    "intv6_d = final_d[(final_d['interventiongroup']=='6')]\n",
    "\n",
    "# Kruskal Wallis Test \n",
    "stats.kruskal(intvcontrol_d['ability'], intv2_d['ability'], intv3_d['ability'],intv4_d['ability'],intv5_d['ability'],intv6_d['ability'])\n"
   ]
  },
  {
   "cell_type": "code",
   "execution_count": 122,
   "metadata": {},
   "outputs": [
    {
     "name": "stdout",
     "output_type": "stream",
     "text": [
      "MannwhitneyuResult(statistic=1304.5, pvalue=0.027313821738037168)\n",
      "MannwhitneyuResult(statistic=1989.0, pvalue=0.2896531479616594)\n",
      "MannwhitneyuResult(statistic=1878.0, pvalue=0.7819754761899486)\n",
      "MannwhitneyuResult(statistic=1972.5, pvalue=0.9961089545437248)\n",
      "MannwhitneyuResult(statistic=2698.0, pvalue=0.37391836039930315)\n"
     ]
    }
   ],
   "source": [
    "#Wilcoxon Mann Whitney Test\n",
    "print(stats.mannwhitneyu(intvcontrol_d['ability'], intv2_d['ability']))\n",
    "print(stats.mannwhitneyu(intvcontrol_d['ability'], intv3_d['ability']))\n",
    "print(stats.mannwhitneyu(intvcontrol_d['ability'], intv4_d['ability']))\n",
    "print(stats.mannwhitneyu(intvcontrol_d['ability'], intv5_d['ability']))\n",
    "print(stats.mannwhitneyu(intvcontrol_d['ability'], intv6_d['ability']))\n"
   ]
  },
  {
   "cell_type": "code",
   "execution_count": 123,
   "metadata": {},
   "outputs": [
    {
     "data": {
      "text/plain": [
       "<AxesSubplot:xlabel='ability', ylabel='interventiongroup'>"
      ]
     },
     "execution_count": 123,
     "metadata": {},
     "output_type": "execute_result"
    },
    {
     "data": {
      "image/png": "[encoded data removed]",
      "text/plain": [
       "<Figure size 432x288 with 1 Axes>"
      ]
     },
     "metadata": {
      "needs_background": "light"
     },
     "output_type": "display_data"
    }
   ],
   "source": [
    "sns.boxplot(data=final_d, x=\"ability\", y=\"interventiongroup\",showfliers = False)"
   ]
  },
  {
   "cell_type": "markdown",
   "metadata": {},
   "source": [
    "Demographics Klassenstufe"
   ]
  }
 ],
 "metadata": {
  "kernelspec": {
   "display_name": "Python 3.10.2 64-bit",
   "language": "python",
   "name": "python3"
  },
  "language_info": {
   "codemirror_mode": {
    "name": "ipython",
    "version": 3
   },
   "file_extension": ".py",
   "mimetype": "text/x-python",
   "name": "python",
   "nbconvert_exporter": "python",
   "pygments_lexer": "ipython3",
   "version": "3.10.2"
  },
  "orig_nbformat": 4,
  "vscode": {
   "interpreter": {
    "hash": "369f2c481f4da34e4445cda3fffd2e751bd1c4d706f27375911949ba6bb62e1c"
   }
  }
 },
 "nbformat": 4,
 "nbformat_minor": 2
}
