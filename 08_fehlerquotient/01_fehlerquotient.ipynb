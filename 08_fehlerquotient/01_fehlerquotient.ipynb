{
 "cells": [
  {
   "attachments": {},
   "cell_type": "markdown",
   "metadata": {},
   "source": [
    "H1 User Competency <> error ratio"
   ]
  },
  {
   "cell_type": "code",
   "execution_count": null,
   "metadata": {},
   "outputs": [],
   "source": [
    "import pandas as pd\n",
    "import pickle\n",
    "from scipy import stats\n",
    "import numpy as np\n",
    "import seaborn as sns\n",
    "import pingouin as pg\n",
    "import statsmodels.formula.api as s"
   ]
  },
  {
   "cell_type": "code",
   "execution_count": null,
   "metadata": {},
   "outputs": [],
   "source": [
    "#import and preprocess\n",
    "df = pickle.load(open( '../00_data/cleaned/sitzungssummary.pkl','rb') )\n",
    "xmlsaetze = pickle.load(open( '../00_data/cleaned/xmlsaetze.pkl','rb') )\n",
    "final = pickle.load(open( '../00_data/final/competence.pkl','rb') )\n",
    "\n",
    "final = final[['UserID','interventiongroup']]\n",
    "rasch = xmlsaetze[['UserID','SatzID','Erfolg','Datum']]\n",
    "rasch['UserID'].astype(str)\n",
    "rasch['SatzID'].astype(str)"
   ]
  },
  {
   "cell_type": "code",
   "execution_count": null,
   "metadata": {},
   "outputs": [],
   "source": [
    "# get and merge most recent task\n",
    "most_recent_task = rasch.groupby(['UserID','SatzID']).agg({'Datum':np.max})\n",
    "most_recent_task = most_recent_task.reset_index()\n",
    "most_recent_task = pd.merge(most_recent_task, rasch, on=['UserID','SatzID','Datum'])\n",
    "\n",
    "#drop rows that contain any value in the list\n",
    "values = [9991775, 373 ,375]\n",
    "most_recent_task = most_recent_task[most_recent_task.SatzID.isin(values) == False]"
   ]
  },
  {
   "cell_type": "code",
   "execution_count": null,
   "metadata": {},
   "outputs": [],
   "source": [
    "df = pd.merge(most_recent_task,final, on='UserID')\n",
    "df_grouped = df.groupby(['UserID','interventiongroup']).agg({'Erfolg':'sum','SatzID':'count'})\n",
    "df_grouped['fehlerquotient'] = 1-(df_grouped.Erfolg / df_grouped.SatzID)"
   ]
  },
  {
   "cell_type": "code",
   "execution_count": null,
   "metadata": {},
   "outputs": [],
   "source": [
    "# split by interventiongroup\n",
    "final = df_grouped\n",
    "final = final.reset_index()\n",
    "intvcontrol = final[(final['interventiongroup']=='control')]\n",
    "intv2 = final[(final['interventiongroup']=='2')]\n",
    "intv3 = final[(final['interventiongroup']=='3')]\n",
    "intv4 = final[(final['interventiongroup']=='4')]\n",
    "intv5 = final[(final['interventiongroup']=='5')]\n",
    "intv6 = final[(final['interventiongroup']=='6')]\n"
   ]
  },
  {
   "cell_type": "code",
   "execution_count": null,
   "metadata": {},
   "outputs": [],
   "source": [
    "# get ratio of mistakes by group\n",
    "prop_fehler_by_group = final.groupby(['interventiongroup']).agg({'fehlerquotient':'mean','UserID':'count'})\n",
    "prop_fehler_by_group = prop_fehler_by_group.rename(columns={'UserID':'count'})\n",
    "prop_fehler_by_group"
   ]
  },
  {
   "cell_type": "code",
   "execution_count": null,
   "metadata": {},
   "outputs": [],
   "source": [
    "#Wilcoxon Mann Whitney Test\n",
    "print(stats.mannwhitneyu(intvcontrol['fehlerquotient'], intv2['fehlerquotient']))\n",
    "print(stats.mannwhitneyu(intvcontrol['fehlerquotient'], intv3['fehlerquotient']))\n",
    "print(stats.mannwhitneyu(intvcontrol['fehlerquotient'], intv4['fehlerquotient']))\n",
    "print(stats.mannwhitneyu(intvcontrol['fehlerquotient'], intv5['fehlerquotient']))\n",
    "print(stats.mannwhitneyu(intvcontrol['fehlerquotient'], intv6['fehlerquotient']))\n"
   ]
  }
 ],
 "metadata": {
  "kernelspec": {
   "display_name": "Python 3.10.2 64-bit",
   "language": "python",
   "name": "python3"
  },
  "language_info": {
   "codemirror_mode": {
    "name": "ipython",
    "version": 3
   },
   "file_extension": ".py",
   "mimetype": "text/x-python",
   "name": "python",
   "nbconvert_exporter": "python",
   "pygments_lexer": "ipython3",
   "version": "3.10.2"
  },
  "orig_nbformat": 4,
  "vscode": {
   "interpreter": {
    "hash": "369f2c481f4da34e4445cda3fffd2e751bd1c4d706f27375911949ba6bb62e1c"
   }
  }
 },
 "nbformat": 4,
 "nbformat_minor": 2
}
