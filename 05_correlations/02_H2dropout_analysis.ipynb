{
 "cells": [
  {
   "cell_type": "markdown",
   "metadata": {},
   "source": [
    "Haben User mit Dropout eher schlechte Predictions bekommen (Intv 2 und 3)?"
   ]
  },
  {
   "cell_type": "code",
   "execution_count": 1,
   "metadata": {},
   "outputs": [
    {
     "name": "stderr",
     "output_type": "stream",
     "text": [
      "c:\\Python310\\lib\\site-packages\\outdated\\utils.py:14: OutdatedPackageWarning: The package pingouin is out of date. Your version is 0.5.2, the latest is 0.5.3.\n",
      "Set the environment variable OUTDATED_IGNORE=1 to disable these warnings.\n",
      "  return warn(\n",
      "c:\\Python310\\lib\\site-packages\\outdated\\utils.py:14: OutdatedPackageWarning: The package outdated is out of date. Your version is 0.2.1, the latest is 0.2.2.\n",
      "Set the environment variable OUTDATED_IGNORE=1 to disable these warnings.\n",
      "  return warn(\n"
     ]
    }
   ],
   "source": [
    "import pandas as pd\n",
    "import pickle\n",
    "from scipy import stats\n",
    "import pandas as pd\n",
    "import seaborn as sns\n",
    "import pingouin as pg\n",
    "import numpy as np\n",
    "import statsmodels.formula.api as s"
   ]
  },
  {
   "cell_type": "code",
   "execution_count": 2,
   "metadata": {},
   "outputs": [
    {
     "data": {
      "text/html": [
       "<div>\n",
       "<style scoped>\n",
       "    .dataframe tbody tr th:only-of-type {\n",
       "        vertical-align: middle;\n",
       "    }\n",
       "\n",
       "    .dataframe tbody tr th {\n",
       "        vertical-align: top;\n",
       "    }\n",
       "\n",
       "    .dataframe thead th {\n",
       "        text-align: right;\n",
       "    }\n",
       "</style>\n",
       "<table border=\"1\" class=\"dataframe\">\n",
       "  <thead>\n",
       "    <tr style=\"text-align: right;\">\n",
       "      <th></th>\n",
       "      <th>UebungsID</th>\n",
       "      <th>prediction</th>\n",
       "      <th>interventiongroup</th>\n",
       "      <th>Geschlecht</th>\n",
       "      <th>Klassenstufe</th>\n",
       "      <th>UserID</th>\n",
       "      <th>dropout</th>\n",
       "    </tr>\n",
       "  </thead>\n",
       "  <tbody>\n",
       "    <tr>\n",
       "      <th>2</th>\n",
       "      <td>29905241</td>\n",
       "      <td>0.8152</td>\n",
       "      <td>2</td>\n",
       "      <td>m</td>\n",
       "      <td>10</td>\n",
       "      <td>974985.0</td>\n",
       "      <td>0.0</td>\n",
       "    </tr>\n",
       "    <tr>\n",
       "      <th>5</th>\n",
       "      <td>29905241</td>\n",
       "      <td>0.9824</td>\n",
       "      <td>2</td>\n",
       "      <td>m</td>\n",
       "      <td>10</td>\n",
       "      <td>974985.0</td>\n",
       "      <td>0.0</td>\n",
       "    </tr>\n",
       "    <tr>\n",
       "      <th>6</th>\n",
       "      <td>29905241</td>\n",
       "      <td>0.9209</td>\n",
       "      <td>2</td>\n",
       "      <td>m</td>\n",
       "      <td>10</td>\n",
       "      <td>974985.0</td>\n",
       "      <td>0.0</td>\n",
       "    </tr>\n",
       "    <tr>\n",
       "      <th>7</th>\n",
       "      <td>29905241</td>\n",
       "      <td>0.9209</td>\n",
       "      <td>2</td>\n",
       "      <td>m</td>\n",
       "      <td>10</td>\n",
       "      <td>974985.0</td>\n",
       "      <td>0.0</td>\n",
       "    </tr>\n",
       "    <tr>\n",
       "      <th>15</th>\n",
       "      <td>29905241</td>\n",
       "      <td>0.1974</td>\n",
       "      <td>2</td>\n",
       "      <td>m</td>\n",
       "      <td>10</td>\n",
       "      <td>974985.0</td>\n",
       "      <td>0.0</td>\n",
       "    </tr>\n",
       "    <tr>\n",
       "      <th>...</th>\n",
       "      <td>...</td>\n",
       "      <td>...</td>\n",
       "      <td>...</td>\n",
       "      <td>...</td>\n",
       "      <td>...</td>\n",
       "      <td>...</td>\n",
       "      <td>...</td>\n",
       "    </tr>\n",
       "    <tr>\n",
       "      <th>884721</th>\n",
       "      <td>30716585</td>\n",
       "      <td>1.0000</td>\n",
       "      <td>2</td>\n",
       "      <td>m</td>\n",
       "      <td>10</td>\n",
       "      <td>1041846.0</td>\n",
       "      <td>1.0</td>\n",
       "    </tr>\n",
       "    <tr>\n",
       "      <th>884722</th>\n",
       "      <td>30716585</td>\n",
       "      <td>0.9091</td>\n",
       "      <td>2</td>\n",
       "      <td>m</td>\n",
       "      <td>10</td>\n",
       "      <td>1041846.0</td>\n",
       "      <td>1.0</td>\n",
       "    </tr>\n",
       "    <tr>\n",
       "      <th>884723</th>\n",
       "      <td>30716585</td>\n",
       "      <td>1.0000</td>\n",
       "      <td>2</td>\n",
       "      <td>m</td>\n",
       "      <td>10</td>\n",
       "      <td>1041846.0</td>\n",
       "      <td>1.0</td>\n",
       "    </tr>\n",
       "    <tr>\n",
       "      <th>884730</th>\n",
       "      <td>30255382</td>\n",
       "      <td>0.1000</td>\n",
       "      <td>2</td>\n",
       "      <td>m</td>\n",
       "      <td>9</td>\n",
       "      <td>1035433.0</td>\n",
       "      <td>0.0</td>\n",
       "    </tr>\n",
       "    <tr>\n",
       "      <th>884732</th>\n",
       "      <td>30255382</td>\n",
       "      <td>0.1000</td>\n",
       "      <td>2</td>\n",
       "      <td>m</td>\n",
       "      <td>9</td>\n",
       "      <td>1035433.0</td>\n",
       "      <td>0.0</td>\n",
       "    </tr>\n",
       "  </tbody>\n",
       "</table>\n",
       "<p>470751 rows × 7 columns</p>\n",
       "</div>"
      ],
      "text/plain": [
       "        UebungsID  prediction interventiongroup Geschlecht Klassenstufe  \\\n",
       "2        29905241      0.8152                 2          m           10   \n",
       "5        29905241      0.9824                 2          m           10   \n",
       "6        29905241      0.9209                 2          m           10   \n",
       "7        29905241      0.9209                 2          m           10   \n",
       "15       29905241      0.1974                 2          m           10   \n",
       "...           ...         ...               ...        ...          ...   \n",
       "884721   30716585      1.0000                 2          m           10   \n",
       "884722   30716585      0.9091                 2          m           10   \n",
       "884723   30716585      1.0000                 2          m           10   \n",
       "884730   30255382      0.1000                 2          m            9   \n",
       "884732   30255382      0.1000                 2          m            9   \n",
       "\n",
       "           UserID  dropout  \n",
       "2        974985.0      0.0  \n",
       "5        974985.0      0.0  \n",
       "6        974985.0      0.0  \n",
       "7        974985.0      0.0  \n",
       "15       974985.0      0.0  \n",
       "...           ...      ...  \n",
       "884721  1041846.0      1.0  \n",
       "884722  1041846.0      1.0  \n",
       "884723  1041846.0      1.0  \n",
       "884730  1035433.0      0.0  \n",
       "884732  1035433.0      0.0  \n",
       "\n",
       "[470751 rows x 7 columns]"
      ]
     },
     "execution_count": 2,
     "metadata": {},
     "output_type": "execute_result"
    }
   ],
   "source": [
    "final = pickle.load(open( '../00_data/final/dropout_per_session.pkl','rb') )\n",
    "intv2 = final[(final['interventiongroup']=='2')]\n",
    "intv3 = final[(final['interventiongroup']=='3')]\n",
    "intv = pd.concat([intv2, intv3])\n",
    "\n",
    "df = pickle.load(open( '../00_data/cleaned/predictions.pkl','rb') )\n",
    "df = df[['UebungsID','prediction']]\n",
    "\n",
    "df = pd.merge(df,intv, on='UebungsID',how='left')\n",
    "df = df.dropna()\n",
    "df"
   ]
  },
  {
   "cell_type": "code",
   "execution_count": 3,
   "metadata": {},
   "outputs": [
    {
     "name": "stdout",
     "output_type": "stream",
     "text": [
      "[[ 1.         -0.08869587]\n",
      " [-0.08869587  1.        ]]\n"
     ]
    }
   ],
   "source": [
    "print(np.corrcoef(df.dropout, df.prediction))"
   ]
  },
  {
   "cell_type": "code",
   "execution_count": 5,
   "metadata": {},
   "outputs": [
    {
     "data": {
      "text/plain": [
       "[Text(0.5, 0, 'Dropout'), Text(0, 0.5, 'Prediction outcome')]"
      ]
     },
     "execution_count": 5,
     "metadata": {},
     "output_type": "execute_result"
    },
    {
     "data": {
      "image/png": "[encoded data removed]",
      "text/plain": [
       "<Figure size 432x288 with 1 Axes>"
      ]
     },
     "metadata": {
      "needs_background": "light"
     },
     "output_type": "display_data"
    }
   ],
   "source": [
    "gr = sns.boxplot(data=df, x='dropout',y='prediction',showfliers=True)\n",
    "gr.set(xlabel =\"Dropout\", ylabel = \"Prediction outcome\")\n"
   ]
  }
 ],
 "metadata": {
  "kernelspec": {
   "display_name": "Python 3.10.2 64-bit",
   "language": "python",
   "name": "python3"
  },
  "language_info": {
   "codemirror_mode": {
    "name": "ipython",
    "version": 3
   },
   "file_extension": ".py",
   "mimetype": "text/x-python",
   "name": "python",
   "nbconvert_exporter": "python",
   "pygments_lexer": "ipython3",
   "version": "3.10.2"
  },
  "orig_nbformat": 4,
  "vscode": {
   "interpreter": {
    "hash": "369f2c481f4da34e4445cda3fffd2e751bd1c4d706f27375911949ba6bb62e1c"
   }
  }
 },
 "nbformat": 4,
 "nbformat_minor": 2
}
