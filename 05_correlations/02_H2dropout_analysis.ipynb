{
 "cells": [
  {
   "attachments": {},
   "cell_type": "markdown",
   "metadata": {},
   "source": [
    "Analyse connection between dropout and low predictions (intv 2 and 3)"
   ]
  },
  {
   "cell_type": "code",
   "execution_count": null,
   "metadata": {},
   "outputs": [],
   "source": [
    "import pandas as pd\n",
    "import pickle\n",
    "from scipy import stats\n",
    "import pandas as pd\n",
    "import seaborn as sns\n",
    "import pingouin as pg\n",
    "import numpy as np\n",
    "import statsmodels.formula.api as s"
   ]
  },
  {
   "cell_type": "code",
   "execution_count": 2,
   "metadata": {},
   "outputs": [],
   "source": [
    "# load and group data\n",
    "final = pickle.load(open(\"../00_data/final/dropout_per_session.pkl\", \"rb\"))\n",
    "df = pickle.load(open(\"../00_data/cleaned/predictions.pkl\", \"rb\"))\n",
    "\n",
    "intv2 = final[(final[\"interventiongroup\"] == \"2\")]\n",
    "intv3 = final[(final[\"interventiongroup\"] == \"3\")]\n",
    "intv = pd.concat([intv2, intv3])\n",
    "\n",
    "df = df[[\"UebungsID\", \"prediction\"]]\n",
    "df = pd.merge(df, intv, on=\"UebungsID\", how=\"left\")\n",
    "df = df.dropna()"
   ]
  },
  {
   "cell_type": "code",
   "execution_count": 3,
   "metadata": {},
   "outputs": [
    {
     "name": "stdout",
     "output_type": "stream",
     "text": [
      "[[ 1.         -0.08869587]\n",
      " [-0.08869587  1.        ]]\n"
     ]
    }
   ],
   "source": [
    "# correlations\n",
    "print(np.corrcoef(df.dropout, df.prediction))"
   ]
  },
  {
   "cell_type": "code",
   "execution_count": 4,
   "metadata": {},
   "outputs": [
    {
     "data": {
      "text/plain": [
       "[Text(0.5, 0, 'Dropout'), Text(0, 0.5, 'Prediction outcome')]"
      ]
     },
     "execution_count": 4,
     "metadata": {},
     "output_type": "execute_result"
    },
    {
     "data": {
      "image/png": "[encoded data removed]",
      "text/plain": [
       "<Figure size 432x288 with 1 Axes>"
      ]
     },
     "metadata": {
      "needs_background": "light"
     },
     "output_type": "display_data"
    }
   ],
   "source": [
    "# plot dropout / prediction as boxplot\n",
    "gr = sns.boxplot(data=df, x=\"dropout\", y=\"prediction\", showfliers=True)\n",
    "gr.set(xlabel=\"Dropout\", ylabel=\"Prediction outcome\")"
   ]
  }
 ],
 "metadata": {
  "kernelspec": {
   "display_name": "Python 3.10.2 64-bit",
   "language": "python",
   "name": "python3"
  },
  "language_info": {
   "codemirror_mode": {
    "name": "ipython",
    "version": 3
   },
   "file_extension": ".py",
   "mimetype": "text/x-python",
   "name": "python",
   "nbconvert_exporter": "python",
   "pygments_lexer": "ipython3",
   "version": "3.10.2"
  },
  "orig_nbformat": 4,
  "vscode": {
   "interpreter": {
    "hash": "369f2c481f4da34e4445cda3fffd2e751bd1c4d706f27375911949ba6bb62e1c"
   }
  }
 },
 "nbformat": 4,
 "nbformat_minor": 2
}
