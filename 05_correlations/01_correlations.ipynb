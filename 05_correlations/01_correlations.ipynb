{
 "cells": [
  {
   "cell_type": "code",
   "execution_count": null,
   "metadata": {},
   "outputs": [],
   "source": [
    "import pandas as pd\n",
    "import pickle\n",
    "import seaborn as sns\n",
    "import numpy as np"
   ]
  },
  {
   "cell_type": "code",
   "execution_count": null,
   "metadata": {},
   "outputs": [],
   "source": [
    "# load and prepare data\n",
    "competence = pickle.load(open( '../00_data/final/competence.pkl','rb') )\n",
    "dropout = pickle.load(open( '../00_data/final/dropout_per_session.pkl','rb') )\n",
    "mistakes = pickle.load(open( '../00_data/final/incorrect_answers.pkl','rb') )\n",
    "xmlsaetze = pickle.load(open( '../00_data/cleaned/xmlsaetze.pkl','rb') )\n",
    "sitzungen = pickle.load(open( '../00_data/cleaned/sitzungssummary.pkl','rb') )\n",
    "saetze = pickle.load(open( '../00_data/cleaned/saetze.pkl','rb') )\n",
    "xmlsaetze = pd.merge(xmlsaetze, sitzungen, on='UserID', how='left')\n",
    "\n",
    "dropout = dropout.drop(columns=['Geschlecht','Klassenstufe','interventiongroup'])\n",
    "dropout = dropout[['UserID','dropout']]\n",
    "dropout = dropout.drop_duplicates()"
   ]
  },
  {
   "cell_type": "code",
   "execution_count": null,
   "metadata": {},
   "outputs": [],
   "source": [
    "## Corr between mistakes and dropout\n",
    "mistakes_dropout = pd.merge(mistakes, dropout, on='UserID', how='inner')\n",
    "mistakes_dropout = mistakes_dropout[['interventiongroup','prop_fehler','dropout']]\n",
    "\n",
    "intvcontrol = mistakes_dropout[(mistakes_dropout['interventiongroup']=='control')]\n",
    "intv2 = mistakes_dropout[(mistakes_dropout['interventiongroup']=='2')]\n",
    "intv3 = mistakes_dropout[(mistakes_dropout['interventiongroup']=='3')]\n",
    "intv4 = mistakes_dropout[(mistakes_dropout['interventiongroup']=='4')]\n",
    "intv5 = mistakes_dropout[(mistakes_dropout['interventiongroup']=='5')]\n",
    "intv6 = mistakes_dropout[(mistakes_dropout['interventiongroup']=='6')]\n",
    "\n",
    "li = [mistakes_dropout, intvcontrol, intv2, intv3, intv4, intv5, intv6]\n",
    "for x in li:\n",
    "    print(np.corrcoef(x.dropout, x.prop_fehler))\n",
    "    print('--------------------------')"
   ]
  },
  {
   "cell_type": "code",
   "execution_count": null,
   "metadata": {},
   "outputs": [],
   "source": [
    "## Corr between competence and dropout\n",
    "competence_= competence.drop(columns=['Geschlecht','Klassenstufe'])\n",
    "competence_dropout = pd.merge(competence_, dropout, on='UserID', how='inner')\n",
    "competence_dropout = competence_dropout[['interventiongroup','ability','dropout']]\n",
    "\n",
    "intvcontrol = competence_dropout[(competence_dropout['interventiongroup']=='control')]\n",
    "intv2 = competence_dropout[(competence_dropout['interventiongroup']=='2')]\n",
    "intv3 = competence_dropout[(competence_dropout['interventiongroup']=='3')]\n",
    "intv4 = competence_dropout[(competence_dropout['interventiongroup']=='4')]\n",
    "intv5 = competence_dropout[(competence_dropout['interventiongroup']=='5')]\n",
    "intv6 = competence_dropout[(competence_dropout['interventiongroup']=='6')]\n",
    "\n",
    "li = [competence_dropout, intvcontrol, intv2, intv3, intv4, intv5, intv6]\n",
    "for x in li:\n",
    "    print(np.corrcoef(x.dropout, x.ability))\n",
    "    print('--------------------------')"
   ]
  },
  {
   "cell_type": "code",
   "execution_count": null,
   "metadata": {},
   "outputs": [],
   "source": [
    "## Corr between mistakes und competence\n",
    "competence_mistakes = competence.drop(columns=['Geschlecht','Klassenstufe','interventiongroup'])\n",
    "mistakes_competence = pd.merge(mistakes, competence_mistakes, on='UserID', how='inner')\n",
    "mistakes_competence = mistakes_competence[['interventiongroup','prop_fehler','ability']]\n",
    "\n",
    "intvcontrol = mistakes_competence[(mistakes_competence['interventiongroup']=='control')]\n",
    "intv2 = mistakes_competence[(mistakes_competence['interventiongroup']=='2')]\n",
    "intv3 = mistakes_competence[(mistakes_competence['interventiongroup']=='3')]\n",
    "intv4 = mistakes_competence[(mistakes_competence['interventiongroup']=='4')]\n",
    "intv5 = mistakes_competence[(mistakes_competence['interventiongroup']=='5')]\n",
    "intv6 = mistakes_competence[(mistakes_competence['interventiongroup']=='6')]\n",
    "\n",
    "li = [mistakes_competence, intvcontrol, intv2, intv3, intv4, intv5, intv6]\n",
    "for x in li:\n",
    "    print(np.corrcoef(x.ability, x.prop_fehler))\n",
    "    print('--------------------------')"
   ]
  },
  {
   "cell_type": "code",
   "execution_count": null,
   "metadata": {},
   "outputs": [],
   "source": [
    "## Count of sentence per user and intv group\n",
    "cnt_saetze_pro_user = xmlsaetze.groupby(['UserID','interventiongroup']).agg({'ID':'count'}).reset_index()\n",
    "final = cnt_saetze_pro_user[['ID','interventiongroup']]\n",
    "print(sns.boxplot(x=final['ID'],y=final[\"interventiongroup\"],showfliers = False))"
   ]
  },
  {
   "cell_type": "code",
   "execution_count": null,
   "metadata": {},
   "outputs": [],
   "source": [
    "## Corr count of sentences and competence\n",
    "corr_ = pd.merge(cnt_saetze_pro_user, competence_, on='UserID')\n",
    "print(np.corrcoef(corr_.ID, corr_.ability))"
   ]
  },
  {
   "cell_type": "code",
   "execution_count": null,
   "metadata": {},
   "outputs": [],
   "source": [
    "## Mean difficulty by interventiongroup\n",
    "saetze = saetze[['satzID','Schwierigkeit']]\n",
    "xmlsaetze = pd.merge(xmlsaetze, saetze, left_on='SatzID', right_on='satzID',how='left')\n",
    "xmlsaetze = pd.merge(xmlsaetze, sitzungen, on='UserID', how='left')\n",
    "\n",
    "diffic_pro_user = xmlsaetze.groupby(['UserID','interventiongroup']).agg({'Schwierigkeit':'mean'}).reset_index()\n",
    "print(sns.boxplot(x=diffic_pro_user['Schwierigkeit'],y=diffic_pro_user[\"interventiongroup\"],showfliers = False))"
   ]
  },
  {
   "cell_type": "code",
   "execution_count": null,
   "metadata": {},
   "outputs": [],
   "source": [
    "## Corr between difficulty and competence\n",
    "corr_2 = pd.merge(diffic_pro_user, competence_, on='UserID')\n",
    "print(np.corrcoef(corr_2.Schwierigkeit, corr_2.ability))"
   ]
  }
 ],
 "metadata": {
  "kernelspec": {
   "display_name": "Python 3.10.2 64-bit",
   "language": "python",
   "name": "python3"
  },
  "language_info": {
   "codemirror_mode": {
    "name": "ipython",
    "version": 3
   },
   "file_extension": ".py",
   "mimetype": "text/x-python",
   "name": "python",
   "nbconvert_exporter": "python",
   "pygments_lexer": "ipython3",
   "version": "3.10.2 (tags/v3.10.2:a58ebcc, Jan 17 2022, 14:12:15) [MSC v.1929 64 bit (AMD64)]"
  },
  "orig_nbformat": 4,
  "vscode": {
   "interpreter": {
    "hash": "369f2c481f4da34e4445cda3fffd2e751bd1c4d706f27375911949ba6bb62e1c"
   }
  }
 },
 "nbformat": 4,
 "nbformat_minor": 2
}
