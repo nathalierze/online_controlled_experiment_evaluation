{
 "cells": [
  {
   "cell_type": "code",
   "execution_count": 1,
   "metadata": {},
   "outputs": [],
   "source": [
    "import pandas as pd\n",
    "import pickle\n",
    "import seaborn as sns\n",
    "import numpy as np"
   ]
  },
  {
   "cell_type": "code",
   "execution_count": 2,
   "metadata": {},
   "outputs": [],
   "source": [
    "competence = pickle.load(open( '../00_data/final/competence.pkl','rb') )\n",
    "dropout = pickle.load(open( '../00_data/final/dropout_per_session.pkl','rb') )\n",
    "mistakes = pickle.load(open( '../00_data/final/incorrect_answers.pkl','rb') )\n",
    "\n",
    "dropout = dropout.drop(columns=['Geschlecht','Klassenstufe','interventiongroup'])\n",
    "dropout = dropout[['UserID','dropout']]\n",
    "dropout = dropout.drop_duplicates()"
   ]
  },
  {
   "cell_type": "code",
   "execution_count": 3,
   "metadata": {},
   "outputs": [
    {
     "name": "stdout",
     "output_type": "stream",
     "text": [
      "[[1.         0.22312644]\n",
      " [0.22312644 1.        ]]\n",
      "--------------------------\n",
      "[[1.         0.21542781]\n",
      " [0.21542781 1.        ]]\n",
      "--------------------------\n",
      "[[1.         0.20120584]\n",
      " [0.20120584 1.        ]]\n",
      "--------------------------\n",
      "[[1.         0.24968075]\n",
      " [0.24968075 1.        ]]\n",
      "--------------------------\n",
      "[[1.         0.26187981]\n",
      " [0.26187981 1.        ]]\n",
      "--------------------------\n",
      "[[1.         0.23345104]\n",
      " [0.23345104 1.        ]]\n",
      "--------------------------\n",
      "[[1.         0.16705963]\n",
      " [0.16705963 1.        ]]\n",
      "--------------------------\n"
     ]
    }
   ],
   "source": [
    "## Korrelation zwischen Mistakes und Dropout\n",
    "final = pd.merge(mistakes, dropout, on='UserID', how='inner')\n",
    "final = final[['interventiongroup','prop_fehler','dropout']]\n",
    "\n",
    "intvcontrol = final[(final['interventiongroup']=='control')]\n",
    "intv2 = final[(final['interventiongroup']=='2')]\n",
    "intv3 = final[(final['interventiongroup']=='3')]\n",
    "intv4 = final[(final['interventiongroup']=='4')]\n",
    "intv5 = final[(final['interventiongroup']=='5')]\n",
    "intv6 = final[(final['interventiongroup']=='6')]\n",
    "\n",
    "li = [final, intvcontrol, intv2, intv3, intv4, intv5, intv6]\n",
    "for x in li:\n",
    "    print(np.corrcoef(x.dropout, x.prop_fehler))\n",
    "    print('--------------------------')\n",
    "\n"
   ]
  },
  {
   "cell_type": "code",
   "execution_count": 13,
   "metadata": {},
   "outputs": [
    {
     "name": "stdout",
     "output_type": "stream",
     "text": [
      "[[1.         0.15874566]\n",
      " [0.15874566 1.        ]]\n",
      "--------------------------\n",
      "[[1.         0.16429394]\n",
      " [0.16429394 1.        ]]\n",
      "--------------------------\n",
      "[[1.         0.16981209]\n",
      " [0.16981209 1.        ]]\n",
      "--------------------------\n",
      "[[1.         0.19787803]\n",
      " [0.19787803 1.        ]]\n",
      "--------------------------\n",
      "[[1.         0.16388638]\n",
      " [0.16388638 1.        ]]\n",
      "--------------------------\n",
      "[[1.        0.1257335]\n",
      " [0.1257335 1.       ]]\n",
      "--------------------------\n",
      "[[1.         0.13355308]\n",
      " [0.13355308 1.        ]]\n",
      "--------------------------\n"
     ]
    }
   ],
   "source": [
    "## Korrelation zwischen Kompetenz und Dropout\n",
    "competence_1 = competence.drop(columns=['Geschlecht','Klassenstufe'])\n",
    "final = pd.merge(competence_1, dropout, on='UserID', how='inner')\n",
    "final = final[['interventiongroup','ability','dropout']]\n",
    "\n",
    "intvcontrol = final[(final['interventiongroup']=='control')]\n",
    "intv2 = final[(final['interventiongroup']=='2')]\n",
    "intv3 = final[(final['interventiongroup']=='3')]\n",
    "intv4 = final[(final['interventiongroup']=='4')]\n",
    "intv5 = final[(final['interventiongroup']=='5')]\n",
    "intv6 = final[(final['interventiongroup']=='6')]\n",
    "\n",
    "li = [final, intvcontrol, intv2, intv3, intv4, intv5, intv6]\n",
    "for x in li:\n",
    "    print(np.corrcoef(x.dropout, x.ability))\n",
    "    print('--------------------------')\n"
   ]
  },
  {
   "cell_type": "code",
   "execution_count": 4,
   "metadata": {},
   "outputs": [
    {
     "name": "stdout",
     "output_type": "stream",
     "text": [
      "[[1.         0.12108302]\n",
      " [0.12108302 1.        ]]\n",
      "--------------------------\n",
      "[[1.         0.16148578]\n",
      " [0.16148578 1.        ]]\n",
      "--------------------------\n",
      "[[1.         0.09547607]\n",
      " [0.09547607 1.        ]]\n",
      "--------------------------\n",
      "[[1.         0.16986951]\n",
      " [0.16986951 1.        ]]\n",
      "--------------------------\n",
      "[[1.         0.12500697]\n",
      " [0.12500697 1.        ]]\n",
      "--------------------------\n",
      "[[1.         0.07611627]\n",
      " [0.07611627 1.        ]]\n",
      "--------------------------\n",
      "[[1.         0.08076847]\n",
      " [0.08076847 1.        ]]\n",
      "--------------------------\n"
     ]
    }
   ],
   "source": [
    "## Korrelation zwischen Mistakes und Kompetenz\n",
    "competence_1 = competence.drop(columns=['Geschlecht','Klassenstufe','interventiongroup'])\n",
    "final = pd.merge(mistakes, competence_1, on='UserID', how='inner')\n",
    "final = final[['interventiongroup','prop_fehler','ability']]\n",
    "\n",
    "intvcontrol = final[(final['interventiongroup']=='control')]\n",
    "intv2 = final[(final['interventiongroup']=='2')]\n",
    "intv3 = final[(final['interventiongroup']=='3')]\n",
    "intv4 = final[(final['interventiongroup']=='4')]\n",
    "intv5 = final[(final['interventiongroup']=='5')]\n",
    "intv6 = final[(final['interventiongroup']=='6')]\n",
    "\n",
    "li = [final, intvcontrol, intv2, intv3, intv4, intv5, intv6]\n",
    "for x in li:\n",
    "    print(np.corrcoef(x.ability, x.prop_fehler))\n",
    "    print('--------------------------')\n",
    "\n"
   ]
  },
  {
   "cell_type": "code",
   "execution_count": 5,
   "metadata": {},
   "outputs": [
    {
     "name": "stdout",
     "output_type": "stream",
     "text": [
      "AxesSubplot(0.125,0.125;0.775x0.755)\n"
     ]
    },
    {
     "data": {
      "image/png": "[encoded data removed]",
      "text/plain": [
       "<Figure size 432x288 with 1 Axes>"
      ]
     },
     "metadata": {
      "needs_background": "light"
     },
     "output_type": "display_data"
    }
   ],
   "source": [
    "## Anzahl Sätze pro User und Interventionsgruppe\n",
    "xmlsaetze = pickle.load(open( '../00_data/cleaned/xmlsaetze.pkl','rb') )\n",
    "sitzungen = pickle.load(open( '../00_data/cleaned/sitzungssummary.pkl','rb') )\n",
    "xmlsaetze = pd.merge(xmlsaetze, sitzungen, on='UserID', how='left')\n",
    "\n",
    "cnt_saetze_pro_user = xmlsaetze.groupby(['UserID','interventiongroup']).agg({'ID':'count'}).reset_index()\n",
    "final = cnt_saetze_pro_user[['ID','interventiongroup']]\n",
    "\n",
    "print(sns.boxplot(x=final['ID'],y=final[\"interventiongroup\"],showfliers = False))"
   ]
  },
  {
   "cell_type": "code",
   "execution_count": 6,
   "metadata": {},
   "outputs": [
    {
     "name": "stdout",
     "output_type": "stream",
     "text": [
      "[[1.         0.33024322]\n",
      " [0.33024322 1.        ]]\n"
     ]
    }
   ],
   "source": [
    "# Korrelation Count of Sätze und Kompetenz\n",
    "corr_2 = pd.merge(cnt_saetze_pro_user, competence_1, on='UserID')\n",
    "print(np.corrcoef(corr_2.ID, corr_2.ability))"
   ]
  },
  {
   "cell_type": "code",
   "execution_count": 7,
   "metadata": {},
   "outputs": [
    {
     "name": "stdout",
     "output_type": "stream",
     "text": [
      "AxesSubplot(0.125,0.125;0.775x0.755)\n"
     ]
    },
    {
     "data": {
      "image/png": "[encoded data removed]",
      "text/plain": [
       "<Figure size 432x288 with 1 Axes>"
      ]
     },
     "metadata": {
      "needs_background": "light"
     },
     "output_type": "display_data"
    }
   ],
   "source": [
    "## Pro Interventionsgruppe Durchschnittliche Schwierigkeit\n",
    "xmlsaetze = pickle.load(open( '../00_data/cleaned/xmlsaetze.pkl','rb') )\n",
    "sitzungen = pickle.load(open( '../00_data/cleaned/sitzungssummary.pkl','rb') )\n",
    "saetze = pickle.load(open( '../00_data/cleaned/saetze.pkl','rb') )\n",
    "saetze = saetze[['satzID','Schwierigkeit']]\n",
    "xmlsaetze = pd.merge(xmlsaetze, saetze, left_on='SatzID', right_on='satzID',how='left')\n",
    "xmlsaetze = pd.merge(xmlsaetze, sitzungen, on='UserID', how='left')\n",
    "\n",
    "\n",
    "diffic_pro_user = xmlsaetze.groupby(['UserID','interventiongroup']).agg({'Schwierigkeit':'mean'}).reset_index()\n",
    "print(sns.boxplot(x=diffic_pro_user['Schwierigkeit'],y=diffic_pro_user[\"interventiongroup\"],showfliers = False))"
   ]
  },
  {
   "cell_type": "code",
   "execution_count": 8,
   "metadata": {},
   "outputs": [
    {
     "name": "stdout",
     "output_type": "stream",
     "text": [
      "[[1.       0.738858]\n",
      " [0.738858 1.      ]]\n"
     ]
    }
   ],
   "source": [
    "# Korrelation zwischen Schwierigkeit und Kompetenz\n",
    "corr_2 = pd.merge(diffic_pro_user, competence_1, on='UserID')\n",
    "print(np.corrcoef(corr_2.Schwierigkeit, corr_2.ability))"
   ]
  }
 ],
 "metadata": {
  "kernelspec": {
   "display_name": "Python 3.10.2 64-bit",
   "language": "python",
   "name": "python3"
  },
  "language_info": {
   "codemirror_mode": {
    "name": "ipython",
    "version": 3
   },
   "file_extension": ".py",
   "mimetype": "text/x-python",
   "name": "python",
   "nbconvert_exporter": "python",
   "pygments_lexer": "ipython3",
   "version": "3.10.2 (tags/v3.10.2:a58ebcc, Jan 17 2022, 14:12:15) [MSC v.1929 64 bit (AMD64)]"
  },
  "orig_nbformat": 4,
  "vscode": {
   "interpreter": {
    "hash": "369f2c481f4da34e4445cda3fffd2e751bd1c4d706f27375911949ba6bb62e1c"
   }
  }
 },
 "nbformat": 4,
 "nbformat_minor": 2
}
