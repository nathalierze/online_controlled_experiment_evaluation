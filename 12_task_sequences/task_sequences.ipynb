{
 "cells": [
  {
   "cell_type": "code",
   "execution_count": 1,
   "metadata": {},
   "outputs": [],
   "source": [
    "import pandas as pd\n",
    "import pickle\n",
    "import seaborn as sns\n",
    "import matplotlib.pyplot as plt\n"
   ]
  },
  {
   "cell_type": "code",
   "execution_count": 2,
   "metadata": {},
   "outputs": [],
   "source": [
    "xmlsaetze = pickle.load(open( '../00_data/cleaned/xmlsaetze.pkl','rb') )\n",
    "df = pickle.load(open( '../00_data/cleaned/sitzungssummary.pkl','rb') )\n",
    "\n",
    "df_5 = df[df.interventiongroup=='5']\n",
    "df_6 = df[df.interventiongroup=='6']\n",
    "df_5 = pd.merge(df_5,xmlsaetze, on='UebungsID')\n",
    "df_6 = pd.merge(df_6,xmlsaetze, on='UebungsID')\n",
    "df_5 = df_5[['UebungsID','UserID_x','AufgabenID', 'Version', 'Datum_y','SatzID']]\n",
    "df_6 = df_6[['UebungsID','UserID_x','AufgabenID', 'Version', 'Datum_y','SatzID']]\n"
   ]
  },
  {
   "attachments": {},
   "cell_type": "markdown",
   "metadata": {},
   "source": [
    "Intervention 5"
   ]
  },
  {
   "cell_type": "code",
   "execution_count": 10,
   "metadata": {},
   "outputs": [
    {
     "data": {
      "text/plain": [
       "5733"
      ]
     },
     "execution_count": 10,
     "metadata": {},
     "output_type": "execute_result"
    }
   ],
   "source": [
    "len(df_5.UebungsID.unique())\n"
   ]
  },
  {
   "cell_type": "code",
   "execution_count": 11,
   "metadata": {},
   "outputs": [
    {
     "data": {
      "text/plain": [
       "6196"
      ]
     },
     "execution_count": 11,
     "metadata": {},
     "output_type": "execute_result"
    }
   ],
   "source": [
    "len(df_6.UebungsID.unique())"
   ]
  },
  {
   "cell_type": "code",
   "execution_count": 65,
   "metadata": {},
   "outputs": [],
   "source": [
    "# all aufgaben fuer Intv 5 \n",
    "aufgabenID = df_5.AufgabenID.unique()\n",
    "\n",
    "# Create an empty list of the sequences\n",
    "sequences = []\n",
    "\n",
    "for x in aufgabenID:\n",
    "    df_aufg = df_5[df_5.AufgabenID ==x]\n",
    "\n",
    "    #alle uebungsIDs\n",
    "    uebungsID = df_aufg.UebungsID.unique()\n",
    "    \n",
    "    for y in uebungsID:\n",
    "        sequence_temp = df_aufg[df_aufg.UebungsID == y]\n",
    "        sequence_temp = sequence_temp.sort_values(by=['Datum_y'])\n",
    "        id_list = sequence_temp['SatzID'].tolist()\n",
    "        sequences.extend([id_list])\n",
    "\n",
    "\n",
    "from Levenshtein import distance\n",
    "# Create an empty list to store the Levenshtein distances\n",
    "distances = []\n",
    "\n",
    "# Iterate through the sequences and calculate the Levenshtein distance\n",
    "for i in range(len(sequences)):\n",
    "    for j in range(i+1,len(sequences)):\n",
    "        distances.append(distance(sequences[i], sequences[j]))\n",
    "\n",
    "# Create a DataFrame to store the Levenshtein distances\n",
    "levenshtein_score_intv5 = pd.DataFrame(distances, columns=['Levenshtein_score'])\n",
    "\n"
   ]
  },
  {
   "attachments": {},
   "cell_type": "markdown",
   "metadata": {},
   "source": [
    "Intervention 6"
   ]
  },
  {
   "cell_type": "code",
   "execution_count": 66,
   "metadata": {},
   "outputs": [],
   "source": [
    "# all aufgaben fuer Intv 6\n",
    "aufgabenID = df_6.AufgabenID.unique()\n",
    "\n",
    "# Create an empty list of the sequences\n",
    "sequences = []\n",
    "\n",
    "for x in aufgabenID:\n",
    "    df_aufg = df_6[df_6.AufgabenID ==x]\n",
    "\n",
    "    #alle uebungsIDs\n",
    "    uebungsID = df_aufg.UebungsID.unique()\n",
    "    \n",
    "    for y in uebungsID:\n",
    "        sequence_temp = df_aufg[df_aufg.UebungsID == y]\n",
    "        sequence_temp = sequence_temp.sort_values(by=['Datum_y'])\n",
    "        id_list = sequence_temp['SatzID'].tolist()\n",
    "        sequences.extend([id_list])\n",
    "\n",
    "\n",
    "from Levenshtein import distance\n",
    "# Create an empty list to store the Levenshtein distances\n",
    "distances = []\n",
    "\n",
    "# Iterate through the sequences and calculate the Levenshtein distance\n",
    "for i in range(len(sequences)):\n",
    "    for j in range(i+1,len(sequences)):\n",
    "        distances.append(distance(sequences[i], sequences[j]))\n",
    "\n",
    "# Create a DataFrame to store the Levenshtein distances\n",
    "levenshtein_score_intv6 = pd.DataFrame(distances, columns=['Levenshtein_score'])\n"
   ]
  },
  {
   "attachments": {},
   "cell_type": "markdown",
   "metadata": {},
   "source": [
    "Visualization"
   ]
  },
  {
   "cell_type": "code",
   "execution_count": 67,
   "metadata": {},
   "outputs": [
    {
     "name": "stdout",
     "output_type": "stream",
     "text": [
      "16430778\n",
      "19192110\n"
     ]
    }
   ],
   "source": [
    "print(len(levenshtein_score_intv5))\n",
    "print(len(levenshtein_score_intv6))"
   ]
  },
  {
   "cell_type": "code",
   "execution_count": 69,
   "metadata": {},
   "outputs": [
    {
     "data": {
      "text/html": [
       "<div>\n",
       "<style scoped>\n",
       "    .dataframe tbody tr th:only-of-type {\n",
       "        vertical-align: middle;\n",
       "    }\n",
       "\n",
       "    .dataframe tbody tr th {\n",
       "        vertical-align: top;\n",
       "    }\n",
       "\n",
       "    .dataframe thead th {\n",
       "        text-align: right;\n",
       "    }\n",
       "</style>\n",
       "<table border=\"1\" class=\"dataframe\">\n",
       "  <thead>\n",
       "    <tr style=\"text-align: right;\">\n",
       "      <th></th>\n",
       "      <th>Levenshtein_score</th>\n",
       "    </tr>\n",
       "  </thead>\n",
       "  <tbody>\n",
       "    <tr>\n",
       "      <th>0</th>\n",
       "      <td>20</td>\n",
       "    </tr>\n",
       "    <tr>\n",
       "      <th>1</th>\n",
       "      <td>22</td>\n",
       "    </tr>\n",
       "    <tr>\n",
       "      <th>2</th>\n",
       "      <td>16</td>\n",
       "    </tr>\n",
       "    <tr>\n",
       "      <th>3</th>\n",
       "      <td>22</td>\n",
       "    </tr>\n",
       "    <tr>\n",
       "      <th>4</th>\n",
       "      <td>17</td>\n",
       "    </tr>\n",
       "    <tr>\n",
       "      <th>...</th>\n",
       "      <td>...</td>\n",
       "    </tr>\n",
       "    <tr>\n",
       "      <th>16430773</th>\n",
       "      <td>62</td>\n",
       "    </tr>\n",
       "    <tr>\n",
       "      <th>16430774</th>\n",
       "      <td>18</td>\n",
       "    </tr>\n",
       "    <tr>\n",
       "      <th>16430775</th>\n",
       "      <td>66</td>\n",
       "    </tr>\n",
       "    <tr>\n",
       "      <th>16430776</th>\n",
       "      <td>22</td>\n",
       "    </tr>\n",
       "    <tr>\n",
       "      <th>16430777</th>\n",
       "      <td>65</td>\n",
       "    </tr>\n",
       "  </tbody>\n",
       "</table>\n",
       "<p>16430778 rows × 1 columns</p>\n",
       "</div>"
      ],
      "text/plain": [
       "          Levenshtein_score\n",
       "0                        20\n",
       "1                        22\n",
       "2                        16\n",
       "3                        22\n",
       "4                        17\n",
       "...                     ...\n",
       "16430773                 62\n",
       "16430774                 18\n",
       "16430775                 66\n",
       "16430776                 22\n",
       "16430777                 65\n",
       "\n",
       "[16430778 rows x 1 columns]"
      ]
     },
     "execution_count": 69,
     "metadata": {},
     "output_type": "execute_result"
    }
   ],
   "source": [
    "levenshtein_score_intv5"
   ]
  },
  {
   "cell_type": "code",
   "execution_count": 71,
   "metadata": {},
   "outputs": [],
   "source": [
    "n = 100000\n",
    "downsampled_data_intv5 = levenshtein_score_intv5.sample(n)\n",
    "downsampled_data_intv6 = levenshtein_score_intv6.sample(n)"
   ]
  },
  {
   "cell_type": "code",
   "execution_count": 73,
   "metadata": {},
   "outputs": [
    {
     "data": {
      "text/plain": [
       "<AxesSubplot:xlabel='Levenshtein_score', ylabel='Count'>"
      ]
     },
     "execution_count": 73,
     "metadata": {},
     "output_type": "execute_result"
    },
    {
     "data": {
      "image/png": "[encoded data removed]",
      "text/plain": [
       "<Figure size 432x288 with 1 Axes>"
      ]
     },
     "metadata": {
      "needs_background": "light"
     },
     "output_type": "display_data"
    }
   ],
   "source": [
    "sns.histplot(data=downsampled_data_intv5, x=\"Levenshtein_score\")"
   ]
  },
  {
   "cell_type": "code",
   "execution_count": 72,
   "metadata": {},
   "outputs": [
    {
     "data": {
      "text/plain": [
       "<AxesSubplot:xlabel='Levenshtein_score', ylabel='Count'>"
      ]
     },
     "execution_count": 72,
     "metadata": {},
     "output_type": "execute_result"
    },
    {
     "data": {
      "image/png": "[encoded data removed]",
      "text/plain": [
       "<Figure size 432x288 with 1 Axes>"
      ]
     },
     "metadata": {
      "needs_background": "light"
     },
     "output_type": "display_data"
    }
   ],
   "source": [
    "sns.histplot(data=downsampled_data_intv6, x=\"Levenshtein_score\")"
   ]
  }
 ],
 "metadata": {
  "kernelspec": {
   "display_name": "Python 3",
   "language": "python",
   "name": "python3"
  },
  "language_info": {
   "codemirror_mode": {
    "name": "ipython",
    "version": 3
   },
   "file_extension": ".py",
   "mimetype": "text/x-python",
   "name": "python",
   "nbconvert_exporter": "python",
   "pygments_lexer": "ipython3",
   "version": "3.10.2"
  },
  "orig_nbformat": 4,
  "vscode": {
   "interpreter": {
    "hash": "369f2c481f4da34e4445cda3fffd2e751bd1c4d706f27375911949ba6bb62e1c"
   }
  }
 },
 "nbformat": 4,
 "nbformat_minor": 2
}
