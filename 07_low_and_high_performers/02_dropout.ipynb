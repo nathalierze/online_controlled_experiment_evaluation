{
 "cells": [
  {
   "cell_type": "code",
   "execution_count": 1,
   "metadata": {},
   "outputs": [
    {
     "name": "stderr",
     "output_type": "stream",
     "text": [
      "c:\\Python310\\lib\\site-packages\\outdated\\utils.py:14: OutdatedPackageWarning: The package outdated is out of date. Your version is 0.2.1, the latest is 0.2.2.\n",
      "Set the environment variable OUTDATED_IGNORE=1 to disable these warnings.\n",
      "  return warn(\n"
     ]
    }
   ],
   "source": [
    "import pandas as pd\n",
    "import pickle\n",
    "from scipy import stats\n",
    "import pandas as pd\n",
    "import seaborn as sns\n",
    "import pingouin as pg\n",
    "import statsmodels.formula.api as s\n",
    "import numpy as np"
   ]
  },
  {
   "cell_type": "code",
   "execution_count": 2,
   "metadata": {},
   "outputs": [],
   "source": [
    "dropout = pickle.load(open( '../00_data/final/dropout_per_session.pkl','rb') )\n",
    "dropout = dropout[['UserID','dropout']]\n",
    "final = pickle.load(open( '../00_data/final/competence.pkl','rb') )\n",
    "final = final.sort_values(by=['ability'])\n",
    "n = 10\n",
    "low_performer = final.head(int(len(final)*(n/100)))\n",
    "\n",
    "final = final.sort_values(by=['ability'], ascending=False)\n",
    "high_performer = final.head(int(len(final)*(n/100)))"
   ]
  },
  {
   "cell_type": "code",
   "execution_count": 3,
   "metadata": {},
   "outputs": [],
   "source": [
    "high_performer = pd.merge(high_performer, dropout, on='UserID', how='left')\n",
    "low_performer = pd.merge(low_performer, dropout, on='UserID', how='left')"
   ]
  },
  {
   "cell_type": "code",
   "execution_count": 4,
   "metadata": {},
   "outputs": [],
   "source": [
    "low_intvcontrol = low_performer[(low_performer['interventiongroup']=='control')]\n",
    "low_intv2 = low_performer[(low_performer['interventiongroup']=='2')]\n",
    "low_intv3 = low_performer[(low_performer['interventiongroup']=='3')]\n",
    "low_intv4 = low_performer[(low_performer['interventiongroup']=='4')]\n",
    "low_intv5 = low_performer[(low_performer['interventiongroup']=='5')]\n",
    "low_intv6 = low_performer[(low_performer['interventiongroup']=='6')]\n",
    "\n",
    "high_intvcontrol = high_performer[(high_performer['interventiongroup']=='control')]\n",
    "high_intv2 = high_performer[(high_performer['interventiongroup']=='2')]\n",
    "high_intv3 = high_performer[(high_performer['interventiongroup']=='3')]\n",
    "high_intv4 = high_performer[(high_performer['interventiongroup']=='4')]\n",
    "high_intv5 = high_performer[(high_performer['interventiongroup']=='5')]\n",
    "high_intv6 = high_performer[(high_performer['interventiongroup']=='6')]"
   ]
  },
  {
   "cell_type": "code",
   "execution_count": 5,
   "metadata": {},
   "outputs": [
    {
     "data": {
      "text/plain": [
       "<AxesSubplot:xlabel='dropout', ylabel='Count'>"
      ]
     },
     "execution_count": 5,
     "metadata": {},
     "output_type": "execute_result"
    },
    {
     "data": {
      "image/png": "[encoded data removed]",
      "text/plain": [
       "<Figure size 432x288 with 1 Axes>"
      ]
     },
     "metadata": {
      "needs_background": "light"
     },
     "output_type": "display_data"
    }
   ],
   "source": [
    "sns.histplot(data=high_performer, x=\"dropout\")"
   ]
  },
  {
   "cell_type": "code",
   "execution_count": 6,
   "metadata": {},
   "outputs": [
    {
     "data": {
      "text/plain": [
       "<AxesSubplot:xlabel='dropout', ylabel='Count'>"
      ]
     },
     "execution_count": 6,
     "metadata": {},
     "output_type": "execute_result"
    },
    {
     "data": {
      "image/png": "[encoded data removed]",
      "text/plain": [
       "<Figure size 432x288 with 1 Axes>"
      ]
     },
     "metadata": {
      "needs_background": "light"
     },
     "output_type": "display_data"
    }
   ],
   "source": [
    "sns.histplot(data=low_performer, x=\"dropout\")"
   ]
  },
  {
   "cell_type": "markdown",
   "metadata": {},
   "source": [
    "Uebersicht Effektgroeßen"
   ]
  },
  {
   "cell_type": "code",
   "execution_count": 7,
   "metadata": {},
   "outputs": [
    {
     "data": {
      "text/html": [
       "<div>\n",
       "<style scoped>\n",
       "    .dataframe tbody tr th:only-of-type {\n",
       "        vertical-align: middle;\n",
       "    }\n",
       "\n",
       "    .dataframe tbody tr th {\n",
       "        vertical-align: top;\n",
       "    }\n",
       "\n",
       "    .dataframe thead th {\n",
       "        text-align: right;\n",
       "    }\n",
       "</style>\n",
       "<table border=\"1\" class=\"dataframe\">\n",
       "  <thead>\n",
       "    <tr style=\"text-align: right;\">\n",
       "      <th></th>\n",
       "      <th>dropout</th>\n",
       "      <th>count</th>\n",
       "    </tr>\n",
       "    <tr>\n",
       "      <th>interventiongroup</th>\n",
       "      <th></th>\n",
       "      <th></th>\n",
       "    </tr>\n",
       "  </thead>\n",
       "  <tbody>\n",
       "    <tr>\n",
       "      <th>2</th>\n",
       "      <td>0.125209</td>\n",
       "      <td>1797</td>\n",
       "    </tr>\n",
       "    <tr>\n",
       "      <th>3</th>\n",
       "      <td>0.135823</td>\n",
       "      <td>1848</td>\n",
       "    </tr>\n",
       "    <tr>\n",
       "      <th>4</th>\n",
       "      <td>0.144266</td>\n",
       "      <td>1622</td>\n",
       "    </tr>\n",
       "    <tr>\n",
       "      <th>5</th>\n",
       "      <td>0.184305</td>\n",
       "      <td>1389</td>\n",
       "    </tr>\n",
       "    <tr>\n",
       "      <th>6</th>\n",
       "      <td>0.092447</td>\n",
       "      <td>1655</td>\n",
       "    </tr>\n",
       "    <tr>\n",
       "      <th>control</th>\n",
       "      <td>0.123115</td>\n",
       "      <td>2453</td>\n",
       "    </tr>\n",
       "  </tbody>\n",
       "</table>\n",
       "</div>"
      ],
      "text/plain": [
       "                    dropout  count\n",
       "interventiongroup                 \n",
       "2                  0.125209   1797\n",
       "3                  0.135823   1848\n",
       "4                  0.144266   1622\n",
       "5                  0.184305   1389\n",
       "6                  0.092447   1655\n",
       "control            0.123115   2453"
      ]
     },
     "execution_count": 7,
     "metadata": {},
     "output_type": "execute_result"
    }
   ],
   "source": [
    "dropout_by_group = high_performer.groupby(['interventiongroup']).agg({'dropout':'mean','Geschlecht':'count'})\n",
    "dropout_by_group = dropout_by_group.rename(columns={'Geschlecht':'count'})\n",
    "dropout_by_group"
   ]
  },
  {
   "cell_type": "code",
   "execution_count": 8,
   "metadata": {},
   "outputs": [
    {
     "data": {
      "text/html": [
       "<div>\n",
       "<style scoped>\n",
       "    .dataframe tbody tr th:only-of-type {\n",
       "        vertical-align: middle;\n",
       "    }\n",
       "\n",
       "    .dataframe tbody tr th {\n",
       "        vertical-align: top;\n",
       "    }\n",
       "\n",
       "    .dataframe thead th {\n",
       "        text-align: right;\n",
       "    }\n",
       "</style>\n",
       "<table border=\"1\" class=\"dataframe\">\n",
       "  <thead>\n",
       "    <tr style=\"text-align: right;\">\n",
       "      <th></th>\n",
       "      <th>dropout</th>\n",
       "      <th>count</th>\n",
       "    </tr>\n",
       "    <tr>\n",
       "      <th>interventiongroup</th>\n",
       "      <th></th>\n",
       "      <th></th>\n",
       "    </tr>\n",
       "  </thead>\n",
       "  <tbody>\n",
       "    <tr>\n",
       "      <th>2</th>\n",
       "      <td>0.086957</td>\n",
       "      <td>253</td>\n",
       "    </tr>\n",
       "    <tr>\n",
       "      <th>3</th>\n",
       "      <td>0.073913</td>\n",
       "      <td>230</td>\n",
       "    </tr>\n",
       "    <tr>\n",
       "      <th>4</th>\n",
       "      <td>0.112903</td>\n",
       "      <td>248</td>\n",
       "    </tr>\n",
       "    <tr>\n",
       "      <th>5</th>\n",
       "      <td>0.154394</td>\n",
       "      <td>421</td>\n",
       "    </tr>\n",
       "    <tr>\n",
       "      <th>6</th>\n",
       "      <td>0.111588</td>\n",
       "      <td>233</td>\n",
       "    </tr>\n",
       "    <tr>\n",
       "      <th>control</th>\n",
       "      <td>0.048276</td>\n",
       "      <td>290</td>\n",
       "    </tr>\n",
       "  </tbody>\n",
       "</table>\n",
       "</div>"
      ],
      "text/plain": [
       "                    dropout  count\n",
       "interventiongroup                 \n",
       "2                  0.086957    253\n",
       "3                  0.073913    230\n",
       "4                  0.112903    248\n",
       "5                  0.154394    421\n",
       "6                  0.111588    233\n",
       "control            0.048276    290"
      ]
     },
     "execution_count": 8,
     "metadata": {},
     "output_type": "execute_result"
    }
   ],
   "source": [
    "dropout_by_group = low_performer.groupby(['interventiongroup']).agg({'dropout':'mean','Geschlecht':'count'})\n",
    "dropout_by_group = dropout_by_group.rename(columns={'Geschlecht':'count'})\n",
    "dropout_by_group"
   ]
  },
  {
   "cell_type": "code",
   "execution_count": 9,
   "metadata": {},
   "outputs": [
    {
     "data": {
      "text/plain": [
       "KruskalResult(statistic=60.532208515986504, pvalue=9.43489929266464e-12)"
      ]
     },
     "execution_count": 9,
     "metadata": {},
     "output_type": "execute_result"
    }
   ],
   "source": [
    "# Kruskal Wallis Test \n",
    "stats.kruskal(high_intvcontrol['dropout'], high_intv2['dropout'], high_intv3['dropout'],high_intv4['dropout'],high_intv5['dropout'],high_intv6['dropout'])\n"
   ]
  },
  {
   "cell_type": "code",
   "execution_count": 10,
   "metadata": {},
   "outputs": [
    {
     "data": {
      "text/plain": [
       "KruskalResult(statistic=24.746392030987572, pvalue=0.0001559535749827188)"
      ]
     },
     "execution_count": 10,
     "metadata": {},
     "output_type": "execute_result"
    }
   ],
   "source": [
    "# Kruskal Wallis Test \n",
    "stats.kruskal(low_intvcontrol['dropout'], low_intv2['dropout'], low_intv3['dropout'],low_intv4['dropout'],low_intv5['dropout'],low_intv6['dropout'])\n"
   ]
  },
  {
   "cell_type": "code",
   "execution_count": 11,
   "metadata": {},
   "outputs": [
    {
     "name": "stdout",
     "output_type": "stream",
     "text": [
      "MannwhitneyuResult(statistic=2199405.0, pvalue=0.837897612616841)\n",
      "MannwhitneyuResult(statistic=2237768.5, pvalue=0.21781226256972763)\n",
      "MannwhitneyuResult(statistic=1947304.0, pvalue=0.05055272613607949)\n",
      "MannwhitneyuResult(statistic=1599363.5, pvalue=2.3266373542676825e-07)\n",
      "MannwhitneyuResult(statistic=2092108.0, pvalue=0.0021297165529557587)\n"
     ]
    }
   ],
   "source": [
    "#Wilcoxon Mann Whitney Test\n",
    "print(stats.mannwhitneyu(high_intvcontrol['dropout'], high_intv2['dropout']))\n",
    "print(stats.mannwhitneyu(high_intvcontrol['dropout'], high_intv3['dropout']))\n",
    "print(stats.mannwhitneyu(high_intvcontrol['dropout'], high_intv4['dropout']))\n",
    "print(stats.mannwhitneyu(high_intvcontrol['dropout'], high_intv5['dropout']))\n",
    "print(stats.mannwhitneyu(high_intvcontrol['dropout'], high_intv6['dropout']))\n",
    "\n"
   ]
  },
  {
   "cell_type": "code",
   "execution_count": 12,
   "metadata": {},
   "outputs": [
    {
     "name": "stdout",
     "output_type": "stream",
     "text": [
      "MannwhitneyuResult(statistic=35266.0, pvalue=0.07109596190932503)\n",
      "MannwhitneyuResult(statistic=32495.0, pvalue=0.22079687564595896)\n",
      "MannwhitneyuResult(statistic=33636.0, pvalue=0.005401185405140048)\n",
      "MannwhitneyuResult(statistic=54567.0, pvalue=9.808815785635574e-06)\n",
      "MannwhitneyuResult(statistic=31646.0, pvalue=0.006839830050777191)\n"
     ]
    }
   ],
   "source": [
    "#Wilcoxon Mann Whitney Test\n",
    "print(stats.mannwhitneyu(low_intvcontrol['dropout'], low_intv2['dropout']))\n",
    "print(stats.mannwhitneyu(low_intvcontrol['dropout'], low_intv3['dropout']))\n",
    "print(stats.mannwhitneyu(low_intvcontrol['dropout'], low_intv4['dropout']))\n",
    "print(stats.mannwhitneyu(low_intvcontrol['dropout'], low_intv5['dropout']))\n",
    "print(stats.mannwhitneyu(low_intvcontrol['dropout'], low_intv6['dropout']))\n"
   ]
  }
 ],
 "metadata": {
  "kernelspec": {
   "display_name": "Python 3.10.2 64-bit",
   "language": "python",
   "name": "python3"
  },
  "language_info": {
   "codemirror_mode": {
    "name": "ipython",
    "version": 3
   },
   "file_extension": ".py",
   "mimetype": "text/x-python",
   "name": "python",
   "nbconvert_exporter": "python",
   "pygments_lexer": "ipython3",
   "version": "3.10.2 (tags/v3.10.2:a58ebcc, Jan 17 2022, 14:12:15) [MSC v.1929 64 bit (AMD64)]"
  },
  "orig_nbformat": 4,
  "vscode": {
   "interpreter": {
    "hash": "369f2c481f4da34e4445cda3fffd2e751bd1c4d706f27375911949ba6bb62e1c"
   }
  }
 },
 "nbformat": 4,
 "nbformat_minor": 2
}
