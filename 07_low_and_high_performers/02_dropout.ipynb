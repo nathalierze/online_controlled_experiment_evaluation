{
 "cells": [
  {
   "cell_type": "code",
   "execution_count": 10,
   "metadata": {},
   "outputs": [],
   "source": [
    "import pandas as pd\n",
    "import pickle\n",
    "from scipy import stats\n",
    "import seaborn as sns\n",
    "from cliffs_delta import cliffs_delta"
   ]
  },
  {
   "cell_type": "code",
   "execution_count": 11,
   "metadata": {},
   "outputs": [],
   "source": [
    "# load data\n",
    "dropout = pickle.load(open(\"../00_data/final/dropout_per_session.pkl\", \"rb\"))\n",
    "dropout = dropout[[\"UserID\", \"dropout\"]]\n",
    "final = pickle.load(open(\"../00_data/final/competence.pkl\", \"rb\"))"
   ]
  },
  {
   "cell_type": "code",
   "execution_count": 12,
   "metadata": {},
   "outputs": [],
   "source": [
    "# define high and low performer (by ability)\n",
    "n = 10\n",
    "final = final.sort_values(by=[\"ability\"])\n",
    "low_performer = final.head(int(len(final) * (n / 100)))\n",
    "final = final.sort_values(by=[\"ability\"], ascending=False)\n",
    "high_performer = final.head(int(len(final) * (n / 100)))\n",
    "\n",
    "# merge\n",
    "high_performer = pd.merge(high_performer, dropout, on=\"UserID\", how=\"left\")\n",
    "low_performer = pd.merge(low_performer, dropout, on=\"UserID\", how=\"left\")"
   ]
  },
  {
   "cell_type": "code",
   "execution_count": 13,
   "metadata": {},
   "outputs": [],
   "source": [
    "# split by interventiongroup\n",
    "low_intvcontrol = low_performer[(low_performer[\"interventiongroup\"] == \"control\")]\n",
    "low_intv2 = low_performer[(low_performer[\"interventiongroup\"] == \"2\")]\n",
    "low_intv3 = low_performer[(low_performer[\"interventiongroup\"] == \"3\")]\n",
    "low_intv4 = low_performer[(low_performer[\"interventiongroup\"] == \"4\")]\n",
    "low_intv5 = low_performer[(low_performer[\"interventiongroup\"] == \"5\")]\n",
    "low_intv6 = low_performer[(low_performer[\"interventiongroup\"] == \"6\")]\n",
    "\n",
    "high_intvcontrol = high_performer[(high_performer[\"interventiongroup\"] == \"control\")]\n",
    "high_intv2 = high_performer[(high_performer[\"interventiongroup\"] == \"2\")]\n",
    "high_intv3 = high_performer[(high_performer[\"interventiongroup\"] == \"3\")]\n",
    "high_intv4 = high_performer[(high_performer[\"interventiongroup\"] == \"4\")]\n",
    "high_intv5 = high_performer[(high_performer[\"interventiongroup\"] == \"5\")]\n",
    "high_intv6 = high_performer[(high_performer[\"interventiongroup\"] == \"6\")]"
   ]
  },
  {
   "cell_type": "code",
   "execution_count": 14,
   "metadata": {},
   "outputs": [
    {
     "data": {
      "text/plain": [
       "<AxesSubplot:xlabel='dropout', ylabel='Count'>"
      ]
     },
     "execution_count": 14,
     "metadata": {},
     "output_type": "execute_result"
    },
    {
     "data": {
      "image/png": "[encoded data removed]",
      "text/plain": [
       "<Figure size 432x288 with 1 Axes>"
      ]
     },
     "metadata": {
      "needs_background": "light"
     },
     "output_type": "display_data"
    }
   ],
   "source": [
    "# plot high performer\n",
    "sns.histplot(data=high_performer, x=\"dropout\")"
   ]
  },
  {
   "cell_type": "code",
   "execution_count": 15,
   "metadata": {},
   "outputs": [
    {
     "data": {
      "text/plain": [
       "<AxesSubplot:xlabel='dropout', ylabel='Count'>"
      ]
     },
     "execution_count": 15,
     "metadata": {},
     "output_type": "execute_result"
    },
    {
     "data": {
      "image/png": "[encoded data removed]",
      "text/plain": [
       "<Figure size 432x288 with 1 Axes>"
      ]
     },
     "metadata": {
      "needs_background": "light"
     },
     "output_type": "display_data"
    }
   ],
   "source": [
    "# plot low performer\n",
    "sns.histplot(data=low_performer, x=\"dropout\")"
   ]
  },
  {
   "attachments": {},
   "cell_type": "markdown",
   "metadata": {},
   "source": [
    "Get mean"
   ]
  },
  {
   "cell_type": "code",
   "execution_count": 16,
   "metadata": {},
   "outputs": [],
   "source": [
    "# means high performer\n",
    "dropout_by_group = high_performer.groupby([\"interventiongroup\"]).agg(\n",
    "    {\"dropout\": \"mean\", \"Geschlecht\": \"count\"}\n",
    ")\n",
    "dropout_by_group = dropout_by_group.rename(columns={\"Geschlecht\": \"count\"})"
   ]
  },
  {
   "cell_type": "code",
   "execution_count": 17,
   "metadata": {},
   "outputs": [],
   "source": [
    "# means low performer\n",
    "dropout_by_group = low_performer.groupby([\"interventiongroup\"]).agg(\n",
    "    {\"dropout\": \"mean\", \"Geschlecht\": \"count\"}\n",
    ")\n",
    "dropout_by_group = dropout_by_group.rename(columns={\"Geschlecht\": \"count\"})"
   ]
  },
  {
   "attachments": {},
   "cell_type": "markdown",
   "metadata": {},
   "source": [
    "Test significance"
   ]
  },
  {
   "cell_type": "code",
   "execution_count": 18,
   "metadata": {},
   "outputs": [
    {
     "data": {
      "text/plain": [
       "KruskalResult(statistic=60.532208515986504, pvalue=9.43489929266464e-12)"
      ]
     },
     "execution_count": 18,
     "metadata": {},
     "output_type": "execute_result"
    }
   ],
   "source": [
    "# Kruskal Wallis Test High Performer\n",
    "stats.kruskal(\n",
    "    high_intvcontrol[\"dropout\"],\n",
    "    high_intv2[\"dropout\"],\n",
    "    high_intv3[\"dropout\"],\n",
    "    high_intv4[\"dropout\"],\n",
    "    high_intv5[\"dropout\"],\n",
    "    high_intv6[\"dropout\"],\n",
    ")"
   ]
  },
  {
   "cell_type": "code",
   "execution_count": 19,
   "metadata": {},
   "outputs": [
    {
     "data": {
      "text/plain": [
       "KruskalResult(statistic=24.746392030987572, pvalue=0.0001559535749827188)"
      ]
     },
     "execution_count": 19,
     "metadata": {},
     "output_type": "execute_result"
    }
   ],
   "source": [
    "# Kruskal Wallis Test Low Performer\n",
    "stats.kruskal(\n",
    "    low_intvcontrol[\"dropout\"],\n",
    "    low_intv2[\"dropout\"],\n",
    "    low_intv3[\"dropout\"],\n",
    "    low_intv4[\"dropout\"],\n",
    "    low_intv5[\"dropout\"],\n",
    "    low_intv6[\"dropout\"],\n",
    ")"
   ]
  },
  {
   "attachments": {},
   "cell_type": "markdown",
   "metadata": {},
   "source": [
    "Wilcoxon Mann Whitney Tests and Cliffs Delta (# thresholds: .11 (small), .28 (medium), .43 (large))"
   ]
  },
  {
   "attachments": {},
   "cell_type": "markdown",
   "metadata": {},
   "source": [
    "Low performer"
   ]
  },
  {
   "cell_type": "code",
   "execution_count": 20,
   "metadata": {},
   "outputs": [
    {
     "name": "stdout",
     "output_type": "stream",
     "text": [
      "MannwhitneyuResult(statistic=35266.0, pvalue=0.07109596190932503)\n",
      "-0.038680659670164916\n",
      "MannwhitneyuResult(statistic=32495.0, pvalue=0.22079687564595896)\n",
      "-0.025637181409295353\n",
      "MannwhitneyuResult(statistic=33636.0, pvalue=0.005401185405140048)\n",
      "-0.0646273637374861\n",
      "MannwhitneyuResult(statistic=54567.0, pvalue=9.808815785635574e-06)\n",
      "-0.10611843721844541\n",
      "MannwhitneyuResult(statistic=31646.0, pvalue=0.006839830050777191)\n",
      "-0.0633121207636525\n"
     ]
    }
   ],
   "source": [
    "# control group\n",
    "groups = [low_intv2, low_intv3, low_intv4, low_intv5, low_intv6]\n",
    "for x in groups:\n",
    "    print(stats.mannwhitneyu(low_intvcontrol[\"dropout\"], x[\"dropout\"]))\n",
    "    print(cliffs_delta(low_intvcontrol[\"dropout\"], x[\"dropout\"])[0])"
   ]
  },
  {
   "cell_type": "code",
   "execution_count": 21,
   "metadata": {},
   "outputs": [
    {
     "name": "stdout",
     "output_type": "stream",
     "text": [
      "MannwhitneyuResult(statistic=29474.5, pvalue=0.6000993641635155)\n",
      "0.013043478260869565\n",
      "MannwhitneyuResult(statistic=30558.0, pvalue=0.3334475204523307)\n",
      "-0.025946704067321177\n",
      "MannwhitneyuResult(statistic=49665.0, pvalue=0.011529385977236102)\n",
      "-0.0674377775482805\n",
      "MannwhitneyuResult(statistic=28748.5, pvalue=0.3640366873488433)\n",
      "-0.02463146109348759\n"
     ]
    }
   ],
   "source": [
    "# Intv 2\n",
    "groups = [low_intv3, low_intv4, low_intv5, low_intv6]\n",
    "for x in groups:\n",
    "    print(stats.mannwhitneyu(low_intv2[\"dropout\"], x[\"dropout\"]))\n",
    "    print(cliffs_delta(low_intv2[\"dropout\"], x[\"dropout\"])[0])"
   ]
  },
  {
   "cell_type": "code",
   "execution_count": 22,
   "metadata": {},
   "outputs": [
    {
     "name": "stdout",
     "output_type": "stream",
     "text": [
      "MannwhitneyuResult(statistic=27408.0, pvalue=0.14530244202530307)\n",
      "-0.038990182328190744\n",
      "MannwhitneyuResult(statistic=44518.5, pvalue=0.0031211701912044728)\n",
      "-0.08048125580915005\n",
      "MannwhitneyuResult(statistic=25785.5, pvalue=0.16324140192409964)\n",
      "-0.03767493935435716\n"
     ]
    }
   ],
   "source": [
    "# Intv 3\n",
    "groups = [low_intv4, low_intv5, low_intv6]\n",
    "for x in groups:\n",
    "    print(stats.mannwhitneyu(low_intv3[\"dropout\"], x[\"dropout\"]))\n",
    "    print(cliffs_delta(low_intv3[\"dropout\"], x[\"dropout\"])[0])"
   ]
  },
  {
   "cell_type": "code",
   "execution_count": 23,
   "metadata": {},
   "outputs": [
    {
     "name": "stdout",
     "output_type": "stream",
     "text": [
      "MannwhitneyuResult(statistic=50038.0, pvalue=0.13445155334270387)\n",
      "-0.04149107348095931\n",
      "MannwhitneyuResult(statistic=28930.0, pvalue=0.9640945258526697)\n",
      "0.0013152429738335872\n"
     ]
    }
   ],
   "source": [
    "# Intv 4\n",
    "print(stats.mannwhitneyu(low_intv4[\"dropout\"], low_intv5[\"dropout\"]))\n",
    "print(cliffs_delta(low_intv4[\"dropout\"], low_intv5[\"dropout\"])[0])\n",
    "print(stats.mannwhitneyu(low_intv4[\"dropout\"], low_intv6[\"dropout\"]))\n",
    "print(cliffs_delta(low_intv4[\"dropout\"], low_intv6[\"dropout\"])[0])"
   ]
  },
  {
   "cell_type": "code",
   "execution_count": 24,
   "metadata": {},
   "outputs": [
    {
     "name": "stdout",
     "output_type": "stream",
     "text": [
      "MannwhitneyuResult(statistic=51146.0, pvalue=0.13022108693981613)\n",
      "0.0428063164547929\n"
     ]
    }
   ],
   "source": [
    "# Intv 5\n",
    "print(stats.mannwhitneyu(low_intv5[\"dropout\"], low_intv6[\"dropout\"]))\n",
    "print(cliffs_delta(low_intv5[\"dropout\"], low_intv6[\"dropout\"])[0])"
   ]
  },
  {
   "attachments": {},
   "cell_type": "markdown",
   "metadata": {},
   "source": [
    "high performer"
   ]
  },
  {
   "cell_type": "code",
   "execution_count": 25,
   "metadata": {},
   "outputs": [
    {
     "name": "stdout",
     "output_type": "stream",
     "text": [
      "MannwhitneyuResult(statistic=2199405.0, pvalue=0.837897612616841)\n",
      "-0.0020941275273982252\n",
      "MannwhitneyuResult(statistic=2237768.5, pvalue=0.21781226256972763)\n",
      "-0.012707957214683673\n",
      "MannwhitneyuResult(statistic=1947304.0, pvalue=0.05055272613607949)\n",
      "-0.021151784246673466\n",
      "MannwhitneyuResult(statistic=1599363.5, pvalue=2.3266373542676825e-07)\n",
      "-0.061190701971726484\n",
      "MannwhitneyuResult(statistic=2092108.0, pvalue=0.0021297165529557587)\n",
      "0.03066742369846159\n"
     ]
    }
   ],
   "source": [
    "# control group\n",
    "groups = [high_intv2, high_intv3, high_intv4, high_intv5, high_intv6]\n",
    "for x in groups:\n",
    "    print(stats.mannwhitneyu(high_intvcontrol[\"dropout\"], x[\"dropout\"]))\n",
    "    print(cliffs_delta(high_intvcontrol[\"dropout\"], x[\"dropout\"])[0])"
   ]
  },
  {
   "cell_type": "code",
   "execution_count": 26,
   "metadata": {},
   "outputs": [
    {
     "name": "stdout",
     "output_type": "stream",
     "text": [
      "MannwhitneyuResult(statistic=1642804.5, pvalue=0.34179458223578785)\n",
      "-0.010613829687285447\n",
      "MannwhitneyuResult(statistic=1429593.0, pvalue=0.10269941923194541)\n",
      "-0.01905765671927524\n",
      "MannwhitneyuResult(statistic=1174263.0, pvalue=3.849006221777123e-06)\n",
      "-0.05909657444432826\n",
      "MannwhitneyuResult(statistic=1535734.5, pvalue=0.002077065845585965)\n",
      "0.03276155122585982\n"
     ]
    }
   ],
   "source": [
    "# Intv 2\n",
    "groups = [high_intv3, high_intv4, high_intv5, high_intv6]\n",
    "for x in groups:\n",
    "    print(stats.mannwhitneyu(high_intv2[\"dropout\"], x[\"dropout\"]))\n",
    "    print(cliffs_delta(high_intv2[\"dropout\"], x[\"dropout\"])[0])"
   ]
  },
  {
   "cell_type": "code",
   "execution_count": 27,
   "metadata": {},
   "outputs": [
    {
     "name": "stdout",
     "output_type": "stream",
     "text": [
      "MannwhitneyuResult(statistic=1486073.0, pvalue=0.47425123912575895)\n",
      "-0.008443827031989794\n",
      "MannwhitneyuResult(statistic=1221211.5, pvalue=0.0001727748534946423)\n",
      "-0.04848274475704281\n",
      "MannwhitneyuResult(statistic=1595550.5, pvalue=6.024023993243029e-05)\n",
      "0.043375380913145266\n"
     ]
    }
   ],
   "source": [
    "# Intv 3\n",
    "groups = [high_intv4, high_intv5, high_intv6]\n",
    "for x in groups:\n",
    "    print(stats.mannwhitneyu(high_intv3[\"dropout\"], x[\"dropout\"]))\n",
    "    print(cliffs_delta(high_intv3[\"dropout\"], x[\"dropout\"])[0])"
   ]
  },
  {
   "cell_type": "code",
   "execution_count": 28,
   "metadata": {},
   "outputs": [
    {
     "name": "stdout",
     "output_type": "stream",
     "text": [
      "MannwhitneyuResult(statistic=1081376.0, pvalue=0.0030115352500606086)\n",
      "-0.04003891772505302\n",
      "MannwhitneyuResult(statistic=1411757.0, pvalue=4.32878851549845e-06)\n",
      "0.05181920794513506\n"
     ]
    }
   ],
   "source": [
    "# Intv 4\n",
    "print(stats.mannwhitneyu(high_intv4[\"dropout\"], high_intv5[\"dropout\"]))\n",
    "print(cliffs_delta(high_intv4[\"dropout\"], high_intv5[\"dropout\"])[0])\n",
    "print(stats.mannwhitneyu(high_intv4[\"dropout\"], high_intv6[\"dropout\"]))\n",
    "print(cliffs_delta(high_intv4[\"dropout\"], high_intv6[\"dropout\"])[0])"
   ]
  },
  {
   "cell_type": "code",
   "execution_count": 29,
   "metadata": {},
   "outputs": [
    {
     "name": "stdout",
     "output_type": "stream",
     "text": [
      "MannwhitneyuResult(statistic=1254979.0, pvalue=1.3561010406579304e-13)\n",
      "0.09185812567018807\n"
     ]
    }
   ],
   "source": [
    "# Intv 5\n",
    "print(stats.mannwhitneyu(high_intv5[\"dropout\"], high_intv6[\"dropout\"]))\n",
    "print(cliffs_delta(high_intv5[\"dropout\"], high_intv6[\"dropout\"])[0])"
   ]
  }
 ],
 "metadata": {
  "kernelspec": {
   "display_name": "Python 3.10.2 64-bit",
   "language": "python",
   "name": "python3"
  },
  "language_info": {
   "codemirror_mode": {
    "name": "ipython",
    "version": 3
   },
   "file_extension": ".py",
   "mimetype": "text/x-python",
   "name": "python",
   "nbconvert_exporter": "python",
   "pygments_lexer": "ipython3",
   "version": "3.10.2"
  },
  "orig_nbformat": 4,
  "vscode": {
   "interpreter": {
    "hash": "369f2c481f4da34e4445cda3fffd2e751bd1c4d706f27375911949ba6bb62e1c"
   }
  }
 },
 "nbformat": 4,
 "nbformat_minor": 2
}
