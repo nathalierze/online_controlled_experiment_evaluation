{
 "cells": [
  {
   "cell_type": "code",
   "execution_count": null,
   "metadata": {},
   "outputs": [],
   "source": [
    "import pandas as pd\n",
    "import pickle\n",
    "from scipy import stats\n",
    "import pandas as pd\n",
    "import seaborn as sns\n",
    "import pingouin as pg\n",
    "import statsmodels.formula.api as s\n",
    "import numpy as np"
   ]
  },
  {
   "cell_type": "code",
   "execution_count": null,
   "metadata": {},
   "outputs": [],
   "source": [
    "# load data\n",
    "dropout = pickle.load(open( '../00_data/final/dropout_per_session.pkl','rb') )\n",
    "dropout = dropout[['UserID','dropout']]\n",
    "final = pickle.load(open( '../00_data/final/competence.pkl','rb') )\n"
   ]
  },
  {
   "cell_type": "code",
   "execution_count": null,
   "metadata": {},
   "outputs": [],
   "source": [
    "# define high and low performer (by ability)\n",
    "n = 10\n",
    "final = final.sort_values(by=['ability'])\n",
    "low_performer = final.head(int(len(final)*(n/100)))\n",
    "final = final.sort_values(by=['ability'], ascending=False)\n",
    "high_performer = final.head(int(len(final)*(n/100)))\n",
    "\n",
    "# merge\n",
    "high_performer = pd.merge(high_performer, dropout, on='UserID', how='left')\n",
    "low_performer = pd.merge(low_performer, dropout, on='UserID', how='left')"
   ]
  },
  {
   "cell_type": "code",
   "execution_count": null,
   "metadata": {},
   "outputs": [],
   "source": [
    "# split by interventiongroup\n",
    "low_intvcontrol = low_performer[(low_performer['interventiongroup']=='control')]\n",
    "low_intv2 = low_performer[(low_performer['interventiongroup']=='2')]\n",
    "low_intv3 = low_performer[(low_performer['interventiongroup']=='3')]\n",
    "low_intv4 = low_performer[(low_performer['interventiongroup']=='4')]\n",
    "low_intv5 = low_performer[(low_performer['interventiongroup']=='5')]\n",
    "low_intv6 = low_performer[(low_performer['interventiongroup']=='6')]\n",
    "\n",
    "high_intvcontrol = high_performer[(high_performer['interventiongroup']=='control')]\n",
    "high_intv2 = high_performer[(high_performer['interventiongroup']=='2')]\n",
    "high_intv3 = high_performer[(high_performer['interventiongroup']=='3')]\n",
    "high_intv4 = high_performer[(high_performer['interventiongroup']=='4')]\n",
    "high_intv5 = high_performer[(high_performer['interventiongroup']=='5')]\n",
    "high_intv6 = high_performer[(high_performer['interventiongroup']=='6')]"
   ]
  },
  {
   "cell_type": "code",
   "execution_count": null,
   "metadata": {},
   "outputs": [],
   "source": [
    "# plot high performer\n",
    "sns.histplot(data=high_performer, x=\"dropout\")"
   ]
  },
  {
   "cell_type": "code",
   "execution_count": null,
   "metadata": {},
   "outputs": [],
   "source": [
    "# plot low performer\n",
    "sns.histplot(data=low_performer, x=\"dropout\")"
   ]
  },
  {
   "attachments": {},
   "cell_type": "markdown",
   "metadata": {},
   "source": [
    "Effect sizes"
   ]
  },
  {
   "cell_type": "code",
   "execution_count": null,
   "metadata": {},
   "outputs": [],
   "source": [
    "# effect sizes high performer\n",
    "dropout_by_group = high_performer.groupby(['interventiongroup']).agg({'dropout':'mean','Geschlecht':'count'})\n",
    "dropout_by_group = dropout_by_group.rename(columns={'Geschlecht':'count'})"
   ]
  },
  {
   "cell_type": "code",
   "execution_count": null,
   "metadata": {},
   "outputs": [],
   "source": [
    "# effect sizes low performer\n",
    "dropout_by_group = low_performer.groupby(['interventiongroup']).agg({'dropout':'mean','Geschlecht':'count'})\n",
    "dropout_by_group = dropout_by_group.rename(columns={'Geschlecht':'count'})"
   ]
  },
  {
   "cell_type": "code",
   "execution_count": null,
   "metadata": {},
   "outputs": [],
   "source": [
    "# Kruskal Wallis Test High Performer\n",
    "stats.kruskal(high_intvcontrol['dropout'], high_intv2['dropout'], high_intv3['dropout'],high_intv4['dropout'],high_intv5['dropout'],high_intv6['dropout'])"
   ]
  },
  {
   "cell_type": "code",
   "execution_count": null,
   "metadata": {},
   "outputs": [],
   "source": [
    "# Kruskal Wallis Test Low Performer\n",
    "stats.kruskal(low_intvcontrol['dropout'], low_intv2['dropout'], low_intv3['dropout'],low_intv4['dropout'],low_intv5['dropout'],low_intv6['dropout'])"
   ]
  },
  {
   "cell_type": "code",
   "execution_count": null,
   "metadata": {},
   "outputs": [],
   "source": [
    "#Wilcoxon Mann Whitney Test\n",
    "print(stats.mannwhitneyu(high_intvcontrol['dropout'], high_intv2['dropout']))\n",
    "print(stats.mannwhitneyu(high_intvcontrol['dropout'], high_intv3['dropout']))\n",
    "print(stats.mannwhitneyu(high_intvcontrol['dropout'], high_intv4['dropout']))\n",
    "print(stats.mannwhitneyu(high_intvcontrol['dropout'], high_intv5['dropout']))\n",
    "print(stats.mannwhitneyu(high_intvcontrol['dropout'], high_intv6['dropout']))"
   ]
  },
  {
   "cell_type": "code",
   "execution_count": null,
   "metadata": {},
   "outputs": [],
   "source": [
    "#Wilcoxon Mann Whitney Test\n",
    "print(stats.mannwhitneyu(low_intvcontrol['dropout'], low_intv2['dropout']))\n",
    "print(stats.mannwhitneyu(low_intvcontrol['dropout'], low_intv3['dropout']))\n",
    "print(stats.mannwhitneyu(low_intvcontrol['dropout'], low_intv4['dropout']))\n",
    "print(stats.mannwhitneyu(low_intvcontrol['dropout'], low_intv5['dropout']))\n",
    "print(stats.mannwhitneyu(low_intvcontrol['dropout'], low_intv6['dropout']))"
   ]
  }
 ],
 "metadata": {
  "kernelspec": {
   "display_name": "Python 3.10.2 64-bit",
   "language": "python",
   "name": "python3"
  },
  "language_info": {
   "codemirror_mode": {
    "name": "ipython",
    "version": 3
   },
   "file_extension": ".py",
   "mimetype": "text/x-python",
   "name": "python",
   "nbconvert_exporter": "python",
   "pygments_lexer": "ipython3",
   "version": "3.10.2"
  },
  "orig_nbformat": 4,
  "vscode": {
   "interpreter": {
    "hash": "369f2c481f4da34e4445cda3fffd2e751bd1c4d706f27375911949ba6bb62e1c"
   }
  }
 },
 "nbformat": 4,
 "nbformat_minor": 2
}
