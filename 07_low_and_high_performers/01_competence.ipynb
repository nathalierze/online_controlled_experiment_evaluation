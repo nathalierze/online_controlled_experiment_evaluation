{
 "cells": [
  {
   "cell_type": "code",
   "execution_count": 1,
   "metadata": {},
   "outputs": [
    {
     "name": "stderr",
     "output_type": "stream",
     "text": [
      "c:\\Python310\\lib\\site-packages\\outdated\\utils.py:14: OutdatedPackageWarning: The package outdated is out of date. Your version is 0.2.1, the latest is 0.2.2.\n",
      "Set the environment variable OUTDATED_IGNORE=1 to disable these warnings.\n",
      "  return warn(\n",
      "c:\\Python310\\lib\\site-packages\\outdated\\utils.py:14: OutdatedPackageWarning: The package pingouin is out of date. Your version is 0.5.2, the latest is 0.5.3.\n",
      "Set the environment variable OUTDATED_IGNORE=1 to disable these warnings.\n",
      "  return warn(\n"
     ]
    }
   ],
   "source": [
    "import pandas as pd\n",
    "import pickle\n",
    "from scipy import stats\n",
    "import pandas as pd\n",
    "import seaborn as sns\n",
    "import pingouin as pg\n",
    "import statsmodels.formula.api as s\n",
    "import statsmodels.api as sm\n",
    "from statsmodels.formula.api import ols\n"
   ]
  },
  {
   "cell_type": "code",
   "execution_count": 2,
   "metadata": {},
   "outputs": [],
   "source": [
    "final = pickle.load(open( '../00_data/final/competence.pkl','rb') )"
   ]
  },
  {
   "cell_type": "code",
   "execution_count": 3,
   "metadata": {},
   "outputs": [],
   "source": [
    "final = final.sort_values(by=['ability'])\n",
    "n = 10\n",
    "low_performer = final.head(int(len(final)*(n/100)))\n",
    "\n",
    "final = final.sort_values(by=['ability'], ascending=False)\n",
    "high_performer = final.head(int(len(final)*(n/100)))"
   ]
  },
  {
   "cell_type": "code",
   "execution_count": 4,
   "metadata": {},
   "outputs": [],
   "source": [
    "low_intvcontrol = low_performer[(low_performer['interventiongroup']=='control')]\n",
    "low_intv2 = low_performer[(low_performer['interventiongroup']=='2')]\n",
    "low_intv3 = low_performer[(low_performer['interventiongroup']=='3')]\n",
    "low_intv4 = low_performer[(low_performer['interventiongroup']=='4')]\n",
    "low_intv5 = low_performer[(low_performer['interventiongroup']=='5')]\n",
    "low_intv6 = low_performer[(low_performer['interventiongroup']=='6')]\n",
    "\n",
    "high_intvcontrol = high_performer[(high_performer['interventiongroup']=='control')]\n",
    "high_intv2 = high_performer[(high_performer['interventiongroup']=='2')]\n",
    "high_intv3 = high_performer[(high_performer['interventiongroup']=='3')]\n",
    "high_intv4 = high_performer[(high_performer['interventiongroup']=='4')]\n",
    "high_intv5 = high_performer[(high_performer['interventiongroup']=='5')]\n",
    "high_intv6 = high_performer[(high_performer['interventiongroup']=='6')]"
   ]
  },
  {
   "cell_type": "code",
   "execution_count": 8,
   "metadata": {},
   "outputs": [
    {
     "data": {
      "text/plain": [
       "[Text(0.5, 0, 'Competence'), Text(0, 0.5, 'Count of users')]"
      ]
     },
     "execution_count": 8,
     "metadata": {},
     "output_type": "execute_result"
    },
    {
     "data": {
      "image/png": "[encoded data removed]",
      "text/plain": [
       "<Figure size 432x288 with 1 Axes>"
      ]
     },
     "metadata": {
      "needs_background": "light"
     },
     "output_type": "display_data"
    }
   ],
   "source": [
    "gr = sns.histplot(data=high_performer, x=\"ability\")\n",
    "gr.set(xlabel =\"Competence\", ylabel = \"Count of users\")\n"
   ]
  },
  {
   "cell_type": "code",
   "execution_count": 9,
   "metadata": {},
   "outputs": [
    {
     "data": {
      "text/plain": [
       "[Text(0.5, 0, 'Competence'), Text(0, 0.5, 'Count of users')]"
      ]
     },
     "execution_count": 9,
     "metadata": {},
     "output_type": "execute_result"
    },
    {
     "data": {
      "image/png": "[encoded data removed]",
      "text/plain": [
       "<Figure size 432x288 with 1 Axes>"
      ]
     },
     "metadata": {
      "needs_background": "light"
     },
     "output_type": "display_data"
    }
   ],
   "source": [
    "gr=sns.histplot(data=low_performer, x=\"ability\")\n",
    "gr.set(xlabel =\"Competence\", ylabel = \"Count of users\")"
   ]
  },
  {
   "cell_type": "markdown",
   "metadata": {},
   "source": [
    "Übersicht Effektgroeßen"
   ]
  },
  {
   "cell_type": "code",
   "execution_count": null,
   "metadata": {},
   "outputs": [
    {
     "data": {
      "text/html": [
       "<div>\n",
       "<style scoped>\n",
       "    .dataframe tbody tr th:only-of-type {\n",
       "        vertical-align: middle;\n",
       "    }\n",
       "\n",
       "    .dataframe tbody tr th {\n",
       "        vertical-align: top;\n",
       "    }\n",
       "\n",
       "    .dataframe thead th {\n",
       "        text-align: right;\n",
       "    }\n",
       "</style>\n",
       "<table border=\"1\" class=\"dataframe\">\n",
       "  <thead>\n",
       "    <tr style=\"text-align: right;\">\n",
       "      <th></th>\n",
       "      <th>ability</th>\n",
       "      <th>count</th>\n",
       "    </tr>\n",
       "    <tr>\n",
       "      <th>interventiongroup</th>\n",
       "      <th></th>\n",
       "      <th></th>\n",
       "    </tr>\n",
       "  </thead>\n",
       "  <tbody>\n",
       "    <tr>\n",
       "      <th>2</th>\n",
       "      <td>6.79</td>\n",
       "      <td>197</td>\n",
       "    </tr>\n",
       "    <tr>\n",
       "      <th>3</th>\n",
       "      <td>6.80</td>\n",
       "      <td>189</td>\n",
       "    </tr>\n",
       "    <tr>\n",
       "      <th>4</th>\n",
       "      <td>6.78</td>\n",
       "      <td>177</td>\n",
       "    </tr>\n",
       "    <tr>\n",
       "      <th>5</th>\n",
       "      <td>6.76</td>\n",
       "      <td>153</td>\n",
       "    </tr>\n",
       "    <tr>\n",
       "      <th>6</th>\n",
       "      <td>6.76</td>\n",
       "      <td>147</td>\n",
       "    </tr>\n",
       "    <tr>\n",
       "      <th>control</th>\n",
       "      <td>6.73</td>\n",
       "      <td>279</td>\n",
       "    </tr>\n",
       "  </tbody>\n",
       "</table>\n",
       "</div>"
      ],
      "text/plain": [
       "                   ability  count\n",
       "interventiongroup                \n",
       "2                     6.79    197\n",
       "3                     6.80    189\n",
       "4                     6.78    177\n",
       "5                     6.76    153\n",
       "6                     6.76    147\n",
       "control               6.73    279"
      ]
     },
     "execution_count": 21,
     "metadata": {},
     "output_type": "execute_result"
    }
   ],
   "source": [
    "ability_by_group = high_performer.groupby(['interventiongroup']).agg({'ability':'median','Geschlecht':'count'})\n",
    "ability_by_group = ability_by_group.rename(columns={'Geschlecht':'count'})\n",
    "ability_by_group"
   ]
  },
  {
   "cell_type": "code",
   "execution_count": null,
   "metadata": {},
   "outputs": [
    {
     "data": {
      "text/html": [
       "<div>\n",
       "<style scoped>\n",
       "    .dataframe tbody tr th:only-of-type {\n",
       "        vertical-align: middle;\n",
       "    }\n",
       "\n",
       "    .dataframe tbody tr th {\n",
       "        vertical-align: top;\n",
       "    }\n",
       "\n",
       "    .dataframe thead th {\n",
       "        text-align: right;\n",
       "    }\n",
       "</style>\n",
       "<table border=\"1\" class=\"dataframe\">\n",
       "  <thead>\n",
       "    <tr style=\"text-align: right;\">\n",
       "      <th></th>\n",
       "      <th>ability</th>\n",
       "      <th>count</th>\n",
       "    </tr>\n",
       "    <tr>\n",
       "      <th>interventiongroup</th>\n",
       "      <th></th>\n",
       "      <th></th>\n",
       "    </tr>\n",
       "  </thead>\n",
       "  <tbody>\n",
       "    <tr>\n",
       "      <th>2</th>\n",
       "      <td>-1.110</td>\n",
       "      <td>179</td>\n",
       "    </tr>\n",
       "    <tr>\n",
       "      <th>3</th>\n",
       "      <td>-1.135</td>\n",
       "      <td>166</td>\n",
       "    </tr>\n",
       "    <tr>\n",
       "      <th>4</th>\n",
       "      <td>-1.285</td>\n",
       "      <td>182</td>\n",
       "    </tr>\n",
       "    <tr>\n",
       "      <th>5</th>\n",
       "      <td>-1.650</td>\n",
       "      <td>270</td>\n",
       "    </tr>\n",
       "    <tr>\n",
       "      <th>6</th>\n",
       "      <td>-1.475</td>\n",
       "      <td>136</td>\n",
       "    </tr>\n",
       "    <tr>\n",
       "      <th>control</th>\n",
       "      <td>-1.170</td>\n",
       "      <td>201</td>\n",
       "    </tr>\n",
       "  </tbody>\n",
       "</table>\n",
       "</div>"
      ],
      "text/plain": [
       "                   ability  count\n",
       "interventiongroup                \n",
       "2                   -1.110    179\n",
       "3                   -1.135    166\n",
       "4                   -1.285    182\n",
       "5                   -1.650    270\n",
       "6                   -1.475    136\n",
       "control             -1.170    201"
      ]
     },
     "execution_count": 22,
     "metadata": {},
     "output_type": "execute_result"
    }
   ],
   "source": [
    "ability_by_group = low_performer.groupby(['interventiongroup']).agg({'ability':'median','Geschlecht':'count'})\n",
    "ability_by_group = ability_by_group.rename(columns={'Geschlecht':'count'})\n",
    "ability_by_group"
   ]
  },
  {
   "cell_type": "markdown",
   "metadata": {},
   "source": [
    "Alle Daten"
   ]
  },
  {
   "cell_type": "code",
   "execution_count": null,
   "metadata": {},
   "outputs": [
    {
     "data": {
      "text/plain": [
       "KruskalResult(statistic=6.507018721646282, pvalue=0.25995928681685565)"
      ]
     },
     "execution_count": 23,
     "metadata": {},
     "output_type": "execute_result"
    }
   ],
   "source": [
    "# Kruskal Wallis Test \n",
    "stats.kruskal(high_intvcontrol['ability'], high_intv2['ability'], high_intv3['ability'],high_intv4['ability'],high_intv5['ability'],high_intv6['ability'])\n"
   ]
  },
  {
   "cell_type": "code",
   "execution_count": null,
   "metadata": {},
   "outputs": [
    {
     "data": {
      "text/plain": [
       "KruskalResult(statistic=23.143861844516767, pvalue=0.00031684442303643286)"
      ]
     },
     "execution_count": 24,
     "metadata": {},
     "output_type": "execute_result"
    }
   ],
   "source": [
    "# Kruskal Wallis Test \n",
    "stats.kruskal(low_intvcontrol['ability'], low_intv2['ability'], low_intv3['ability'],low_intv4['ability'],low_intv5['ability'],low_intv6['ability'])\n"
   ]
  },
  {
   "cell_type": "code",
   "execution_count": null,
   "metadata": {},
   "outputs": [
    {
     "name": "stdout",
     "output_type": "stream",
     "text": [
      "MannwhitneyuResult(statistic=17510.5, pvalue=0.6543591869016049)\n",
      "MannwhitneyuResult(statistic=15313.0, pvalue=0.175765005931398)\n",
      "MannwhitneyuResult(statistic=18585.5, pvalue=0.7858207011172688)\n",
      "MannwhitneyuResult(statistic=31404.0, pvalue=0.003482300885483314)\n",
      "MannwhitneyuResult(statistic=14830.0, pvalue=0.18559740535116975)\n"
     ]
    }
   ],
   "source": [
    "#Wilcoxon Mann Whitney Test\n",
    "print(stats.mannwhitneyu(low_intvcontrol['ability'], low_intv2['ability']))\n",
    "print(stats.mannwhitneyu(low_intvcontrol['ability'], low_intv3['ability']))\n",
    "print(stats.mannwhitneyu(low_intvcontrol['ability'], low_intv4['ability']))\n",
    "print(stats.mannwhitneyu(low_intvcontrol['ability'], low_intv5['ability']))\n",
    "print(stats.mannwhitneyu(low_intvcontrol['ability'], low_intv6['ability']))\n"
   ]
  },
  {
   "cell_type": "code",
   "execution_count": null,
   "metadata": {},
   "outputs": [
    {
     "data": {
      "text/plain": [
       "<AxesSubplot:xlabel='ability', ylabel='interventiongroup'>"
      ]
     },
     "execution_count": 28,
     "metadata": {},
     "output_type": "execute_result"
    },
    {
     "data": {
      "image/png": "[encoded data removed]",
      "text/plain": [
       "<Figure size 432x288 with 1 Axes>"
      ]
     },
     "metadata": {
      "needs_background": "light"
     },
     "output_type": "display_data"
    }
   ],
   "source": [
    "sns.boxplot(data=low_performer, x=\"ability\", y=\"interventiongroup\",showfliers = False)#,hue='Geschlecht'\n"
   ]
  }
 ],
 "metadata": {
  "kernelspec": {
   "display_name": "Python 3.10.2 64-bit",
   "language": "python",
   "name": "python3"
  },
  "language_info": {
   "codemirror_mode": {
    "name": "ipython",
    "version": 3
   },
   "file_extension": ".py",
   "mimetype": "text/x-python",
   "name": "python",
   "nbconvert_exporter": "python",
   "pygments_lexer": "ipython3",
   "version": "3.10.2"
  },
  "orig_nbformat": 4,
  "vscode": {
   "interpreter": {
    "hash": "369f2c481f4da34e4445cda3fffd2e751bd1c4d706f27375911949ba6bb62e1c"
   }
  }
 },
 "nbformat": 4,
 "nbformat_minor": 2
}
