{
 "cells": [
  {
   "cell_type": "code",
   "execution_count": null,
   "metadata": {},
   "outputs": [],
   "source": [
    "import pandas as pd\n",
    "import pickle\n",
    "from scipy import stats\n",
    "import pandas as pd\n",
    "import seaborn as sns\n",
    "import pingouin as pg\n",
    "import statsmodels.formula.api as s\n",
    "import statsmodels.api as sm\n",
    "from statsmodels.formula.api import ols\n"
   ]
  },
  {
   "cell_type": "code",
   "execution_count": null,
   "metadata": {},
   "outputs": [],
   "source": [
    "# load data\n",
    "final = pickle.load(open( '../00_data/final/competence.pkl','rb') )"
   ]
  },
  {
   "cell_type": "code",
   "execution_count": null,
   "metadata": {},
   "outputs": [],
   "source": [
    "# define high and low performer\n",
    "final = final.sort_values(by=['ability'])\n",
    "n = 10\n",
    "low_performer = final.head(int(len(final)*(n/100)))\n",
    "\n",
    "final = final.sort_values(by=['ability'], ascending=False)\n",
    "high_performer = final.head(int(len(final)*(n/100)))"
   ]
  },
  {
   "cell_type": "code",
   "execution_count": null,
   "metadata": {},
   "outputs": [],
   "source": [
    "# split by interventiongroup\n",
    "low_intvcontrol = low_performer[(low_performer['interventiongroup']=='control')]\n",
    "low_intv2 = low_performer[(low_performer['interventiongroup']=='2')]\n",
    "low_intv3 = low_performer[(low_performer['interventiongroup']=='3')]\n",
    "low_intv4 = low_performer[(low_performer['interventiongroup']=='4')]\n",
    "low_intv5 = low_performer[(low_performer['interventiongroup']=='5')]\n",
    "low_intv6 = low_performer[(low_performer['interventiongroup']=='6')]\n",
    "\n",
    "high_intvcontrol = high_performer[(high_performer['interventiongroup']=='control')]\n",
    "high_intv2 = high_performer[(high_performer['interventiongroup']=='2')]\n",
    "high_intv3 = high_performer[(high_performer['interventiongroup']=='3')]\n",
    "high_intv4 = high_performer[(high_performer['interventiongroup']=='4')]\n",
    "high_intv5 = high_performer[(high_performer['interventiongroup']=='5')]\n",
    "high_intv6 = high_performer[(high_performer['interventiongroup']=='6')]"
   ]
  },
  {
   "cell_type": "code",
   "execution_count": null,
   "metadata": {},
   "outputs": [],
   "source": [
    "# plot ability of high performer\n",
    "gr = sns.histplot(data=high_performer, x=\"ability\")\n",
    "gr.set(xlabel =\"Competence\", ylabel = \"Count of users\")"
   ]
  },
  {
   "cell_type": "code",
   "execution_count": null,
   "metadata": {},
   "outputs": [],
   "source": [
    "# plot ability of low performer\n",
    "gr=sns.histplot(data=low_performer, x=\"ability\")\n",
    "gr.set(xlabel =\"Competence\", ylabel = \"Count of users\")"
   ]
  },
  {
   "attachments": {},
   "cell_type": "markdown",
   "metadata": {},
   "source": [
    "Effect sizes"
   ]
  },
  {
   "cell_type": "code",
   "execution_count": null,
   "metadata": {},
   "outputs": [],
   "source": [
    "# effect size high performer\n",
    "ability_by_group = high_performer.groupby(['interventiongroup']).agg({'ability':'median','Geschlecht':'count'})\n",
    "ability_by_group = ability_by_group.rename(columns={'Geschlecht':'count'})"
   ]
  },
  {
   "cell_type": "code",
   "execution_count": null,
   "metadata": {},
   "outputs": [],
   "source": [
    "# effect size low performer\n",
    "ability_by_group = low_performer.groupby(['interventiongroup']).agg({'ability':'median','Geschlecht':'count'})\n",
    "ability_by_group = ability_by_group.rename(columns={'Geschlecht':'count'})"
   ]
  },
  {
   "attachments": {},
   "cell_type": "markdown",
   "metadata": {},
   "source": [
    "Test significance"
   ]
  },
  {
   "cell_type": "code",
   "execution_count": null,
   "metadata": {},
   "outputs": [],
   "source": [
    "# Kruskal Wallis Test High Performer\n",
    "stats.kruskal(high_intvcontrol['ability'], high_intv2['ability'], high_intv3['ability'],high_intv4['ability'],high_intv5['ability'],high_intv6['ability'])"
   ]
  },
  {
   "cell_type": "code",
   "execution_count": null,
   "metadata": {},
   "outputs": [],
   "source": [
    "# Kruskal Wallis Test Low Performer\n",
    "stats.kruskal(low_intvcontrol['ability'], low_intv2['ability'], low_intv3['ability'],low_intv4['ability'],low_intv5['ability'],low_intv6['ability'])"
   ]
  },
  {
   "cell_type": "code",
   "execution_count": null,
   "metadata": {},
   "outputs": [],
   "source": [
    "#Wilcoxon Mann Whitney Test\n",
    "print(stats.mannwhitneyu(low_intvcontrol['ability'], low_intv2['ability']))\n",
    "print(stats.mannwhitneyu(low_intvcontrol['ability'], low_intv3['ability']))\n",
    "print(stats.mannwhitneyu(low_intvcontrol['ability'], low_intv4['ability']))\n",
    "print(stats.mannwhitneyu(low_intvcontrol['ability'], low_intv5['ability']))\n",
    "print(stats.mannwhitneyu(low_intvcontrol['ability'], low_intv6['ability']))"
   ]
  },
  {
   "cell_type": "code",
   "execution_count": null,
   "metadata": {},
   "outputs": [],
   "source": [
    "# plot low performer\n",
    "sns.boxplot(data=low_performer, x=\"ability\", y=\"interventiongroup\",showfliers = False)#,hue='Geschlecht'"
   ]
  },
  {
   "cell_type": "code",
   "execution_count": null,
   "metadata": {},
   "outputs": [],
   "source": [
    "# plot high performer\n",
    "sns.boxplot(data=high_performer, x=\"ability\", y=\"interventiongroup\",showfliers = False)#,hue='Geschlecht'"
   ]
  }
 ],
 "metadata": {
  "kernelspec": {
   "display_name": "Python 3.10.2 64-bit",
   "language": "python",
   "name": "python3"
  },
  "language_info": {
   "codemirror_mode": {
    "name": "ipython",
    "version": 3
   },
   "file_extension": ".py",
   "mimetype": "text/x-python",
   "name": "python",
   "nbconvert_exporter": "python",
   "pygments_lexer": "ipython3",
   "version": "3.10.2"
  },
  "orig_nbformat": 4,
  "vscode": {
   "interpreter": {
    "hash": "369f2c481f4da34e4445cda3fffd2e751bd1c4d706f27375911949ba6bb62e1c"
   }
  }
 },
 "nbformat": 4,
 "nbformat_minor": 2
}
