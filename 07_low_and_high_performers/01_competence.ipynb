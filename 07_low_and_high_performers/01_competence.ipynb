{
 "cells": [
  {
   "cell_type": "code",
   "execution_count": 16,
   "metadata": {},
   "outputs": [],
   "source": [
    "import pandas as pd\n",
    "import pickle\n",
    "from scipy import stats\n",
    "import pandas as pd\n",
    "import seaborn as sns\n",
    "from cliffs_delta import cliffs_delta"
   ]
  },
  {
   "cell_type": "code",
   "execution_count": 17,
   "metadata": {},
   "outputs": [],
   "source": [
    "# load data\n",
    "final = pickle.load(open(\"../00_data/final/competence.pkl\", \"rb\"))"
   ]
  },
  {
   "cell_type": "code",
   "execution_count": 18,
   "metadata": {},
   "outputs": [],
   "source": [
    "# define high and low performer\n",
    "final = final.sort_values(by=[\"ability\"])\n",
    "n = 10\n",
    "low_performer = final.head(int(len(final) * (n / 100)))\n",
    "\n",
    "final = final.sort_values(by=[\"ability\"], ascending=False)\n",
    "high_performer = final.head(int(len(final) * (n / 100)))"
   ]
  },
  {
   "cell_type": "code",
   "execution_count": 19,
   "metadata": {},
   "outputs": [],
   "source": [
    "# split by interventiongroup\n",
    "low_intvcontrol = low_performer[(low_performer[\"interventiongroup\"] == \"control\")]\n",
    "low_intv2 = low_performer[(low_performer[\"interventiongroup\"] == \"2\")]\n",
    "low_intv3 = low_performer[(low_performer[\"interventiongroup\"] == \"3\")]\n",
    "low_intv4 = low_performer[(low_performer[\"interventiongroup\"] == \"4\")]\n",
    "low_intv5 = low_performer[(low_performer[\"interventiongroup\"] == \"5\")]\n",
    "low_intv6 = low_performer[(low_performer[\"interventiongroup\"] == \"6\")]\n",
    "\n",
    "high_intvcontrol = high_performer[(high_performer[\"interventiongroup\"] == \"control\")]\n",
    "high_intv2 = high_performer[(high_performer[\"interventiongroup\"] == \"2\")]\n",
    "high_intv3 = high_performer[(high_performer[\"interventiongroup\"] == \"3\")]\n",
    "high_intv4 = high_performer[(high_performer[\"interventiongroup\"] == \"4\")]\n",
    "high_intv5 = high_performer[(high_performer[\"interventiongroup\"] == \"5\")]\n",
    "high_intv6 = high_performer[(high_performer[\"interventiongroup\"] == \"6\")]"
   ]
  },
  {
   "cell_type": "code",
   "execution_count": 20,
   "metadata": {},
   "outputs": [
    {
     "data": {
      "text/plain": [
       "[Text(0.5, 0, 'Competence'), Text(0, 0.5, 'Count of users')]"
      ]
     },
     "execution_count": 20,
     "metadata": {},
     "output_type": "execute_result"
    },
    {
     "data": {
      "image/png": "[encoded data removed]",
      "text/plain": [
       "<Figure size 432x288 with 1 Axes>"
      ]
     },
     "metadata": {
      "needs_background": "light"
     },
     "output_type": "display_data"
    }
   ],
   "source": [
    "# plot ability of high performer\n",
    "gr = sns.histplot(data=high_performer, x=\"ability\")\n",
    "gr.set(xlabel=\"Competence\", ylabel=\"Count of users\")"
   ]
  },
  {
   "cell_type": "code",
   "execution_count": 21,
   "metadata": {},
   "outputs": [
    {
     "data": {
      "text/plain": [
       "[Text(0.5, 0, 'Competence'), Text(0, 0.5, 'Count of users')]"
      ]
     },
     "execution_count": 21,
     "metadata": {},
     "output_type": "execute_result"
    },
    {
     "data": {
      "image/png": "[encoded data removed]",
      "text/plain": [
       "<Figure size 432x288 with 1 Axes>"
      ]
     },
     "metadata": {
      "needs_background": "light"
     },
     "output_type": "display_data"
    }
   ],
   "source": [
    "# plot ability of low performer\n",
    "gr = sns.histplot(data=low_performer, x=\"ability\")\n",
    "gr.set(xlabel=\"Competence\", ylabel=\"Count of users\")"
   ]
  },
  {
   "attachments": {},
   "cell_type": "markdown",
   "metadata": {},
   "source": [
    "Get meand and median"
   ]
  },
  {
   "cell_type": "code",
   "execution_count": 22,
   "metadata": {},
   "outputs": [],
   "source": [
    "# median high performer\n",
    "ability_by_group = high_performer.groupby([\"interventiongroup\"]).agg(\n",
    "    {\"ability\": \"median\", \"Geschlecht\": \"count\"}\n",
    ")\n",
    "ability_by_group = ability_by_group.rename(columns={\"Geschlecht\": \"count\"})"
   ]
  },
  {
   "cell_type": "code",
   "execution_count": 23,
   "metadata": {},
   "outputs": [],
   "source": [
    "# median low performer\n",
    "ability_by_group = low_performer.groupby([\"interventiongroup\"]).agg(\n",
    "    {\"ability\": \"median\", \"Geschlecht\": \"count\"}\n",
    ")\n",
    "ability_by_group = ability_by_group.rename(columns={\"Geschlecht\": \"count\"})"
   ]
  },
  {
   "cell_type": "code",
   "execution_count": 24,
   "metadata": {},
   "outputs": [],
   "source": [
    "# mean high performer\n",
    "ability_by_group = high_performer.groupby([\"interventiongroup\"]).agg(\n",
    "    {\"ability\": \"mean\", \"Geschlecht\": \"count\"}\n",
    ")\n",
    "ability_by_group = ability_by_group.rename(columns={\"Geschlecht\": \"count\"})"
   ]
  },
  {
   "cell_type": "code",
   "execution_count": 25,
   "metadata": {},
   "outputs": [],
   "source": [
    "# mean low performer\n",
    "ability_by_group = low_performer.groupby([\"interventiongroup\"]).agg(\n",
    "    {\"ability\": \"mean\", \"Geschlecht\": \"count\"}\n",
    ")\n",
    "ability_by_group = ability_by_group.rename(columns={\"Geschlecht\": \"count\"})"
   ]
  },
  {
   "attachments": {},
   "cell_type": "markdown",
   "metadata": {},
   "source": [
    "Test significance"
   ]
  },
  {
   "cell_type": "code",
   "execution_count": 26,
   "metadata": {},
   "outputs": [
    {
     "data": {
      "text/plain": [
       "KruskalResult(statistic=6.507018721646282, pvalue=0.25995928681685565)"
      ]
     },
     "execution_count": 26,
     "metadata": {},
     "output_type": "execute_result"
    }
   ],
   "source": [
    "# Kruskal Wallis Test High Performer\n",
    "stats.kruskal(\n",
    "    high_intvcontrol[\"ability\"],\n",
    "    high_intv2[\"ability\"],\n",
    "    high_intv3[\"ability\"],\n",
    "    high_intv4[\"ability\"],\n",
    "    high_intv5[\"ability\"],\n",
    "    high_intv6[\"ability\"],\n",
    ")"
   ]
  },
  {
   "cell_type": "code",
   "execution_count": 27,
   "metadata": {},
   "outputs": [
    {
     "data": {
      "text/plain": [
       "KruskalResult(statistic=23.143861844516767, pvalue=0.00031684442303643286)"
      ]
     },
     "execution_count": 27,
     "metadata": {},
     "output_type": "execute_result"
    }
   ],
   "source": [
    "# Kruskal Wallis Test Low Performer\n",
    "stats.kruskal(\n",
    "    low_intvcontrol[\"ability\"],\n",
    "    low_intv2[\"ability\"],\n",
    "    low_intv3[\"ability\"],\n",
    "    low_intv4[\"ability\"],\n",
    "    low_intv5[\"ability\"],\n",
    "    low_intv6[\"ability\"],\n",
    ")"
   ]
  },
  {
   "attachments": {},
   "cell_type": "markdown",
   "metadata": {},
   "source": [
    "Wilcoxon Mann Whitney Tests and Cliffs Delta (# thresholds: .11 (small), .28 (medium), .43 (large))"
   ]
  },
  {
   "cell_type": "code",
   "execution_count": 28,
   "metadata": {},
   "outputs": [
    {
     "name": "stdout",
     "output_type": "stream",
     "text": [
      "MannwhitneyuResult(statistic=17510.5, pvalue=0.6543591869016049)\n",
      "-0.026626643319714278\n",
      "MannwhitneyuResult(statistic=15313.0, pvalue=0.175765005931398)\n",
      "-0.08211952286758976\n",
      "MannwhitneyuResult(statistic=18585.5, pvalue=0.7858207011172688)\n",
      "0.016100814608277295\n",
      "MannwhitneyuResult(statistic=31404.0, pvalue=0.003482300885483314)\n",
      "0.15732448866777224\n",
      "MannwhitneyuResult(statistic=14830.0, pvalue=0.18559740535116975)\n",
      "0.08501609599063506\n"
     ]
    }
   ],
   "source": [
    "# control group\n",
    "groups = [low_intv2, low_intv3, low_intv4, low_intv5, low_intv6]\n",
    "for x in groups:\n",
    "    print(stats.mannwhitneyu(low_intvcontrol[\"ability\"], x[\"ability\"]))\n",
    "    print(cliffs_delta(low_intvcontrol[\"ability\"], x[\"ability\"])[0])"
   ]
  },
  {
   "cell_type": "code",
   "execution_count": 29,
   "metadata": {},
   "outputs": [
    {
     "name": "stdout",
     "output_type": "stream",
     "text": [
      "MannwhitneyuResult(statistic=13992.0, pvalue=0.35029561710204504)\n",
      "-0.058221713670323756\n",
      "MannwhitneyuResult(statistic=16978.0, pvalue=0.48734053967653534)\n",
      "0.04229848363926576\n",
      "MannwhitneyuResult(statistic=28809.5, pvalue=0.000561309558583216)\n",
      "0.19219946203186428\n",
      "MannwhitneyuResult(statistic=13527.5, pvalue=0.090570273581283)\n",
      "0.11136214262241209\n"
     ]
    }
   ],
   "source": [
    "# Intv 2\n",
    "groups = [low_intv3, low_intv4, low_intv5, low_intv6]\n",
    "for x in groups:\n",
    "    print(stats.mannwhitneyu(low_intv2[\"ability\"], x[\"ability\"]))\n",
    "    print(cliffs_delta(low_intv2[\"ability\"], x[\"ability\"])[0])"
   ]
  },
  {
   "cell_type": "code",
   "execution_count": 30,
   "metadata": {},
   "outputs": [
    {
     "name": "stdout",
     "output_type": "stream",
     "text": [
      "MannwhitneyuResult(statistic=16592.0, pvalue=0.11300519321586301)\n",
      "0.09837150801006223\n",
      "MannwhitneyuResult(statistic=27638.0, pvalue=4.279969265838257e-05)\n",
      "0.23328871039714413\n",
      "MannwhitneyuResult(statistic=13093.0, pvalue=0.01684403352884007)\n",
      "0.15990432317505315\n"
     ]
    }
   ],
   "source": [
    "# Intv 3\n",
    "groups = [low_intv4, low_intv5, low_intv6]\n",
    "for x in groups:\n",
    "    print(stats.mannwhitneyu(low_intv3[\"ability\"], x[\"ability\"]))\n",
    "    print(cliffs_delta(low_intv3[\"ability\"], x[\"ability\"])[0])"
   ]
  },
  {
   "cell_type": "code",
   "execution_count": 31,
   "metadata": {},
   "outputs": [
    {
     "name": "stdout",
     "output_type": "stream",
     "text": [
      "MannwhitneyuResult(statistic=28201.0, pvalue=0.007684656902474841)\n",
      "0.14778184778184777\n",
      "MannwhitneyuResult(statistic=13266.5, pvalue=0.27254192382412445)\n",
      "0.07195378151260504\n"
     ]
    }
   ],
   "source": [
    "# Intv 4\n",
    "print(stats.mannwhitneyu(low_intv4[\"ability\"], low_intv5[\"ability\"]))\n",
    "print(cliffs_delta(low_intv4[\"ability\"], low_intv5[\"ability\"])[0])\n",
    "print(stats.mannwhitneyu(low_intv4[\"ability\"], low_intv6[\"ability\"]))\n",
    "print(cliffs_delta(low_intv4[\"ability\"], low_intv6[\"ability\"])[0])"
   ]
  },
  {
   "cell_type": "code",
   "execution_count": 32,
   "metadata": {},
   "outputs": [
    {
     "name": "stdout",
     "output_type": "stream",
     "text": [
      "MannwhitneyuResult(statistic=16990.0, pvalue=0.219752570846944)\n",
      "-0.07461873638344227\n"
     ]
    }
   ],
   "source": [
    "# Intv 5\n",
    "print(stats.mannwhitneyu(low_intv5[\"ability\"], low_intv6[\"ability\"]))\n",
    "print(cliffs_delta(low_intv5[\"ability\"], low_intv6[\"ability\"])[0])"
   ]
  },
  {
   "cell_type": "code",
   "execution_count": 33,
   "metadata": {},
   "outputs": [
    {
     "data": {
      "text/plain": [
       "<AxesSubplot:xlabel='ability', ylabel='interventiongroup'>"
      ]
     },
     "execution_count": 33,
     "metadata": {},
     "output_type": "execute_result"
    },
    {
     "data": {
      "image/png": "[encoded data removed]",
      "text/plain": [
       "<Figure size 432x288 with 1 Axes>"
      ]
     },
     "metadata": {
      "needs_background": "light"
     },
     "output_type": "display_data"
    }
   ],
   "source": [
    "# plot low performer\n",
    "sns.boxplot(\n",
    "    data=low_performer, x=\"ability\", y=\"interventiongroup\", showfliers=False\n",
    ")  # ,hue='Geschlecht'"
   ]
  },
  {
   "cell_type": "code",
   "execution_count": 34,
   "metadata": {},
   "outputs": [
    {
     "data": {
      "text/plain": [
       "<AxesSubplot:xlabel='ability', ylabel='interventiongroup'>"
      ]
     },
     "execution_count": 34,
     "metadata": {},
     "output_type": "execute_result"
    },
    {
     "data": {
      "image/png": "[encoded data removed]",
      "text/plain": [
       "<Figure size 432x288 with 1 Axes>"
      ]
     },
     "metadata": {
      "needs_background": "light"
     },
     "output_type": "display_data"
    }
   ],
   "source": [
    "# plot high performer\n",
    "sns.boxplot(\n",
    "    data=high_performer, x=\"ability\", y=\"interventiongroup\", showfliers=False\n",
    ")  # ,hue='Geschlecht'"
   ]
  }
 ],
 "metadata": {
  "kernelspec": {
   "display_name": "Python 3.10.2 64-bit",
   "language": "python",
   "name": "python3"
  },
  "language_info": {
   "codemirror_mode": {
    "name": "ipython",
    "version": 3
   },
   "file_extension": ".py",
   "mimetype": "text/x-python",
   "name": "python",
   "nbconvert_exporter": "python",
   "pygments_lexer": "ipython3",
   "version": "3.10.2"
  },
  "orig_nbformat": 4,
  "vscode": {
   "interpreter": {
    "hash": "369f2c481f4da34e4445cda3fffd2e751bd1c4d706f27375911949ba6bb62e1c"
   }
  }
 },
 "nbformat": 4,
 "nbformat_minor": 2
}
