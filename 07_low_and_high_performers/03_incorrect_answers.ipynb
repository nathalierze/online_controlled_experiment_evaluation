{
 "cells": [
  {
   "cell_type": "code",
   "execution_count": null,
   "metadata": {},
   "outputs": [],
   "source": [
    "import pandas as pd\n",
    "import pickle\n",
    "from scipy import stats\n",
    "import pandas as pd\n",
    "import seaborn as sns\n",
    "import pingouin as pg\n",
    "import statsmodels.formula.api as s\n",
    "import statsmodels.api as sm\n",
    "from statsmodels.formula.api import ols\n"
   ]
  },
  {
   "cell_type": "code",
   "execution_count": null,
   "metadata": {},
   "outputs": [],
   "source": [
    "# load data\n",
    "final = pickle.load(open( '../00_data/final/incorrect_answers.pkl','rb') )"
   ]
  },
  {
   "cell_type": "code",
   "execution_count": null,
   "metadata": {},
   "outputs": [],
   "source": [
    "# define low and high performers\n",
    "final = final.sort_values(by=['prop_fehler'])\n",
    "n = 10\n",
    "high_performer = final.head(int(len(final)*(n/100)))\n",
    "\n",
    "final = final.sort_values(by=['prop_fehler'], ascending=False)\n",
    "low_performer = final.head(int(len(final)*(n/100)))"
   ]
  },
  {
   "cell_type": "code",
   "execution_count": null,
   "metadata": {},
   "outputs": [],
   "source": [
    "# split by intervention group\n",
    "low_intvcontrol = low_performer[(low_performer['interventiongroup']=='control')]\n",
    "low_intv2 = low_performer[(low_performer['interventiongroup']=='2')]\n",
    "low_intv3 = low_performer[(low_performer['interventiongroup']=='3')]\n",
    "low_intv4 = low_performer[(low_performer['interventiongroup']=='4')]\n",
    "low_intv5 = low_performer[(low_performer['interventiongroup']=='5')]\n",
    "low_intv6 = low_performer[(low_performer['interventiongroup']=='6')]\n",
    "\n",
    "high_intvcontrol = high_performer[(high_performer['interventiongroup']=='control')]\n",
    "high_intv2 = high_performer[(high_performer['interventiongroup']=='2')]\n",
    "high_intv3 = high_performer[(high_performer['interventiongroup']=='3')]\n",
    "high_intv4 = high_performer[(high_performer['interventiongroup']=='4')]\n",
    "high_intv5 = high_performer[(high_performer['interventiongroup']=='5')]\n",
    "high_intv6 = high_performer[(high_performer['interventiongroup']=='6')]"
   ]
  },
  {
   "cell_type": "code",
   "execution_count": null,
   "metadata": {},
   "outputs": [],
   "source": [
    "# plot high performer\n",
    "sns.histplot(data=high_performer, x=\"prop_fehler\")"
   ]
  },
  {
   "cell_type": "code",
   "execution_count": null,
   "metadata": {},
   "outputs": [],
   "source": [
    "# plot low performer\n",
    "sns.histplot(data=low_performer, x=\"prop_fehler\")"
   ]
  },
  {
   "attachments": {},
   "cell_type": "markdown",
   "metadata": {},
   "source": [
    "Effect sizes"
   ]
  },
  {
   "cell_type": "code",
   "execution_count": null,
   "metadata": {},
   "outputs": [],
   "source": [
    "# effect sizes high performer\n",
    "prop_fehler_by_group = high_performer.groupby(['interventiongroup']).agg({'prop_fehler':'median','Geschlecht':'count'})\n",
    "prop_fehler_by_group = prop_fehler_by_group.rename(columns={'Geschlecht':'count'})"
   ]
  },
  {
   "cell_type": "code",
   "execution_count": null,
   "metadata": {},
   "outputs": [],
   "source": [
    "# effect sizes low performer\n",
    "prop_fehler_by_group = low_performer.groupby(['interventiongroup']).agg({'prop_fehler':'median','Geschlecht':'count'})\n",
    "prop_fehler_by_group = prop_fehler_by_group.rename(columns={'Geschlecht':'count'})"
   ]
  },
  {
   "attachments": {},
   "cell_type": "markdown",
   "metadata": {},
   "source": [
    "Test significance"
   ]
  },
  {
   "cell_type": "code",
   "execution_count": null,
   "metadata": {},
   "outputs": [],
   "source": [
    "# Kruskal Wallis Test \n",
    "stats.kruskal(high_intvcontrol['prop_fehler'], high_intv2['prop_fehler'], high_intv3['prop_fehler'],high_intv4['prop_fehler'],high_intv5['prop_fehler'],high_intv6['prop_fehler'])"
   ]
  },
  {
   "cell_type": "code",
   "execution_count": null,
   "metadata": {},
   "outputs": [],
   "source": [
    "# Kruskal Wallis Test \n",
    "stats.kruskal(low_intvcontrol['prop_fehler'], low_intv2['prop_fehler'], low_intv3['prop_fehler'],low_intv4['prop_fehler'],low_intv5['prop_fehler'],low_intv6['prop_fehler'])"
   ]
  },
  {
   "cell_type": "code",
   "execution_count": null,
   "metadata": {},
   "outputs": [],
   "source": [
    "#Wilcoxon Mann Whitney Test\n",
    "print(stats.mannwhitneyu(low_intvcontrol['prop_fehler'], low_intv2['prop_fehler']))\n",
    "print(stats.mannwhitneyu(low_intvcontrol['prop_fehler'], low_intv3['prop_fehler']))\n",
    "print(stats.mannwhitneyu(low_intvcontrol['prop_fehler'], low_intv4['prop_fehler']))\n",
    "print(stats.mannwhitneyu(low_intvcontrol['prop_fehler'], low_intv5['prop_fehler']))\n",
    "print(stats.mannwhitneyu(low_intvcontrol['prop_fehler'], low_intv6['prop_fehler']))\n"
   ]
  },
  {
   "cell_type": "code",
   "execution_count": null,
   "metadata": {},
   "outputs": [],
   "source": [
    "sns.boxplot(data=high_performer, x=\"prop_fehler\", y=\"interventiongroup\",showfliers = False)#,hue='Geschlecht'\n"
   ]
  },
  {
   "cell_type": "code",
   "execution_count": null,
   "metadata": {},
   "outputs": [],
   "source": [
    "sns.boxplot(data=low_performer, x=\"prop_fehler\", y=\"interventiongroup\",showfliers = False)#,hue='Geschlecht'\n"
   ]
  }
 ],
 "metadata": {
  "kernelspec": {
   "display_name": "Python 3.10.2 64-bit",
   "language": "python",
   "name": "python3"
  },
  "language_info": {
   "codemirror_mode": {
    "name": "ipython",
    "version": 3
   },
   "file_extension": ".py",
   "mimetype": "text/x-python",
   "name": "python",
   "nbconvert_exporter": "python",
   "pygments_lexer": "ipython3",
   "version": "3.10.2 (tags/v3.10.2:a58ebcc, Jan 17 2022, 14:12:15) [MSC v.1929 64 bit (AMD64)]"
  },
  "orig_nbformat": 4,
  "vscode": {
   "interpreter": {
    "hash": "369f2c481f4da34e4445cda3fffd2e751bd1c4d706f27375911949ba6bb62e1c"
   }
  }
 },
 "nbformat": 4,
 "nbformat_minor": 2
}
