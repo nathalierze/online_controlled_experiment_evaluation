{
 "cells": [
  {
   "cell_type": "code",
   "execution_count": 1,
   "metadata": {},
   "outputs": [],
   "source": [
    "import pandas as pd\n",
    "import pickle\n",
    "from scipy import stats\n",
    "import pandas as pd\n",
    "import seaborn as sns\n",
    "from cliffs_delta import cliffs_delta"
   ]
  },
  {
   "cell_type": "code",
   "execution_count": 2,
   "metadata": {},
   "outputs": [],
   "source": [
    "# load data\n",
    "final = pickle.load(open(\"../00_data/final/incorrect_answers.pkl\", \"rb\"))"
   ]
  },
  {
   "cell_type": "code",
   "execution_count": 3,
   "metadata": {},
   "outputs": [],
   "source": [
    "# define low and high performers\n",
    "final = final.sort_values(by=[\"prop_fehler\"])\n",
    "n = 10\n",
    "high_performer = final.head(int(len(final) * (n / 100)))\n",
    "\n",
    "final = final.sort_values(by=[\"prop_fehler\"], ascending=False)\n",
    "low_performer = final.head(int(len(final) * (n / 100)))"
   ]
  },
  {
   "cell_type": "code",
   "execution_count": 4,
   "metadata": {},
   "outputs": [],
   "source": [
    "# split by intervention group\n",
    "low_intvcontrol = low_performer[(low_performer[\"interventiongroup\"] == \"control\")]\n",
    "low_intv2 = low_performer[(low_performer[\"interventiongroup\"] == \"2\")]\n",
    "low_intv3 = low_performer[(low_performer[\"interventiongroup\"] == \"3\")]\n",
    "low_intv4 = low_performer[(low_performer[\"interventiongroup\"] == \"4\")]\n",
    "low_intv5 = low_performer[(low_performer[\"interventiongroup\"] == \"5\")]\n",
    "low_intv6 = low_performer[(low_performer[\"interventiongroup\"] == \"6\")]\n",
    "\n",
    "high_intvcontrol = high_performer[(high_performer[\"interventiongroup\"] == \"control\")]\n",
    "high_intv2 = high_performer[(high_performer[\"interventiongroup\"] == \"2\")]\n",
    "high_intv3 = high_performer[(high_performer[\"interventiongroup\"] == \"3\")]\n",
    "high_intv4 = high_performer[(high_performer[\"interventiongroup\"] == \"4\")]\n",
    "high_intv5 = high_performer[(high_performer[\"interventiongroup\"] == \"5\")]\n",
    "high_intv6 = high_performer[(high_performer[\"interventiongroup\"] == \"6\")]"
   ]
  },
  {
   "cell_type": "code",
   "execution_count": 5,
   "metadata": {},
   "outputs": [
    {
     "data": {
      "text/plain": [
       "<AxesSubplot:xlabel='prop_fehler', ylabel='Count'>"
      ]
     },
     "execution_count": 5,
     "metadata": {},
     "output_type": "execute_result"
    },
    {
     "data": {
      "image/png": "[encoded data removed]",
      "text/plain": [
       "<Figure size 432x288 with 1 Axes>"
      ]
     },
     "metadata": {
      "needs_background": "light"
     },
     "output_type": "display_data"
    }
   ],
   "source": [
    "# plot high performer\n",
    "sns.histplot(data=high_performer, x=\"prop_fehler\")"
   ]
  },
  {
   "cell_type": "code",
   "execution_count": 6,
   "metadata": {},
   "outputs": [
    {
     "data": {
      "text/plain": [
       "<AxesSubplot:xlabel='prop_fehler', ylabel='Count'>"
      ]
     },
     "execution_count": 6,
     "metadata": {},
     "output_type": "execute_result"
    },
    {
     "data": {
      "image/png": "[encoded data removed]",
      "text/plain": [
       "<Figure size 432x288 with 1 Axes>"
      ]
     },
     "metadata": {
      "needs_background": "light"
     },
     "output_type": "display_data"
    }
   ],
   "source": [
    "# plot low performer\n",
    "sns.histplot(data=low_performer, x=\"prop_fehler\")"
   ]
  },
  {
   "attachments": {},
   "cell_type": "markdown",
   "metadata": {},
   "source": [
    "Get mean and median"
   ]
  },
  {
   "cell_type": "code",
   "execution_count": 7,
   "metadata": {},
   "outputs": [],
   "source": [
    "# median high performer\n",
    "prop_fehler_by_group = high_performer.groupby([\"interventiongroup\"]).agg(\n",
    "    {\"prop_fehler\": \"median\", \"Geschlecht\": \"count\"}\n",
    ")\n",
    "prop_fehler_by_group = prop_fehler_by_group.rename(columns={\"Geschlecht\": \"count\"})"
   ]
  },
  {
   "cell_type": "code",
   "execution_count": 8,
   "metadata": {},
   "outputs": [],
   "source": [
    "# median low performer\n",
    "prop_fehler_by_group = low_performer.groupby([\"interventiongroup\"]).agg(\n",
    "    {\"prop_fehler\": \"median\", \"Geschlecht\": \"count\"}\n",
    ")\n",
    "prop_fehler_by_group = prop_fehler_by_group.rename(columns={\"Geschlecht\": \"count\"})"
   ]
  },
  {
   "cell_type": "code",
   "execution_count": 9,
   "metadata": {},
   "outputs": [],
   "source": [
    "# mean high performer\n",
    "prop_fehler_by_group = high_performer.groupby([\"interventiongroup\"]).agg(\n",
    "    {\"prop_fehler\": \"mean\", \"Geschlecht\": \"count\"}\n",
    ")\n",
    "prop_fehler_by_group = prop_fehler_by_group.rename(columns={\"Geschlecht\": \"count\"})"
   ]
  },
  {
   "cell_type": "code",
   "execution_count": 10,
   "metadata": {},
   "outputs": [],
   "source": [
    "# mean low performer\n",
    "prop_fehler_by_group = low_performer.groupby([\"interventiongroup\"]).agg(\n",
    "    {\"prop_fehler\": \"mean\", \"Geschlecht\": \"count\"}\n",
    ")\n",
    "prop_fehler_by_group = prop_fehler_by_group.rename(columns={\"Geschlecht\": \"count\"})"
   ]
  },
  {
   "attachments": {},
   "cell_type": "markdown",
   "metadata": {},
   "source": [
    "Test significance"
   ]
  },
  {
   "cell_type": "code",
   "execution_count": 11,
   "metadata": {},
   "outputs": [
    {
     "data": {
      "text/plain": [
       "KruskalResult(statistic=7.758488473753268, pvalue=0.1700576960340036)"
      ]
     },
     "execution_count": 11,
     "metadata": {},
     "output_type": "execute_result"
    }
   ],
   "source": [
    "# Kruskal Wallis Test\n",
    "stats.kruskal(\n",
    "    high_intvcontrol[\"prop_fehler\"],\n",
    "    high_intv2[\"prop_fehler\"],\n",
    "    high_intv3[\"prop_fehler\"],\n",
    "    high_intv4[\"prop_fehler\"],\n",
    "    high_intv5[\"prop_fehler\"],\n",
    "    high_intv6[\"prop_fehler\"],\n",
    ")"
   ]
  },
  {
   "cell_type": "code",
   "execution_count": 12,
   "metadata": {},
   "outputs": [
    {
     "data": {
      "text/plain": [
       "KruskalResult(statistic=17.390322251776183, pvalue=0.0038160501845791593)"
      ]
     },
     "execution_count": 12,
     "metadata": {},
     "output_type": "execute_result"
    }
   ],
   "source": [
    "# Kruskal Wallis Test\n",
    "stats.kruskal(\n",
    "    low_intvcontrol[\"prop_fehler\"],\n",
    "    low_intv2[\"prop_fehler\"],\n",
    "    low_intv3[\"prop_fehler\"],\n",
    "    low_intv4[\"prop_fehler\"],\n",
    "    low_intv5[\"prop_fehler\"],\n",
    "    low_intv6[\"prop_fehler\"],\n",
    ")"
   ]
  },
  {
   "attachments": {},
   "cell_type": "markdown",
   "metadata": {},
   "source": [
    "Wilcoxon Mann Whitney Tests and Cliffs Delta (# thresholds: .11 (small), .28 (medium), .43 (large))"
   ]
  },
  {
   "cell_type": "code",
   "execution_count": 13,
   "metadata": {},
   "outputs": [
    {
     "name": "stdout",
     "output_type": "stream",
     "text": [
      "MannwhitneyuResult(statistic=28064.0, pvalue=0.0958279164893418)\n",
      "0.09296257350936636\n",
      "MannwhitneyuResult(statistic=31700.0, pvalue=0.491969779291655)\n",
      "0.03626943005181347\n",
      "MannwhitneyuResult(statistic=31184.0, pvalue=0.9038139462582084)\n",
      "-0.006341012650160915\n",
      "MannwhitneyuResult(statistic=32923.0, pvalue=0.9052567366372368)\n",
      "-0.0061431180474846424\n",
      "MannwhitneyuResult(statistic=17466.5, pvalue=0.0002922710881275544)\n",
      "0.2522583882993978\n"
     ]
    }
   ],
   "source": [
    "# control group\n",
    "groups = [low_intv2, low_intv3, low_intv4, low_intv5, low_intv6]\n",
    "for x in groups:\n",
    "    print(stats.mannwhitneyu(low_intvcontrol[\"prop_fehler\"], x[\"prop_fehler\"]))\n",
    "    print(cliffs_delta(low_intvcontrol[\"prop_fehler\"], x[\"prop_fehler\"])[0])"
   ]
  },
  {
   "cell_type": "code",
   "execution_count": 14,
   "metadata": {},
   "outputs": [
    {
     "name": "stdout",
     "output_type": "stream",
     "text": [
      "MannwhitneyuResult(statistic=14798.0, pvalue=0.3861398634563086)\n",
      "-0.05341265272180643\n",
      "MannwhitneyuResult(statistic=14455.0, pvalue=0.10712400899802098)\n",
      "-0.09870308018456167\n",
      "MannwhitneyuResult(statistic=15221.0, pvalue=0.09553653646594609)\n",
      "-0.10089196054108335\n",
      "MannwhitneyuResult(statistic=8297.0, pvalue=0.032299664535873025)\n",
      "0.16400112233445566\n"
     ]
    }
   ],
   "source": [
    "# Intv 2\n",
    "groups = [low_intv3, low_intv4, low_intv5, low_intv6]\n",
    "for x in groups:\n",
    "    print(stats.mannwhitneyu(low_intv2[\"prop_fehler\"], x[\"prop_fehler\"]))\n",
    "    print(cliffs_delta(low_intv2[\"prop_fehler\"], x[\"prop_fehler\"])[0])"
   ]
  },
  {
   "cell_type": "code",
   "execution_count": 15,
   "metadata": {},
   "outputs": [
    {
     "name": "stdout",
     "output_type": "stream",
     "text": [
      "MannwhitneyuResult(statistic=18318.5, pvalue=0.48056033018862376)\n",
      "-0.04126759826241692\n",
      "MannwhitneyuResult(statistic=19324.5, pvalue=0.4685673215329893)\n",
      "-0.0418474353571163\n",
      "MannwhitneyuResult(statistic=10359.5, pvalue=0.0031136884340739867)\n",
      "0.21991285916156383\n"
     ]
    }
   ],
   "source": [
    "# Intv 3\n",
    "groups = [low_intv4, low_intv5, low_intv6]\n",
    "for x in groups:\n",
    "    print(stats.mannwhitneyu(low_intv3[\"prop_fehler\"], x[\"prop_fehler\"]))\n",
    "    print(cliffs_delta(low_intv3[\"prop_fehler\"], x[\"prop_fehler\"])[0])"
   ]
  },
  {
   "cell_type": "code",
   "execution_count": 16,
   "metadata": {},
   "outputs": [
    {
     "name": "stdout",
     "output_type": "stream",
     "text": [
      "MannwhitneyuResult(statistic=20681.0, pvalue=0.9936091087209694)\n",
      "-0.00048330191870861726\n",
      "MannwhitneyuResult(statistic=10931.0, pvalue=0.0005865431835781151)\n",
      "0.25470615243342515\n"
     ]
    }
   ],
   "source": [
    "# Intv 4\n",
    "print(stats.mannwhitneyu(low_intv4[\"prop_fehler\"], low_intv5[\"prop_fehler\"]))\n",
    "print(cliffs_delta(low_intv4[\"prop_fehler\"], low_intv5[\"prop_fehler\"])[0])\n",
    "print(stats.mannwhitneyu(low_intv4[\"prop_fehler\"], low_intv6[\"prop_fehler\"]))\n",
    "print(cliffs_delta(low_intv4[\"prop_fehler\"], low_intv6[\"prop_fehler\"])[0])"
   ]
  },
  {
   "cell_type": "code",
   "execution_count": 17,
   "metadata": {},
   "outputs": [
    {
     "name": "stdout",
     "output_type": "stream",
     "text": [
      "MannwhitneyuResult(statistic=11591.5, pvalue=0.0003933672739926183)\n",
      "0.26049369290996083\n"
     ]
    }
   ],
   "source": [
    "# Intv 5\n",
    "print(stats.mannwhitneyu(low_intv5[\"prop_fehler\"], low_intv6[\"prop_fehler\"]))\n",
    "print(cliffs_delta(low_intv5[\"prop_fehler\"], low_intv6[\"prop_fehler\"])[0])"
   ]
  },
  {
   "cell_type": "code",
   "execution_count": 18,
   "metadata": {},
   "outputs": [
    {
     "data": {
      "text/plain": [
       "<AxesSubplot:xlabel='prop_fehler', ylabel='interventiongroup'>"
      ]
     },
     "execution_count": 18,
     "metadata": {},
     "output_type": "execute_result"
    },
    {
     "data": {
      "image/png": "[encoded data removed]",
      "text/plain": [
       "<Figure size 432x288 with 1 Axes>"
      ]
     },
     "metadata": {
      "needs_background": "light"
     },
     "output_type": "display_data"
    }
   ],
   "source": [
    "sns.boxplot(\n",
    "    data=high_performer, x=\"prop_fehler\", y=\"interventiongroup\", showfliers=False\n",
    ")  # ,hue='Geschlecht'"
   ]
  },
  {
   "cell_type": "code",
   "execution_count": 19,
   "metadata": {},
   "outputs": [
    {
     "data": {
      "text/plain": [
       "<AxesSubplot:xlabel='prop_fehler', ylabel='interventiongroup'>"
      ]
     },
     "execution_count": 19,
     "metadata": {},
     "output_type": "execute_result"
    },
    {
     "data": {
      "image/png": "[encoded data removed]",
      "text/plain": [
       "<Figure size 432x288 with 1 Axes>"
      ]
     },
     "metadata": {
      "needs_background": "light"
     },
     "output_type": "display_data"
    }
   ],
   "source": [
    "sns.boxplot(\n",
    "    data=low_performer, x=\"prop_fehler\", y=\"interventiongroup\", showfliers=False\n",
    ")  # ,hue='Geschlecht'"
   ]
  }
 ],
 "metadata": {
  "kernelspec": {
   "display_name": "Python 3.10.2 64-bit",
   "language": "python",
   "name": "python3"
  },
  "language_info": {
   "codemirror_mode": {
    "name": "ipython",
    "version": 3
   },
   "file_extension": ".py",
   "mimetype": "text/x-python",
   "name": "python",
   "nbconvert_exporter": "python",
   "pygments_lexer": "ipython3",
   "version": "3.10.2"
  },
  "orig_nbformat": 4,
  "vscode": {
   "interpreter": {
    "hash": "369f2c481f4da34e4445cda3fffd2e751bd1c4d706f27375911949ba6bb62e1c"
   }
  }
 },
 "nbformat": 4,
 "nbformat_minor": 2
}
