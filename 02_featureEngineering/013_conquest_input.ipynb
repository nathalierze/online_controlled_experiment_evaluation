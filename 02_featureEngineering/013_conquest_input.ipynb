{
 "cells": [
  {
   "cell_type": "code",
   "execution_count": null,
   "metadata": {},
   "outputs": [],
   "source": [
    "import pandas as pd\n",
    "import pickle"
   ]
  },
  {
   "attachments": {},
   "cell_type": "markdown",
   "metadata": {},
   "source": [
    "Prepare data to input in conquest"
   ]
  },
  {
   "cell_type": "code",
   "execution_count": null,
   "metadata": {},
   "outputs": [],
   "source": [
    "df = pd.read_csv( 'learning_data.csv')\n",
    "\n",
    "# user id as index\n",
    "df=df.set_index('UserID')\n",
    "# drop rows with 0 values\n",
    "df = df.dropna(how='all')\n",
    "# create index with four digits\n",
    "df.index = df.index.astype(str).str.pad(7, side='left', fillchar='0')\n",
    "# change 1.0 to 1\n",
    "df = df.replace([1.0],'1')\n",
    "# change 0.0 to 0\n",
    "df = df.replace([0.0],'0')\n",
    "# change NaN to .\n",
    "df = df.fillna('.', inplace=False)"
   ]
  },
  {
   "cell_type": "code",
   "execution_count": null,
   "metadata": {},
   "outputs": [],
   "source": [
    "df.to_csv('concquest_input_data.csv')"
   ]
  },
  {
   "cell_type": "code",
   "execution_count": null,
   "metadata": {},
   "outputs": [],
   "source": [
    "######## Do Manually before starting conquest\n",
    "# open as csv in excel\n",
    "# drop column row \n",
    "# row to string -> delete commas\n",
    "\n",
    "# open csv in editor\n",
    "# save as .dat file"
   ]
  }
 ],
 "metadata": {
  "kernelspec": {
   "display_name": "Python 3.10.2 64-bit",
   "language": "python",
   "name": "python3"
  },
  "language_info": {
   "codemirror_mode": {
    "name": "ipython",
    "version": 3
   },
   "file_extension": ".py",
   "mimetype": "text/x-python",
   "name": "python",
   "nbconvert_exporter": "python",
   "pygments_lexer": "ipython3",
   "version": "3.10.2"
  },
  "orig_nbformat": 4,
  "vscode": {
   "interpreter": {
    "hash": "369f2c481f4da34e4445cda3fffd2e751bd1c4d706f27375911949ba6bb62e1c"
   }
  }
 },
 "nbformat": 4,
 "nbformat_minor": 2
}
