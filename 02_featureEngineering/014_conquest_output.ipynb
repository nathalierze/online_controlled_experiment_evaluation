{
 "cells": [
  {
   "cell_type": "code",
   "execution_count": null,
   "metadata": {},
   "outputs": [],
   "source": [
    "import pandas as pd\n",
    "import pickle"
   ]
  },
  {
   "cell_type": "code",
   "execution_count": null,
   "metadata": {},
   "outputs": [],
   "source": [
    "# load data with interventiongroup\n",
    "interventiongroup = pickle.load(open( '../00_data/cleaned/sitzungssummary.pkl','rb') )\n",
    "interventiongroup = interventiongroup[['UserID','interventiongroup','Geschlecht','Klassenstufe']]\n",
    "interventiongroup = interventiongroup.drop_duplicates()"
   ]
  },
  {
   "cell_type": "code",
   "execution_count": null,
   "metadata": {},
   "outputs": [],
   "source": [
    "# load user id\n",
    "userIDs = pd.read_csv('learning_data.csv')\n",
    "userIDs = userIDs[['UserID']]\n",
    "userIDs = userIDs.reset_index()\n",
    "userIDs['index'] = userIDs['index']+1"
   ]
  },
  {
   "cell_type": "code",
   "execution_count": null,
   "metadata": {},
   "outputs": [],
   "source": [
    "# save raschmodell.mle as txt\n",
    "# replace . by ,\n",
    "# save as csv\n",
    "# open in excel \n",
    "# split by columns\n",
    "# add one extra row above"
   ]
  },
  {
   "cell_type": "code",
   "execution_count": null,
   "metadata": {},
   "outputs": [],
   "source": [
    "## read conquest output\n",
    "df = pd.read_csv('conquest_output.csv', delimiter=';')\n",
    "\n",
    "names = ['ID',\"score\",\"max_score\",\"ability\", 'ste']\n",
    "df.columns = names"
   ]
  },
  {
   "cell_type": "code",
   "execution_count": null,
   "metadata": {},
   "outputs": [],
   "source": [
    "# merge output with userID\n",
    "competence = pd.merge(df, userIDs, left_on='ID', right_on='index')\n",
    "competence=competence[['UserID','ability']]\n",
    "\n",
    "# merge competence with interventiongroup\n",
    "competence = pd.merge(competence, interventiongroup, on='UserID', how='left')\n",
    "competence.to_pickle('../00_data/final/competence.pkl')"
   ]
  }
 ],
 "metadata": {
  "kernelspec": {
   "display_name": "Python 3.10.2 64-bit",
   "language": "python",
   "name": "python3"
  },
  "language_info": {
   "codemirror_mode": {
    "name": "ipython",
    "version": 3
   },
   "file_extension": ".py",
   "mimetype": "text/x-python",
   "name": "python",
   "nbconvert_exporter": "python",
   "pygments_lexer": "ipython3",
   "version": "3.10.2"
  },
  "orig_nbformat": 4,
  "vscode": {
   "interpreter": {
    "hash": "369f2c481f4da34e4445cda3fffd2e751bd1c4d706f27375911949ba6bb62e1c"
   }
  }
 },
 "nbformat": 4,
 "nbformat_minor": 2
}
