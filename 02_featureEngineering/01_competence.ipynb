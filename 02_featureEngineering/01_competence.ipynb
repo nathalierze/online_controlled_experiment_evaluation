{
 "cells": [
  {
   "cell_type": "markdown",
   "metadata": {},
   "source": [
    "H1 User Competency (Rasch Model)"
   ]
  },
  {
   "cell_type": "code",
   "execution_count": null,
   "metadata": {},
   "outputs": [],
   "source": [
    "import pandas as pd\n",
    "import pickle\n",
    "from scipy import stats\n",
    "import numpy as np\n",
    "import seaborn as sns\n",
    "import pingouin as pg\n",
    "import statsmodels.formula.api as s"
   ]
  },
  {
   "cell_type": "code",
   "execution_count": null,
   "metadata": {},
   "outputs": [],
   "source": [
    "#import\n",
    "df = pickle.load(open( '../00_data/cleaned/sitzungssummary.pkl','rb') )\n",
    "xmlsaetze = pickle.load(open( '../00_data/cleaned/xmlsaetze.pkl','rb') )\n",
    "\n",
    "rasch = xmlsaetze[['UserID','SatzID','Erfolg','Datum']]\n",
    "rasch['UserID'].astype(str)\n",
    "rasch['SatzID'].astype(str)"
   ]
  },
  {
   "cell_type": "code",
   "execution_count": null,
   "metadata": {},
   "outputs": [],
   "source": [
    "## group and pivot\n",
    "grouped = rasch.groupby(['UserID','SatzID']).agg({'Datum':np.max})\n",
    "grouped = grouped.reset_index()\n",
    "grouped = pd.merge(grouped, rasch, on=['UserID','SatzID','Datum'])\n",
    "\n",
    "rasch = grouped.pivot_table(values='Erfolg', index=grouped.UserID, columns='SatzID', aggfunc='last')\n",
    "rasch"
   ]
  },
  {
   "cell_type": "code",
   "execution_count": null,
   "metadata": {},
   "outputs": [],
   "source": []
  },
  {
   "cell_type": "code",
   "execution_count": null,
   "metadata": {},
   "outputs": [],
   "source": [
    "# Subjects with only 1 valid response must be removed\n",
    "delete_li = []\n",
    "for col in rasch:\n",
    "    cnt = rasch[col].count()\n",
    "    if cnt < 2:\n",
    "        delete_li.append(col)\n",
    "        "
   ]
  },
  {
   "cell_type": "code",
   "execution_count": null,
   "metadata": {},
   "outputs": [],
   "source": [
    "# drop columns that cause error\n",
    "rasch = rasch.drop(columns=[9991775, 373])\n",
    "delete_li = []\n",
    "for index, row in rasch.iterrows():\n",
    "    cnt = row.count()\n",
    "    if cnt < 2:\n",
    "        delete_li.append(index)\n",
    "        rasch = rasch.drop([index])\n",
    "\n",
    "rasch"
   ]
  },
  {
   "cell_type": "code",
   "execution_count": null,
   "metadata": {},
   "outputs": [],
   "source": [
    "# save\n",
    "rasch.to_csv('learning_data.csv')"
   ]
  }
 ],
 "metadata": {
  "kernelspec": {
   "display_name": "Python 3.10.2 64-bit",
   "language": "python",
   "name": "python3"
  },
  "language_info": {
   "codemirror_mode": {
    "name": "ipython",
    "version": 3
   },
   "file_extension": ".py",
   "mimetype": "text/x-python",
   "name": "python",
   "nbconvert_exporter": "python",
   "pygments_lexer": "ipython3",
   "version": "3.10.2"
  },
  "orig_nbformat": 4,
  "vscode": {
   "interpreter": {
    "hash": "369f2c481f4da34e4445cda3fffd2e751bd1c4d706f27375911949ba6bb62e1c"
   }
  }
 },
 "nbformat": 4,
 "nbformat_minor": 2
}
