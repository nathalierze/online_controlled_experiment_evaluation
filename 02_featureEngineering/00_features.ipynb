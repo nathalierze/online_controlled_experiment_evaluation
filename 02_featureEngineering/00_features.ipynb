{
 "cells": [
  {
   "cell_type": "markdown",
   "metadata": {},
   "source": [
    "To test our hypotheses we use an analysis of variance. Each hypotheses (n=3) are tested with the following statistics:\n",
    "\n",
    "We conduct multi-factorial analysis of variance ANOVA. Our dependent variables are\n",
    "\n",
    "H1: Competency\n",
    "\n",
    "H2: Count of drop out\n",
    "\n",
    "H3: Count of incorrect answers\n",
    "\n",
    "The independent variables for all hypotheses are: intervention group\n",
    "The moderator variables are: gender, class level, task difficulty\n",
    "The moderator variables are included in the analysis of variance to find effects of interaction. \n",
    "\n",
    "If the result is significant, we perform post-hoc tests. To choose the post-hoc test, we perform a levene-test to check for homogeneity of variance. Depending on the result, either a multiple t-Test (LSD-Test) or a Tukey-test will be performed."
   ]
  },
  {
   "cell_type": "code",
   "execution_count": null,
   "metadata": {},
   "outputs": [],
   "source": []
  }
 ],
 "metadata": {
  "kernelspec": {
   "display_name": "Python 3.10.2 64-bit",
   "language": "python",
   "name": "python3"
  },
  "language_info": {
   "name": "python",
   "version": "3.10.2"
  },
  "orig_nbformat": 4,
  "vscode": {
   "interpreter": {
    "hash": "369f2c481f4da34e4445cda3fffd2e751bd1c4d706f27375911949ba6bb62e1c"
   }
  }
 },
 "nbformat": 4,
 "nbformat_minor": 2
}
