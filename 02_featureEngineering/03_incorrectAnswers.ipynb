{
 "cells": [
  {
   "cell_type": "markdown",
   "metadata": {},
   "source": [
    "H3 Count of Incorrect Answers "
   ]
  },
  {
   "cell_type": "code",
   "execution_count": 1,
   "metadata": {},
   "outputs": [],
   "source": [
    "import pandas as pd\n",
    "import pickle\n",
    "from scipy import stats\n",
    "import pandas as pd"
   ]
  },
  {
   "cell_type": "code",
   "execution_count": 2,
   "metadata": {},
   "outputs": [],
   "source": [
    "#import\n",
    "df = pickle.load(open( '../00_data/cleaned/sitzungssummary.pkl','rb') )\n",
    "xmlsaetze = pickle.load(open( '../00_data/cleaned/xmlsaetze.pkl','rb') )\n"
   ]
  },
  {
   "cell_type": "code",
   "execution_count": 3,
   "metadata": {},
   "outputs": [],
   "source": [
    "def falschLabel(row):\n",
    "    if row['Erfolg'] == 1:\n",
    "        return 0\n",
    "    return 1\n",
    "\n",
    "xmlsaetze['falsch']= xmlsaetze.apply (lambda row: falschLabel(row), axis=1)\n",
    "xmlsaetze['cnt_fehler'] = xmlsaetze.falsch + xmlsaetze.MehrfachFalsch\n",
    "\n",
    "grouped = xmlsaetze.groupby(['UserID','UebungsID']).agg({'ID':'count', 'cnt_fehler':'sum'})\n",
    "grouped = grouped.reset_index() \n",
    "grouped = grouped.rename(columns={'ID':'Count_XMLsaetze'})"
   ]
  },
  {
   "cell_type": "code",
   "execution_count": 4,
   "metadata": {},
   "outputs": [],
   "source": [
    "intvgroup = df[['UebungsID','interventiongroup','Geschlecht','Klassenstufe']]\n",
    "grouped = pd.merge(grouped, intvgroup, on='UebungsID',how='left')\n",
    "grouped_user = grouped.groupby(['UserID','interventiongroup','Geschlecht','Klassenstufe']).agg({'cnt_fehler':'sum', 'Count_XMLsaetze':'count'})\n",
    "grouped_user = grouped_user.reset_index()\n",
    "#grouped_user"
   ]
  },
  {
   "cell_type": "code",
   "execution_count": 5,
   "metadata": {},
   "outputs": [],
   "source": [
    "grouped_user['prop_fehler'] = grouped_user.cnt_fehler / grouped_user.Count_XMLsaetze"
   ]
  },
  {
   "cell_type": "code",
   "execution_count": 6,
   "metadata": {},
   "outputs": [],
   "source": [
    "final = grouped_user[['interventiongroup','prop_fehler','Geschlecht','Klassenstufe','UserID']]"
   ]
  },
  {
   "cell_type": "code",
   "execution_count": 7,
   "metadata": {},
   "outputs": [],
   "source": [
    "final.to_pickle('../00_data/final/incorrect_answers.pkl')"
   ]
  }
 ],
 "metadata": {
  "kernelspec": {
   "display_name": "Python 3.10.2 64-bit",
   "language": "python",
   "name": "python3"
  },
  "language_info": {
   "codemirror_mode": {
    "name": "ipython",
    "version": 3
   },
   "file_extension": ".py",
   "mimetype": "text/x-python",
   "name": "python",
   "nbconvert_exporter": "python",
   "pygments_lexer": "ipython3",
   "version": "3.10.2"
  },
  "orig_nbformat": 4,
  "vscode": {
   "interpreter": {
    "hash": "369f2c481f4da34e4445cda3fffd2e751bd1c4d706f27375911949ba6bb62e1c"
   }
  }
 },
 "nbformat": 4,
 "nbformat_minor": 2
}
