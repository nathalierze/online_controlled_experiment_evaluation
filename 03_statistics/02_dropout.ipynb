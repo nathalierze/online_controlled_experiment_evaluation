{
 "cells": [
  {
   "cell_type": "code",
   "execution_count": 1,
   "metadata": {},
   "outputs": [],
   "source": [
    "import pickle\n",
    "from scipy import stats\n",
    "import pandas as pd\n",
    "import numpy as np\n",
    "from cliffs_delta import cliffs_delta\n"
   ]
  },
  {
   "cell_type": "code",
   "execution_count": 2,
   "metadata": {},
   "outputs": [],
   "source": [
    "# load\n",
    "final = pickle.load(open( '../00_data/final/dropout_per_session.pkl','rb') )\n",
    "final['interventiongroup'] = np.where((final.interventiongroup == 6),'6',final.interventiongroup)\n",
    "final['interventiongroup'] = np.where((final.interventiongroup == '0'),'control',final.interventiongroup)\n",
    "\n",
    "# split\n",
    "intvcontrol = final[(final['interventiongroup']=='control')]\n",
    "intv2 = final[(final['interventiongroup']=='2')]\n",
    "intv3 = final[(final['interventiongroup']=='3')]\n",
    "intv4 = final[(final['interventiongroup']=='4')]\n",
    "intv5 = final[(final['interventiongroup']=='5')]\n",
    "intv6 = final[(final['interventiongroup']=='6')]"
   ]
  },
  {
   "cell_type": "markdown",
   "metadata": {},
   "source": [
    "Check Assumptions"
   ]
  },
  {
   "cell_type": "code",
   "execution_count": 3,
   "metadata": {},
   "outputs": [
    {
     "data": {
      "text/plain": [
       "LeveneResult(statistic=17.940767785264246, pvalue=8.144716978551879e-18)"
      ]
     },
     "execution_count": 3,
     "metadata": {},
     "output_type": "execute_result"
    }
   ],
   "source": [
    "# Levenes homogeneity\n",
    "stats.levene(intvcontrol['dropout'], intv2['dropout'], intv3['dropout'], intv4['dropout'], intv5['dropout'], intv6['dropout'])"
   ]
  },
  {
   "cell_type": "code",
   "execution_count": 4,
   "metadata": {},
   "outputs": [
    {
     "name": "stdout",
     "output_type": "stream",
     "text": [
      "ShapiroResult(statistic=0.384666383266449, pvalue=0.0)\n",
      "ShapiroResult(statistic=0.4124665856361389, pvalue=0.0)\n",
      "ShapiroResult(statistic=0.4336346983909607, pvalue=0.0)\n",
      "ShapiroResult(statistic=0.4151875376701355, pvalue=0.0)\n",
      "ShapiroResult(statistic=0.43334531784057617, pvalue=0.0)\n",
      "ShapiroResult(statistic=0.3588818311691284, pvalue=0.0)\n"
     ]
    },
    {
     "name": "stderr",
     "output_type": "stream",
     "text": [
      "C:\\Users\\Nathalie\\AppData\\Roaming\\Python\\Python310\\site-packages\\scipy\\stats\\morestats.py:1760: UserWarning: p-value may not be accurate for N > 5000.\n",
      "  warnings.warn(\"p-value may not be accurate for N > 5000.\")\n"
     ]
    }
   ],
   "source": [
    "# Shapiro-Wilk test for normality\n",
    "print(stats.shapiro(intvcontrol['dropout']))\n",
    "print(stats.shapiro(intv2['dropout']))\n",
    "print(stats.shapiro(intv3['dropout']))\n",
    "print(stats.shapiro(intv4['dropout']))\n",
    "print(stats.shapiro(intv5['dropout']))\n",
    "print(stats.shapiro(intv6['dropout']))"
   ]
  },
  {
   "attachments": {},
   "cell_type": "markdown",
   "metadata": {},
   "source": [
    "Get mean"
   ]
  },
  {
   "cell_type": "code",
   "execution_count": 29,
   "metadata": {},
   "outputs": [
    {
     "data": {
      "text/html": [
       "<div>\n",
       "<style scoped>\n",
       "    .dataframe tbody tr th:only-of-type {\n",
       "        vertical-align: middle;\n",
       "    }\n",
       "\n",
       "    .dataframe tbody tr th {\n",
       "        vertical-align: top;\n",
       "    }\n",
       "\n",
       "    .dataframe thead th {\n",
       "        text-align: right;\n",
       "    }\n",
       "</style>\n",
       "<table border=\"1\" class=\"dataframe\">\n",
       "  <thead>\n",
       "    <tr style=\"text-align: right;\">\n",
       "      <th></th>\n",
       "      <th>dropout</th>\n",
       "      <th>count</th>\n",
       "    </tr>\n",
       "    <tr>\n",
       "      <th>interventiongroup</th>\n",
       "      <th></th>\n",
       "      <th></th>\n",
       "    </tr>\n",
       "  </thead>\n",
       "  <tbody>\n",
       "    <tr>\n",
       "      <th>2</th>\n",
       "      <td>0.140672</td>\n",
       "      <td>5950</td>\n",
       "    </tr>\n",
       "    <tr>\n",
       "      <th>3</th>\n",
       "      <td>0.155095</td>\n",
       "      <td>6222</td>\n",
       "    </tr>\n",
       "    <tr>\n",
       "      <th>4</th>\n",
       "      <td>0.142457</td>\n",
       "      <td>6072</td>\n",
       "    </tr>\n",
       "    <tr>\n",
       "      <th>5</th>\n",
       "      <td>0.154893</td>\n",
       "      <td>5733</td>\n",
       "    </tr>\n",
       "    <tr>\n",
       "      <th>6</th>\n",
       "      <td>0.108780</td>\n",
       "      <td>6196</td>\n",
       "    </tr>\n",
       "    <tr>\n",
       "      <th>control</th>\n",
       "      <td>0.123369</td>\n",
       "      <td>8049</td>\n",
       "    </tr>\n",
       "  </tbody>\n",
       "</table>\n",
       "</div>"
      ],
      "text/plain": [
       "                    dropout  count\n",
       "interventiongroup                 \n",
       "2                  0.140672   5950\n",
       "3                  0.155095   6222\n",
       "4                  0.142457   6072\n",
       "5                  0.154893   5733\n",
       "6                  0.108780   6196\n",
       "control            0.123369   8049"
      ]
     },
     "execution_count": 29,
     "metadata": {},
     "output_type": "execute_result"
    }
   ],
   "source": [
    "# get mean interventiongroup\n",
    "dropout_by_group = final.groupby(['interventiongroup']).agg({'dropout':'mean','Geschlecht':'count'})\n",
    "dropout_by_group = dropout_by_group.rename(columns={'Geschlecht':'count'})\n",
    "dropout_by_group"
   ]
  },
  {
   "cell_type": "code",
   "execution_count": 32,
   "metadata": {},
   "outputs": [
    {
     "data": {
      "text/html": [
       "<div>\n",
       "<style scoped>\n",
       "    .dataframe tbody tr th:only-of-type {\n",
       "        vertical-align: middle;\n",
       "    }\n",
       "\n",
       "    .dataframe tbody tr th {\n",
       "        vertical-align: top;\n",
       "    }\n",
       "\n",
       "    .dataframe thead th {\n",
       "        text-align: right;\n",
       "    }\n",
       "</style>\n",
       "<table border=\"1\" class=\"dataframe\">\n",
       "  <thead>\n",
       "    <tr style=\"text-align: right;\">\n",
       "      <th></th>\n",
       "      <th></th>\n",
       "      <th>dropout</th>\n",
       "      <th>count</th>\n",
       "    </tr>\n",
       "    <tr>\n",
       "      <th>Geschlecht</th>\n",
       "      <th>interventiongroup</th>\n",
       "      <th></th>\n",
       "      <th></th>\n",
       "    </tr>\n",
       "  </thead>\n",
       "  <tbody>\n",
       "    <tr>\n",
       "      <th rowspan=\"6\" valign=\"top\">d</th>\n",
       "      <th>2</th>\n",
       "      <td>0.145833</td>\n",
       "      <td>144</td>\n",
       "    </tr>\n",
       "    <tr>\n",
       "      <th>3</th>\n",
       "      <td>0.151899</td>\n",
       "      <td>158</td>\n",
       "    </tr>\n",
       "    <tr>\n",
       "      <th>4</th>\n",
       "      <td>0.138462</td>\n",
       "      <td>130</td>\n",
       "    </tr>\n",
       "    <tr>\n",
       "      <th>5</th>\n",
       "      <td>0.180233</td>\n",
       "      <td>172</td>\n",
       "    </tr>\n",
       "    <tr>\n",
       "      <th>6</th>\n",
       "      <td>0.084906</td>\n",
       "      <td>212</td>\n",
       "    </tr>\n",
       "    <tr>\n",
       "      <th>control</th>\n",
       "      <td>0.138655</td>\n",
       "      <td>238</td>\n",
       "    </tr>\n",
       "    <tr>\n",
       "      <th rowspan=\"6\" valign=\"top\">m</th>\n",
       "      <th>2</th>\n",
       "      <td>0.155565</td>\n",
       "      <td>2462</td>\n",
       "    </tr>\n",
       "    <tr>\n",
       "      <th>3</th>\n",
       "      <td>0.163880</td>\n",
       "      <td>2691</td>\n",
       "    </tr>\n",
       "    <tr>\n",
       "      <th>4</th>\n",
       "      <td>0.155073</td>\n",
       "      <td>2947</td>\n",
       "    </tr>\n",
       "    <tr>\n",
       "      <th>5</th>\n",
       "      <td>0.156072</td>\n",
       "      <td>2627</td>\n",
       "    </tr>\n",
       "    <tr>\n",
       "      <th>6</th>\n",
       "      <td>0.111272</td>\n",
       "      <td>2759</td>\n",
       "    </tr>\n",
       "    <tr>\n",
       "      <th>control</th>\n",
       "      <td>0.118328</td>\n",
       "      <td>3541</td>\n",
       "    </tr>\n",
       "    <tr>\n",
       "      <th rowspan=\"6\" valign=\"top\">w</th>\n",
       "      <th>2</th>\n",
       "      <td>0.129486</td>\n",
       "      <td>3344</td>\n",
       "    </tr>\n",
       "    <tr>\n",
       "      <th>3</th>\n",
       "      <td>0.148236</td>\n",
       "      <td>3373</td>\n",
       "    </tr>\n",
       "    <tr>\n",
       "      <th>4</th>\n",
       "      <td>0.130217</td>\n",
       "      <td>2995</td>\n",
       "    </tr>\n",
       "    <tr>\n",
       "      <th>5</th>\n",
       "      <td>0.152352</td>\n",
       "      <td>2934</td>\n",
       "    </tr>\n",
       "    <tr>\n",
       "      <th>6</th>\n",
       "      <td>0.108217</td>\n",
       "      <td>3225</td>\n",
       "    </tr>\n",
       "    <tr>\n",
       "      <th>control</th>\n",
       "      <td>0.126698</td>\n",
       "      <td>4270</td>\n",
       "    </tr>\n",
       "  </tbody>\n",
       "</table>\n",
       "</div>"
      ],
      "text/plain": [
       "                               dropout  count\n",
       "Geschlecht interventiongroup                 \n",
       "d          2                  0.145833    144\n",
       "           3                  0.151899    158\n",
       "           4                  0.138462    130\n",
       "           5                  0.180233    172\n",
       "           6                  0.084906    212\n",
       "           control            0.138655    238\n",
       "m          2                  0.155565   2462\n",
       "           3                  0.163880   2691\n",
       "           4                  0.155073   2947\n",
       "           5                  0.156072   2627\n",
       "           6                  0.111272   2759\n",
       "           control            0.118328   3541\n",
       "w          2                  0.129486   3344\n",
       "           3                  0.148236   3373\n",
       "           4                  0.130217   2995\n",
       "           5                  0.152352   2934\n",
       "           6                  0.108217   3225\n",
       "           control            0.126698   4270"
      ]
     },
     "execution_count": 32,
     "metadata": {},
     "output_type": "execute_result"
    }
   ],
   "source": [
    "# get mean interventiongroup and gender\n",
    "dropout_by_group = final.groupby(['Geschlecht','interventiongroup']).agg({'dropout':'mean','Klassenstufe':'count'})\n",
    "dropout_by_group = dropout_by_group.rename(columns={'Klassenstufe':'count'})\n",
    "dropout_by_group"
   ]
  },
  {
   "cell_type": "code",
   "execution_count": 31,
   "metadata": {},
   "outputs": [],
   "source": [
    "# get mean interventiongroup and class level\n",
    "dropout_by_group = final.groupby(['Klassenstufe','interventiongroup']).agg({'dropout':'mean','Geschlecht':'count'})\n",
    "dropout_by_group = dropout_by_group.rename(columns={'Geschlecht':'count'})\n"
   ]
  },
  {
   "attachments": {},
   "cell_type": "markdown",
   "metadata": {},
   "source": [
    "Test significance"
   ]
  },
  {
   "cell_type": "code",
   "execution_count": 8,
   "metadata": {},
   "outputs": [
    {
     "data": {
      "text/plain": [
       "KruskalResult(statistic=89.50548048975405, pvalue=8.534902683729292e-18)"
      ]
     },
     "execution_count": 8,
     "metadata": {},
     "output_type": "execute_result"
    }
   ],
   "source": [
    "# Kruskal Wallis Test\n",
    "stats.kruskal(intvcontrol['dropout'], intv2['dropout'], intv3['dropout'],intv4['dropout'],intv5['dropout'],intv6['dropout'])"
   ]
  },
  {
   "attachments": {},
   "cell_type": "markdown",
   "metadata": {},
   "source": [
    "Wilcoxon Mann Whitney Tests and Cliffs Delta (# thresholds: .11 (small), .28 (medium), .43 (large))"
   ]
  },
  {
   "cell_type": "code",
   "execution_count": 9,
   "metadata": {},
   "outputs": [
    {
     "name": "stdout",
     "output_type": "stream",
     "text": [
      "MannwhitneyuResult(statistic=23531443.5, pvalue=0.002681068706828592)\n",
      "-0.017302906253817217\n",
      "MannwhitneyuResult(statistic=24246019.5, pvalue=4.702779483324779e-08)\n",
      "-0.03172546216142616\n",
      "MannwhitneyuResult(statistic=23970319.5, pvalue=0.0008940124960408771)\n",
      "-0.019087817846912953\n",
      "MannwhitneyuResult(statistic=22345137.0, pvalue=1.077726755806836e-07)\n",
      "-0.03152336366755194\n",
      "MannwhitneyuResult(statistic=25299603.0, pvalue=0.007244302011854709)\n",
      "0.014589504680860075\n"
     ]
    }
   ],
   "source": [
    "# control group\n",
    "groups = [intv2, intv3, intv4, intv5, intv6]\n",
    "for x in groups:\n",
    "    print(stats.mannwhitneyu(intvcontrol['dropout'], x['dropout']))\n",
    "    print(cliffs_delta(intvcontrol['dropout'], x['dropout'])[0])"
   ]
  },
  {
   "cell_type": "code",
   "execution_count": 10,
   "metadata": {},
   "outputs": [
    {
     "name": "stdout",
     "output_type": "stream",
     "text": [
      "MannwhitneyuResult(statistic=18243482.0, pvalue=0.0251199840175872)\n",
      "-0.014422555907608945\n",
      "MannwhitneyuResult(statistic=18031957.0, pvalue=0.7789689651168751)\n",
      "-0.0017849115930957363\n",
      "MannwhitneyuResult(statistic=16813135.5, pvalue=0.030318176167053432)\n",
      "-0.014220457413734724\n",
      "MannwhitneyuResult(statistic=19020976.0, pvalue=1.0177784757044654e-07)\n",
      "0.03189241093467729\n"
     ]
    }
   ],
   "source": [
    "# Intv 2\n",
    "groups = [intv3, intv4, intv5, intv6]\n",
    "for x in groups:\n",
    "    print(stats.mannwhitneyu(intv2['dropout'], x['dropout']))\n",
    "    print(cliffs_delta(intv2['dropout'], x['dropout'])[0])"
   ]
  },
  {
   "cell_type": "code",
   "execution_count": 11,
   "metadata": {},
   "outputs": [
    {
     "name": "stdout",
     "output_type": "stream",
     "text": [
      "MannwhitneyuResult(statistic=19128717.0, pvalue=0.049054722695443205)\n",
      "0.012637644314513209\n",
      "MannwhitneyuResult(statistic=17838967.5, pvalue=0.9756697384498866)\n",
      "0.00020209849387422055\n",
      "MannwhitneyuResult(statistic=20168512.0, pvalue=2.4631640065351632e-14)\n",
      "0.04631496684228624\n"
     ]
    }
   ],
   "source": [
    "# Intv 3\n",
    "groups = [intv4, intv5, intv6]\n",
    "for x in groups:\n",
    "    print(stats.mannwhitneyu(intv3['dropout'], x['dropout']))\n",
    "    print(cliffs_delta(intv3['dropout'], x['dropout'])[0])"
   ]
  },
  {
   "cell_type": "code",
   "execution_count": 12,
   "metadata": {},
   "outputs": [
    {
     "name": "stdout",
     "output_type": "stream",
     "text": [
      "MannwhitneyuResult(statistic=17188942.5, pvalue=0.057568420667556644)\n",
      "-0.012435545820638988\n",
      "MannwhitneyuResult(statistic=19444562.0, pvalue=1.7993006490920827e-08)\n",
      "0.03367732252777303\n"
     ]
    }
   ],
   "source": [
    "# Intv 4\n",
    "print(stats.mannwhitneyu(intv4['dropout'], intv5['dropout']))\n",
    "print(cliffs_delta(intv4['dropout'], intv5['dropout'])[0])\n",
    "print(stats.mannwhitneyu(intv4['dropout'], intv6['dropout']))\n",
    "print(cliffs_delta(intv4['dropout'], intv6['dropout'])[0])"
   ]
  },
  {
   "cell_type": "code",
   "execution_count": 13,
   "metadata": {},
   "outputs": [
    {
     "name": "stdout",
     "output_type": "stream",
     "text": [
      "MannwhitneyuResult(statistic=18579837.0, pvalue=8.712831262382011e-14)\n",
      "0.046112868348412016\n"
     ]
    }
   ],
   "source": [
    "# Intv 5\n",
    "print(stats.mannwhitneyu(intv5['dropout'], intv6['dropout']))\n",
    "print(cliffs_delta(intv5['dropout'], intv6['dropout'])[0])"
   ]
  },
  {
   "cell_type": "markdown",
   "metadata": {},
   "source": [
    "Gender Demographics"
   ]
  },
  {
   "cell_type": "code",
   "execution_count": 14,
   "metadata": {},
   "outputs": [],
   "source": [
    "# split by gender\n",
    "final_m = final.loc[final.Geschlecht == 'm']\n",
    "final_w = final.loc[final.Geschlecht == 'w']\n",
    "final_d = final.loc[final.Geschlecht == 'd']"
   ]
  },
  {
   "attachments": {},
   "cell_type": "markdown",
   "metadata": {},
   "source": [
    "Boys"
   ]
  },
  {
   "cell_type": "code",
   "execution_count": 15,
   "metadata": {},
   "outputs": [
    {
     "data": {
      "text/plain": [
       "KruskalResult(statistic=60.37587774781564, pvalue=1.0163756250348751e-11)"
      ]
     },
     "execution_count": 15,
     "metadata": {},
     "output_type": "execute_result"
    }
   ],
   "source": [
    "# split by interventiongroup\n",
    "intvcontrol_m = final_m[(final_m['interventiongroup']=='control')]\n",
    "intv2_m = final_m[(final_m['interventiongroup']=='2')]\n",
    "intv3_m = final_m[(final_m['interventiongroup']=='3')]\n",
    "intv4_m = final_m[(final_m['interventiongroup']=='4')]\n",
    "intv5_m = final_m[(final_m['interventiongroup']=='5')]\n",
    "intv6_m = final_m[(final_m['interventiongroup']=='6')]\n",
    "\n",
    "# Kruskal Wallis Test \n",
    "stats.kruskal(intvcontrol_m['dropout'], intv2_m['dropout'], intv3_m['dropout'],intv4_m['dropout'],intv5_m['dropout'],intv6_m['dropout'])"
   ]
  },
  {
   "cell_type": "code",
   "execution_count": 16,
   "metadata": {},
   "outputs": [
    {
     "name": "stdout",
     "output_type": "stream",
     "text": [
      "MannwhitneyuResult(statistic=4196658.5, pvalue=3.0389496348966393e-05)\n",
      "-0.03723642575277514\n",
      "MannwhitneyuResult(statistic=4547389.5, pvalue=2.4178357528162563e-07)\n",
      "-0.04555144277404018\n",
      "MannwhitneyuResult(statistic=5025941.5, pvalue=1.6192913677383677e-05)\n",
      "-0.03674479965984775\n",
      "MannwhitneyuResult(statistic=4475555.0, pvalue=1.7314623258955473e-05)\n",
      "-0.03774340863410156\n",
      "MannwhitneyuResult(statistic=4919276.5, pvalue=0.3842422445461303)\n",
      "0.007055955815677152\n"
     ]
    }
   ],
   "source": [
    "# control group\n",
    "groups = [intv2_m, intv3_m, intv4_m, intv5_m, intv6_m]\n",
    "for x in groups:\n",
    "    print(stats.mannwhitneyu(intvcontrol_m['dropout'], x['dropout']))\n",
    "    print(cliffs_delta(intvcontrol_m['dropout'], x['dropout'])[0])\n"
   ]
  },
  {
   "cell_type": "code",
   "execution_count": 17,
   "metadata": {},
   "outputs": [
    {
     "name": "stdout",
     "output_type": "stream",
     "text": [
      "MannwhitneyuResult(statistic=4547389.5, pvalue=2.4178357528162563e-07)\n",
      "-0.04555144277404018\n",
      "MannwhitneyuResult(statistic=5025941.5, pvalue=1.6192913677383677e-05)\n",
      "-0.03674479965984775\n",
      "MannwhitneyuResult(statistic=4475555.0, pvalue=1.7314623258955473e-05)\n",
      "-0.03774340863410156\n",
      "MannwhitneyuResult(statistic=4919276.5, pvalue=0.3842422445461303)\n",
      "0.007055955815677152\n"
     ]
    }
   ],
   "source": [
    "# Intv 2\n",
    "groups = [intv3_m, intv4_m, intv5_m, intv6_m]\n",
    "for x in groups:\n",
    "    print(stats.mannwhitneyu(intvcontrol_m['dropout'], x['dropout']))\n",
    "    print(cliffs_delta(intvcontrol_m['dropout'], x['dropout'])[0])"
   ]
  },
  {
   "cell_type": "code",
   "execution_count": 18,
   "metadata": {},
   "outputs": [
    {
     "name": "stdout",
     "output_type": "stream",
     "text": [
      "MannwhitneyuResult(statistic=4000108.5, pvalue=0.36679070012126347)\n",
      "0.008806643114192427\n",
      "MannwhitneyuResult(statistic=3562227.0, pvalue=0.4375173105110751)\n",
      "0.00780803413993861\n",
      "MannwhitneyuResult(statistic=3907525.5, pvalue=1.6793869057516107e-08)\n",
      "0.05260739858971732\n"
     ]
    }
   ],
   "source": [
    "# Intv 3\n",
    "groups = [intv4_m, intv5_m, intv6_m]\n",
    "for x in groups:\n",
    "    print(stats.mannwhitneyu(intv3_m['dropout'], x['dropout']))\n",
    "    print(cliffs_delta(intv3_m['dropout'], x['dropout'])[0])"
   ]
  },
  {
   "cell_type": "code",
   "execution_count": 19,
   "metadata": {},
   "outputs": [
    {
     "name": "stdout",
     "output_type": "stream",
     "text": [
      "MannwhitneyuResult(statistic=3867019.0, pvalue=0.9182288805869929)\n",
      "-0.0009986089742538172\n",
      "MannwhitneyuResult(statistic=4243453.5, pvalue=1.2047614748754787e-06)\n",
      "0.0438007554755249\n"
     ]
    }
   ],
   "source": [
    "# Intv 4\n",
    "print(stats.mannwhitneyu(intv4_m['dropout'], intv5_m['dropout']))\n",
    "print(cliffs_delta(intv4_m['dropout'], intv5_m['dropout'])[0])\n",
    "print(stats.mannwhitneyu(intv4_m['dropout'], intv6_m['dropout']))\n",
    "print(cliffs_delta(intv4_m['dropout'], intv6_m['dropout'])[0])"
   ]
  },
  {
   "cell_type": "code",
   "execution_count": 20,
   "metadata": {},
   "outputs": [
    {
     "name": "stdout",
     "output_type": "stream",
     "text": [
      "MannwhitneyuResult(statistic=3786297.0, pvalue=1.3165364919166577e-06)\n",
      "0.044799364449778716\n"
     ]
    }
   ],
   "source": [
    "# Intv 5\n",
    "print(stats.mannwhitneyu(intv5_m['dropout'], intv6_m['dropout']))\n",
    "print(cliffs_delta(intv5_m['dropout'], intv6_m['dropout'])[0])"
   ]
  },
  {
   "attachments": {},
   "cell_type": "markdown",
   "metadata": {},
   "source": [
    "Girls"
   ]
  },
  {
   "cell_type": "code",
   "execution_count": 21,
   "metadata": {},
   "outputs": [
    {
     "data": {
      "text/plain": [
       "KruskalResult(statistic=35.584602046463864, pvalue=1.14997655771671e-06)"
      ]
     },
     "execution_count": 21,
     "metadata": {},
     "output_type": "execute_result"
    }
   ],
   "source": [
    "# split by interventiongroup\n",
    "intvcontrol_w = final_w[(final_w['interventiongroup']=='control')]\n",
    "intv2_w = final_w[(final_w['interventiongroup']=='2')]\n",
    "intv3_w = final_w[(final_w['interventiongroup']=='3')]\n",
    "intv4_w = final_w[(final_w['interventiongroup']=='4')]\n",
    "intv5_w = final_w[(final_w['interventiongroup']=='5')]\n",
    "intv6_w = final_w[(final_w['interventiongroup']=='6')]\n",
    "\n",
    "# Kruskal Wallis Test \n",
    "stats.kruskal(intvcontrol_w['dropout'], intv2_w['dropout'], intv3_w['dropout'],intv4_w['dropout'],intv5_w['dropout'],intv6_w['dropout'])\n"
   ]
  },
  {
   "cell_type": "code",
   "execution_count": 22,
   "metadata": {},
   "outputs": [
    {
     "name": "stdout",
     "output_type": "stream",
     "text": [
      "MannwhitneyuResult(statistic=7119537.0, pvalue=0.717789995363967)\n",
      "-0.0027877536613515907\n",
      "MannwhitneyuResult(statistic=7046251.5, pvalue=0.006417697346107446)\n",
      "-0.0215380994271217\n",
      "MannwhitneyuResult(statistic=6371822.5, pvalue=0.6587170461068266)\n",
      "-0.0035191361089716273\n",
      "MannwhitneyuResult(statistic=6103392.0, pvalue=0.0018728034371204474)\n",
      "-0.02565384596964603\n",
      "MannwhitneyuResult(statistic=7012622.5, pvalue=0.014339839359425764)\n",
      "0.018480838008096873\n"
     ]
    }
   ],
   "source": [
    "# control group\n",
    "groups = [intv2_w, intv3_w, intv4_w, intv5_w, intv6_w]\n",
    "for x in groups:\n",
    "    print(stats.mannwhitneyu(intvcontrol_w['dropout'], x['dropout']))\n",
    "    print(cliffs_delta(intvcontrol_w['dropout'], x['dropout'])[0])\n"
   ]
  },
  {
   "cell_type": "code",
   "execution_count": 23,
   "metadata": {},
   "outputs": [
    {
     "name": "stdout",
     "output_type": "stream",
     "text": [
      "MannwhitneyuResult(statistic=7046251.5, pvalue=0.006417697346107446)\n",
      "-0.0215380994271217\n",
      "MannwhitneyuResult(statistic=6371822.5, pvalue=0.6587170461068266)\n",
      "-0.0035191361089716273\n",
      "MannwhitneyuResult(statistic=6103392.0, pvalue=0.0018728034371204474)\n",
      "-0.02565384596964603\n",
      "MannwhitneyuResult(statistic=7012622.5, pvalue=0.014339839359425764)\n",
      "0.018480838008096873\n"
     ]
    }
   ],
   "source": [
    "# Intv 2\n",
    "groups = [intv3_w, intv4_w, intv5_w, intv6_w]\n",
    "for x in groups:\n",
    "    print(stats.mannwhitneyu(intvcontrol_w['dropout'], x['dropout']))\n",
    "    print(cliffs_delta(intvcontrol_w['dropout'], x['dropout'])[0])"
   ]
  },
  {
   "cell_type": "code",
   "execution_count": 24,
   "metadata": {},
   "outputs": [
    {
     "name": "stdout",
     "output_type": "stream",
     "text": [
      "MannwhitneyuResult(statistic=5142082.5, pvalue=0.038485802462782444)\n",
      "0.018018963318150075\n",
      "MannwhitneyuResult(statistic=4927825.5, pvalue=0.6481400303679159)\n",
      "-0.004115746542524328\n",
      "MannwhitneyuResult(statistic=5656624.0, pvalue=1.2194718906978586e-06)\n",
      "0.040018937435218574\n"
     ]
    }
   ],
   "source": [
    "# Intv 3\n",
    "groups = [intv4_w, intv5_w, intv6_w]\n",
    "for x in groups:\n",
    "    print(stats.mannwhitneyu(intv3_w['dropout'], x['dropout']))\n",
    "    print(cliffs_delta(intv3_w['dropout'], x['dropout'])[0])"
   ]
  },
  {
   "cell_type": "code",
   "execution_count": 25,
   "metadata": {},
   "outputs": [
    {
     "name": "stdout",
     "output_type": "stream",
     "text": [
      "MannwhitneyuResult(statistic=4296412.5, pvalue=0.014402095694243387)\n",
      "-0.022134709860674402\n",
      "MannwhitneyuResult(statistic=4935685.0, pvalue=0.007381676335780043)\n",
      "0.0219999741170685\n"
     ]
    }
   ],
   "source": [
    "# Intv 4\n",
    "print(stats.mannwhitneyu(intv4_w['dropout'], intv5_w['dropout']))\n",
    "print(cliffs_delta(intv4_w['dropout'], intv5_w['dropout'])[0])\n",
    "print(stats.mannwhitneyu(intv4_w['dropout'], intv6_w['dropout']))\n",
    "print(cliffs_delta(intv4_w['dropout'], intv6_w['dropout'])[0])"
   ]
  },
  {
   "cell_type": "code",
   "execution_count": 26,
   "metadata": {},
   "outputs": [
    {
     "name": "stdout",
     "output_type": "stream",
     "text": [
      "MannwhitneyuResult(statistic=4939879.5, pvalue=2.5195501793825825e-07)\n",
      "0.0441346839777429\n"
     ]
    }
   ],
   "source": [
    "# Intv 5\n",
    "print(stats.mannwhitneyu(intv5_w['dropout'], intv6_w['dropout']))\n",
    "print(cliffs_delta(intv5_w['dropout'], intv6_w['dropout'])[0])"
   ]
  },
  {
   "attachments": {},
   "cell_type": "markdown",
   "metadata": {},
   "source": [
    "Demographics class level"
   ]
  },
  {
   "cell_type": "code",
   "execution_count": 27,
   "metadata": {},
   "outputs": [
    {
     "name": "stdout",
     "output_type": "stream",
     "text": [
      "KruskalResult(statistic=18.047020105649946, pvalue=0.002888048958723747)\n",
      "KruskalResult(statistic=27.24150368845626, pvalue=5.118545612353926e-05)\n",
      "KruskalResult(statistic=9.026951382404972, pvalue=0.10799397472961592)\n",
      "KruskalResult(statistic=17.681671434536923, pvalue=0.0033729914538148317)\n",
      "KruskalResult(statistic=18.090968171606264, pvalue=0.0028345305444838482)\n",
      "KruskalResult(statistic=19.223938066110488, pvalue=0.001745971251158842)\n",
      "KruskalResult(statistic=15.066604911072474, pvalue=0.01008150446822647)\n",
      "KruskalResult(statistic=17.741622052029925, pvalue=0.0032882791353490547)\n",
      "KruskalResult(statistic=23.68291689695832, pvalue=0.00024978653924206)\n"
     ]
    }
   ],
   "source": [
    "## split by class level\n",
    "\n",
    "final_5 = final.loc[final.Klassenstufe == '5']\n",
    "final_6 = final.loc[final.Klassenstufe == '6']\n",
    "final_7 = final.loc[final.Klassenstufe == '7']\n",
    "final_8 = final.loc[final.Klassenstufe == '8']\n",
    "final_9 = final.loc[final.Klassenstufe == '9']\n",
    "final_10 = final.loc[final.Klassenstufe == '10']\n",
    "final_11 = final.loc[final.Klassenstufe == '11']\n",
    "final_12 = final.loc[final.Klassenstufe == '12']\n",
    "final_13 = final.loc[final.Klassenstufe == '13']\n",
    "\n",
    "klassenliste = [final_5, final_6, final_7, final_8, final_9, final_10, final_11, final_12, final_13]\n",
    "\n",
    "for x in klassenliste:\n",
    "    intvcontrol = x[(x['interventiongroup']=='control')]\n",
    "    intv2 = x[(x['interventiongroup']=='2')]\n",
    "    intv3 = x[(x['interventiongroup']=='3')]\n",
    "    intv4 = x[(x['interventiongroup']=='4')]\n",
    "    intv5 = x[(x['interventiongroup']=='5')]\n",
    "    intv6 = x[(x['interventiongroup']=='6')]\n",
    "\n",
    "    # Kruskal Wallis Test \n",
    "    print(stats.kruskal(intvcontrol['dropout'], intv2['dropout'], intv3['dropout'],intv4['dropout'],intv5['dropout'],intv6['dropout']))\n"
   ]
  },
  {
   "cell_type": "code",
   "execution_count": 28,
   "metadata": {},
   "outputs": [
    {
     "name": "stdout",
     "output_type": "stream",
     "text": [
      "MannwhitneyuResult(statistic=120776.0, pvalue=0.9477279720211631)\n",
      "MannwhitneyuResult(statistic=110461.0, pvalue=0.2060402536965945)\n",
      "MannwhitneyuResult(statistic=138237.0, pvalue=0.036196267354201006)\n",
      "MannwhitneyuResult(statistic=106995.0, pvalue=0.7565631543230504)\n",
      "MannwhitneyuResult(statistic=141492.0, pvalue=0.03672125043055822)\n",
      "--------------\n",
      "MannwhitneyuResult(statistic=320541.0, pvalue=0.0006741975640997993)\n",
      "MannwhitneyuResult(statistic=323588.0, pvalue=0.023797524059538496)\n",
      "MannwhitneyuResult(statistic=314492.5, pvalue=0.8976984189491259)\n",
      "MannwhitneyuResult(statistic=306081.0, pvalue=0.0004233975959577583)\n",
      "MannwhitneyuResult(statistic=337959.0, pvalue=0.9806600999617253)\n",
      "--------------\n",
      "MannwhitneyuResult(statistic=886931.0, pvalue=0.10106636614742641)\n",
      "MannwhitneyuResult(statistic=967964.0, pvalue=0.0016770940203893548)\n",
      "MannwhitneyuResult(statistic=1019630.0, pvalue=0.40198116856691746)\n",
      "MannwhitneyuResult(statistic=772139.0, pvalue=0.2621140295676324)\n",
      "MannwhitneyuResult(statistic=955155.5, pvalue=0.3509255713973938)\n",
      "--------------\n",
      "MannwhitneyuResult(statistic=890925.0, pvalue=0.21573072079549904)\n",
      "MannwhitneyuResult(statistic=904465.5, pvalue=0.0008861863949886687)\n",
      "MannwhitneyuResult(statistic=675685.5, pvalue=0.196575290508594)\n",
      "MannwhitneyuResult(statistic=845116.5, pvalue=0.19453252999520798)\n",
      "MannwhitneyuResult(statistic=711360.0, pvalue=0.3845944316542246)\n",
      "--------------\n",
      "MannwhitneyuResult(statistic=295128.5, pvalue=0.39361577858868135)\n",
      "MannwhitneyuResult(statistic=315581.0, pvalue=0.2282904768090115)\n",
      "MannwhitneyuResult(statistic=292406.5, pvalue=0.0018279679389304315)\n",
      "MannwhitneyuResult(statistic=239657.5, pvalue=0.0014010572716083814)\n",
      "MannwhitneyuResult(statistic=317499.5, pvalue=0.8661164967390039)\n",
      "--------------\n",
      "MannwhitneyuResult(statistic=199172.0, pvalue=0.6748368299492115)\n",
      "MannwhitneyuResult(statistic=176761.0, pvalue=0.030271581962959437)\n",
      "MannwhitneyuResult(statistic=178745.0, pvalue=0.9179417806487731)\n",
      "MannwhitneyuResult(statistic=151200.0, pvalue=0.357687975320251)\n",
      "MannwhitneyuResult(statistic=209476.0, pvalue=0.07765766946014183)\n",
      "--------------\n",
      "MannwhitneyuResult(statistic=36153.0, pvalue=0.22152625629822198)\n",
      "MannwhitneyuResult(statistic=31587.0, pvalue=0.2831175743061132)\n",
      "MannwhitneyuResult(statistic=31846.5, pvalue=0.8281839084608024)\n",
      "MannwhitneyuResult(statistic=46420.5, pvalue=0.0015630303606468316)\n",
      "MannwhitneyuResult(statistic=35268.0, pvalue=0.7950498888939945)\n",
      "--------------\n",
      "MannwhitneyuResult(statistic=13601.5, pvalue=0.016233443945575927)\n",
      "MannwhitneyuResult(statistic=17963.0, pvalue=0.4962578293776726)\n",
      "MannwhitneyuResult(statistic=17259.0, pvalue=0.7667613896238097)\n",
      "MannwhitneyuResult(statistic=15009.5, pvalue=0.004278513035246473)\n",
      "MannwhitneyuResult(statistic=24051.5, pvalue=0.14430721086060652)\n",
      "--------------\n"
     ]
    }
   ],
   "source": [
    "# carry out wilcoxon mann whitney test\n",
    "\n",
    "klassenliste = [final_5, final_6, final_8, final_9, final_10, final_11, final_12, final_13]\n",
    "\n",
    "for x in klassenliste:\n",
    "    intvcontrol = x[(x['interventiongroup']=='control')]\n",
    "    intv2 = x[(x['interventiongroup']=='2')]\n",
    "    intv3 = x[(x['interventiongroup']=='3')]\n",
    "    intv4 = x[(x['interventiongroup']=='4')]\n",
    "    intv5 = x[(x['interventiongroup']=='5')]\n",
    "    intv6 = x[(x['interventiongroup']=='6')]\n",
    "\n",
    "    #Wilcoxon Mann Whitney Test\n",
    "    print(stats.mannwhitneyu(intvcontrol['dropout'], intv2['dropout']))\n",
    "    print(stats.mannwhitneyu(intvcontrol['dropout'], intv3['dropout']))\n",
    "    print(stats.mannwhitneyu(intvcontrol['dropout'], intv4['dropout']))\n",
    "    print(stats.mannwhitneyu(intvcontrol['dropout'], intv5['dropout']))\n",
    "    print(stats.mannwhitneyu(intvcontrol['dropout'], intv6['dropout']))\n",
    "    print('--------------')"
   ]
  }
 ],
 "metadata": {
  "kernelspec": {
   "display_name": "Python 3.10.2 64-bit",
   "language": "python",
   "name": "python3"
  },
  "language_info": {
   "codemirror_mode": {
    "name": "ipython",
    "version": 3
   },
   "file_extension": ".py",
   "mimetype": "text/x-python",
   "name": "python",
   "nbconvert_exporter": "python",
   "pygments_lexer": "ipython3",
   "version": "3.10.2"
  },
  "orig_nbformat": 4,
  "vscode": {
   "interpreter": {
    "hash": "369f2c481f4da34e4445cda3fffd2e751bd1c4d706f27375911949ba6bb62e1c"
   }
  }
 },
 "nbformat": 4,
 "nbformat_minor": 2
}
