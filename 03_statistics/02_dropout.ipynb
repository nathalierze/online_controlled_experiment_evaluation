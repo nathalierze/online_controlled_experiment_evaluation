{
 "cells": [
  {
   "cell_type": "code",
   "execution_count": null,
   "metadata": {},
   "outputs": [],
   "source": [
    "import pandas as pd\n",
    "import pickle\n",
    "from scipy import stats\n",
    "import pandas as pd\n",
    "import seaborn as sns\n",
    "import pingouin as pg\n",
    "import statsmodels.formula.api as s\n",
    "import numpy as np"
   ]
  },
  {
   "cell_type": "code",
   "execution_count": null,
   "metadata": {},
   "outputs": [],
   "source": [
    "# load\n",
    "final = pickle.load(open( '../00_data/final/dropout_per_session.pkl','rb') )\n",
    "final['interventiongroup'] = np.where((final.interventiongroup == 6),'6',final.interventiongroup)\n",
    "final['interventiongroup'] = np.where((final.interventiongroup == '0'),'control',final.interventiongroup)\n",
    "\n",
    "# split\n",
    "intvcontrol = final[(final['interventiongroup']=='control')]\n",
    "intv2 = final[(final['interventiongroup']=='2')]\n",
    "intv3 = final[(final['interventiongroup']=='3')]\n",
    "intv4 = final[(final['interventiongroup']=='4')]\n",
    "intv5 = final[(final['interventiongroup']=='5')]\n",
    "intv6 = final[(final['interventiongroup']=='6')]"
   ]
  },
  {
   "cell_type": "markdown",
   "metadata": {},
   "source": [
    "Check Assumptions"
   ]
  },
  {
   "cell_type": "code",
   "execution_count": null,
   "metadata": {},
   "outputs": [],
   "source": [
    "# Levenes homogeneity\n",
    "stats.levene(intvcontrol['dropout'], intv2['dropout'], intv3['dropout'], intv4['dropout'], intv5['dropout'], intv6['dropout'])"
   ]
  },
  {
   "cell_type": "code",
   "execution_count": null,
   "metadata": {},
   "outputs": [],
   "source": [
    "# Shapiro-Wilk test for normality\n",
    "print(stats.shapiro(intvcontrol['dropout']))\n",
    "print(stats.shapiro(intv2['dropout']))\n",
    "print(stats.shapiro(intv3['dropout']))\n",
    "print(stats.shapiro(intv4['dropout']))\n",
    "print(stats.shapiro(intv5['dropout']))\n",
    "print(stats.shapiro(intv6['dropout']))"
   ]
  },
  {
   "attachments": {},
   "cell_type": "markdown",
   "metadata": {},
   "source": [
    "Effect sizes"
   ]
  },
  {
   "cell_type": "code",
   "execution_count": null,
   "metadata": {},
   "outputs": [],
   "source": [
    "# get effect sizes interventiongroup\n",
    "dropout_by_group = final.groupby(['interventiongroup']).agg({'dropout':'mean','Geschlecht':'count'})\n",
    "dropout_by_group = dropout_by_group.rename(columns={'Geschlecht':'count'})"
   ]
  },
  {
   "cell_type": "code",
   "execution_count": null,
   "metadata": {},
   "outputs": [],
   "source": [
    "# get effect sizes interventiongroup and gender\n",
    "dropout_by_group = final.groupby(['Geschlecht','interventiongroup']).agg({'dropout':'mean','Klassenstufe':'count'})\n",
    "dropout_by_group = dropout_by_group.rename(columns={'Klassenstufe':'count'})"
   ]
  },
  {
   "cell_type": "code",
   "execution_count": null,
   "metadata": {},
   "outputs": [],
   "source": [
    "# get effect sizes interventiongroup and class level\n",
    "dropout_by_group = final.groupby(['Klassenstufe','interventiongroup']).agg({'dropout':'mean','Geschlecht':'count'})\n",
    "dropout_by_group = dropout_by_group.rename(columns={'Geschlecht':'count'})"
   ]
  },
  {
   "attachments": {},
   "cell_type": "markdown",
   "metadata": {},
   "source": [
    "Test significance"
   ]
  },
  {
   "cell_type": "code",
   "execution_count": null,
   "metadata": {},
   "outputs": [],
   "source": [
    "# Kruskal Wallis Test\n",
    "stats.kruskal(intvcontrol['dropout'], intv2['dropout'], intv3['dropout'],intv4['dropout'],intv5['dropout'],intv6['dropout'])"
   ]
  },
  {
   "cell_type": "code",
   "execution_count": null,
   "metadata": {},
   "outputs": [],
   "source": [
    "#Wilcoxon Mann Whitney Test\n",
    "print(stats.mannwhitneyu(intvcontrol['dropout'], intv2['dropout']))\n",
    "print(stats.mannwhitneyu(intvcontrol['dropout'], intv3['dropout']))\n",
    "print(stats.mannwhitneyu(intvcontrol['dropout'], intv4['dropout']))\n",
    "print(stats.mannwhitneyu(intvcontrol['dropout'], intv5['dropout']))\n",
    "print(stats.mannwhitneyu(intvcontrol['dropout'], intv6['dropout']))"
   ]
  },
  {
   "cell_type": "markdown",
   "metadata": {},
   "source": [
    "Gender Demographics"
   ]
  },
  {
   "cell_type": "code",
   "execution_count": null,
   "metadata": {},
   "outputs": [],
   "source": [
    "# split by gender\n",
    "final_m = final.loc[final.Geschlecht == 'm']\n",
    "final_w = final.loc[final.Geschlecht == 'w']\n",
    "final_d = final.loc[final.Geschlecht == 'd']"
   ]
  },
  {
   "attachments": {},
   "cell_type": "markdown",
   "metadata": {},
   "source": [
    "Boys"
   ]
  },
  {
   "cell_type": "code",
   "execution_count": null,
   "metadata": {},
   "outputs": [],
   "source": [
    "# split by interventiongroup\n",
    "intvcontrol_m = final_m[(final_m['interventiongroup']=='control')]\n",
    "intv2_m = final_m[(final_m['interventiongroup']=='2')]\n",
    "intv3_m = final_m[(final_m['interventiongroup']=='3')]\n",
    "intv4_m = final_m[(final_m['interventiongroup']=='4')]\n",
    "intv5_m = final_m[(final_m['interventiongroup']=='5')]\n",
    "intv6_m = final_m[(final_m['interventiongroup']=='6')]\n",
    "\n",
    "# Kruskal Wallis Test \n",
    "stats.kruskal(intvcontrol_m['dropout'], intv2_m['dropout'], intv3_m['dropout'],intv4_m['dropout'],intv5_m['dropout'],intv6_m['dropout'])"
   ]
  },
  {
   "cell_type": "code",
   "execution_count": null,
   "metadata": {},
   "outputs": [],
   "source": [
    "#Wilcoxon Mann Whitney Test\n",
    "print(stats.mannwhitneyu(intvcontrol_m['dropout'], intv2_m['dropout']))\n",
    "print(stats.mannwhitneyu(intvcontrol_m['dropout'], intv3_m['dropout']))\n",
    "print(stats.mannwhitneyu(intvcontrol_m['dropout'], intv4_m['dropout']))\n",
    "print(stats.mannwhitneyu(intvcontrol_m['dropout'], intv5_m['dropout']))\n",
    "print(stats.mannwhitneyu(intvcontrol_m['dropout'], intv6_m['dropout']))"
   ]
  },
  {
   "attachments": {},
   "cell_type": "markdown",
   "metadata": {},
   "source": [
    "Girls"
   ]
  },
  {
   "cell_type": "code",
   "execution_count": null,
   "metadata": {},
   "outputs": [],
   "source": [
    "# split by interventiongroup\n",
    "intvcontrol_w = final_w[(final_w['interventiongroup']=='control')]\n",
    "intv2_w = final_w[(final_w['interventiongroup']=='2')]\n",
    "intv3_w = final_w[(final_w['interventiongroup']=='3')]\n",
    "intv4_w = final_w[(final_w['interventiongroup']=='4')]\n",
    "intv5_w = final_w[(final_w['interventiongroup']=='5')]\n",
    "intv6_w = final_w[(final_w['interventiongroup']=='6')]\n",
    "\n",
    "# Kruskal Wallis Test \n",
    "stats.kruskal(intvcontrol_w['dropout'], intv2_w['dropout'], intv3_w['dropout'],intv4_w['dropout'],intv5_w['dropout'],intv6_w['dropout'])\n"
   ]
  },
  {
   "cell_type": "code",
   "execution_count": null,
   "metadata": {},
   "outputs": [],
   "source": [
    "#Wilcoxon Mann Whitney Test\n",
    "print(stats.mannwhitneyu(intvcontrol_w['dropout'], intv2_w['dropout']))\n",
    "print(stats.mannwhitneyu(intvcontrol_w['dropout'], intv3_w['dropout']))\n",
    "print(stats.mannwhitneyu(intvcontrol_w['dropout'], intv4_w['dropout']))\n",
    "print(stats.mannwhitneyu(intvcontrol_w['dropout'], intv5_w['dropout']))\n",
    "print(stats.mannwhitneyu(intvcontrol_w['dropout'], intv6_w['dropout']))"
   ]
  },
  {
   "cell_type": "markdown",
   "metadata": {},
   "source": [
    "Divers"
   ]
  },
  {
   "cell_type": "code",
   "execution_count": null,
   "metadata": {},
   "outputs": [],
   "source": [
    "# intvcontrol_d = final_d[(final_d['interventiongroup']=='control')]\n",
    "# intv2_d = final_d[(final_d['interventiongroup']=='2')]\n",
    "# intv3_d = final_d[(final_d['interventiongroup']=='3')]\n",
    "# intv4_d = final_d[(final_d['interventiongroup']=='4')]\n",
    "# intv5_d = final_d[(final_d['interventiongroup']=='5')]\n",
    "# intv6_d = final_d[(final_d['interventiongroup']=='6')]\n",
    "\n",
    "# # Kruskal Wallis Test \n",
    "# stats.kruskal(intvcontrol_d['dropout'], intv2_d['dropout'], intv3_d['dropout'],intv4_d['dropout'],intv5_d['dropout'],intv6_d['dropout'])\n",
    "\n",
    "# #Wilcoxon Mann Whitney Test\n",
    "# print(stats.mannwhitneyu(intvcontrol_d['dropout'], intv2_d['dropout']))\n",
    "# print(stats.mannwhitneyu(intvcontrol_d['dropout'], intv3_d['dropout']))\n",
    "# print(stats.mannwhitneyu(intvcontrol_d['dropout'], intv4_d['dropout']))\n",
    "# print(stats.mannwhitneyu(intvcontrol_d['dropout'], intv5_d['dropout']))\n",
    "# print(stats.mannwhitneyu(intvcontrol_d['dropout'], intv6_d['dropout']))\n"
   ]
  },
  {
   "attachments": {},
   "cell_type": "markdown",
   "metadata": {},
   "source": [
    "Demographics class level"
   ]
  },
  {
   "cell_type": "code",
   "execution_count": null,
   "metadata": {},
   "outputs": [],
   "source": [
    "## split by class level\n",
    "\n",
    "final_5 = final.loc[final.Klassenstufe == '5']\n",
    "final_6 = final.loc[final.Klassenstufe == '6']\n",
    "final_7 = final.loc[final.Klassenstufe == '7']\n",
    "final_8 = final.loc[final.Klassenstufe == '8']\n",
    "final_9 = final.loc[final.Klassenstufe == '9']\n",
    "final_10 = final.loc[final.Klassenstufe == '10']\n",
    "final_11 = final.loc[final.Klassenstufe == '11']\n",
    "final_12 = final.loc[final.Klassenstufe == '12']\n",
    "final_13 = final.loc[final.Klassenstufe == '13']\n",
    "\n",
    "klassenliste = [final_5, final_6, final_7, final_8, final_9, final_10, final_11, final_12, final_13]\n",
    "\n",
    "for x in klassenliste:\n",
    "    intvcontrol = x[(x['interventiongroup']=='control')]\n",
    "    intv2 = x[(x['interventiongroup']=='2')]\n",
    "    intv3 = x[(x['interventiongroup']=='3')]\n",
    "    intv4 = x[(x['interventiongroup']=='4')]\n",
    "    intv5 = x[(x['interventiongroup']=='5')]\n",
    "    intv6 = x[(x['interventiongroup']=='6')]\n",
    "\n",
    "    # Kruskal Wallis Test \n",
    "    print(stats.kruskal(intvcontrol['dropout'], intv2['dropout'], intv3['dropout'],intv4['dropout'],intv5['dropout'],intv6['dropout']))\n"
   ]
  },
  {
   "cell_type": "code",
   "execution_count": null,
   "metadata": {},
   "outputs": [],
   "source": [
    "# carry out wilcoxon mann whitney test\n",
    "\n",
    "klassenliste = [final_5, final_6, final_8, final_9, final_10, final_11, final_12, final_13]\n",
    "\n",
    "for x in klassenliste:\n",
    "    intvcontrol = x[(x['interventiongroup']=='control')]\n",
    "    intv2 = x[(x['interventiongroup']=='2')]\n",
    "    intv3 = x[(x['interventiongroup']=='3')]\n",
    "    intv4 = x[(x['interventiongroup']=='4')]\n",
    "    intv5 = x[(x['interventiongroup']=='5')]\n",
    "    intv6 = x[(x['interventiongroup']=='6')]\n",
    "\n",
    "    #Wilcoxon Mann Whitney Test\n",
    "    print(stats.mannwhitneyu(intvcontrol['dropout'], intv2['dropout']))\n",
    "    print(stats.mannwhitneyu(intvcontrol['dropout'], intv3['dropout']))\n",
    "    print(stats.mannwhitneyu(intvcontrol['dropout'], intv4['dropout']))\n",
    "    print(stats.mannwhitneyu(intvcontrol['dropout'], intv5['dropout']))\n",
    "    print(stats.mannwhitneyu(intvcontrol['dropout'], intv6['dropout']))\n",
    "    print('--------------')"
   ]
  }
 ],
 "metadata": {
  "kernelspec": {
   "display_name": "Python 3.10.2 64-bit",
   "language": "python",
   "name": "python3"
  },
  "language_info": {
   "codemirror_mode": {
    "name": "ipython",
    "version": 3
   },
   "file_extension": ".py",
   "mimetype": "text/x-python",
   "name": "python",
   "nbconvert_exporter": "python",
   "pygments_lexer": "ipython3",
   "version": "3.10.2"
  },
  "orig_nbformat": 4,
  "vscode": {
   "interpreter": {
    "hash": "369f2c481f4da34e4445cda3fffd2e751bd1c4d706f27375911949ba6bb62e1c"
   }
  }
 },
 "nbformat": 4,
 "nbformat_minor": 2
}
