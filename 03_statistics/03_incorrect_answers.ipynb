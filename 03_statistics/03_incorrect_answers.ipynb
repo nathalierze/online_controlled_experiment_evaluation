{
 "cells": [
  {
   "cell_type": "code",
   "execution_count": 1,
   "metadata": {},
   "outputs": [
    {
     "name": "stderr",
     "output_type": "stream",
     "text": [
      "c:\\Python310\\lib\\site-packages\\outdated\\utils.py:14: OutdatedPackageWarning: The package pingouin is out of date. Your version is 0.5.2, the latest is 0.5.3.\n",
      "Set the environment variable OUTDATED_IGNORE=1 to disable these warnings.\n",
      "  return warn(\n",
      "c:\\Python310\\lib\\site-packages\\outdated\\utils.py:14: OutdatedPackageWarning: The package outdated is out of date. Your version is 0.2.1, the latest is 0.2.2.\n",
      "Set the environment variable OUTDATED_IGNORE=1 to disable these warnings.\n",
      "  return warn(\n"
     ]
    }
   ],
   "source": [
    "import pandas as pd\n",
    "import pickle\n",
    "from scipy import stats\n",
    "import pandas as pd\n",
    "import seaborn as sns\n",
    "import pingouin as pg\n",
    "import statsmodels.formula.api as s\n",
    "import statsmodels.api as sm\n",
    "from statsmodels.formula.api import ols\n"
   ]
  },
  {
   "cell_type": "code",
   "execution_count": 2,
   "metadata": {},
   "outputs": [],
   "source": [
    "final = pickle.load(open( '../00_data/final/incorrect_answers.pkl','rb') )"
   ]
  },
  {
   "cell_type": "code",
   "execution_count": 3,
   "metadata": {},
   "outputs": [],
   "source": [
    "intvcontrol = final[(final['interventiongroup']=='control')]\n",
    "intv2 = final[(final['interventiongroup']=='2')]\n",
    "intv3 = final[(final['interventiongroup']=='3')]\n",
    "intv4 = final[(final['interventiongroup']=='4')]\n",
    "intv5 = final[(final['interventiongroup']=='5')]\n",
    "intv6 = final[(final['interventiongroup']=='6')]"
   ]
  },
  {
   "cell_type": "markdown",
   "metadata": {},
   "source": [
    "Check assumptions"
   ]
  },
  {
   "cell_type": "code",
   "execution_count": 4,
   "metadata": {},
   "outputs": [
    {
     "data": {
      "text/plain": [
       "LeveneResult(statistic=17.10181111328221, pvalue=6.808097532502985e-17)"
      ]
     },
     "execution_count": 4,
     "metadata": {},
     "output_type": "execute_result"
    }
   ],
   "source": [
    "# Levenes homogeneity => homogeneity = not significant // significant = no homogeneity \n",
    "stats.levene(intvcontrol['prop_fehler'], intv2['prop_fehler'], intv3['prop_fehler'], intv4['prop_fehler'], intv5['prop_fehler'], intv6['prop_fehler'])"
   ]
  },
  {
   "cell_type": "code",
   "execution_count": 5,
   "metadata": {},
   "outputs": [
    {
     "name": "stdout",
     "output_type": "stream",
     "text": [
      "ShapiroResult(statistic=0.7264866232872009, pvalue=0.0)\n",
      "ShapiroResult(statistic=0.5711383819580078, pvalue=0.0)\n",
      "ShapiroResult(statistic=0.7002403736114502, pvalue=0.0)\n",
      "ShapiroResult(statistic=0.742385745048523, pvalue=0.0)\n",
      "ShapiroResult(statistic=0.7237004041671753, pvalue=0.0)\n",
      "ShapiroResult(statistic=0.7595332860946655, pvalue=1.1210387714598537e-44)\n"
     ]
    }
   ],
   "source": [
    "# Shapiro-Wilk test for normality => normality = not significant // significant = no normality \n",
    "print(stats.shapiro(intvcontrol['prop_fehler']))\n",
    "print(stats.shapiro(intv2['prop_fehler']))\n",
    "print(stats.shapiro(intv3['prop_fehler']))\n",
    "print(stats.shapiro(intv4['prop_fehler']))\n",
    "print(stats.shapiro(intv5['prop_fehler']))\n",
    "print(stats.shapiro(intv6['prop_fehler']))"
   ]
  },
  {
   "cell_type": "code",
   "execution_count": 6,
   "metadata": {},
   "outputs": [
    {
     "data": {
      "text/plain": [
       "<AxesSubplot:xlabel='prop_fehler', ylabel='Count'>"
      ]
     },
     "execution_count": 6,
     "metadata": {},
     "output_type": "execute_result"
    },
    {
     "data": {
      "image/png": "[encoded data removed]",
      "text/plain": [
       "<Figure size 432x288 with 1 Axes>"
      ]
     },
     "metadata": {
      "needs_background": "light"
     },
     "output_type": "display_data"
    }
   ],
   "source": [
    "sns.histplot(data=final, x=\"prop_fehler\")"
   ]
  },
  {
   "cell_type": "code",
   "execution_count": 7,
   "metadata": {},
   "outputs": [],
   "source": [
    "# # Fit and summarize ols model\n",
    "# model = ols('prop_fehler ~ C(interventiongroup)+C(Geschlecht)+C(interventiongroup):C(Geschlecht)',data=final).fit()\n",
    "# # type-1 anova summary \n",
    "# table_type_1 = sm.stats.anova_lm(model, typ=1)\n",
    "\n",
    "# # type-2 anova summary\n",
    "# table_type_2 = sm.stats.anova_lm(model, typ=2)\n",
    "# table_type_1"
   ]
  },
  {
   "cell_type": "code",
   "execution_count": 8,
   "metadata": {},
   "outputs": [],
   "source": [
    "# aov = pg.anova(data=final, dv='prop_fehler', between=['interventiongroup'], detailed=True)\n",
    "# print(aov)\n"
   ]
  },
  {
   "cell_type": "markdown",
   "metadata": {},
   "source": [
    "Übersicht Effektgroeßen"
   ]
  },
  {
   "cell_type": "code",
   "execution_count": 9,
   "metadata": {},
   "outputs": [
    {
     "data": {
      "text/html": [
       "<div>\n",
       "<style scoped>\n",
       "    .dataframe tbody tr th:only-of-type {\n",
       "        vertical-align: middle;\n",
       "    }\n",
       "\n",
       "    .dataframe tbody tr th {\n",
       "        vertical-align: top;\n",
       "    }\n",
       "\n",
       "    .dataframe thead th {\n",
       "        text-align: right;\n",
       "    }\n",
       "</style>\n",
       "<table border=\"1\" class=\"dataframe\">\n",
       "  <thead>\n",
       "    <tr style=\"text-align: right;\">\n",
       "      <th></th>\n",
       "      <th>prop_fehler</th>\n",
       "      <th>count</th>\n",
       "    </tr>\n",
       "    <tr>\n",
       "      <th>interventiongroup</th>\n",
       "      <th></th>\n",
       "      <th></th>\n",
       "    </tr>\n",
       "  </thead>\n",
       "  <tbody>\n",
       "    <tr>\n",
       "      <th>2</th>\n",
       "      <td>10.00</td>\n",
       "      <td>1835</td>\n",
       "    </tr>\n",
       "    <tr>\n",
       "      <th>3</th>\n",
       "      <td>10.00</td>\n",
       "      <td>1929</td>\n",
       "    </tr>\n",
       "    <tr>\n",
       "      <th>4</th>\n",
       "      <td>10.50</td>\n",
       "      <td>1910</td>\n",
       "    </tr>\n",
       "    <tr>\n",
       "      <th>5</th>\n",
       "      <td>9.00</td>\n",
       "      <td>1818</td>\n",
       "    </tr>\n",
       "    <tr>\n",
       "      <th>6</th>\n",
       "      <td>7.95</td>\n",
       "      <td>1733</td>\n",
       "    </tr>\n",
       "    <tr>\n",
       "      <th>control</th>\n",
       "      <td>12.00</td>\n",
       "      <td>2447</td>\n",
       "    </tr>\n",
       "  </tbody>\n",
       "</table>\n",
       "</div>"
      ],
      "text/plain": [
       "                   prop_fehler  count\n",
       "interventiongroup                    \n",
       "2                        10.00   1835\n",
       "3                        10.00   1929\n",
       "4                        10.50   1910\n",
       "5                         9.00   1818\n",
       "6                         7.95   1733\n",
       "control                  12.00   2447"
      ]
     },
     "execution_count": 9,
     "metadata": {},
     "output_type": "execute_result"
    }
   ],
   "source": [
    "prop_fehler_by_group = final.groupby(['interventiongroup']).agg({'prop_fehler':'median','Geschlecht':'count'})\n",
    "prop_fehler_by_group = prop_fehler_by_group.rename(columns={'Geschlecht':'count'})\n",
    "prop_fehler_by_group"
   ]
  },
  {
   "cell_type": "code",
   "execution_count": 10,
   "metadata": {},
   "outputs": [
    {
     "data": {
      "text/html": [
       "<div>\n",
       "<style scoped>\n",
       "    .dataframe tbody tr th:only-of-type {\n",
       "        vertical-align: middle;\n",
       "    }\n",
       "\n",
       "    .dataframe tbody tr th {\n",
       "        vertical-align: top;\n",
       "    }\n",
       "\n",
       "    .dataframe thead th {\n",
       "        text-align: right;\n",
       "    }\n",
       "</style>\n",
       "<table border=\"1\" class=\"dataframe\">\n",
       "  <thead>\n",
       "    <tr style=\"text-align: right;\">\n",
       "      <th></th>\n",
       "      <th></th>\n",
       "      <th>prop_fehler</th>\n",
       "      <th>count</th>\n",
       "    </tr>\n",
       "    <tr>\n",
       "      <th>Geschlecht</th>\n",
       "      <th>interventiongroup</th>\n",
       "      <th></th>\n",
       "      <th></th>\n",
       "    </tr>\n",
       "  </thead>\n",
       "  <tbody>\n",
       "    <tr>\n",
       "      <th rowspan=\"6\" valign=\"top\">d</th>\n",
       "      <th>2</th>\n",
       "      <td>10.000000</td>\n",
       "      <td>50</td>\n",
       "    </tr>\n",
       "    <tr>\n",
       "      <th>3</th>\n",
       "      <td>8.000000</td>\n",
       "      <td>66</td>\n",
       "    </tr>\n",
       "    <tr>\n",
       "      <th>4</th>\n",
       "      <td>12.000000</td>\n",
       "      <td>57</td>\n",
       "    </tr>\n",
       "    <tr>\n",
       "      <th>5</th>\n",
       "      <td>6.800000</td>\n",
       "      <td>68</td>\n",
       "    </tr>\n",
       "    <tr>\n",
       "      <th>6</th>\n",
       "      <td>7.000000</td>\n",
       "      <td>73</td>\n",
       "    </tr>\n",
       "    <tr>\n",
       "      <th>control</th>\n",
       "      <td>11.727273</td>\n",
       "      <td>79</td>\n",
       "    </tr>\n",
       "    <tr>\n",
       "      <th rowspan=\"6\" valign=\"top\">m</th>\n",
       "      <th>2</th>\n",
       "      <td>10.000000</td>\n",
       "      <td>864</td>\n",
       "    </tr>\n",
       "    <tr>\n",
       "      <th>3</th>\n",
       "      <td>10.000000</td>\n",
       "      <td>883</td>\n",
       "    </tr>\n",
       "    <tr>\n",
       "      <th>4</th>\n",
       "      <td>11.000000</td>\n",
       "      <td>935</td>\n",
       "    </tr>\n",
       "    <tr>\n",
       "      <th>5</th>\n",
       "      <td>10.000000</td>\n",
       "      <td>874</td>\n",
       "    </tr>\n",
       "    <tr>\n",
       "      <th>6</th>\n",
       "      <td>8.000000</td>\n",
       "      <td>830</td>\n",
       "    </tr>\n",
       "    <tr>\n",
       "      <th>control</th>\n",
       "      <td>12.250000</td>\n",
       "      <td>1165</td>\n",
       "    </tr>\n",
       "    <tr>\n",
       "      <th rowspan=\"6\" valign=\"top\">w</th>\n",
       "      <th>2</th>\n",
       "      <td>10.000000</td>\n",
       "      <td>921</td>\n",
       "    </tr>\n",
       "    <tr>\n",
       "      <th>3</th>\n",
       "      <td>10.000000</td>\n",
       "      <td>980</td>\n",
       "    </tr>\n",
       "    <tr>\n",
       "      <th>4</th>\n",
       "      <td>9.598214</td>\n",
       "      <td>918</td>\n",
       "    </tr>\n",
       "    <tr>\n",
       "      <th>5</th>\n",
       "      <td>8.654762</td>\n",
       "      <td>876</td>\n",
       "    </tr>\n",
       "    <tr>\n",
       "      <th>6</th>\n",
       "      <td>7.679487</td>\n",
       "      <td>830</td>\n",
       "    </tr>\n",
       "    <tr>\n",
       "      <th>control</th>\n",
       "      <td>12.000000</td>\n",
       "      <td>1203</td>\n",
       "    </tr>\n",
       "  </tbody>\n",
       "</table>\n",
       "</div>"
      ],
      "text/plain": [
       "                              prop_fehler  count\n",
       "Geschlecht interventiongroup                    \n",
       "d          2                    10.000000     50\n",
       "           3                     8.000000     66\n",
       "           4                    12.000000     57\n",
       "           5                     6.800000     68\n",
       "           6                     7.000000     73\n",
       "           control              11.727273     79\n",
       "m          2                    10.000000    864\n",
       "           3                    10.000000    883\n",
       "           4                    11.000000    935\n",
       "           5                    10.000000    874\n",
       "           6                     8.000000    830\n",
       "           control              12.250000   1165\n",
       "w          2                    10.000000    921\n",
       "           3                    10.000000    980\n",
       "           4                     9.598214    918\n",
       "           5                     8.654762    876\n",
       "           6                     7.679487    830\n",
       "           control              12.000000   1203"
      ]
     },
     "execution_count": 10,
     "metadata": {},
     "output_type": "execute_result"
    }
   ],
   "source": [
    "prop_fehler_by_group = final.groupby(['Geschlecht','interventiongroup']).agg({'prop_fehler':'median','Klassenstufe':'count'})\n",
    "prop_fehler_by_group = prop_fehler_by_group.rename(columns={'Klassenstufe':'count'})\n",
    "\n",
    "prop_fehler_by_group"
   ]
  },
  {
   "cell_type": "code",
   "execution_count": 11,
   "metadata": {},
   "outputs": [
    {
     "data": {
      "text/html": [
       "<div>\n",
       "<style scoped>\n",
       "    .dataframe tbody tr th:only-of-type {\n",
       "        vertical-align: middle;\n",
       "    }\n",
       "\n",
       "    .dataframe tbody tr th {\n",
       "        vertical-align: top;\n",
       "    }\n",
       "\n",
       "    .dataframe thead th {\n",
       "        text-align: right;\n",
       "    }\n",
       "</style>\n",
       "<table border=\"1\" class=\"dataframe\">\n",
       "  <thead>\n",
       "    <tr style=\"text-align: right;\">\n",
       "      <th></th>\n",
       "      <th></th>\n",
       "      <th>prop_fehler</th>\n",
       "      <th>count</th>\n",
       "    </tr>\n",
       "    <tr>\n",
       "      <th>Klassenstufe</th>\n",
       "      <th>interventiongroup</th>\n",
       "      <th></th>\n",
       "      <th></th>\n",
       "    </tr>\n",
       "  </thead>\n",
       "  <tbody>\n",
       "    <tr>\n",
       "      <th rowspan=\"6\" valign=\"top\">10</th>\n",
       "      <th>2</th>\n",
       "      <td>9.333333</td>\n",
       "      <td>176</td>\n",
       "    </tr>\n",
       "    <tr>\n",
       "      <th>3</th>\n",
       "      <td>9.000000</td>\n",
       "      <td>187</td>\n",
       "    </tr>\n",
       "    <tr>\n",
       "      <th>4</th>\n",
       "      <td>10.000000</td>\n",
       "      <td>175</td>\n",
       "    </tr>\n",
       "    <tr>\n",
       "      <th>5</th>\n",
       "      <td>9.000000</td>\n",
       "      <td>167</td>\n",
       "    </tr>\n",
       "    <tr>\n",
       "      <th>6</th>\n",
       "      <td>7.750000</td>\n",
       "      <td>167</td>\n",
       "    </tr>\n",
       "    <tr>\n",
       "      <th>control</th>\n",
       "      <td>10.708333</td>\n",
       "      <td>212</td>\n",
       "    </tr>\n",
       "    <tr>\n",
       "      <th rowspan=\"6\" valign=\"top\">11</th>\n",
       "      <th>2</th>\n",
       "      <td>8.000000</td>\n",
       "      <td>169</td>\n",
       "    </tr>\n",
       "    <tr>\n",
       "      <th>3</th>\n",
       "      <td>10.000000</td>\n",
       "      <td>176</td>\n",
       "    </tr>\n",
       "    <tr>\n",
       "      <th>4</th>\n",
       "      <td>9.000000</td>\n",
       "      <td>165</td>\n",
       "    </tr>\n",
       "    <tr>\n",
       "      <th>5</th>\n",
       "      <td>8.000000</td>\n",
       "      <td>151</td>\n",
       "    </tr>\n",
       "    <tr>\n",
       "      <th>6</th>\n",
       "      <td>8.000000</td>\n",
       "      <td>147</td>\n",
       "    </tr>\n",
       "    <tr>\n",
       "      <th>control</th>\n",
       "      <td>12.000000</td>\n",
       "      <td>207</td>\n",
       "    </tr>\n",
       "    <tr>\n",
       "      <th rowspan=\"6\" valign=\"top\">12</th>\n",
       "      <th>2</th>\n",
       "      <td>7.833333</td>\n",
       "      <td>55</td>\n",
       "    </tr>\n",
       "    <tr>\n",
       "      <th>3</th>\n",
       "      <td>6.000000</td>\n",
       "      <td>49</td>\n",
       "    </tr>\n",
       "    <tr>\n",
       "      <th>4</th>\n",
       "      <td>7.600000</td>\n",
       "      <td>41</td>\n",
       "    </tr>\n",
       "    <tr>\n",
       "      <th>5</th>\n",
       "      <td>8.250000</td>\n",
       "      <td>54</td>\n",
       "    </tr>\n",
       "    <tr>\n",
       "      <th>6</th>\n",
       "      <td>6.000000</td>\n",
       "      <td>44</td>\n",
       "    </tr>\n",
       "    <tr>\n",
       "      <th>control</th>\n",
       "      <td>9.000000</td>\n",
       "      <td>59</td>\n",
       "    </tr>\n",
       "    <tr>\n",
       "      <th rowspan=\"6\" valign=\"top\">13</th>\n",
       "      <th>2</th>\n",
       "      <td>9.437500</td>\n",
       "      <td>31</td>\n",
       "    </tr>\n",
       "    <tr>\n",
       "      <th>3</th>\n",
       "      <td>11.833333</td>\n",
       "      <td>24</td>\n",
       "    </tr>\n",
       "    <tr>\n",
       "      <th>4</th>\n",
       "      <td>8.000000</td>\n",
       "      <td>31</td>\n",
       "    </tr>\n",
       "    <tr>\n",
       "      <th>5</th>\n",
       "      <td>7.000000</td>\n",
       "      <td>26</td>\n",
       "    </tr>\n",
       "    <tr>\n",
       "      <th>6</th>\n",
       "      <td>7.321429</td>\n",
       "      <td>32</td>\n",
       "    </tr>\n",
       "    <tr>\n",
       "      <th>control</th>\n",
       "      <td>11.333333</td>\n",
       "      <td>43</td>\n",
       "    </tr>\n",
       "    <tr>\n",
       "      <th rowspan=\"6\" valign=\"top\">5</th>\n",
       "      <th>2</th>\n",
       "      <td>10.142857</td>\n",
       "      <td>194</td>\n",
       "    </tr>\n",
       "    <tr>\n",
       "      <th>3</th>\n",
       "      <td>12.750000</td>\n",
       "      <td>186</td>\n",
       "    </tr>\n",
       "    <tr>\n",
       "      <th>4</th>\n",
       "      <td>12.000000</td>\n",
       "      <td>206</td>\n",
       "    </tr>\n",
       "    <tr>\n",
       "      <th>5</th>\n",
       "      <td>9.000000</td>\n",
       "      <td>167</td>\n",
       "    </tr>\n",
       "    <tr>\n",
       "      <th>6</th>\n",
       "      <td>8.000000</td>\n",
       "      <td>182</td>\n",
       "    </tr>\n",
       "    <tr>\n",
       "      <th>control</th>\n",
       "      <td>13.416667</td>\n",
       "      <td>254</td>\n",
       "    </tr>\n",
       "    <tr>\n",
       "      <th rowspan=\"6\" valign=\"top\">6</th>\n",
       "      <th>2</th>\n",
       "      <td>11.607143</td>\n",
       "      <td>282</td>\n",
       "    </tr>\n",
       "    <tr>\n",
       "      <th>3</th>\n",
       "      <td>10.000000</td>\n",
       "      <td>289</td>\n",
       "    </tr>\n",
       "    <tr>\n",
       "      <th>4</th>\n",
       "      <td>10.500000</td>\n",
       "      <td>305</td>\n",
       "    </tr>\n",
       "    <tr>\n",
       "      <th>5</th>\n",
       "      <td>10.000000</td>\n",
       "      <td>278</td>\n",
       "    </tr>\n",
       "    <tr>\n",
       "      <th>6</th>\n",
       "      <td>8.000000</td>\n",
       "      <td>258</td>\n",
       "    </tr>\n",
       "    <tr>\n",
       "      <th>control</th>\n",
       "      <td>12.800000</td>\n",
       "      <td>353</td>\n",
       "    </tr>\n",
       "    <tr>\n",
       "      <th rowspan=\"6\" valign=\"top\">7</th>\n",
       "      <th>2</th>\n",
       "      <td>11.000000</td>\n",
       "      <td>259</td>\n",
       "    </tr>\n",
       "    <tr>\n",
       "      <th>3</th>\n",
       "      <td>11.000000</td>\n",
       "      <td>292</td>\n",
       "    </tr>\n",
       "    <tr>\n",
       "      <th>4</th>\n",
       "      <td>11.000000</td>\n",
       "      <td>344</td>\n",
       "    </tr>\n",
       "    <tr>\n",
       "      <th>5</th>\n",
       "      <td>10.250000</td>\n",
       "      <td>329</td>\n",
       "    </tr>\n",
       "    <tr>\n",
       "      <th>6</th>\n",
       "      <td>8.500000</td>\n",
       "      <td>293</td>\n",
       "    </tr>\n",
       "    <tr>\n",
       "      <th>control</th>\n",
       "      <td>12.033333</td>\n",
       "      <td>442</td>\n",
       "    </tr>\n",
       "    <tr>\n",
       "      <th rowspan=\"6\" valign=\"top\">8</th>\n",
       "      <th>2</th>\n",
       "      <td>10.000000</td>\n",
       "      <td>345</td>\n",
       "    </tr>\n",
       "    <tr>\n",
       "      <th>3</th>\n",
       "      <td>9.615385</td>\n",
       "      <td>393</td>\n",
       "    </tr>\n",
       "    <tr>\n",
       "      <th>4</th>\n",
       "      <td>11.333333</td>\n",
       "      <td>347</td>\n",
       "    </tr>\n",
       "    <tr>\n",
       "      <th>5</th>\n",
       "      <td>9.000000</td>\n",
       "      <td>323</td>\n",
       "    </tr>\n",
       "    <tr>\n",
       "      <th>6</th>\n",
       "      <td>7.916667</td>\n",
       "      <td>324</td>\n",
       "    </tr>\n",
       "    <tr>\n",
       "      <th>control</th>\n",
       "      <td>11.250000</td>\n",
       "      <td>462</td>\n",
       "    </tr>\n",
       "    <tr>\n",
       "      <th rowspan=\"6\" valign=\"top\">9</th>\n",
       "      <th>2</th>\n",
       "      <td>9.472222</td>\n",
       "      <td>324</td>\n",
       "    </tr>\n",
       "    <tr>\n",
       "      <th>3</th>\n",
       "      <td>10.000000</td>\n",
       "      <td>333</td>\n",
       "    </tr>\n",
       "    <tr>\n",
       "      <th>4</th>\n",
       "      <td>10.000000</td>\n",
       "      <td>296</td>\n",
       "    </tr>\n",
       "    <tr>\n",
       "      <th>5</th>\n",
       "      <td>9.333333</td>\n",
       "      <td>323</td>\n",
       "    </tr>\n",
       "    <tr>\n",
       "      <th>6</th>\n",
       "      <td>7.000000</td>\n",
       "      <td>286</td>\n",
       "    </tr>\n",
       "    <tr>\n",
       "      <th>control</th>\n",
       "      <td>12.000000</td>\n",
       "      <td>415</td>\n",
       "    </tr>\n",
       "  </tbody>\n",
       "</table>\n",
       "</div>"
      ],
      "text/plain": [
       "                                prop_fehler  count\n",
       "Klassenstufe interventiongroup                    \n",
       "10           2                     9.333333    176\n",
       "             3                     9.000000    187\n",
       "             4                    10.000000    175\n",
       "             5                     9.000000    167\n",
       "             6                     7.750000    167\n",
       "             control              10.708333    212\n",
       "11           2                     8.000000    169\n",
       "             3                    10.000000    176\n",
       "             4                     9.000000    165\n",
       "             5                     8.000000    151\n",
       "             6                     8.000000    147\n",
       "             control              12.000000    207\n",
       "12           2                     7.833333     55\n",
       "             3                     6.000000     49\n",
       "             4                     7.600000     41\n",
       "             5                     8.250000     54\n",
       "             6                     6.000000     44\n",
       "             control               9.000000     59\n",
       "13           2                     9.437500     31\n",
       "             3                    11.833333     24\n",
       "             4                     8.000000     31\n",
       "             5                     7.000000     26\n",
       "             6                     7.321429     32\n",
       "             control              11.333333     43\n",
       "5            2                    10.142857    194\n",
       "             3                    12.750000    186\n",
       "             4                    12.000000    206\n",
       "             5                     9.000000    167\n",
       "             6                     8.000000    182\n",
       "             control              13.416667    254\n",
       "6            2                    11.607143    282\n",
       "             3                    10.000000    289\n",
       "             4                    10.500000    305\n",
       "             5                    10.000000    278\n",
       "             6                     8.000000    258\n",
       "             control              12.800000    353\n",
       "7            2                    11.000000    259\n",
       "             3                    11.000000    292\n",
       "             4                    11.000000    344\n",
       "             5                    10.250000    329\n",
       "             6                     8.500000    293\n",
       "             control              12.033333    442\n",
       "8            2                    10.000000    345\n",
       "             3                     9.615385    393\n",
       "             4                    11.333333    347\n",
       "             5                     9.000000    323\n",
       "             6                     7.916667    324\n",
       "             control              11.250000    462\n",
       "9            2                     9.472222    324\n",
       "             3                    10.000000    333\n",
       "             4                    10.000000    296\n",
       "             5                     9.333333    323\n",
       "             6                     7.000000    286\n",
       "             control              12.000000    415"
      ]
     },
     "execution_count": 11,
     "metadata": {},
     "output_type": "execute_result"
    }
   ],
   "source": [
    "prop_fehler_by_group = final.groupby(['Klassenstufe','interventiongroup']).agg({'prop_fehler':'median','Geschlecht':'count'})\n",
    "prop_fehler_by_group = prop_fehler_by_group.rename(columns={'Geschlecht':'count'})\n",
    "\n",
    "prop_fehler_by_group"
   ]
  },
  {
   "cell_type": "markdown",
   "metadata": {},
   "source": [
    "Alle Daten"
   ]
  },
  {
   "cell_type": "code",
   "execution_count": 12,
   "metadata": {},
   "outputs": [
    {
     "data": {
      "text/plain": [
       "KruskalResult(statistic=187.5916770688063, pvalue=1.278058309793044e-38)"
      ]
     },
     "execution_count": 12,
     "metadata": {},
     "output_type": "execute_result"
    }
   ],
   "source": [
    "# Kruskal Wallis Test \n",
    "stats.kruskal(intvcontrol['prop_fehler'], intv2['prop_fehler'], intv3['prop_fehler'],intv4['prop_fehler'],intv5['prop_fehler'],intv6['prop_fehler'])\n"
   ]
  },
  {
   "cell_type": "code",
   "execution_count": 13,
   "metadata": {},
   "outputs": [
    {
     "name": "stdout",
     "output_type": "stream",
     "text": [
      "MannwhitneyuResult(statistic=2522807.0, pvalue=3.996059053380393e-12)\n",
      "MannwhitneyuResult(statistic=2642869.5, pvalue=9.426761013919426e-12)\n",
      "MannwhitneyuResult(statistic=2565388.0, pvalue=2.90512710702606e-08)\n",
      "MannwhitneyuResult(statistic=2514632.0, pvalue=2.8526073483274315e-13)\n",
      "MannwhitneyuResult(statistic=2643115.0, pvalue=3.85541934504446e-42)\n"
     ]
    }
   ],
   "source": [
    "#Wilcoxon Mann Whitney Test\n",
    "print(stats.mannwhitneyu(intvcontrol['prop_fehler'], intv2['prop_fehler']))\n",
    "print(stats.mannwhitneyu(intvcontrol['prop_fehler'], intv3['prop_fehler']))\n",
    "print(stats.mannwhitneyu(intvcontrol['prop_fehler'], intv4['prop_fehler']))\n",
    "print(stats.mannwhitneyu(intvcontrol['prop_fehler'], intv5['prop_fehler']))\n",
    "print(stats.mannwhitneyu(intvcontrol['prop_fehler'], intv6['prop_fehler']))\n"
   ]
  },
  {
   "cell_type": "code",
   "execution_count": 14,
   "metadata": {},
   "outputs": [
    {
     "data": {
      "text/plain": [
       "<AxesSubplot:xlabel='prop_fehler', ylabel='interventiongroup'>"
      ]
     },
     "execution_count": 14,
     "metadata": {},
     "output_type": "execute_result"
    },
    {
     "data": {
      "image/png": "[encoded data removed]",
      "text/plain": [
       "<Figure size 432x288 with 1 Axes>"
      ]
     },
     "metadata": {
      "needs_background": "light"
     },
     "output_type": "display_data"
    }
   ],
   "source": [
    "sns.boxplot(data=final, x=\"prop_fehler\", y=\"interventiongroup\",showfliers = False)#,hue='Geschlecht'\n"
   ]
  },
  {
   "cell_type": "code",
   "execution_count": 15,
   "metadata": {},
   "outputs": [
    {
     "data": {
      "text/plain": [
       "<AxesSubplot:xlabel='prop_fehler', ylabel='Geschlecht'>"
      ]
     },
     "execution_count": 15,
     "metadata": {},
     "output_type": "execute_result"
    },
    {
     "data": {
      "image/png": "[encoded data removed]",
      "text/plain": [
       "<Figure size 432x288 with 1 Axes>"
      ]
     },
     "metadata": {
      "needs_background": "light"
     },
     "output_type": "display_data"
    }
   ],
   "source": [
    "sns.boxplot(data=final, x=\"prop_fehler\", hue=\"interventiongroup\",y='Geschlecht',showfliers = False)\n"
   ]
  },
  {
   "cell_type": "markdown",
   "metadata": {},
   "source": [
    "Gender Demographics"
   ]
  },
  {
   "cell_type": "code",
   "execution_count": 16,
   "metadata": {},
   "outputs": [],
   "source": [
    "final_m = final.loc[final.Geschlecht == 'm']\n",
    "final_w = final.loc[final.Geschlecht == 'w']\n",
    "final_d = final.loc[final.Geschlecht == 'd']"
   ]
  },
  {
   "cell_type": "markdown",
   "metadata": {},
   "source": [
    "Jungen"
   ]
  },
  {
   "cell_type": "code",
   "execution_count": 17,
   "metadata": {},
   "outputs": [
    {
     "data": {
      "text/plain": [
       "KruskalResult(statistic=88.8980806718587, pvalue=1.1448700947751413e-17)"
      ]
     },
     "execution_count": 17,
     "metadata": {},
     "output_type": "execute_result"
    }
   ],
   "source": [
    "intvcontrol_m = final_m[(final_m['interventiongroup']=='control')]\n",
    "intv2_m = final_m[(final_m['interventiongroup']=='2')]\n",
    "intv3_m = final_m[(final_m['interventiongroup']=='3')]\n",
    "intv4_m = final_m[(final_m['interventiongroup']=='4')]\n",
    "intv5_m = final_m[(final_m['interventiongroup']=='5')]\n",
    "intv6_m = final_m[(final_m['interventiongroup']=='6')]\n",
    "\n",
    "# Kruskal Wallis Test \n",
    "stats.kruskal(intvcontrol_m['prop_fehler'], intv2_m['prop_fehler'], intv3_m['prop_fehler'],intv4_m['prop_fehler'],intv5_m['prop_fehler'],intv6_m['prop_fehler'])\n",
    "\n"
   ]
  },
  {
   "cell_type": "code",
   "execution_count": 18,
   "metadata": {},
   "outputs": [
    {
     "name": "stdout",
     "output_type": "stream",
     "text": [
      "MannwhitneyuResult(statistic=567961.5, pvalue=7.138959799153062e-07)\n",
      "MannwhitneyuResult(statistic=582520.0, pvalue=2.6811687910437267e-07)\n",
      "MannwhitneyuResult(statistic=585011.5, pvalue=0.0034566278337886933)\n",
      "MannwhitneyuResult(statistic=570249.5, pvalue=3.349344269639201e-06)\n",
      "MannwhitneyuResult(statistic=600697.5, pvalue=2.3613000342151007e-20)\n"
     ]
    }
   ],
   "source": [
    "#Wilcoxon Mann Whitney Test\n",
    "print(stats.mannwhitneyu(intvcontrol_m['prop_fehler'], intv2_m['prop_fehler']))\n",
    "print(stats.mannwhitneyu(intvcontrol_m['prop_fehler'], intv3_m['prop_fehler']))\n",
    "print(stats.mannwhitneyu(intvcontrol_m['prop_fehler'], intv4_m['prop_fehler']))\n",
    "print(stats.mannwhitneyu(intvcontrol_m['prop_fehler'], intv5_m['prop_fehler']))\n",
    "print(stats.mannwhitneyu(intvcontrol_m['prop_fehler'], intv6_m['prop_fehler']))\n"
   ]
  },
  {
   "cell_type": "code",
   "execution_count": 19,
   "metadata": {},
   "outputs": [
    {
     "data": {
      "text/plain": [
       "<AxesSubplot:xlabel='prop_fehler', ylabel='interventiongroup'>"
      ]
     },
     "execution_count": 19,
     "metadata": {},
     "output_type": "execute_result"
    },
    {
     "data": {
      "image/png": "[encoded data removed]",
      "text/plain": [
       "<Figure size 432x288 with 1 Axes>"
      ]
     },
     "metadata": {
      "needs_background": "light"
     },
     "output_type": "display_data"
    }
   ],
   "source": [
    "sns.boxplot(data=final_m, x=\"prop_fehler\", y=\"interventiongroup\",showfliers = False)\n"
   ]
  },
  {
   "cell_type": "markdown",
   "metadata": {},
   "source": [
    "Maedchen"
   ]
  },
  {
   "cell_type": "code",
   "execution_count": 20,
   "metadata": {},
   "outputs": [
    {
     "data": {
      "text/plain": [
       "KruskalResult(statistic=97.91293918250327, pvalue=1.4547609801609048e-19)"
      ]
     },
     "execution_count": 20,
     "metadata": {},
     "output_type": "execute_result"
    }
   ],
   "source": [
    "intvcontrol_w = final_w[(final_w['interventiongroup']=='control')]\n",
    "intv2_w = final_w[(final_w['interventiongroup']=='2')]\n",
    "intv3_w = final_w[(final_w['interventiongroup']=='3')]\n",
    "intv4_w = final_w[(final_w['interventiongroup']=='4')]\n",
    "intv5_w = final_w[(final_w['interventiongroup']=='5')]\n",
    "intv6_w = final_w[(final_w['interventiongroup']=='6')]\n",
    "\n",
    "# Kruskal Wallis Test \n",
    "stats.kruskal(intvcontrol_w['prop_fehler'], intv2_w['prop_fehler'], intv3_w['prop_fehler'],intv4_w['prop_fehler'],intv5_w['prop_fehler'],intv6_w['prop_fehler'])\n"
   ]
  },
  {
   "cell_type": "code",
   "execution_count": 21,
   "metadata": {},
   "outputs": [
    {
     "name": "stdout",
     "output_type": "stream",
     "text": [
      "MannwhitneyuResult(statistic=619535.5, pvalue=2.860894795184369e-06)\n",
      "MannwhitneyuResult(statistic=649666.0, pvalue=3.957281635059926e-05)\n",
      "MannwhitneyuResult(statistic=623058.0, pvalue=3.919004386692723e-07)\n",
      "MannwhitneyuResult(statistic=599913.5, pvalue=6.590231295567846e-08)\n",
      "MannwhitneyuResult(statistic=625222.5, pvalue=3.4921421403431483e-22)\n"
     ]
    }
   ],
   "source": [
    "#Wilcoxon Mann Whitney Test\n",
    "print(stats.mannwhitneyu(intvcontrol_w['prop_fehler'], intv2_w['prop_fehler']))\n",
    "print(stats.mannwhitneyu(intvcontrol_w['prop_fehler'], intv3_w['prop_fehler']))\n",
    "print(stats.mannwhitneyu(intvcontrol_w['prop_fehler'], intv4_w['prop_fehler']))\n",
    "print(stats.mannwhitneyu(intvcontrol_w['prop_fehler'], intv5_w['prop_fehler']))\n",
    "print(stats.mannwhitneyu(intvcontrol_w['prop_fehler'], intv6_w['prop_fehler']))\n"
   ]
  },
  {
   "cell_type": "code",
   "execution_count": 22,
   "metadata": {},
   "outputs": [
    {
     "data": {
      "text/plain": [
       "<AxesSubplot:xlabel='prop_fehler', ylabel='interventiongroup'>"
      ]
     },
     "execution_count": 22,
     "metadata": {},
     "output_type": "execute_result"
    },
    {
     "data": {
      "image/png": "[encoded data removed]",
      "text/plain": [
       "<Figure size 432x288 with 1 Axes>"
      ]
     },
     "metadata": {
      "needs_background": "light"
     },
     "output_type": "display_data"
    }
   ],
   "source": [
    "sns.boxplot(data=final_w, x=\"prop_fehler\", y=\"interventiongroup\",showfliers = False)"
   ]
  },
  {
   "cell_type": "markdown",
   "metadata": {},
   "source": [
    "Divers"
   ]
  },
  {
   "cell_type": "code",
   "execution_count": 23,
   "metadata": {},
   "outputs": [
    {
     "data": {
      "text/plain": [
       "KruskalResult(statistic=9.23797399116189, pvalue=0.09994043289814702)"
      ]
     },
     "execution_count": 23,
     "metadata": {},
     "output_type": "execute_result"
    }
   ],
   "source": [
    "intvcontrol_d = final_d[(final_d['interventiongroup']=='control')]\n",
    "intv2_d = final_d[(final_d['interventiongroup']=='2')]\n",
    "intv3_d = final_d[(final_d['interventiongroup']=='3')]\n",
    "intv4_d = final_d[(final_d['interventiongroup']=='4')]\n",
    "intv5_d = final_d[(final_d['interventiongroup']=='5')]\n",
    "intv6_d = final_d[(final_d['interventiongroup']=='6')]\n",
    "\n",
    "# Kruskal Wallis Test \n",
    "stats.kruskal(intvcontrol_d['prop_fehler'], intv2_d['prop_fehler'], intv3_d['prop_fehler'],intv4_d['prop_fehler'],intv5_d['prop_fehler'],intv6_d['prop_fehler'])\n"
   ]
  },
  {
   "cell_type": "code",
   "execution_count": 24,
   "metadata": {},
   "outputs": [
    {
     "name": "stdout",
     "output_type": "stream",
     "text": [
      "MannwhitneyuResult(statistic=2202.0, pvalue=0.27337245532079024)\n",
      "MannwhitneyuResult(statistic=3108.0, pvalue=0.04678450190809122)\n",
      "MannwhitneyuResult(statistic=2268.5, pvalue=0.9419655022792591)\n",
      "MannwhitneyuResult(statistic=3135.5, pvalue=0.08091551304430175)\n",
      "MannwhitneyuResult(statistic=3520.0, pvalue=0.018955292198109645)\n"
     ]
    }
   ],
   "source": [
    "#Wilcoxon Mann Whitney Test\n",
    "print(stats.mannwhitneyu(intvcontrol_d['prop_fehler'], intv2_d['prop_fehler']))\n",
    "print(stats.mannwhitneyu(intvcontrol_d['prop_fehler'], intv3_d['prop_fehler']))\n",
    "print(stats.mannwhitneyu(intvcontrol_d['prop_fehler'], intv4_d['prop_fehler']))\n",
    "print(stats.mannwhitneyu(intvcontrol_d['prop_fehler'], intv5_d['prop_fehler']))\n",
    "print(stats.mannwhitneyu(intvcontrol_d['prop_fehler'], intv6_d['prop_fehler']))\n"
   ]
  },
  {
   "cell_type": "code",
   "execution_count": 26,
   "metadata": {},
   "outputs": [
    {
     "data": {
      "text/plain": [
       "[Text(0.5, 0, 'Incorrect answers'), Text(0, 0.5, 'Intervention group')]"
      ]
     },
     "execution_count": 26,
     "metadata": {},
     "output_type": "execute_result"
    },
    {
     "data": {
      "image/png": "[encoded data removed]",
      "text/plain": [
       "<Figure size 432x288 with 1 Axes>"
      ]
     },
     "metadata": {
      "needs_background": "light"
     },
     "output_type": "display_data"
    }
   ],
   "source": [
    "gr = sns.boxplot(data=final_d, x=\"prop_fehler\", y=\"interventiongroup\",showfliers = False)\n",
    "gr.set(xlabel =\"Incorrect answers\", ylabel = \"Intervention group\")\n"
   ]
  },
  {
   "cell_type": "markdown",
   "metadata": {},
   "source": [
    "Demographics Klassenstufe"
   ]
  },
  {
   "cell_type": "code",
   "execution_count": null,
   "metadata": {},
   "outputs": [
    {
     "name": "stdout",
     "output_type": "stream",
     "text": [
      "KruskalResult(statistic=26.127963665169766, pvalue=8.427837475942187e-05)\n",
      "KruskalResult(statistic=23.47320522882372, pvalue=0.000274019809230039)\n",
      "KruskalResult(statistic=25.66662982035462, pvalue=0.0001035493201221223)\n",
      "KruskalResult(statistic=34.41197796481034, pvalue=1.971069615549076e-06)\n",
      "KruskalResult(statistic=53.29660894383976, pvalue=2.923247214428506e-10)\n",
      "KruskalResult(statistic=20.775392558934005, pvalue=0.0008931417002862665)\n",
      "KruskalResult(statistic=22.673153497336557, pvalue=0.0003897501992315538)\n",
      "KruskalResult(statistic=6.966921996029361, pvalue=0.2231120086768867)\n",
      "KruskalResult(statistic=7.9781298510754945, pvalue=0.15744506029104643)\n"
     ]
    }
   ],
   "source": [
    "final_5 = final.loc[final.Klassenstufe == '5']\n",
    "final_6 = final.loc[final.Klassenstufe == '6']\n",
    "final_7 = final.loc[final.Klassenstufe == '7']\n",
    "final_8 = final.loc[final.Klassenstufe == '8']\n",
    "final_9 = final.loc[final.Klassenstufe == '9']\n",
    "final_10 = final.loc[final.Klassenstufe == '10']\n",
    "final_11 = final.loc[final.Klassenstufe == '11']\n",
    "final_12 = final.loc[final.Klassenstufe == '12']\n",
    "final_13 = final.loc[final.Klassenstufe == '13']\n",
    "\n",
    "klassenliste = [final_5, final_6, final_7, final_8, final_9, final_10, final_11, final_12, final_13]\n",
    "\n",
    "for x in klassenliste:\n",
    "    intvcontrol = x[(x['interventiongroup']=='control')]\n",
    "    intv2 = x[(x['interventiongroup']=='2')]\n",
    "    intv3 = x[(x['interventiongroup']=='3')]\n",
    "    intv4 = x[(x['interventiongroup']=='4')]\n",
    "    intv5 = x[(x['interventiongroup']=='5')]\n",
    "    intv6 = x[(x['interventiongroup']=='6')]\n",
    "\n",
    "    # Kruskal Wallis Test \n",
    "    print(stats.kruskal(intvcontrol['prop_fehler'], intv2['prop_fehler'], intv3['prop_fehler'],intv4['prop_fehler'],intv5['prop_fehler'],intv6['prop_fehler']))\n"
   ]
  },
  {
   "cell_type": "code",
   "execution_count": null,
   "metadata": {},
   "outputs": [
    {
     "name": "stdout",
     "output_type": "stream",
     "text": [
      "MannwhitneyuResult(statistic=27637.0, pvalue=0.027196665806396018)\n",
      "MannwhitneyuResult(statistic=26045.5, pvalue=0.06587703022887151)\n",
      "MannwhitneyuResult(statistic=27995.5, pvalue=0.1959864455676419)\n",
      "MannwhitneyuResult(statistic=25261.0, pvalue=0.0009068161944731832)\n",
      "MannwhitneyuResult(statistic=29430.5, pvalue=1.1229897410925748e-06)\n",
      "--------------\n",
      "MannwhitneyuResult(statistic=53352.5, pvalue=0.11914249074976836)\n",
      "MannwhitneyuResult(statistic=57045.5, pvalue=0.009811071340580454)\n",
      "MannwhitneyuResult(statistic=60888.0, pvalue=0.0037080196623966444)\n",
      "MannwhitneyuResult(statistic=54893.5, pvalue=0.01037171332420872)\n",
      "MannwhitneyuResult(statistic=55544.5, pvalue=3.415080934607445e-06)\n",
      "--------------\n",
      "MannwhitneyuResult(statistic=64233.5, pvalue=0.0068710949285664714)\n",
      "MannwhitneyuResult(statistic=71602.5, pvalue=0.011903992173256179)\n",
      "MannwhitneyuResult(statistic=85323.0, pvalue=0.003229059534463344)\n",
      "MannwhitneyuResult(statistic=81277.0, pvalue=0.0050859915126414855)\n",
      "MannwhitneyuResult(statistic=78620.0, pvalue=8.615204787781486e-07)\n",
      "--------------\n",
      "MannwhitneyuResult(statistic=85950.5, pvalue=0.05618724375700701)\n",
      "MannwhitneyuResult(statistic=99671.5, pvalue=0.013510639270618647)\n",
      "MannwhitneyuResult(statistic=82249.5, pvalue=0.5247638322742998)\n",
      "MannwhitneyuResult(statistic=84845.0, pvalue=0.001063326427156739)\n",
      "MannwhitneyuResult(statistic=91148.0, pvalue=1.9469392892971148e-07)\n",
      "--------------\n"
     ]
    }
   ],
   "source": [
    "klassenliste = [final_5, final_6, final_7, final_8]\n",
    "\n",
    "for x in klassenliste:\n",
    "    intvcontrol = x[(x['interventiongroup']=='control')]\n",
    "    intv2 = x[(x['interventiongroup']=='2')]\n",
    "    intv3 = x[(x['interventiongroup']=='3')]\n",
    "    intv4 = x[(x['interventiongroup']=='4')]\n",
    "    intv5 = x[(x['interventiongroup']=='5')]\n",
    "    intv6 = x[(x['interventiongroup']=='6')]\n",
    "\n",
    "    #Wilcoxon Mann Whitney Test\n",
    "    print(stats.mannwhitneyu(intvcontrol['prop_fehler'], intv2['prop_fehler']))\n",
    "    print(stats.mannwhitneyu(intvcontrol['prop_fehler'], intv3['prop_fehler']))\n",
    "    print(stats.mannwhitneyu(intvcontrol['prop_fehler'], intv4['prop_fehler']))\n",
    "    print(stats.mannwhitneyu(intvcontrol['prop_fehler'], intv5['prop_fehler']))\n",
    "    print(stats.mannwhitneyu(intvcontrol['prop_fehler'], intv6['prop_fehler']))\n",
    "    print('--------------')\n",
    "\n",
    "\n"
   ]
  },
  {
   "cell_type": "code",
   "execution_count": null,
   "metadata": {},
   "outputs": [
    {
     "name": "stdout",
     "output_type": "stream",
     "text": [
      "MannwhitneyuResult(statistic=77877.0, pvalue=0.00021739409505905908)\n",
      "MannwhitneyuResult(statistic=77157.0, pvalue=0.006063296921733136)\n",
      "MannwhitneyuResult(statistic=67461.0, pvalue=0.02523354940745512)\n",
      "MannwhitneyuResult(statistic=74518.5, pvalue=0.009075112832577947)\n",
      "MannwhitneyuResult(statistic=78434.0, pvalue=4.306645557304548e-13)\n",
      "--------------\n",
      "MannwhitneyuResult(statistic=21143.0, pvalue=0.023745478155991945)\n",
      "MannwhitneyuResult(statistic=23468.5, pvalue=0.0015125449254752728)\n",
      "MannwhitneyuResult(statistic=19693.0, pvalue=0.29681171595418154)\n",
      "MannwhitneyuResult(statistic=19134.0, pvalue=0.1762978853318251)\n",
      "MannwhitneyuResult(statistic=21980.0, pvalue=5.334557638163542e-05)\n",
      "--------------\n",
      "MannwhitneyuResult(statistic=21472.5, pvalue=0.00014603957180598983)\n",
      "MannwhitneyuResult(statistic=20362.5, pvalue=0.04682045529720143)\n",
      "MannwhitneyuResult(statistic=20305.5, pvalue=0.0017308091795221908)\n",
      "MannwhitneyuResult(statistic=18725.0, pvalue=0.0013629854377331708)\n",
      "MannwhitneyuResult(statistic=18831.0, pvalue=0.00013791640199093544)\n",
      "--------------\n"
     ]
    }
   ],
   "source": [
    "klassenliste = [final_9, final_10, final_11]\n",
    "\n",
    "for x in klassenliste:\n",
    "    intvcontrol = x[(x['interventiongroup']=='control')]\n",
    "    intv2 = x[(x['interventiongroup']=='2')]\n",
    "    intv3 = x[(x['interventiongroup']=='3')]\n",
    "    intv4 = x[(x['interventiongroup']=='4')]\n",
    "    intv5 = x[(x['interventiongroup']=='5')]\n",
    "    intv6 = x[(x['interventiongroup']=='6')]\n",
    "\n",
    "    #Wilcoxon Mann Whitney Test\n",
    "    print(stats.mannwhitneyu(intvcontrol['prop_fehler'], intv2['prop_fehler']))\n",
    "    print(stats.mannwhitneyu(intvcontrol['prop_fehler'], intv3['prop_fehler']))\n",
    "    print(stats.mannwhitneyu(intvcontrol['prop_fehler'], intv4['prop_fehler']))\n",
    "    print(stats.mannwhitneyu(intvcontrol['prop_fehler'], intv5['prop_fehler']))\n",
    "    print(stats.mannwhitneyu(intvcontrol['prop_fehler'], intv6['prop_fehler']))\n",
    "    print('--------------')\n",
    "\n",
    "\n"
   ]
  },
  {
   "cell_type": "code",
   "execution_count": null,
   "metadata": {},
   "outputs": [],
   "source": [
    "# print(sns.boxplot(data=final_5, x=\"prop_fehler\", y=\"interventiongroup\",showfliers = False))"
   ]
  },
  {
   "cell_type": "code",
   "execution_count": null,
   "metadata": {},
   "outputs": [],
   "source": [
    "# print(sns.boxplot(data=final_8, x=\"prop_fehler\", y=\"interventiongroup\",showfliers = False))"
   ]
  },
  {
   "cell_type": "code",
   "execution_count": null,
   "metadata": {},
   "outputs": [],
   "source": [
    "# print(sns.boxplot(data=final_9, x=\"prop_fehler\", y=\"interventiongroup\",showfliers = False))"
   ]
  }
 ],
 "metadata": {
  "kernelspec": {
   "display_name": "Python 3.10.2 64-bit",
   "language": "python",
   "name": "python3"
  },
  "language_info": {
   "codemirror_mode": {
    "name": "ipython",
    "version": 3
   },
   "file_extension": ".py",
   "mimetype": "text/x-python",
   "name": "python",
   "nbconvert_exporter": "python",
   "pygments_lexer": "ipython3",
   "version": "3.10.2"
  },
  "orig_nbformat": 4,
  "vscode": {
   "interpreter": {
    "hash": "369f2c481f4da34e4445cda3fffd2e751bd1c4d706f27375911949ba6bb62e1c"
   }
  }
 },
 "nbformat": 4,
 "nbformat_minor": 2
}
