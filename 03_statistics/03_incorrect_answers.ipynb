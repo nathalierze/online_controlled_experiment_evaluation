{
 "cells": [
  {
   "cell_type": "code",
   "execution_count": null,
   "metadata": {},
   "outputs": [],
   "source": [
    "import pandas as pd\n",
    "import pickle\n",
    "from scipy import stats\n",
    "import pandas as pd\n",
    "import seaborn as sns\n",
    "import pingouin as pg\n",
    "import statsmodels.formula.api as s\n",
    "import statsmodels.api as sm\n",
    "from statsmodels.formula.api import ols\n"
   ]
  },
  {
   "cell_type": "code",
   "execution_count": null,
   "metadata": {},
   "outputs": [],
   "source": [
    "# load data\n",
    "final = pickle.load(open( '../00_data/final/incorrect_answers.pkl','rb') )\n",
    "\n",
    "# split by interventiongroup\n",
    "intvcontrol = final[(final['interventiongroup']=='control')]\n",
    "intv2 = final[(final['interventiongroup']=='2')]\n",
    "intv3 = final[(final['interventiongroup']=='3')]\n",
    "intv4 = final[(final['interventiongroup']=='4')]\n",
    "intv5 = final[(final['interventiongroup']=='5')]\n",
    "intv6 = final[(final['interventiongroup']=='6')]"
   ]
  },
  {
   "cell_type": "markdown",
   "metadata": {},
   "source": [
    "Check assumptions"
   ]
  },
  {
   "cell_type": "code",
   "execution_count": null,
   "metadata": {},
   "outputs": [],
   "source": [
    "# Levenes homogeneity \n",
    "stats.levene(intvcontrol['prop_fehler'], intv2['prop_fehler'], intv3['prop_fehler'], intv4['prop_fehler'], intv5['prop_fehler'], intv6['prop_fehler'])"
   ]
  },
  {
   "cell_type": "code",
   "execution_count": null,
   "metadata": {},
   "outputs": [],
   "source": [
    "# Shapiro-Wilk test for normality \n",
    "print(stats.shapiro(intvcontrol['prop_fehler']))\n",
    "print(stats.shapiro(intv2['prop_fehler']))\n",
    "print(stats.shapiro(intv3['prop_fehler']))\n",
    "print(stats.shapiro(intv4['prop_fehler']))\n",
    "print(stats.shapiro(intv5['prop_fehler']))\n",
    "print(stats.shapiro(intv6['prop_fehler']))"
   ]
  },
  {
   "cell_type": "code",
   "execution_count": null,
   "metadata": {},
   "outputs": [],
   "source": [
    "# plot histogram\n",
    "sns.histplot(data=final, x=\"prop_fehler\")"
   ]
  },
  {
   "attachments": {},
   "cell_type": "markdown",
   "metadata": {},
   "source": [
    "Effect sizes"
   ]
  },
  {
   "cell_type": "code",
   "execution_count": null,
   "metadata": {},
   "outputs": [],
   "source": [
    "# get effect size by interventiongroup\n",
    "prop_fehler_by_group = final.groupby(['interventiongroup']).agg({'prop_fehler':'median','Geschlecht':'count'})\n",
    "prop_fehler_by_group = prop_fehler_by_group.rename(columns={'Geschlecht':'count'})"
   ]
  },
  {
   "cell_type": "code",
   "execution_count": null,
   "metadata": {},
   "outputs": [],
   "source": [
    "# get effect size by interventiongroup and gender\n",
    "prop_fehler_by_group = final.groupby(['Geschlecht','interventiongroup']).agg({'prop_fehler':'median','Klassenstufe':'count'})\n",
    "prop_fehler_by_group = prop_fehler_by_group.rename(columns={'Klassenstufe':'count'})"
   ]
  },
  {
   "cell_type": "code",
   "execution_count": null,
   "metadata": {},
   "outputs": [],
   "source": [
    "# get effect size by interventiongroup and class level\n",
    "prop_fehler_by_group = final.groupby(['Klassenstufe','interventiongroup']).agg({'prop_fehler':'median','Geschlecht':'count'})\n",
    "prop_fehler_by_group = prop_fehler_by_group.rename(columns={'Geschlecht':'count'})"
   ]
  },
  {
   "attachments": {},
   "cell_type": "markdown",
   "metadata": {},
   "source": [
    "Check significance"
   ]
  },
  {
   "cell_type": "code",
   "execution_count": null,
   "metadata": {},
   "outputs": [],
   "source": [
    "# Kruskal Wallis Test \n",
    "stats.kruskal(intvcontrol['prop_fehler'], intv2['prop_fehler'], intv3['prop_fehler'],intv4['prop_fehler'],intv5['prop_fehler'],intv6['prop_fehler'])"
   ]
  },
  {
   "cell_type": "code",
   "execution_count": null,
   "metadata": {},
   "outputs": [],
   "source": [
    "#Wilcoxon Mann Whitney Test\n",
    "print(stats.mannwhitneyu(intvcontrol['prop_fehler'], intv2['prop_fehler']))\n",
    "print(stats.mannwhitneyu(intvcontrol['prop_fehler'], intv3['prop_fehler']))\n",
    "print(stats.mannwhitneyu(intvcontrol['prop_fehler'], intv4['prop_fehler']))\n",
    "print(stats.mannwhitneyu(intvcontrol['prop_fehler'], intv5['prop_fehler']))\n",
    "print(stats.mannwhitneyu(intvcontrol['prop_fehler'], intv6['prop_fehler']))"
   ]
  },
  {
   "cell_type": "code",
   "execution_count": null,
   "metadata": {},
   "outputs": [],
   "source": [
    "# boxplot by interventiongroup\n",
    "sns.boxplot(data=final, x=\"prop_fehler\", y=\"interventiongroup\",showfliers = False)#,hue='Geschlecht'\n"
   ]
  },
  {
   "cell_type": "code",
   "execution_count": null,
   "metadata": {},
   "outputs": [],
   "source": [
    "# boxplot by interventiongroup and gender\n",
    "sns.boxplot(data=final, x=\"prop_fehler\", hue=\"interventiongroup\",y='Geschlecht',showfliers = False)"
   ]
  },
  {
   "cell_type": "markdown",
   "metadata": {},
   "source": [
    "Gender Demographics"
   ]
  },
  {
   "cell_type": "code",
   "execution_count": null,
   "metadata": {},
   "outputs": [],
   "source": [
    "# split by gender\n",
    "final_m = final.loc[final.Geschlecht == 'm']\n",
    "final_w = final.loc[final.Geschlecht == 'w']\n",
    "final_d = final.loc[final.Geschlecht == 'd']"
   ]
  },
  {
   "attachments": {},
   "cell_type": "markdown",
   "metadata": {},
   "source": [
    "Boys"
   ]
  },
  {
   "cell_type": "code",
   "execution_count": null,
   "metadata": {},
   "outputs": [],
   "source": [
    "# split by interventiongroup\n",
    "intvcontrol_m = final_m[(final_m['interventiongroup']=='control')]\n",
    "intv2_m = final_m[(final_m['interventiongroup']=='2')]\n",
    "intv3_m = final_m[(final_m['interventiongroup']=='3')]\n",
    "intv4_m = final_m[(final_m['interventiongroup']=='4')]\n",
    "intv5_m = final_m[(final_m['interventiongroup']=='5')]\n",
    "intv6_m = final_m[(final_m['interventiongroup']=='6')]\n",
    "\n",
    "# Kruskal Wallis Test \n",
    "stats.kruskal(intvcontrol_m['prop_fehler'], intv2_m['prop_fehler'], intv3_m['prop_fehler'],intv4_m['prop_fehler'],intv5_m['prop_fehler'],intv6_m['prop_fehler'])"
   ]
  },
  {
   "cell_type": "code",
   "execution_count": null,
   "metadata": {},
   "outputs": [],
   "source": [
    "#Wilcoxon Mann Whitney Test\n",
    "print(stats.mannwhitneyu(intvcontrol_m['prop_fehler'], intv2_m['prop_fehler']))\n",
    "print(stats.mannwhitneyu(intvcontrol_m['prop_fehler'], intv3_m['prop_fehler']))\n",
    "print(stats.mannwhitneyu(intvcontrol_m['prop_fehler'], intv4_m['prop_fehler']))\n",
    "print(stats.mannwhitneyu(intvcontrol_m['prop_fehler'], intv5_m['prop_fehler']))\n",
    "print(stats.mannwhitneyu(intvcontrol_m['prop_fehler'], intv6_m['prop_fehler']))"
   ]
  },
  {
   "cell_type": "code",
   "execution_count": null,
   "metadata": {},
   "outputs": [],
   "source": [
    "# boxplot by prop fehler and interventiongroup\n",
    "sns.boxplot(data=final_m, x=\"prop_fehler\", y=\"interventiongroup\",showfliers = False)"
   ]
  },
  {
   "attachments": {},
   "cell_type": "markdown",
   "metadata": {},
   "source": [
    "Girls"
   ]
  },
  {
   "cell_type": "code",
   "execution_count": null,
   "metadata": {},
   "outputs": [],
   "source": [
    "# split by interventiongroup\n",
    "intvcontrol_w = final_w[(final_w['interventiongroup']=='control')]\n",
    "intv2_w = final_w[(final_w['interventiongroup']=='2')]\n",
    "intv3_w = final_w[(final_w['interventiongroup']=='3')]\n",
    "intv4_w = final_w[(final_w['interventiongroup']=='4')]\n",
    "intv5_w = final_w[(final_w['interventiongroup']=='5')]\n",
    "intv6_w = final_w[(final_w['interventiongroup']=='6')]\n",
    "\n",
    "# Kruskal Wallis Test \n",
    "stats.kruskal(intvcontrol_w['prop_fehler'], intv2_w['prop_fehler'], intv3_w['prop_fehler'],intv4_w['prop_fehler'],intv5_w['prop_fehler'],intv6_w['prop_fehler'])\n"
   ]
  },
  {
   "cell_type": "code",
   "execution_count": null,
   "metadata": {},
   "outputs": [],
   "source": [
    "#Wilcoxon Mann Whitney Test\n",
    "print(stats.mannwhitneyu(intvcontrol_w['prop_fehler'], intv2_w['prop_fehler']))\n",
    "print(stats.mannwhitneyu(intvcontrol_w['prop_fehler'], intv3_w['prop_fehler']))\n",
    "print(stats.mannwhitneyu(intvcontrol_w['prop_fehler'], intv4_w['prop_fehler']))\n",
    "print(stats.mannwhitneyu(intvcontrol_w['prop_fehler'], intv5_w['prop_fehler']))\n",
    "print(stats.mannwhitneyu(intvcontrol_w['prop_fehler'], intv6_w['prop_fehler']))"
   ]
  },
  {
   "cell_type": "code",
   "execution_count": null,
   "metadata": {},
   "outputs": [],
   "source": [
    "# boxplot prop fehler / interventiongroup\n",
    "sns.boxplot(data=final_w, x=\"prop_fehler\", y=\"interventiongroup\",showfliers = False)"
   ]
  },
  {
   "cell_type": "markdown",
   "metadata": {},
   "source": [
    "Divers"
   ]
  },
  {
   "cell_type": "code",
   "execution_count": null,
   "metadata": {},
   "outputs": [],
   "source": [
    "# intvcontrol_d = final_d[(final_d['interventiongroup']=='control')]\n",
    "# intv2_d = final_d[(final_d['interventiongroup']=='2')]\n",
    "# intv3_d = final_d[(final_d['interventiongroup']=='3')]\n",
    "# intv4_d = final_d[(final_d['interventiongroup']=='4')]\n",
    "# intv5_d = final_d[(final_d['interventiongroup']=='5')]\n",
    "# intv6_d = final_d[(final_d['interventiongroup']=='6')]\n",
    "\n",
    "# # Kruskal Wallis Test \n",
    "# stats.kruskal(intvcontrol_d['prop_fehler'], intv2_d['prop_fehler'], intv3_d['prop_fehler'],intv4_d['prop_fehler'],intv5_d['prop_fehler'],intv6_d['prop_fehler'])\n",
    "\n",
    "# #Wilcoxon Mann Whitney Test\n",
    "# print(stats.mannwhitneyu(intvcontrol_d['prop_fehler'], intv2_d['prop_fehler']))\n",
    "# print(stats.mannwhitneyu(intvcontrol_d['prop_fehler'], intv3_d['prop_fehler']))\n",
    "# print(stats.mannwhitneyu(intvcontrol_d['prop_fehler'], intv4_d['prop_fehler']))\n",
    "# print(stats.mannwhitneyu(intvcontrol_d['prop_fehler'], intv5_d['prop_fehler']))\n",
    "# print(stats.mannwhitneyu(intvcontrol_d['prop_fehler'], intv6_d['prop_fehler']))\n",
    "\n",
    "# gr = sns.boxplot(data=final_d, x=\"prop_fehler\", y=\"interventiongroup\",showfliers = False)\n",
    "# gr.set(xlabel =\"Incorrect answers\", ylabel = \"Intervention group\")"
   ]
  },
  {
   "cell_type": "markdown",
   "metadata": {},
   "source": [
    "Demographics Klassenstufe"
   ]
  },
  {
   "cell_type": "code",
   "execution_count": null,
   "metadata": {},
   "outputs": [],
   "source": [
    "# split by class level\n",
    "final_5 = final.loc[final.Klassenstufe == '5']\n",
    "final_6 = final.loc[final.Klassenstufe == '6']\n",
    "final_7 = final.loc[final.Klassenstufe == '7']\n",
    "final_8 = final.loc[final.Klassenstufe == '8']\n",
    "final_9 = final.loc[final.Klassenstufe == '9']\n",
    "final_10 = final.loc[final.Klassenstufe == '10']\n",
    "final_11 = final.loc[final.Klassenstufe == '11']\n",
    "final_12 = final.loc[final.Klassenstufe == '12']\n",
    "final_13 = final.loc[final.Klassenstufe == '13']\n",
    "\n",
    "klassenliste = [final_5, final_6, final_7, final_8, final_9, final_10, final_11, final_12, final_13]\n",
    "\n",
    "for x in klassenliste:\n",
    "    intvcontrol = x[(x['interventiongroup']=='control')]\n",
    "    intv2 = x[(x['interventiongroup']=='2')]\n",
    "    intv3 = x[(x['interventiongroup']=='3')]\n",
    "    intv4 = x[(x['interventiongroup']=='4')]\n",
    "    intv5 = x[(x['interventiongroup']=='5')]\n",
    "    intv6 = x[(x['interventiongroup']=='6')]\n",
    "\n",
    "    # Kruskal Wallis Test \n",
    "    print(stats.kruskal(intvcontrol['prop_fehler'], intv2['prop_fehler'], intv3['prop_fehler'],intv4['prop_fehler'],intv5['prop_fehler'],intv6['prop_fehler']))\n"
   ]
  },
  {
   "cell_type": "code",
   "execution_count": null,
   "metadata": {},
   "outputs": [],
   "source": [
    "# carry out wilcoxon mann whitney test for significant class levels\n",
    "\n",
    "klassenliste = [final_5, final_6, final_7, final_8, final_9, final_10, final_11]\n",
    "\n",
    "for x in klassenliste:\n",
    "    intvcontrol = x[(x['interventiongroup']=='control')]\n",
    "    intv2 = x[(x['interventiongroup']=='2')]\n",
    "    intv3 = x[(x['interventiongroup']=='3')]\n",
    "    intv4 = x[(x['interventiongroup']=='4')]\n",
    "    intv5 = x[(x['interventiongroup']=='5')]\n",
    "    intv6 = x[(x['interventiongroup']=='6')]\n",
    "\n",
    "    #Wilcoxon Mann Whitney Test\n",
    "    print(stats.mannwhitneyu(intvcontrol['prop_fehler'], intv2['prop_fehler']))\n",
    "    print(stats.mannwhitneyu(intvcontrol['prop_fehler'], intv3['prop_fehler']))\n",
    "    print(stats.mannwhitneyu(intvcontrol['prop_fehler'], intv4['prop_fehler']))\n",
    "    print(stats.mannwhitneyu(intvcontrol['prop_fehler'], intv5['prop_fehler']))\n",
    "    print(stats.mannwhitneyu(intvcontrol['prop_fehler'], intv6['prop_fehler']))\n",
    "    print('--------------')"
   ]
  },
  {
   "cell_type": "code",
   "execution_count": null,
   "metadata": {},
   "outputs": [],
   "source": [
    "# Boxplot "
   ]
  },
  {
   "cell_type": "code",
   "execution_count": null,
   "metadata": {},
   "outputs": [],
   "source": [
    "# print(sns.boxplot(data=final_5, x=\"prop_fehler\", y=\"interventiongroup\",showfliers = False))"
   ]
  },
  {
   "cell_type": "code",
   "execution_count": null,
   "metadata": {},
   "outputs": [],
   "source": [
    "# print(sns.boxplot(data=final_8, x=\"prop_fehler\", y=\"interventiongroup\",showfliers = False))"
   ]
  },
  {
   "cell_type": "code",
   "execution_count": null,
   "metadata": {},
   "outputs": [],
   "source": [
    "# print(sns.boxplot(data=final_9, x=\"prop_fehler\", y=\"interventiongroup\",showfliers = False))"
   ]
  }
 ],
 "metadata": {
  "kernelspec": {
   "display_name": "Python 3.10.2 64-bit",
   "language": "python",
   "name": "python3"
  },
  "language_info": {
   "codemirror_mode": {
    "name": "ipython",
    "version": 3
   },
   "file_extension": ".py",
   "mimetype": "text/x-python",
   "name": "python",
   "nbconvert_exporter": "python",
   "pygments_lexer": "ipython3",
   "version": "3.10.2"
  },
  "orig_nbformat": 4,
  "vscode": {
   "interpreter": {
    "hash": "369f2c481f4da34e4445cda3fffd2e751bd1c4d706f27375911949ba6bb62e1c"
   }
  }
 },
 "nbformat": 4,
 "nbformat_minor": 2
}
