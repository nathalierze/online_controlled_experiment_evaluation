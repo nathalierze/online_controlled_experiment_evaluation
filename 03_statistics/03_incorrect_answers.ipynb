{
 "cells": [
  {
   "cell_type": "code",
   "execution_count": 9,
   "metadata": {},
   "outputs": [],
   "source": [
    "import pickle\n",
    "from scipy import stats\n",
    "import pandas as pd\n",
    "import seaborn as sns\n",
    "from cliffs_delta import cliffs_delta"
   ]
  },
  {
   "cell_type": "code",
   "execution_count": 2,
   "metadata": {},
   "outputs": [],
   "source": [
    "# load data\n",
    "final = pickle.load(open( '../00_data/final/incorrect_answers.pkl','rb') )\n",
    "\n",
    "# split by interventiongroup\n",
    "intvcontrol = final[(final['interventiongroup']=='control')]\n",
    "intv2 = final[(final['interventiongroup']=='2')]\n",
    "intv3 = final[(final['interventiongroup']=='3')]\n",
    "intv4 = final[(final['interventiongroup']=='4')]\n",
    "intv5 = final[(final['interventiongroup']=='5')]\n",
    "intv6 = final[(final['interventiongroup']=='6')]"
   ]
  },
  {
   "cell_type": "markdown",
   "metadata": {},
   "source": [
    "Check assumptions"
   ]
  },
  {
   "cell_type": "code",
   "execution_count": null,
   "metadata": {},
   "outputs": [],
   "source": [
    "# Levenes homogeneity \n",
    "stats.levene(intvcontrol['prop_fehler'], intv2['prop_fehler'], intv3['prop_fehler'], intv4['prop_fehler'], intv5['prop_fehler'], intv6['prop_fehler'])"
   ]
  },
  {
   "cell_type": "code",
   "execution_count": 3,
   "metadata": {},
   "outputs": [
    {
     "name": "stdout",
     "output_type": "stream",
     "text": [
      "ShapiroResult(statistic=0.7264866232872009, pvalue=0.0)\n",
      "ShapiroResult(statistic=0.5711383819580078, pvalue=0.0)\n",
      "ShapiroResult(statistic=0.7002403736114502, pvalue=0.0)\n",
      "ShapiroResult(statistic=0.742385745048523, pvalue=0.0)\n",
      "ShapiroResult(statistic=0.7237004041671753, pvalue=0.0)\n",
      "ShapiroResult(statistic=0.7595332860946655, pvalue=1.1210387714598537e-44)\n"
     ]
    }
   ],
   "source": [
    "# Shapiro-Wilk test for normality => normality = not significant // significant = no normality\n",
    "print(stats.shapiro(intvcontrol['prop_fehler']))\n",
    "print(stats.shapiro(intv2['prop_fehler']))\n",
    "print(stats.shapiro(intv3['prop_fehler']))\n",
    "print(stats.shapiro(intv4['prop_fehler']))\n",
    "print(stats.shapiro(intv5['prop_fehler']))\n",
    "print(stats.shapiro(intv6['prop_fehler']))"
   ]
  },
  {
   "cell_type": "code",
   "execution_count": null,
   "metadata": {},
   "outputs": [],
   "source": [
    "# plot histogram\n",
    "sns.histplot(data=final, x=\"prop_fehler\")"
   ]
  },
  {
   "attachments": {},
   "cell_type": "markdown",
   "metadata": {},
   "source": [
    "Get Mean and Median"
   ]
  },
  {
   "cell_type": "code",
   "execution_count": 25,
   "metadata": {},
   "outputs": [
    {
     "data": {
      "text/html": [
       "<div>\n",
       "<style scoped>\n",
       "    .dataframe tbody tr th:only-of-type {\n",
       "        vertical-align: middle;\n",
       "    }\n",
       "\n",
       "    .dataframe tbody tr th {\n",
       "        vertical-align: top;\n",
       "    }\n",
       "\n",
       "    .dataframe thead th {\n",
       "        text-align: right;\n",
       "    }\n",
       "</style>\n",
       "<table border=\"1\" class=\"dataframe\">\n",
       "  <thead>\n",
       "    <tr style=\"text-align: right;\">\n",
       "      <th></th>\n",
       "      <th>prop_fehler</th>\n",
       "      <th>count</th>\n",
       "    </tr>\n",
       "    <tr>\n",
       "      <th>interventiongroup</th>\n",
       "      <th></th>\n",
       "      <th></th>\n",
       "    </tr>\n",
       "  </thead>\n",
       "  <tbody>\n",
       "    <tr>\n",
       "      <th>2</th>\n",
       "      <td>13.907045</td>\n",
       "      <td>1835</td>\n",
       "    </tr>\n",
       "    <tr>\n",
       "      <th>3</th>\n",
       "      <td>14.320649</td>\n",
       "      <td>1929</td>\n",
       "    </tr>\n",
       "    <tr>\n",
       "      <th>4</th>\n",
       "      <td>14.770887</td>\n",
       "      <td>1910</td>\n",
       "    </tr>\n",
       "    <tr>\n",
       "      <th>5</th>\n",
       "      <td>14.703413</td>\n",
       "      <td>1818</td>\n",
       "    </tr>\n",
       "    <tr>\n",
       "      <th>6</th>\n",
       "      <td>10.918539</td>\n",
       "      <td>1733</td>\n",
       "    </tr>\n",
       "    <tr>\n",
       "      <th>control</th>\n",
       "      <td>16.986885</td>\n",
       "      <td>2447</td>\n",
       "    </tr>\n",
       "  </tbody>\n",
       "</table>\n",
       "</div>"
      ],
      "text/plain": [
       "                   prop_fehler  count\n",
       "interventiongroup                    \n",
       "2                    13.907045   1835\n",
       "3                    14.320649   1929\n",
       "4                    14.770887   1910\n",
       "5                    14.703413   1818\n",
       "6                    10.918539   1733\n",
       "control              16.986885   2447"
      ]
     },
     "execution_count": 25,
     "metadata": {},
     "output_type": "execute_result"
    }
   ],
   "source": [
    "# get mean by interventiongroup\n",
    "prop_fehler_by_group = final.groupby(['interventiongroup']).agg({'prop_fehler':'mean','Geschlecht':'count'})\n",
    "prop_fehler_by_group = prop_fehler_by_group.rename(columns={'Geschlecht':'count'})\n",
    "prop_fehler_by_group"
   ]
  },
  {
   "cell_type": "code",
   "execution_count": 26,
   "metadata": {},
   "outputs": [
    {
     "data": {
      "text/html": [
       "<div>\n",
       "<style scoped>\n",
       "    .dataframe tbody tr th:only-of-type {\n",
       "        vertical-align: middle;\n",
       "    }\n",
       "\n",
       "    .dataframe tbody tr th {\n",
       "        vertical-align: top;\n",
       "    }\n",
       "\n",
       "    .dataframe thead th {\n",
       "        text-align: right;\n",
       "    }\n",
       "</style>\n",
       "<table border=\"1\" class=\"dataframe\">\n",
       "  <thead>\n",
       "    <tr style=\"text-align: right;\">\n",
       "      <th></th>\n",
       "      <th>prop_fehler</th>\n",
       "      <th>count</th>\n",
       "    </tr>\n",
       "    <tr>\n",
       "      <th>interventiongroup</th>\n",
       "      <th></th>\n",
       "      <th></th>\n",
       "    </tr>\n",
       "  </thead>\n",
       "  <tbody>\n",
       "    <tr>\n",
       "      <th>2</th>\n",
       "      <td>10.00</td>\n",
       "      <td>1835</td>\n",
       "    </tr>\n",
       "    <tr>\n",
       "      <th>3</th>\n",
       "      <td>10.00</td>\n",
       "      <td>1929</td>\n",
       "    </tr>\n",
       "    <tr>\n",
       "      <th>4</th>\n",
       "      <td>10.50</td>\n",
       "      <td>1910</td>\n",
       "    </tr>\n",
       "    <tr>\n",
       "      <th>5</th>\n",
       "      <td>9.00</td>\n",
       "      <td>1818</td>\n",
       "    </tr>\n",
       "    <tr>\n",
       "      <th>6</th>\n",
       "      <td>7.95</td>\n",
       "      <td>1733</td>\n",
       "    </tr>\n",
       "    <tr>\n",
       "      <th>control</th>\n",
       "      <td>12.00</td>\n",
       "      <td>2447</td>\n",
       "    </tr>\n",
       "  </tbody>\n",
       "</table>\n",
       "</div>"
      ],
      "text/plain": [
       "                   prop_fehler  count\n",
       "interventiongroup                    \n",
       "2                        10.00   1835\n",
       "3                        10.00   1929\n",
       "4                        10.50   1910\n",
       "5                         9.00   1818\n",
       "6                         7.95   1733\n",
       "control                  12.00   2447"
      ]
     },
     "execution_count": 26,
     "metadata": {},
     "output_type": "execute_result"
    }
   ],
   "source": [
    "# get median by interventiongroup\n",
    "prop_fehler_by_group = final.groupby(['interventiongroup']).agg({'prop_fehler':'median','Geschlecht':'count'})\n",
    "prop_fehler_by_group = prop_fehler_by_group.rename(columns={'Geschlecht':'count'})\n",
    "prop_fehler_by_group"
   ]
  },
  {
   "cell_type": "code",
   "execution_count": 59,
   "metadata": {},
   "outputs": [
    {
     "data": {
      "text/html": [
       "<div>\n",
       "<style scoped>\n",
       "    .dataframe tbody tr th:only-of-type {\n",
       "        vertical-align: middle;\n",
       "    }\n",
       "\n",
       "    .dataframe tbody tr th {\n",
       "        vertical-align: top;\n",
       "    }\n",
       "\n",
       "    .dataframe thead th {\n",
       "        text-align: right;\n",
       "    }\n",
       "</style>\n",
       "<table border=\"1\" class=\"dataframe\">\n",
       "  <thead>\n",
       "    <tr style=\"text-align: right;\">\n",
       "      <th></th>\n",
       "      <th></th>\n",
       "      <th>prop_fehler</th>\n",
       "      <th>count</th>\n",
       "    </tr>\n",
       "    <tr>\n",
       "      <th>Geschlecht</th>\n",
       "      <th>interventiongroup</th>\n",
       "      <th></th>\n",
       "      <th></th>\n",
       "    </tr>\n",
       "  </thead>\n",
       "  <tbody>\n",
       "    <tr>\n",
       "      <th rowspan=\"6\" valign=\"top\">d</th>\n",
       "      <th>2</th>\n",
       "      <td>12.564092</td>\n",
       "      <td>50</td>\n",
       "    </tr>\n",
       "    <tr>\n",
       "      <th>3</th>\n",
       "      <td>12.128556</td>\n",
       "      <td>66</td>\n",
       "    </tr>\n",
       "    <tr>\n",
       "      <th>4</th>\n",
       "      <td>14.475982</td>\n",
       "      <td>57</td>\n",
       "    </tr>\n",
       "    <tr>\n",
       "      <th>5</th>\n",
       "      <td>12.573389</td>\n",
       "      <td>68</td>\n",
       "    </tr>\n",
       "    <tr>\n",
       "      <th>6</th>\n",
       "      <td>11.242632</td>\n",
       "      <td>73</td>\n",
       "    </tr>\n",
       "    <tr>\n",
       "      <th>control</th>\n",
       "      <td>19.023340</td>\n",
       "      <td>79</td>\n",
       "    </tr>\n",
       "    <tr>\n",
       "      <th rowspan=\"6\" valign=\"top\">m</th>\n",
       "      <th>2</th>\n",
       "      <td>14.703146</td>\n",
       "      <td>864</td>\n",
       "    </tr>\n",
       "    <tr>\n",
       "      <th>3</th>\n",
       "      <td>14.529031</td>\n",
       "      <td>883</td>\n",
       "    </tr>\n",
       "    <tr>\n",
       "      <th>4</th>\n",
       "      <td>16.051714</td>\n",
       "      <td>935</td>\n",
       "    </tr>\n",
       "    <tr>\n",
       "      <th>5</th>\n",
       "      <td>15.113515</td>\n",
       "      <td>874</td>\n",
       "    </tr>\n",
       "    <tr>\n",
       "      <th>6</th>\n",
       "      <td>11.328756</td>\n",
       "      <td>830</td>\n",
       "    </tr>\n",
       "    <tr>\n",
       "      <th>control</th>\n",
       "      <td>17.392092</td>\n",
       "      <td>1165</td>\n",
       "    </tr>\n",
       "    <tr>\n",
       "      <th rowspan=\"6\" valign=\"top\">w</th>\n",
       "      <th>2</th>\n",
       "      <td>13.233121</td>\n",
       "      <td>921</td>\n",
       "    </tr>\n",
       "    <tr>\n",
       "      <th>3</th>\n",
       "      <td>14.280524</td>\n",
       "      <td>980</td>\n",
       "    </tr>\n",
       "    <tr>\n",
       "      <th>4</th>\n",
       "      <td>13.484653</td>\n",
       "      <td>918</td>\n",
       "    </tr>\n",
       "    <tr>\n",
       "      <th>5</th>\n",
       "      <td>14.459592</td>\n",
       "      <td>876</td>\n",
       "    </tr>\n",
       "    <tr>\n",
       "      <th>6</th>\n",
       "      <td>10.479817</td>\n",
       "      <td>830</td>\n",
       "    </tr>\n",
       "    <tr>\n",
       "      <th>control</th>\n",
       "      <td>16.460744</td>\n",
       "      <td>1203</td>\n",
       "    </tr>\n",
       "  </tbody>\n",
       "</table>\n",
       "</div>"
      ],
      "text/plain": [
       "                              prop_fehler  count\n",
       "Geschlecht interventiongroup                    \n",
       "d          2                    12.564092     50\n",
       "           3                    12.128556     66\n",
       "           4                    14.475982     57\n",
       "           5                    12.573389     68\n",
       "           6                    11.242632     73\n",
       "           control              19.023340     79\n",
       "m          2                    14.703146    864\n",
       "           3                    14.529031    883\n",
       "           4                    16.051714    935\n",
       "           5                    15.113515    874\n",
       "           6                    11.328756    830\n",
       "           control              17.392092   1165\n",
       "w          2                    13.233121    921\n",
       "           3                    14.280524    980\n",
       "           4                    13.484653    918\n",
       "           5                    14.459592    876\n",
       "           6                    10.479817    830\n",
       "           control              16.460744   1203"
      ]
     },
     "execution_count": 59,
     "metadata": {},
     "output_type": "execute_result"
    }
   ],
   "source": [
    "# get median by interventiongroup and gender\n",
    "prop_fehler_by_group = final.groupby(['Geschlecht','interventiongroup']).agg({'prop_fehler':'mean','Klassenstufe':'count'}) #mean\n",
    "prop_fehler_by_group = prop_fehler_by_group.rename(columns={'Klassenstufe':'count'})\n",
    "prop_fehler_by_group"
   ]
  },
  {
   "cell_type": "code",
   "execution_count": null,
   "metadata": {},
   "outputs": [],
   "source": [
    "# get median by interventiongroup and class level\n",
    "prop_fehler_by_group = final.groupby(['Klassenstufe','interventiongroup']).agg({'prop_fehler':'median','Geschlecht':'count'}) #mean\n",
    "prop_fehler_by_group = prop_fehler_by_group.rename(columns={'Geschlecht':'count'})"
   ]
  },
  {
   "attachments": {},
   "cell_type": "markdown",
   "metadata": {},
   "source": [
    "Check significance"
   ]
  },
  {
   "cell_type": "code",
   "execution_count": null,
   "metadata": {},
   "outputs": [],
   "source": [
    "# Kruskal Wallis Test \n",
    "stats.kruskal(intvcontrol['prop_fehler'], intv2['prop_fehler'], intv3['prop_fehler'],intv4['prop_fehler'],intv5['prop_fehler'],intv6['prop_fehler'])"
   ]
  },
  {
   "attachments": {},
   "cell_type": "markdown",
   "metadata": {},
   "source": [
    "Wilcoxon Mann Whitney Tests and Cliffs Delta (# thresholds: .11 (small), .28 (medium), .43 (large))"
   ]
  },
  {
   "cell_type": "code",
   "execution_count": 34,
   "metadata": {},
   "outputs": [
    {
     "name": "stdout",
     "output_type": "stream",
     "text": [
      "MannwhitneyuResult(statistic=2522807.0, pvalue=3.996059053380393e-12)\n",
      "0.12368345157112808\n",
      "MannwhitneyuResult(statistic=2642869.5, pvalue=9.426761013919426e-12)\n",
      "0.11979756212736452\n",
      "MannwhitneyuResult(statistic=2565388.0, pvalue=2.90512710702606e-08)\n",
      "0.09778102046099829\n",
      "MannwhitneyuResult(statistic=2514632.0, pvalue=2.8526073483274315e-13)\n",
      "0.13051566701418812\n",
      "MannwhitneyuResult(statistic=2643115.0, pvalue=3.85541934504446e-42)\n",
      "0.24656096434250308\n"
     ]
    }
   ],
   "source": [
    "# control group\n",
    "groups = [intv2, intv3, intv4, intv5, intv6]\n",
    "for x in groups:\n",
    "    print(stats.mannwhitneyu(intvcontrol['prop_fehler'], x['prop_fehler']))\n",
    "    print(cliffs_delta(intvcontrol['prop_fehler'], x['prop_fehler'])[0])"
   ]
  },
  {
   "cell_type": "code",
   "execution_count": 35,
   "metadata": {},
   "outputs": [
    {
     "name": "stdout",
     "output_type": "stream",
     "text": [
      "MannwhitneyuResult(statistic=1764774.5, pvalue=0.8787604495763326)\n",
      "-0.0028719826313700395\n",
      "MannwhitneyuResult(statistic=1708552.5, pvalue=0.18464052148148724)\n",
      "-0.025035308215758164\n",
      "MannwhitneyuResult(statistic=1690305.0, pvalue=0.48424264889369495)\n",
      "0.013363189179953418\n",
      "MannwhitneyuResult(statistic=1785229.0, pvalue=2.1726372229006505e-10)\n",
      "0.12276611568038917\n"
     ]
    }
   ],
   "source": [
    "# Intv 2\n",
    "groups = [intv3, intv4, intv5, intv6]\n",
    "for x in groups:\n",
    "    print(stats.mannwhitneyu(intv2['prop_fehler'], x['prop_fehler']))\n",
    "    print(cliffs_delta(intv2['prop_fehler'], x['prop_fehler'])[0])"
   ]
  },
  {
   "cell_type": "code",
   "execution_count": 36,
   "metadata": {},
   "outputs": [
    {
     "name": "stdout",
     "output_type": "stream",
     "text": [
      "MannwhitneyuResult(statistic=1803431.0, pvalue=0.25883850741793)\n",
      "-0.021042289225624865\n",
      "MannwhitneyuResult(statistic=1781158.0, pvalue=0.40256865225935645)\n",
      "0.01579561792363788\n",
      "MannwhitneyuResult(statistic=1881121.5, pvalue=5.229399986314714e-11)\n",
      "0.12542368926671807\n"
     ]
    }
   ],
   "source": [
    "# Intv 3\n",
    "groups = [intv4, intv5, intv6]\n",
    "for x in groups:\n",
    "    print(stats.mannwhitneyu(intv3['prop_fehler'], x['prop_fehler']))\n",
    "    print(cliffs_delta(intv3['prop_fehler'], x['prop_fehler'])[0])"
   ]
  },
  {
   "cell_type": "code",
   "execution_count": 45,
   "metadata": {},
   "outputs": [
    {
     "name": "stdout",
     "output_type": "stream",
     "text": [
      "MannwhitneyuResult(statistic=1800550.5, pvalue=0.05003244508511461)\n",
      "0.037069963540856704\n",
      "MannwhitneyuResult(statistic=1897595.5, pvalue=1.9628830739446235e-14)\n",
      "0.14657299178557295\n"
     ]
    }
   ],
   "source": [
    "# Intv 4\n",
    "print(stats.mannwhitneyu(intv4['prop_fehler'], intv5['prop_fehler']))\n",
    "print(cliffs_delta(intv4['prop_fehler'], intv5['prop_fehler'])[0])\n",
    "print(stats.mannwhitneyu(intv4['prop_fehler'], intv6['prop_fehler']))\n",
    "print(cliffs_delta(intv4['prop_fehler'], intv6['prop_fehler'])[0])"
   ]
  },
  {
   "cell_type": "code",
   "execution_count": 46,
   "metadata": {},
   "outputs": [
    {
     "name": "stdout",
     "output_type": "stream",
     "text": [
      "MannwhitneyuResult(statistic=1737680.5, pvalue=1.0450411364582877e-07)\n",
      "0.10308119675210452\n"
     ]
    }
   ],
   "source": [
    "# Intv 5\n",
    "print(stats.mannwhitneyu(intv5['prop_fehler'], intv6['prop_fehler']))\n",
    "print(cliffs_delta(intv5['prop_fehler'], intv6['prop_fehler'])[0])"
   ]
  },
  {
   "attachments": {},
   "cell_type": "markdown",
   "metadata": {},
   "source": [
    "Boxplots"
   ]
  },
  {
   "cell_type": "code",
   "execution_count": 62,
   "metadata": {},
   "outputs": [
    {
     "data": {
      "text/plain": [
       "[Text(0.5, 0, 'Incorrect answers')]"
      ]
     },
     "execution_count": 62,
     "metadata": {},
     "output_type": "execute_result"
    },
    {
     "data": {
      "image/png": "[encoded data removed]",
      "text/plain": [
       "<Figure size 432x288 with 1 Axes>"
      ]
     },
     "metadata": {
      "needs_background": "light"
     },
     "output_type": "display_data"
    }
   ],
   "source": [
    "# boxplot by interventiongroup\n",
    "t=sns.boxplot(data=final, x=\"prop_fehler\", y=\"interventiongroup\",showfliers = False, order=[\"control\", \"2\",'3','4','5','6'])#,hue='Geschlecht'\n",
    "t.set(xlabel =\"Incorrect answers\")"
   ]
  },
  {
   "cell_type": "code",
   "execution_count": null,
   "metadata": {},
   "outputs": [],
   "source": [
    "# boxplot by interventiongroup and gender\n",
    "sns.boxplot(data=final, x=\"prop_fehler\", hue=\"interventiongroup\",y='Geschlecht',showfliers = False)"
   ]
  },
  {
   "cell_type": "markdown",
   "metadata": {},
   "source": [
    "Gender Demographics"
   ]
  },
  {
   "cell_type": "code",
   "execution_count": 40,
   "metadata": {},
   "outputs": [],
   "source": [
    "# split by gender\n",
    "final_m = final.loc[final.Geschlecht == 'm']\n",
    "final_w = final.loc[final.Geschlecht == 'w']\n",
    "final_d = final.loc[final.Geschlecht == 'd']"
   ]
  },
  {
   "attachments": {},
   "cell_type": "markdown",
   "metadata": {},
   "source": [
    "Boys"
   ]
  },
  {
   "cell_type": "code",
   "execution_count": 41,
   "metadata": {},
   "outputs": [
    {
     "data": {
      "text/plain": [
       "KruskalResult(statistic=88.8980806718587, pvalue=1.1448700947751413e-17)"
      ]
     },
     "execution_count": 41,
     "metadata": {},
     "output_type": "execute_result"
    }
   ],
   "source": [
    "# split by interventiongroup\n",
    "intvcontrol_m = final_m[(final_m['interventiongroup']=='control')]\n",
    "intv2_m = final_m[(final_m['interventiongroup']=='2')]\n",
    "intv3_m = final_m[(final_m['interventiongroup']=='3')]\n",
    "intv4_m = final_m[(final_m['interventiongroup']=='4')]\n",
    "intv5_m = final_m[(final_m['interventiongroup']=='5')]\n",
    "intv6_m = final_m[(final_m['interventiongroup']=='6')]\n",
    "\n",
    "# Kruskal Wallis Test \n",
    "stats.kruskal(intvcontrol_m['prop_fehler'], intv2_m['prop_fehler'], intv3_m['prop_fehler'],intv4_m['prop_fehler'],intv5_m['prop_fehler'],intv6_m['prop_fehler'])"
   ]
  },
  {
   "cell_type": "code",
   "execution_count": 42,
   "metadata": {},
   "outputs": [
    {
     "name": "stdout",
     "output_type": "stream",
     "text": [
      "MannwhitneyuResult(statistic=567961.5, pvalue=7.138959799153062e-07)\n",
      "0.1285199093943729\n",
      "MannwhitneyuResult(statistic=582520.0, pvalue=2.6811687910437267e-07)\n",
      "0.13254171547446036\n",
      "MannwhitneyuResult(statistic=585011.5, pvalue=0.0034566278337886933)\n",
      "0.0741300406233504\n",
      "MannwhitneyuResult(statistic=570249.5, pvalue=3.349344269639201e-06)\n",
      "0.12010194360691802\n",
      "MannwhitneyuResult(statistic=600697.5, pvalue=2.3613000342151007e-20)\n",
      "0.242458244997156\n"
     ]
    }
   ],
   "source": [
    "# control group\n",
    "groups = [intv2_m, intv3_m, intv4_m, intv5_m, intv6_m]\n",
    "for x in groups:\n",
    "    print(stats.mannwhitneyu(intvcontrol_m['prop_fehler'], x['prop_fehler']))\n",
    "    print(cliffs_delta(intvcontrol_m['prop_fehler'], x['prop_fehler'])[0])\n"
   ]
  },
  {
   "cell_type": "code",
   "execution_count": 43,
   "metadata": {},
   "outputs": [
    {
     "name": "stdout",
     "output_type": "stream",
     "text": [
      "MannwhitneyuResult(statistic=582520.0, pvalue=2.6811687910437267e-07)\n",
      "0.13254171547446036\n",
      "MannwhitneyuResult(statistic=585011.5, pvalue=0.0034566278337886933)\n",
      "0.0741300406233504\n",
      "MannwhitneyuResult(statistic=570249.5, pvalue=3.349344269639201e-06)\n",
      "0.12010194360691802\n",
      "MannwhitneyuResult(statistic=600697.5, pvalue=2.3613000342151007e-20)\n",
      "0.242458244997156\n"
     ]
    }
   ],
   "source": [
    "# Intv 2\n",
    "groups = [intv3_m, intv4_m, intv5_m, intv6_m]\n",
    "for x in groups:\n",
    "    print(stats.mannwhitneyu(intvcontrol_m['prop_fehler'], x['prop_fehler']))\n",
    "    print(cliffs_delta(intvcontrol_m['prop_fehler'], x['prop_fehler'])[0])"
   ]
  },
  {
   "cell_type": "code",
   "execution_count": 44,
   "metadata": {},
   "outputs": [
    {
     "name": "stdout",
     "output_type": "stream",
     "text": [
      "MannwhitneyuResult(statistic=389405.5, pvalue=0.03645379982102506)\n",
      "-0.05667843581373659\n",
      "MannwhitneyuResult(statistic=382174.0, pvalue=0.7280454214217346)\n",
      "-0.009580922121641688\n",
      "MannwhitneyuResult(statistic=404343.5, pvalue=0.00021138968566857444)\n",
      "0.10342206879613584\n"
     ]
    }
   ],
   "source": [
    "# Intv 3\n",
    "groups = [intv4_m, intv5_m, intv6_m]\n",
    "for x in groups:\n",
    "    print(stats.mannwhitneyu(intv3_m['prop_fehler'], x['prop_fehler']))\n",
    "    print(cliffs_delta(intv3_m['prop_fehler'], x['prop_fehler'])[0])"
   ]
  },
  {
   "cell_type": "code",
   "execution_count": 47,
   "metadata": {},
   "outputs": [
    {
     "name": "stdout",
     "output_type": "stream",
     "text": [
      "MannwhitneyuResult(statistic=428127.0, pvalue=0.07847652115410986)\n",
      "0.04780283654963962\n",
      "MannwhitneyuResult(statistic=451168.0, pvalue=3.4282590336815567e-09)\n",
      "0.16272920559242318\n"
     ]
    }
   ],
   "source": [
    "# Intv 4\n",
    "print(stats.mannwhitneyu(intv4_m['prop_fehler'], intv5_m['prop_fehler']))\n",
    "print(cliffs_delta(intv4_m['prop_fehler'], intv5_m['prop_fehler'])[0])\n",
    "print(stats.mannwhitneyu(intv4_m['prop_fehler'], intv6_m['prop_fehler']))\n",
    "print(cliffs_delta(intv4_m['prop_fehler'], intv6_m['prop_fehler'])[0])"
   ]
  },
  {
   "cell_type": "code",
   "execution_count": 48,
   "metadata": {},
   "outputs": [
    {
     "name": "stdout",
     "output_type": "stream",
     "text": [
      "MannwhitneyuResult(statistic=402503.5, pvalue=8.834312493159594e-05)\n",
      "0.10971161534007885\n"
     ]
    }
   ],
   "source": [
    "# Intv 5\n",
    "print(stats.mannwhitneyu(intv5_m['prop_fehler'], intv6_m['prop_fehler']))\n",
    "print(cliffs_delta(intv5_m['prop_fehler'], intv6_m['prop_fehler'])[0])"
   ]
  },
  {
   "cell_type": "code",
   "execution_count": null,
   "metadata": {},
   "outputs": [],
   "source": [
    "# boxplot by prop fehler and interventiongroup\n",
    "sns.boxplot(data=final_m, x=\"prop_fehler\", y=\"interventiongroup\",showfliers = False)"
   ]
  },
  {
   "attachments": {},
   "cell_type": "markdown",
   "metadata": {},
   "source": [
    "Girls"
   ]
  },
  {
   "cell_type": "code",
   "execution_count": 50,
   "metadata": {},
   "outputs": [
    {
     "data": {
      "text/plain": [
       "KruskalResult(statistic=97.91293918250327, pvalue=1.4547609801609048e-19)"
      ]
     },
     "execution_count": 50,
     "metadata": {},
     "output_type": "execute_result"
    }
   ],
   "source": [
    "# split by interventiongroup\n",
    "intvcontrol_w = final_w[(final_w['interventiongroup']=='control')]\n",
    "intv2_w = final_w[(final_w['interventiongroup']=='2')]\n",
    "intv3_w = final_w[(final_w['interventiongroup']=='3')]\n",
    "intv4_w = final_w[(final_w['interventiongroup']=='4')]\n",
    "intv5_w = final_w[(final_w['interventiongroup']=='5')]\n",
    "intv6_w = final_w[(final_w['interventiongroup']=='6')]\n",
    "\n",
    "# Kruskal Wallis Test \n",
    "stats.kruskal(intvcontrol_w['prop_fehler'], intv2_w['prop_fehler'], intv3_w['prop_fehler'],intv4_w['prop_fehler'],intv5_w['prop_fehler'],intv6_w['prop_fehler'])\n"
   ]
  },
  {
   "cell_type": "code",
   "execution_count": 51,
   "metadata": {},
   "outputs": [
    {
     "name": "stdout",
     "output_type": "stream",
     "text": [
      "MannwhitneyuResult(statistic=619535.5, pvalue=2.860894795184369e-06)\n",
      "0.11833247139119267\n",
      "MannwhitneyuResult(statistic=649666.0, pvalue=3.957281635059926e-05)\n",
      "0.1021188525285426\n",
      "MannwhitneyuResult(statistic=623058.0, pvalue=3.919004386692723e-07)\n",
      "0.1283664477151348\n",
      "MannwhitneyuResult(statistic=599913.5, pvalue=6.590231295567846e-08)\n",
      "0.13854158363603927\n",
      "MannwhitneyuResult(statistic=625222.5, pvalue=3.4921421403431483e-22)\n",
      "0.25233602740137606\n"
     ]
    }
   ],
   "source": [
    "# control group\n",
    "groups = [intv2_w, intv3_w, intv4_w, intv5_w, intv6_w]\n",
    "for x in groups:\n",
    "    print(stats.mannwhitneyu(intvcontrol_w['prop_fehler'], x['prop_fehler']))\n",
    "    print(cliffs_delta(intvcontrol_w['prop_fehler'], x['prop_fehler'])[0])\n"
   ]
  },
  {
   "cell_type": "code",
   "execution_count": 52,
   "metadata": {},
   "outputs": [
    {
     "name": "stdout",
     "output_type": "stream",
     "text": [
      "MannwhitneyuResult(statistic=649666.0, pvalue=3.957281635059926e-05)\n",
      "0.1021188525285426\n",
      "MannwhitneyuResult(statistic=623058.0, pvalue=3.919004386692723e-07)\n",
      "0.1283664477151348\n",
      "MannwhitneyuResult(statistic=599913.5, pvalue=6.590231295567846e-08)\n",
      "0.13854158363603927\n",
      "MannwhitneyuResult(statistic=625222.5, pvalue=3.4921421403431483e-22)\n",
      "0.25233602740137606\n"
     ]
    }
   ],
   "source": [
    "# Intv 2\n",
    "groups = [intv3_w, intv4_w, intv5_w, intv6_w]\n",
    "for x in groups:\n",
    "    print(stats.mannwhitneyu(intvcontrol_w['prop_fehler'], x['prop_fehler']))\n",
    "    print(cliffs_delta(intvcontrol_w['prop_fehler'], x['prop_fehler'])[0])"
   ]
  },
  {
   "cell_type": "code",
   "execution_count": 53,
   "metadata": {},
   "outputs": [
    {
     "name": "stdout",
     "output_type": "stream",
     "text": [
      "MannwhitneyuResult(statistic=462610.0, pvalue=0.28368520511723105)\n",
      "0.028433595660486418\n",
      "MannwhitneyuResult(statistic=448395.0, pvalue=0.09648004104048934)\n",
      "0.04462538440033548\n",
      "MannwhitneyuResult(statistic=469463.5, pvalue=1.4618492981498816e-08)\n",
      "0.15432382591590854\n"
     ]
    }
   ],
   "source": [
    "# Intv 3\n",
    "groups = [intv4_w, intv5_w, intv6_w]\n",
    "for x in groups:\n",
    "    print(stats.mannwhitneyu(intv3_w['prop_fehler'], x['prop_fehler']))\n",
    "    print(cliffs_delta(intv3_w['prop_fehler'], x['prop_fehler'])[0])"
   ]
  },
  {
   "cell_type": "code",
   "execution_count": 54,
   "metadata": {},
   "outputs": [
    {
     "name": "stdout",
     "output_type": "stream",
     "text": [
      "MannwhitneyuResult(statistic=409425.0, pvalue=0.5032195805413758)\n",
      "0.01825737905512281\n",
      "MannwhitneyuResult(statistic=428264.5, pvalue=7.156642595483996e-06)\n",
      "0.12414232091765756\n"
     ]
    }
   ],
   "source": [
    "# Intv 4\n",
    "print(stats.mannwhitneyu(intv4_w['prop_fehler'], intv5_w['prop_fehler']))\n",
    "print(cliffs_delta(intv4_w['prop_fehler'], intv5_w['prop_fehler'])[0])\n",
    "print(stats.mannwhitneyu(intv4_w['prop_fehler'], intv6_w['prop_fehler']))\n",
    "print(cliffs_delta(intv4_w['prop_fehler'], intv6_w['prop_fehler'])[0])"
   ]
  },
  {
   "cell_type": "code",
   "execution_count": 55,
   "metadata": {},
   "outputs": [
    {
     "name": "stdout",
     "output_type": "stream",
     "text": [
      "MannwhitneyuResult(statistic=400213.0, pvalue=0.00030988260024271814)\n",
      "0.10087748253287121\n"
     ]
    }
   ],
   "source": [
    "# Intv 5\n",
    "print(stats.mannwhitneyu(intv5_w['prop_fehler'], intv6_w['prop_fehler']))\n",
    "print(cliffs_delta(intv5_w['prop_fehler'], intv6_w['prop_fehler'])[0])"
   ]
  },
  {
   "cell_type": "code",
   "execution_count": null,
   "metadata": {},
   "outputs": [],
   "source": [
    "# boxplot prop fehler / interventiongroup\n",
    "sns.boxplot(data=final_w, x=\"prop_fehler\", y=\"interventiongroup\",showfliers = False)"
   ]
  },
  {
   "cell_type": "markdown",
   "metadata": {},
   "source": [
    "Demographics Klassenstufe"
   ]
  },
  {
   "cell_type": "code",
   "execution_count": 56,
   "metadata": {},
   "outputs": [
    {
     "name": "stdout",
     "output_type": "stream",
     "text": [
      "KruskalResult(statistic=26.127963665169766, pvalue=8.427837475942187e-05)\n",
      "KruskalResult(statistic=23.47320522882372, pvalue=0.000274019809230039)\n",
      "KruskalResult(statistic=25.66662982035462, pvalue=0.0001035493201221223)\n",
      "KruskalResult(statistic=34.41197796481034, pvalue=1.971069615549076e-06)\n",
      "KruskalResult(statistic=53.29660894383976, pvalue=2.923247214428506e-10)\n",
      "KruskalResult(statistic=20.775392558934005, pvalue=0.0008931417002862665)\n",
      "KruskalResult(statistic=22.673153497336557, pvalue=0.0003897501992315538)\n",
      "KruskalResult(statistic=6.966921996029361, pvalue=0.2231120086768867)\n",
      "KruskalResult(statistic=7.9781298510754945, pvalue=0.15744506029104643)\n"
     ]
    }
   ],
   "source": [
    "# split by class level\n",
    "final_5 = final.loc[final.Klassenstufe == '5']\n",
    "final_6 = final.loc[final.Klassenstufe == '6']\n",
    "final_7 = final.loc[final.Klassenstufe == '7']\n",
    "final_8 = final.loc[final.Klassenstufe == '8']\n",
    "final_9 = final.loc[final.Klassenstufe == '9']\n",
    "final_10 = final.loc[final.Klassenstufe == '10']\n",
    "final_11 = final.loc[final.Klassenstufe == '11']\n",
    "final_12 = final.loc[final.Klassenstufe == '12']\n",
    "final_13 = final.loc[final.Klassenstufe == '13']\n",
    "\n",
    "klassenliste = [final_5, final_6, final_7, final_8, final_9, final_10, final_11, final_12, final_13]\n",
    "\n",
    "for x in klassenliste:\n",
    "    intvcontrol = x[(x['interventiongroup']=='control')]\n",
    "    intv2 = x[(x['interventiongroup']=='2')]\n",
    "    intv3 = x[(x['interventiongroup']=='3')]\n",
    "    intv4 = x[(x['interventiongroup']=='4')]\n",
    "    intv5 = x[(x['interventiongroup']=='5')]\n",
    "    intv6 = x[(x['interventiongroup']=='6')]\n",
    "\n",
    "    # Kruskal Wallis Test \n",
    "    print(stats.kruskal(intvcontrol['prop_fehler'], intv2['prop_fehler'], intv3['prop_fehler'],intv4['prop_fehler'],intv5['prop_fehler'],intv6['prop_fehler']))\n"
   ]
  },
  {
   "cell_type": "code",
   "execution_count": null,
   "metadata": {},
   "outputs": [],
   "source": [
    "# carry out wilcoxon mann whitney test for significant class levels\n",
    "\n",
    "klassenliste = [final_5, final_6, final_7, final_8, final_9, final_10, final_11]\n",
    "\n",
    "for x in klassenliste:\n",
    "    intvcontrol = x[(x['interventiongroup']=='control')]\n",
    "    intv2 = x[(x['interventiongroup']=='2')]\n",
    "    intv3 = x[(x['interventiongroup']=='3')]\n",
    "    intv4 = x[(x['interventiongroup']=='4')]\n",
    "    intv5 = x[(x['interventiongroup']=='5')]\n",
    "    intv6 = x[(x['interventiongroup']=='6')]\n",
    "\n",
    "    #Wilcoxon Mann Whitney Test\n",
    "    print(stats.mannwhitneyu(intvcontrol['prop_fehler'], intv2['prop_fehler']))\n",
    "    print(stats.mannwhitneyu(intvcontrol['prop_fehler'], intv3['prop_fehler']))\n",
    "    print(stats.mannwhitneyu(intvcontrol['prop_fehler'], intv4['prop_fehler']))\n",
    "    print(stats.mannwhitneyu(intvcontrol['prop_fehler'], intv5['prop_fehler']))\n",
    "    print(stats.mannwhitneyu(intvcontrol['prop_fehler'], intv6['prop_fehler']))\n",
    "    print('--------------')"
   ]
  },
  {
   "cell_type": "code",
   "execution_count": null,
   "metadata": {},
   "outputs": [],
   "source": [
    "# Boxplot "
   ]
  },
  {
   "cell_type": "code",
   "execution_count": null,
   "metadata": {},
   "outputs": [],
   "source": [
    "# print(sns.boxplot(data=final_5, x=\"prop_fehler\", y=\"interventiongroup\",showfliers = False))"
   ]
  },
  {
   "cell_type": "code",
   "execution_count": null,
   "metadata": {},
   "outputs": [],
   "source": [
    "# print(sns.boxplot(data=final_8, x=\"prop_fehler\", y=\"interventiongroup\",showfliers = False))"
   ]
  },
  {
   "cell_type": "code",
   "execution_count": null,
   "metadata": {},
   "outputs": [],
   "source": [
    "# print(sns.boxplot(data=final_9, x=\"prop_fehler\", y=\"interventiongroup\",showfliers = False))"
   ]
  }
 ],
 "metadata": {
  "kernelspec": {
   "display_name": "Python 3.10.2 64-bit",
   "language": "python",
   "name": "python3"
  },
  "language_info": {
   "codemirror_mode": {
    "name": "ipython",
    "version": 3
   },
   "file_extension": ".py",
   "mimetype": "text/x-python",
   "name": "python",
   "nbconvert_exporter": "python",
   "pygments_lexer": "ipython3",
   "version": "3.10.2"
  },
  "orig_nbformat": 4,
  "vscode": {
   "interpreter": {
    "hash": "369f2c481f4da34e4445cda3fffd2e751bd1c4d706f27375911949ba6bb62e1c"
   }
  }
 },
 "nbformat": 4,
 "nbformat_minor": 2
}
