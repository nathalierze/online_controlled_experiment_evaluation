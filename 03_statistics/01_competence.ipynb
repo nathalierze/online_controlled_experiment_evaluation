{
 "cells": [
  {
   "cell_type": "code",
   "execution_count": 1,
   "metadata": {},
   "outputs": [
    {
     "name": "stderr",
     "output_type": "stream",
     "text": [
      "c:\\Python310\\lib\\site-packages\\outdated\\utils.py:14: OutdatedPackageWarning: The package outdated is out of date. Your version is 0.2.1, the latest is 0.2.2.\n",
      "Set the environment variable OUTDATED_IGNORE=1 to disable these warnings.\n",
      "  return warn(\n",
      "c:\\Python310\\lib\\site-packages\\outdated\\utils.py:14: OutdatedPackageWarning: The package pingouin is out of date. Your version is 0.5.2, the latest is 0.5.3.\n",
      "Set the environment variable OUTDATED_IGNORE=1 to disable these warnings.\n",
      "  return warn(\n"
     ]
    }
   ],
   "source": [
    "import pandas as pd\n",
    "import pickle\n",
    "from scipy import stats\n",
    "import seaborn as sns\n",
    "import pingouin as pg\n",
    "import statsmodels.formula.api as s\n",
    "import statsmodels.api as sm\n",
    "from statsmodels.formula.api import ols"
   ]
  },
  {
   "cell_type": "code",
   "execution_count": 2,
   "metadata": {},
   "outputs": [],
   "source": [
    "# load data\n",
    "final = pickle.load(open( '../00_data/final/competence.pkl','rb') )\n",
    "\n",
    "# split groups\n",
    "intvcontrol = final[(final['interventiongroup']=='control')]\n",
    "intv2 = final[(final['interventiongroup']=='2')]\n",
    "intv3 = final[(final['interventiongroup']=='3')]\n",
    "intv4 = final[(final['interventiongroup']=='4')]\n",
    "intv5 = final[(final['interventiongroup']=='5')]\n",
    "intv6 = final[(final['interventiongroup']=='6')]"
   ]
  },
  {
   "cell_type": "markdown",
   "metadata": {},
   "source": [
    "Check assumptions"
   ]
  },
  {
   "cell_type": "code",
   "execution_count": 3,
   "metadata": {},
   "outputs": [
    {
     "data": {
      "text/plain": [
       "LeveneResult(statistic=8.284814586993683, pvalue=7.956747675148436e-08)"
      ]
     },
     "execution_count": 3,
     "metadata": {},
     "output_type": "execute_result"
    }
   ],
   "source": [
    "# Levenes homogeneity\n",
    "stats.levene(intvcontrol['ability'], intv2['ability'], intv3['ability'], intv4['ability'], intv5['ability'], intv6['ability'])"
   ]
  },
  {
   "cell_type": "code",
   "execution_count": 4,
   "metadata": {},
   "outputs": [
    {
     "name": "stdout",
     "output_type": "stream",
     "text": [
      "ShapiroResult(statistic=0.9821895360946655, pvalue=8.367532759970833e-17)\n",
      "ShapiroResult(statistic=0.9811708331108093, pvalue=1.4020114753941597e-14)\n",
      "ShapiroResult(statistic=0.9887325167655945, pvalue=6.099203087028826e-11)\n",
      "ShapiroResult(statistic=0.9840871691703796, pvalue=1.5874230911965687e-13)\n",
      "ShapiroResult(statistic=0.9805315732955933, pvalue=9.121613105686835e-15)\n",
      "ShapiroResult(statistic=0.9820027947425842, pvalue=1.0621999834608056e-13)\n"
     ]
    }
   ],
   "source": [
    "# Shapiro-Wilk test for normality \n",
    "print(stats.shapiro(intvcontrol['ability']))\n",
    "print(stats.shapiro(intv2['ability']))\n",
    "print(stats.shapiro(intv3['ability']))\n",
    "print(stats.shapiro(intv4['ability']))\n",
    "print(stats.shapiro(intv5['ability']))\n",
    "print(stats.shapiro(intv6['ability']))"
   ]
  },
  {
   "cell_type": "code",
   "execution_count": 5,
   "metadata": {},
   "outputs": [
    {
     "data": {
      "text/plain": [
       "[Text(0.5, 0, 'Competence'), Text(0, 0.5, 'Count of users')]"
      ]
     },
     "execution_count": 5,
     "metadata": {},
     "output_type": "execute_result"
    },
    {
     "data": {
      "image/png": "[encoded data removed]",
      "text/plain": [
       "<Figure size 432x288 with 1 Axes>"
      ]
     },
     "metadata": {
      "needs_background": "light"
     },
     "output_type": "display_data"
    }
   ],
   "source": [
    "# plot histogram\n",
    "gr = sns.histplot(data=final, x=\"ability\")\n",
    "gr.set(xlabel =\"Competence\", ylabel = \"Count of users\")"
   ]
  },
  {
   "attachments": {},
   "cell_type": "markdown",
   "metadata": {},
   "source": [
    "Get Effect sizes"
   ]
  },
  {
   "cell_type": "code",
   "execution_count": 6,
   "metadata": {},
   "outputs": [],
   "source": [
    "# per Interventiongroup\n",
    "ability_by_group = final.groupby(['interventiongroup']).agg({'ability':'median','Geschlecht':'count'})\n",
    "ability_by_group = ability_by_group.rename(columns={'Geschlecht':'count'})"
   ]
  },
  {
   "cell_type": "code",
   "execution_count": 7,
   "metadata": {},
   "outputs": [],
   "source": [
    "# Gender\n",
    "ability_by_group = final.groupby(['Geschlecht','interventiongroup']).agg({'ability':'median','Klassenstufe':'count'})\n",
    "ability_by_group = ability_by_group.rename(columns={'Klassenstufe':'count'})"
   ]
  },
  {
   "cell_type": "code",
   "execution_count": 8,
   "metadata": {},
   "outputs": [],
   "source": [
    "# Class level\n",
    "ability_by_group = final.groupby(['Klassenstufe','interventiongroup']).agg({'ability':'median','Geschlecht':'count'})\n",
    "ability_by_group = ability_by_group.rename(columns={'Geschlecht':'count'})"
   ]
  },
  {
   "attachments": {},
   "cell_type": "markdown",
   "metadata": {},
   "source": [
    "Test significance"
   ]
  },
  {
   "cell_type": "code",
   "execution_count": 9,
   "metadata": {},
   "outputs": [
    {
     "data": {
      "text/plain": [
       "KruskalResult(statistic=68.42835525597266, pvalue=2.1754129401419514e-13)"
      ]
     },
     "execution_count": 9,
     "metadata": {},
     "output_type": "execute_result"
    }
   ],
   "source": [
    "# Kruskal Wallis Test \n",
    "stats.kruskal(intvcontrol['ability'], intv2['ability'], intv3['ability'],intv4['ability'],intv5['ability'],intv6['ability'])"
   ]
  },
  {
   "cell_type": "code",
   "execution_count": 10,
   "metadata": {},
   "outputs": [
    {
     "name": "stdout",
     "output_type": "stream",
     "text": [
      "MannwhitneyuResult(statistic=2177102.0, pvalue=0.4901414595379354)\n",
      "MannwhitneyuResult(statistic=2303176.5, pvalue=0.3242020894809332)\n",
      "MannwhitneyuResult(statistic=2316684.0, pvalue=0.05688259442550231)\n",
      "MannwhitneyuResult(statistic=2416178.0, pvalue=4.803104717946944e-14)\n",
      "MannwhitneyuResult(statistic=2102348.5, pvalue=0.04426148549708299)\n"
     ]
    }
   ],
   "source": [
    "#Wilcoxon Mann Whitney Test\n",
    "print(stats.mannwhitneyu(intvcontrol['ability'], intv2['ability']))\n",
    "print(stats.mannwhitneyu(intvcontrol['ability'], intv3['ability']))\n",
    "print(stats.mannwhitneyu(intvcontrol['ability'], intv4['ability']))\n",
    "print(stats.mannwhitneyu(intvcontrol['ability'], intv5['ability']))\n",
    "print(stats.mannwhitneyu(intvcontrol['ability'], intv6['ability']))"
   ]
  },
  {
   "cell_type": "code",
   "execution_count": 11,
   "metadata": {},
   "outputs": [
    {
     "data": {
      "text/plain": [
       "[Text(0.5, 0, 'Competence'), Text(0, 0.5, 'Intervention group')]"
      ]
     },
     "execution_count": 11,
     "metadata": {},
     "output_type": "execute_result"
    },
    {
     "data": {
      "image/png": "[encoded data removed]",
      "text/plain": [
       "<Figure size 432x288 with 1 Axes>"
      ]
     },
     "metadata": {
      "needs_background": "light"
     },
     "output_type": "display_data"
    }
   ],
   "source": [
    "# plot boxplot interventiongroup\n",
    "gr=sns.boxplot(data=final, x=\"ability\", y=\"interventiongroup\",showfliers = False)#,hue='Geschlecht'\n",
    "gr.set(xlabel =\"Competence\", ylabel = \"Intervention group\")\n"
   ]
  },
  {
   "cell_type": "code",
   "execution_count": 12,
   "metadata": {},
   "outputs": [
    {
     "data": {
      "text/plain": [
       "<AxesSubplot:xlabel='ability', ylabel='Geschlecht'>"
      ]
     },
     "execution_count": 12,
     "metadata": {},
     "output_type": "execute_result"
    },
    {
     "data": {
      "image/png": "[encoded data removed]",
      "text/plain": [
       "<Figure size 432x288 with 1 Axes>"
      ]
     },
     "metadata": {
      "needs_background": "light"
     },
     "output_type": "display_data"
    }
   ],
   "source": [
    "# plot boxplot interventiongroup / gender\n",
    "sns.boxplot(data=final, x=\"ability\", hue=\"interventiongroup\",y='Geschlecht',showfliers = False)"
   ]
  },
  {
   "cell_type": "markdown",
   "metadata": {},
   "source": [
    "Gender Demographics"
   ]
  },
  {
   "cell_type": "code",
   "execution_count": 13,
   "metadata": {},
   "outputs": [],
   "source": [
    "# split\n",
    "final_m = final.loc[final.Geschlecht == 'm']\n",
    "final_w = final.loc[final.Geschlecht == 'w']\n",
    "final_d = final.loc[final.Geschlecht == 'd']"
   ]
  },
  {
   "attachments": {},
   "cell_type": "markdown",
   "metadata": {},
   "source": [
    "Boys"
   ]
  },
  {
   "cell_type": "code",
   "execution_count": 14,
   "metadata": {},
   "outputs": [
    {
     "data": {
      "text/plain": [
       "KruskalResult(statistic=38.85211387338328, pvalue=2.5432880459243695e-07)"
      ]
     },
     "execution_count": 14,
     "metadata": {},
     "output_type": "execute_result"
    }
   ],
   "source": [
    "# split boys by interventiongroup\n",
    "intvcontrol_m = final_m[(final_m['interventiongroup']=='control')]\n",
    "intv2_m = final_m[(final_m['interventiongroup']=='2')]\n",
    "intv3_m = final_m[(final_m['interventiongroup']=='3')]\n",
    "intv4_m = final_m[(final_m['interventiongroup']=='4')]\n",
    "intv5_m = final_m[(final_m['interventiongroup']=='5')]\n",
    "intv6_m = final_m[(final_m['interventiongroup']=='6')]\n",
    "\n",
    "# Kruskal Wallis Test \n",
    "stats.kruskal(intvcontrol_m['ability'], intv2_m['ability'], intv3_m['ability'],intv4_m['ability'],intv5_m['ability'],intv6_m['ability'])"
   ]
  },
  {
   "cell_type": "code",
   "execution_count": 15,
   "metadata": {},
   "outputs": [
    {
     "name": "stdout",
     "output_type": "stream",
     "text": [
      "MannwhitneyuResult(statistic=484045.0, pvalue=0.6088390715806091)\n",
      "MannwhitneyuResult(statistic=485860.0, pvalue=0.7678848163926204)\n",
      "MannwhitneyuResult(statistic=523585.0, pvalue=0.8520310900070037)\n",
      "MannwhitneyuResult(statistic=549583.5, pvalue=1.2807539080813606e-07)\n",
      "MannwhitneyuResult(statistic=480387.5, pvalue=0.15075603284341382)\n"
     ]
    }
   ],
   "source": [
    "#Wilcoxon Mann Whitney Test\n",
    "print(stats.mannwhitneyu(intvcontrol_m['ability'], intv2_m['ability']))\n",
    "print(stats.mannwhitneyu(intvcontrol_m['ability'], intv3_m['ability']))\n",
    "print(stats.mannwhitneyu(intvcontrol_m['ability'], intv4_m['ability']))\n",
    "print(stats.mannwhitneyu(intvcontrol_m['ability'], intv5_m['ability']))\n",
    "print(stats.mannwhitneyu(intvcontrol_m['ability'], intv6_m['ability']))"
   ]
  },
  {
   "cell_type": "code",
   "execution_count": 16,
   "metadata": {},
   "outputs": [
    {
     "data": {
      "text/plain": [
       "<AxesSubplot:xlabel='ability', ylabel='interventiongroup'>"
      ]
     },
     "execution_count": 16,
     "metadata": {},
     "output_type": "execute_result"
    },
    {
     "data": {
      "image/png": "[encoded data removed]",
      "text/plain": [
       "<Figure size 432x288 with 1 Axes>"
      ]
     },
     "metadata": {
      "needs_background": "light"
     },
     "output_type": "display_data"
    }
   ],
   "source": [
    "# plot ability and interventiongroup\n",
    "sns.boxplot(data=final_m, x=\"ability\", y=\"interventiongroup\",showfliers = False)"
   ]
  },
  {
   "attachments": {},
   "cell_type": "markdown",
   "metadata": {},
   "source": [
    "Girls"
   ]
  },
  {
   "cell_type": "code",
   "execution_count": 17,
   "metadata": {},
   "outputs": [
    {
     "data": {
      "text/plain": [
       "KruskalResult(statistic=29.69388088317724, pvalue=1.6942336948528677e-05)"
      ]
     },
     "execution_count": 17,
     "metadata": {},
     "output_type": "execute_result"
    }
   ],
   "source": [
    "# split girls by interventiongroup\n",
    "intvcontrol_w = final_w[(final_w['interventiongroup']=='control')]\n",
    "intv2_w = final_w[(final_w['interventiongroup']=='2')]\n",
    "intv3_w = final_w[(final_w['interventiongroup']=='3')]\n",
    "intv4_w = final_w[(final_w['interventiongroup']=='4')]\n",
    "intv5_w = final_w[(final_w['interventiongroup']=='5')]\n",
    "intv6_w = final_w[(final_w['interventiongroup']=='6')]\n",
    "\n",
    "# Kruskal Wallis Test \n",
    "stats.kruskal(intvcontrol_w['ability'], intv2_w['ability'], intv3_w['ability'],intv4_w['ability'],intv5_w['ability'],intv6_w['ability'])"
   ]
  },
  {
   "cell_type": "code",
   "execution_count": 18,
   "metadata": {},
   "outputs": [
    {
     "name": "stdout",
     "output_type": "stream",
     "text": [
      "MannwhitneyuResult(statistic=542930.0, pvalue=0.6320966790461168)\n",
      "MannwhitneyuResult(statistic=592142.0, pvalue=0.1478404259953352)\n",
      "MannwhitneyuResult(statistic=557917.0, pvalue=0.04773313899388537)\n",
      "MannwhitneyuResult(statistic=574116.0, pvalue=7.899101928992461e-07)\n",
      "MannwhitneyuResult(statistic=486977.0, pvalue=0.5151053109167599)\n"
     ]
    }
   ],
   "source": [
    "#Wilcoxon Mann Whitney Test\n",
    "print(stats.mannwhitneyu(intvcontrol_w['ability'], intv2_w['ability']))\n",
    "print(stats.mannwhitneyu(intvcontrol_w['ability'], intv3_w['ability']))\n",
    "print(stats.mannwhitneyu(intvcontrol_w['ability'], intv4_w['ability']))\n",
    "print(stats.mannwhitneyu(intvcontrol_w['ability'], intv5_w['ability']))\n",
    "print(stats.mannwhitneyu(intvcontrol_w['ability'], intv6_w['ability']))\n"
   ]
  },
  {
   "cell_type": "code",
   "execution_count": 19,
   "metadata": {},
   "outputs": [
    {
     "data": {
      "text/plain": [
       "<AxesSubplot:xlabel='ability', ylabel='interventiongroup'>"
      ]
     },
     "execution_count": 19,
     "metadata": {},
     "output_type": "execute_result"
    },
    {
     "data": {
      "image/png": "[encoded data removed]",
      "text/plain": [
       "<Figure size 432x288 with 1 Axes>"
      ]
     },
     "metadata": {
      "needs_background": "light"
     },
     "output_type": "display_data"
    }
   ],
   "source": [
    "# plot boxplot ability and interventiongroup\n",
    "sns.boxplot(data=final_w, x=\"ability\", y=\"interventiongroup\",showfliers = False)"
   ]
  },
  {
   "cell_type": "markdown",
   "metadata": {},
   "source": [
    "Divers"
   ]
  },
  {
   "cell_type": "code",
   "execution_count": 20,
   "metadata": {},
   "outputs": [],
   "source": [
    "# intvcontrol_d = final_d[(final_d['interventiongroup']=='control')]\n",
    "# intv2_d = final_d[(final_d['interventiongroup']=='2')]\n",
    "# intv3_d = final_d[(final_d['interventiongroup']=='3')]\n",
    "# intv4_d = final_d[(final_d['interventiongroup']=='4')]\n",
    "# intv5_d = final_d[(final_d['interventiongroup']=='5')]\n",
    "# intv6_d = final_d[(final_d['interventiongroup']=='6')]\n",
    "\n",
    "# # Kruskal Wallis Test \n",
    "# stats.kruskal(intvcontrol_d['ability'], intv2_d['ability'], intv3_d['ability'],intv4_d['ability'],intv5_d['ability'],intv6_d['ability'])\n",
    "\n",
    "# #Wilcoxon Mann Whitney Test\n",
    "# print(stats.mannwhitneyu(intvcontrol_d['ability'], intv2_d['ability']))\n",
    "# print(stats.mannwhitneyu(intvcontrol_d['ability'], intv3_d['ability']))\n",
    "# print(stats.mannwhitneyu(intvcontrol_d['ability'], intv4_d['ability']))\n",
    "# print(stats.mannwhitneyu(intvcontrol_d['ability'], intv5_d['ability']))\n",
    "# print(stats.mannwhitneyu(intvcontrol_d['ability'], intv6_d['ability']))\n",
    "\n",
    "# sns.boxplot(data=final_d, x=\"ability\", y=\"interventiongroup\",showfliers = False)"
   ]
  },
  {
   "attachments": {},
   "cell_type": "markdown",
   "metadata": {},
   "source": [
    "Demographics class level"
   ]
  },
  {
   "cell_type": "code",
   "execution_count": 21,
   "metadata": {},
   "outputs": [
    {
     "name": "stdout",
     "output_type": "stream",
     "text": [
      "KruskalResult(statistic=18.941556628871496, pvalue=0.0019709132854136054)\n",
      "KruskalResult(statistic=11.063111904359271, pvalue=0.0501429200245541)\n",
      "KruskalResult(statistic=14.359948055543853, pvalue=0.013477616663149497)\n",
      "KruskalResult(statistic=34.317472315134545, pvalue=2.058415831860308e-06)\n",
      "KruskalResult(statistic=16.966379449667162, pvalue=0.00456400260475576)\n",
      "KruskalResult(statistic=7.906502659980139, pvalue=0.16146428431752438)\n",
      "KruskalResult(statistic=9.997036971576403, pvalue=0.07531924578631882)\n",
      "KruskalResult(statistic=3.7100836153077337, pvalue=0.5918640871531279)\n",
      "KruskalResult(statistic=2.478880645215508, pvalue=0.7796722749023791)\n"
     ]
    }
   ],
   "source": [
    "# split by class level\n",
    "final_5 = final.loc[final.Klassenstufe == '5']\n",
    "final_6 = final.loc[final.Klassenstufe == '6']\n",
    "final_7 = final.loc[final.Klassenstufe == '7']\n",
    "final_8 = final.loc[final.Klassenstufe == '8']\n",
    "final_9 = final.loc[final.Klassenstufe == '9']\n",
    "final_10 = final.loc[final.Klassenstufe == '10']\n",
    "final_11 = final.loc[final.Klassenstufe == '11']\n",
    "final_12 = final.loc[final.Klassenstufe == '12']\n",
    "final_13 = final.loc[final.Klassenstufe == '13']\n",
    "\n",
    "klassenliste = [final_5, final_6, final_7, final_8, final_9, final_10, final_11, final_12, final_13]\n",
    "\n",
    "for x in klassenliste:\n",
    "    intvcontrol = x[(x['interventiongroup']=='control')]\n",
    "    intv2 = x[(x['interventiongroup']=='2')]\n",
    "    intv3 = x[(x['interventiongroup']=='3')]\n",
    "    intv4 = x[(x['interventiongroup']=='4')]\n",
    "    intv5 = x[(x['interventiongroup']=='5')]\n",
    "    intv6 = x[(x['interventiongroup']=='6')]\n",
    "\n",
    "    # Kruskal Wallis Test \n",
    "    print(stats.kruskal(intvcontrol['ability'], intv2['ability'], intv3['ability'],intv4['ability'],intv5['ability'],intv6['ability']))"
   ]
  },
  {
   "cell_type": "code",
   "execution_count": 22,
   "metadata": {},
   "outputs": [
    {
     "name": "stdout",
     "output_type": "stream",
     "text": [
      "MannwhitneyuResult(statistic=23310.5, pvalue=0.9043291027242265)\n",
      "MannwhitneyuResult(statistic=21575.0, pvalue=0.2810393275220361)\n",
      "MannwhitneyuResult(statistic=21793.5, pvalue=0.020268908504160337)\n",
      "MannwhitneyuResult(statistic=22462.5, pvalue=0.042502187543685434)\n",
      "MannwhitneyuResult(statistic=23268.0, pvalue=0.4630518044121733)\n",
      "--------------\n",
      "MannwhitneyuResult(statistic=53944.5, pvalue=0.937394853840652)\n",
      "MannwhitneyuResult(statistic=59483.0, pvalue=0.850693306490651)\n",
      "MannwhitneyuResult(statistic=75357.0, pvalue=0.27191875772398943)\n",
      "MannwhitneyuResult(statistic=78547.5, pvalue=0.0011910703613067148)\n",
      "MannwhitneyuResult(statistic=60830.5, pvalue=0.8135283917310682)\n",
      "--------------\n",
      "MannwhitneyuResult(statistic=76414.5, pvalue=0.8535802046086788)\n",
      "MannwhitneyuResult(statistic=90111.0, pvalue=0.5431001182023373)\n",
      "MannwhitneyuResult(statistic=76878.0, pvalue=0.9685345670819862)\n",
      "MannwhitneyuResult(statistic=87100.5, pvalue=4.363054633575577e-07)\n",
      "MannwhitneyuResult(statistic=71653.0, pvalue=0.9051297841657544)\n",
      "--------------\n",
      "MannwhitneyuResult(statistic=68409.5, pvalue=0.2596482268506696)\n",
      "MannwhitneyuResult(statistic=68759.0, pvalue=0.558036026498666)\n",
      "MannwhitneyuResult(statistic=64981.5, pvalue=0.03093798719292012)\n",
      "MannwhitneyuResult(statistic=73206.0, pvalue=0.0021433962216352107)\n",
      "MannwhitneyuResult(statistic=65747.5, pvalue=0.0017346566917760499)\n",
      "--------------\n"
     ]
    }
   ],
   "source": [
    "# carry out wilcoxon mann whitney test for significant classes\n",
    "klassenliste = [final_5, final_7, final_8, final_9]\n",
    "\n",
    "for x in klassenliste:\n",
    "    intvcontrol = x[(x['interventiongroup']=='control')]\n",
    "    intv2 = x[(x['interventiongroup']=='2')]\n",
    "    intv3 = x[(x['interventiongroup']=='3')]\n",
    "    intv4 = x[(x['interventiongroup']=='4')]\n",
    "    intv5 = x[(x['interventiongroup']=='5')]\n",
    "    intv6 = x[(x['interventiongroup']=='6')]\n",
    "\n",
    "    #Wilcoxon Mann Whitney Test\n",
    "    print(stats.mannwhitneyu(intvcontrol['ability'], intv2['ability']))\n",
    "    print(stats.mannwhitneyu(intvcontrol['ability'], intv3['ability']))\n",
    "    print(stats.mannwhitneyu(intvcontrol['ability'], intv4['ability']))\n",
    "    print(stats.mannwhitneyu(intvcontrol['ability'], intv5['ability']))\n",
    "    print(stats.mannwhitneyu(intvcontrol['ability'], intv6['ability']))\n",
    "    print('--------------')"
   ]
  },
  {
   "cell_type": "code",
   "execution_count": 23,
   "metadata": {},
   "outputs": [],
   "source": [
    "# plot boxplots for significant groups"
   ]
  },
  {
   "cell_type": "code",
   "execution_count": 24,
   "metadata": {},
   "outputs": [
    {
     "name": "stdout",
     "output_type": "stream",
     "text": [
      "AxesSubplot(0.125,0.125;0.775x0.755)\n"
     ]
    },
    {
     "data": {
      "image/png": "[encoded data removed]",
      "text/plain": [
       "<Figure size 432x288 with 1 Axes>"
      ]
     },
     "metadata": {
      "needs_background": "light"
     },
     "output_type": "display_data"
    }
   ],
   "source": [
    "print(sns.boxplot(data=final_6, x=\"ability\", y=\"interventiongroup\",showfliers = False))"
   ]
  },
  {
   "cell_type": "code",
   "execution_count": 25,
   "metadata": {},
   "outputs": [
    {
     "name": "stdout",
     "output_type": "stream",
     "text": [
      "AxesSubplot(0.125,0.125;0.775x0.755)\n"
     ]
    },
    {
     "data": {
      "image/png": "[encoded data removed]",
      "text/plain": [
       "<Figure size 432x288 with 1 Axes>"
      ]
     },
     "metadata": {
      "needs_background": "light"
     },
     "output_type": "display_data"
    }
   ],
   "source": [
    "print(sns.boxplot(data=final_7, x=\"ability\", y=\"interventiongroup\",showfliers = False))"
   ]
  },
  {
   "cell_type": "code",
   "execution_count": 26,
   "metadata": {},
   "outputs": [
    {
     "name": "stdout",
     "output_type": "stream",
     "text": [
      "AxesSubplot(0.125,0.125;0.775x0.755)\n"
     ]
    },
    {
     "data": {
      "image/png": "[encoded data removed]",
      "text/plain": [
       "<Figure size 432x288 with 1 Axes>"
      ]
     },
     "metadata": {
      "needs_background": "light"
     },
     "output_type": "display_data"
    }
   ],
   "source": [
    "print(sns.boxplot(data=final_12, x=\"ability\", y=\"interventiongroup\",showfliers = False))"
   ]
  }
 ],
 "metadata": {
  "kernelspec": {
   "display_name": "Python 3.10.2 64-bit",
   "language": "python",
   "name": "python3"
  },
  "language_info": {
   "codemirror_mode": {
    "name": "ipython",
    "version": 3
   },
   "file_extension": ".py",
   "mimetype": "text/x-python",
   "name": "python",
   "nbconvert_exporter": "python",
   "pygments_lexer": "ipython3",
   "version": "3.10.2"
  },
  "orig_nbformat": 4,
  "vscode": {
   "interpreter": {
    "hash": "369f2c481f4da34e4445cda3fffd2e751bd1c4d706f27375911949ba6bb62e1c"
   }
  }
 },
 "nbformat": 4,
 "nbformat_minor": 2
}
