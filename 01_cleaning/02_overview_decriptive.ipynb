{
 "cells": [
  {
   "cell_type": "code",
   "execution_count": 1,
   "metadata": {},
   "outputs": [],
   "source": [
    "import pandas as pd\n",
    "import pickle"
   ]
  },
  {
   "cell_type": "code",
   "execution_count": 2,
   "metadata": {},
   "outputs": [],
   "source": [
    "#import\n",
    "df = pickle.load(open( '../00_data/cleaned/sitzungssummary.pkl','rb') )\n",
    "xmlsaetze = pickle.load(open( '../00_data/cleaned/xmlsaetze.pkl','rb') )\n"
   ]
  },
  {
   "cell_type": "code",
   "execution_count": 3,
   "metadata": {},
   "outputs": [
    {
     "name": "stdout",
     "output_type": "stream",
     "text": [
      "Anzahl Sitzungen\n",
      "42147\n",
      "----\n",
      "Anzahl User\n",
      "12193\n",
      "----\n",
      "Anzahl schueler pro interventiongroup\n",
      "interventiongroup\n",
      "2          6656\n",
      "3          6821\n",
      "4          6511\n",
      "5          6634\n",
      "6          6975\n",
      "control    8550\n",
      "Name: UserID, dtype: int64\n",
      "----\n"
     ]
    }
   ],
   "source": [
    "# Sitzungen / Schueler\n",
    "print('Anzahl Sitzungen')\n",
    "print(len(df))\n",
    "print('----')\n",
    "\n",
    "print('Anzahl User')\n",
    "print(len(df.UserID.unique()))\n",
    "print('----')\n",
    "\n",
    "print('Anzahl schueler pro interventiongroup')\n",
    "s = df.groupby(['interventiongroup'])['UserID'].count()\n",
    "print(s)\n",
    "print('----')\n",
    "\n"
   ]
  },
  {
   "cell_type": "code",
   "execution_count": 4,
   "metadata": {},
   "outputs": [
    {
     "name": "stdout",
     "output_type": "stream",
     "text": [
      "Anzahl sitzungen pro interventiongroup\n",
      "interventiongroup\n",
      "2          6656\n",
      "3          6821\n",
      "4          6511\n",
      "5          6634\n",
      "6          6975\n",
      "control    8550\n",
      "Name: UebungsID, dtype: int64\n",
      "----\n"
     ]
    }
   ],
   "source": [
    "print('Anzahl sitzungen pro interventiongroup')\n",
    "s = df.groupby(['interventiongroup'])['UebungsID'].count()\n",
    "print(s)\n",
    "print('----')\n"
   ]
  },
  {
   "cell_type": "code",
   "execution_count": 5,
   "metadata": {},
   "outputs": [
    {
     "name": "stdout",
     "output_type": "stream",
     "text": [
      "Anzahl Sitzungen pro User\n",
      "UserID\n",
      "186923     6\n",
      "360974     1\n",
      "373836     1\n",
      "409463     1\n",
      "435839     2\n",
      "          ..\n",
      "1063303    1\n",
      "1063461    1\n",
      "1063470    1\n",
      "1063918    3\n",
      "1064116    8\n",
      "Name: UebungsID, Length: 12193, dtype: int64\n"
     ]
    }
   ],
   "source": [
    "print(\"Anzahl Sitzungen pro User\")\n",
    "s = df.groupby(['UserID'])['UebungsID'].count()\n",
    "print(s)"
   ]
  },
  {
   "cell_type": "code",
   "execution_count": 6,
   "metadata": {},
   "outputs": [
    {
     "name": "stdout",
     "output_type": "stream",
     "text": [
      "Anzahl XMLSaetze\n",
      "962598\n",
      "----\n",
      "Anzahl User\n",
      "11744\n",
      "----\n",
      "Anzahl Sitzungen (UebungsIDs)\n",
      "38368\n",
      "----\n"
     ]
    }
   ],
   "source": [
    "#xmlsaetze\n",
    "print('Anzahl XMLSaetze')\n",
    "print(len(xmlsaetze))\n",
    "print('----')\n",
    "\n",
    "print('Anzahl User')\n",
    "print(len(xmlsaetze.UserID.unique()))\n",
    "print('----')\n",
    "\n",
    "print('Anzahl Sitzungen (UebungsIDs)')\n",
    "print(len(xmlsaetze.UebungsID.unique()))\n",
    "print('----')\n",
    "\n"
   ]
  },
  {
   "cell_type": "code",
   "execution_count": 7,
   "metadata": {},
   "outputs": [],
   "source": [
    "intv = df[['UebungsID','interventiongroup']]\n",
    "xmlsaetze = pd.merge(xmlsaetze, intv, on='UebungsID')"
   ]
  },
  {
   "cell_type": "code",
   "execution_count": 8,
   "metadata": {},
   "outputs": [
    {
     "name": "stdout",
     "output_type": "stream",
     "text": [
      "Anzahl schueler pro interventiongroup\n",
      "                   UserID\n",
      "interventiongroup        \n",
      "2                    1835\n",
      "3                    1929\n",
      "4                    1910\n",
      "5                    1818\n",
      "6                    1733\n",
      "control              2447\n",
      "----\n",
      "Anzahl Session pro interventiongroup\n",
      "                   UebungsID\n",
      "interventiongroup           \n",
      "2                       5950\n",
      "3                       6222\n",
      "4                       6072\n",
      "5                       5733\n",
      "6                       6196\n",
      "control                 8049\n",
      "----\n"
     ]
    }
   ],
   "source": [
    "\n",
    "print('Anzahl schueler pro interventiongroup')\n",
    "s = xmlsaetze.groupby(['interventiongroup']).agg({\"UserID\": \"nunique\"})\n",
    "print(s)\n",
    "print('----')\n",
    "\n",
    " \n",
    "print('Anzahl Session pro interventiongroup')\n",
    "s = xmlsaetze.groupby(['interventiongroup']).agg({\"UebungsID\": \"nunique\"})\n",
    "print(s)\n",
    "print('----')\n"
   ]
  },
  {
   "cell_type": "code",
   "execution_count": 9,
   "metadata": {},
   "outputs": [
    {
     "name": "stdout",
     "output_type": "stream",
     "text": [
      "Anzahl xmlsaetze pro interventiongroup\n",
      "interventiongroup\n",
      "2          148625\n",
      "3          159677\n",
      "4          153658\n",
      "5          148565\n",
      "6          123463\n",
      "control    225426\n",
      "Name: ID, dtype: int64\n",
      "----\n"
     ]
    }
   ],
   "source": [
    "\n",
    "print('Anzahl xmlsaetze pro interventiongroup')\n",
    "s = xmlsaetze.groupby(['interventiongroup'])['ID'].count()\n",
    "print(s)\n",
    "print('----')"
   ]
  },
  {
   "attachments": {},
   "cell_type": "markdown",
   "metadata": {},
   "source": [
    "User Statistics"
   ]
  },
  {
   "cell_type": "code",
   "execution_count": 10,
   "metadata": {},
   "outputs": [
    {
     "name": "stdout",
     "output_type": "stream",
     "text": [
      "Anzahl User pro Geschlecht\n",
      "Geschlecht\n",
      "d     393\n",
      "m    5550\n",
      "w    5728\n",
      "Name: UserID, dtype: int64\n",
      "----\n",
      "Anzahl User pro Klassenstufe\n",
      "Klassenstufe\n",
      "10    1084\n",
      "11    1015\n",
      "12     302\n",
      "13     187\n",
      "5     1189\n",
      "6     1765\n",
      "7     1959\n",
      "8     2194\n",
      "9     1976\n",
      "Name: UserID, dtype: int64\n",
      "----\n"
     ]
    }
   ],
   "source": [
    "df_user = xmlsaetze['UserID']\n",
    "df_user = df_user.drop_duplicates()\n",
    "temp = df[['UserID','Geschlecht','Klassenstufe']]\n",
    "temp = temp.drop_duplicates()\n",
    "\n",
    "df_user = pd.merge(df_user, temp, how='left', on='UserID')\n",
    "\n",
    "print('Anzahl User pro Geschlecht')\n",
    "s = df_user.groupby(['Geschlecht'])['UserID'].count()\n",
    "print(s)\n",
    "print('----')\n",
    "\n",
    "print('Anzahl User pro Klassenstufe')\n",
    "f = df_user.groupby(['Klassenstufe'])['UserID'].count()\n",
    "print(f)\n",
    "print('----')\n"
   ]
  },
  {
   "cell_type": "code",
   "execution_count": 11,
   "metadata": {},
   "outputs": [
    {
     "data": {
      "image/png": "[encoded data removed]",
      "text/plain": [
       "<Figure size 432x288 with 1 Axes>"
      ]
     },
     "metadata": {},
     "output_type": "display_data"
    }
   ],
   "source": [
    "import matplotlib.pyplot as plt\n",
    "import seaborn as sns\n",
    "\n",
    "#define data\n",
    "data = [393, 5550, 5728]\n",
    "labels = ['N/A', 'Male', 'Female']\n",
    "\n",
    "#define Seaborn color palette to use\n",
    "colors = sns.color_palette(\"dark:#5A9_r\")[0:5]\n",
    "\n",
    "#create pie chart\n",
    "plt.pie(data, labels = labels, colors = colors, autopct='%.0f%%')#, autopct='%.0f%%'\n",
    "plt.show()"
   ]
  },
  {
   "cell_type": "code",
   "execution_count": 12,
   "metadata": {},
   "outputs": [
    {
     "data": {
      "image/png": "[encoded data removed]",
      "text/plain": [
       "<Figure size 432x288 with 1 Axes>"
      ]
     },
     "metadata": {
      "needs_background": "light"
     },
     "output_type": "display_data"
    }
   ],
   "source": [
    "import matplotlib.pyplot as plt\n",
    "import seaborn as sns\n",
    "\n",
    "#define data\n",
    "data = {'Class level': ['5', '6', '7','8','9','10','11','12', '13'],\n",
    "'Count':[1189, 1765, 1959, 2194, 1976, 1084, 1015, 302, 187]}\n",
    "\n",
    "df_new = pd.DataFrame(data)\n",
    "\n",
    "#define Seaborn color palette to use\n",
    "colors = sns.color_palette(\"dark:#5A9_r\")[0:5]\n",
    "\n",
    "#create pie chart\n",
    "sns.barplot(data=df_new, x='Count', y='Class level',palette=\"dark:#5A9_r\")\n",
    "plt.show()"
   ]
  },
  {
   "attachments": {},
   "cell_type": "markdown",
   "metadata": {},
   "source": [
    "User Sätze nach Zeitverlauf"
   ]
  },
  {
   "cell_type": "code",
   "execution_count": 13,
   "metadata": {},
   "outputs": [
    {
     "name": "stderr",
     "output_type": "stream",
     "text": [
      "C:\\Users\\Nathalie\\AppData\\Local\\Temp\\ipykernel_5900\\507716232.py:2: SettingWithCopyWarning: \n",
      "A value is trying to be set on a copy of a slice from a DataFrame.\n",
      "Try using .loc[row_indexer,col_indexer] = value instead\n",
      "\n",
      "See the caveats in the documentation: https://pandas.pydata.org/pandas-docs/stable/user_guide/indexing.html#returning-a-view-versus-a-copy\n",
      "  zeitstrahl['Date'] = pd.to_datetime(zeitstrahl['Datum']).dt.date\n"
     ]
    },
    {
     "data": {
      "text/html": [
       "<div>\n",
       "<style scoped>\n",
       "    .dataframe tbody tr th:only-of-type {\n",
       "        vertical-align: middle;\n",
       "    }\n",
       "\n",
       "    .dataframe tbody tr th {\n",
       "        vertical-align: top;\n",
       "    }\n",
       "\n",
       "    .dataframe thead th {\n",
       "        text-align: right;\n",
       "    }\n",
       "</style>\n",
       "<table border=\"1\" class=\"dataframe\">\n",
       "  <thead>\n",
       "    <tr style=\"text-align: right;\">\n",
       "      <th></th>\n",
       "      <th>ID</th>\n",
       "      <th>Datum</th>\n",
       "      <th>interventiongroup</th>\n",
       "      <th>Date</th>\n",
       "    </tr>\n",
       "  </thead>\n",
       "  <tbody>\n",
       "    <tr>\n",
       "      <th>0</th>\n",
       "      <td>267404286</td>\n",
       "      <td>2022-06-21 00:00:05</td>\n",
       "      <td>5</td>\n",
       "      <td>2022-06-21</td>\n",
       "    </tr>\n",
       "    <tr>\n",
       "      <th>1</th>\n",
       "      <td>267404289</td>\n",
       "      <td>2022-06-21 00:00:12</td>\n",
       "      <td>5</td>\n",
       "      <td>2022-06-21</td>\n",
       "    </tr>\n",
       "    <tr>\n",
       "      <th>2</th>\n",
       "      <td>267404292</td>\n",
       "      <td>2022-06-21 00:00:22</td>\n",
       "      <td>5</td>\n",
       "      <td>2022-06-21</td>\n",
       "    </tr>\n",
       "    <tr>\n",
       "      <th>3</th>\n",
       "      <td>267404297</td>\n",
       "      <td>2022-06-21 00:00:47</td>\n",
       "      <td>5</td>\n",
       "      <td>2022-06-21</td>\n",
       "    </tr>\n",
       "    <tr>\n",
       "      <th>4</th>\n",
       "      <td>267404305</td>\n",
       "      <td>2022-06-21 00:01:01</td>\n",
       "      <td>5</td>\n",
       "      <td>2022-06-21</td>\n",
       "    </tr>\n",
       "    <tr>\n",
       "      <th>...</th>\n",
       "      <td>...</td>\n",
       "      <td>...</td>\n",
       "      <td>...</td>\n",
       "      <td>...</td>\n",
       "    </tr>\n",
       "    <tr>\n",
       "      <th>959409</th>\n",
       "      <td>272312452</td>\n",
       "      <td>2022-10-30 23:50:11</td>\n",
       "      <td>2</td>\n",
       "      <td>2022-10-30</td>\n",
       "    </tr>\n",
       "    <tr>\n",
       "      <th>959410</th>\n",
       "      <td>272312454</td>\n",
       "      <td>2022-10-30 23:50:22</td>\n",
       "      <td>2</td>\n",
       "      <td>2022-10-30</td>\n",
       "    </tr>\n",
       "    <tr>\n",
       "      <th>959411</th>\n",
       "      <td>272312457</td>\n",
       "      <td>2022-10-30 23:50:29</td>\n",
       "      <td>2</td>\n",
       "      <td>2022-10-30</td>\n",
       "    </tr>\n",
       "    <tr>\n",
       "      <th>959412</th>\n",
       "      <td>272312462</td>\n",
       "      <td>2022-10-30 23:50:47</td>\n",
       "      <td>2</td>\n",
       "      <td>2022-10-30</td>\n",
       "    </tr>\n",
       "    <tr>\n",
       "      <th>959413</th>\n",
       "      <td>272312467</td>\n",
       "      <td>2022-10-30 23:50:57</td>\n",
       "      <td>2</td>\n",
       "      <td>2022-10-30</td>\n",
       "    </tr>\n",
       "  </tbody>\n",
       "</table>\n",
       "<p>959414 rows × 4 columns</p>\n",
       "</div>"
      ],
      "text/plain": [
       "               ID                Datum interventiongroup        Date\n",
       "0       267404286  2022-06-21 00:00:05                 5  2022-06-21\n",
       "1       267404289  2022-06-21 00:00:12                 5  2022-06-21\n",
       "2       267404292  2022-06-21 00:00:22                 5  2022-06-21\n",
       "3       267404297  2022-06-21 00:00:47                 5  2022-06-21\n",
       "4       267404305  2022-06-21 00:01:01                 5  2022-06-21\n",
       "...           ...                  ...               ...         ...\n",
       "959409  272312452  2022-10-30 23:50:11                 2  2022-10-30\n",
       "959410  272312454  2022-10-30 23:50:22                 2  2022-10-30\n",
       "959411  272312457  2022-10-30 23:50:29                 2  2022-10-30\n",
       "959412  272312462  2022-10-30 23:50:47                 2  2022-10-30\n",
       "959413  272312467  2022-10-30 23:50:57                 2  2022-10-30\n",
       "\n",
       "[959414 rows x 4 columns]"
      ]
     },
     "execution_count": 13,
     "metadata": {},
     "output_type": "execute_result"
    }
   ],
   "source": [
    "zeitstrahl = xmlsaetze[['ID','Datum','interventiongroup']]\n",
    "zeitstrahl['Date'] = pd.to_datetime(zeitstrahl['Datum']).dt.date\n",
    "\n",
    "zeitstrahl\n"
   ]
  },
  {
   "cell_type": "code",
   "execution_count": 14,
   "metadata": {},
   "outputs": [],
   "source": [
    "temp = zeitstrahl.groupby(['Date','interventiongroup'])['ID'].count()\n",
    "temp = temp.reset_index()"
   ]
  },
  {
   "cell_type": "code",
   "execution_count": 15,
   "metadata": {},
   "outputs": [
    {
     "data": {
      "text/plain": [
       "[Text(0.5, 0, 'Date'), Text(0, 0.5, 'Count of submitted Tasks')]"
      ]
     },
     "execution_count": 15,
     "metadata": {},
     "output_type": "execute_result"
    },
    {
     "data": {
      "image/png": "[encoded data removed]",
      "text/plain": [
       "<Figure size 792x432 with 1 Axes>"
      ]
     },
     "metadata": {},
     "output_type": "display_data"
    }
   ],
   "source": [
    "import numpy as np\n",
    "import pandas as pd\n",
    "import seaborn as sns\n",
    "sns.set_theme(style=\"whitegrid\")\n",
    "plt.figure(figsize=(11,6))\n",
    "gfg= sns.lineplot(data=temp, x='Date', y='ID', linewidth=1, palette=\"dark:#5A9_r\" , ci=None)\n",
    "gfg.set(xlabel =\"Date\", ylabel = \"Count of submitted Tasks\")\n",
    "\n"
   ]
  }
 ],
 "metadata": {
  "kernelspec": {
   "display_name": "Python 3.10.2 64-bit",
   "language": "python",
   "name": "python3"
  },
  "language_info": {
   "codemirror_mode": {
    "name": "ipython",
    "version": 3
   },
   "file_extension": ".py",
   "mimetype": "text/x-python",
   "name": "python",
   "nbconvert_exporter": "python",
   "pygments_lexer": "ipython3",
   "version": "3.10.2 (tags/v3.10.2:a58ebcc, Jan 17 2022, 14:12:15) [MSC v.1929 64 bit (AMD64)]"
  },
  "orig_nbformat": 4,
  "vscode": {
   "interpreter": {
    "hash": "369f2c481f4da34e4445cda3fffd2e751bd1c4d706f27375911949ba6bb62e1c"
   }
  }
 },
 "nbformat": 4,
 "nbformat_minor": 2
}
