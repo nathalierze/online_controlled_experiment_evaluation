{
 "cells": [
  {
   "cell_type": "code",
   "execution_count": null,
   "metadata": {},
   "outputs": [],
   "source": [
    "import pandas as pd\n",
    "import matplotlib.pyplot as plt\n",
    "import seaborn as sns\n",
    "import pickle\n",
    "import numpy"
   ]
  },
  {
   "cell_type": "code",
   "execution_count": null,
   "metadata": {},
   "outputs": [],
   "source": [
    "## import data\n",
    "df = pickle.load(open( '../00_data/cleaned/sitzungssummary.pkl','rb') )\n",
    "xmlsaetze = pickle.load(open( '../00_data/cleaned/xmlsaetze.pkl','rb') )\n",
    "predictions = pickle.load(open( '../00_data/cleaned/predictions.pkl','rb') )"
   ]
  },
  {
   "cell_type": "code",
   "execution_count": null,
   "metadata": {},
   "outputs": [],
   "source": [
    "# Sitzungen / Schueler\n",
    "num_sessions = len(df)\n",
    "num_users = len(df.UserID.unique())\n",
    "intervention_counts = df.groupby('interventiongroup')['UserID'].count()\n",
    "\n",
    "output_string = (f\"Anzahl Sitzungen\\n{num_sessions}\\n\"\n",
    "                 f\"----\\n\"\n",
    "                 f\"Anzahl User\\n{num_users}\\n\"\n",
    "                 f\"----\\n\"\n",
    "                 f\"Anzahl schueler pro interventiongroup\\n{intervention_counts}\\n\"\n",
    "                 f\"----\\n\")\n",
    "print(output_string)\n",
    "\n"
   ]
  },
  {
   "cell_type": "code",
   "execution_count": null,
   "metadata": {},
   "outputs": [],
   "source": [
    "print('Anzahl sitzungen pro interventiongroup')\n",
    "s = df.groupby(['interventiongroup'])['UebungsID'].count()\n",
    "print(s)\n",
    "print('----')\n"
   ]
  },
  {
   "cell_type": "code",
   "execution_count": null,
   "metadata": {},
   "outputs": [],
   "source": [
    "print(\"Anzahl Sitzungen pro User\")\n",
    "s = df.groupby(['UserID'])['UebungsID'].count()\n",
    "print(s)"
   ]
  },
  {
   "cell_type": "code",
   "execution_count": null,
   "metadata": {},
   "outputs": [],
   "source": [
    "#xmlsaetze\n",
    "num_xml_saetze = len(xmlsaetze)\n",
    "num_users = len(xmlsaetze.UserID.unique())\n",
    "num_sitzungen = len(xmlsaetze.UebungsID.unique())\n",
    "\n",
    "output_string = (f\"Anzahl XMLSaetze\\n{num_xml_saetze}\\n\"\n",
    "                 f\"----\\n\"\n",
    "                 f\"Anzahl User\\n{num_users}\\n\"\n",
    "                 f\"----\\n\"\n",
    "                 f\"Anzahl Sitzungen (UebungsIDs)\\n{num_sitzungen}\\n\"\n",
    "                 f\"----\\n\")\n",
    "print(output_string)"
   ]
  },
  {
   "cell_type": "code",
   "execution_count": null,
   "metadata": {},
   "outputs": [],
   "source": [
    "intv = df[['UebungsID','interventiongroup']]\n",
    "xmlsaetze = pd.merge(xmlsaetze, intv, on='UebungsID')"
   ]
  },
  {
   "cell_type": "code",
   "execution_count": null,
   "metadata": {},
   "outputs": [],
   "source": [
    "\n",
    "print('Anzahl schueler pro interventiongroup')\n",
    "s = xmlsaetze.groupby(['interventiongroup']).agg({\"UserID\": \"nunique\"})\n",
    "print(s)\n",
    "print('----')\n",
    "\n",
    " \n",
    "print('Anzahl Session pro interventiongroup')\n",
    "s = xmlsaetze.groupby(['interventiongroup']).agg({\"UebungsID\": \"nunique\"})\n",
    "print(s)\n",
    "print('----')\n"
   ]
  },
  {
   "cell_type": "code",
   "execution_count": null,
   "metadata": {},
   "outputs": [],
   "source": [
    "\n",
    "print('Anzahl xmlsaetze pro interventiongroup')\n",
    "s = xmlsaetze.groupby(['interventiongroup'])['ID'].count()\n",
    "print(s)\n",
    "print('----')"
   ]
  },
  {
   "attachments": {},
   "cell_type": "markdown",
   "metadata": {},
   "source": [
    "User Statistics"
   ]
  },
  {
   "cell_type": "code",
   "execution_count": null,
   "metadata": {},
   "outputs": [],
   "source": [
    "df_user = xmlsaetze['UserID']\n",
    "df_user = df_user.drop_duplicates()\n",
    "temp = df[['UserID','Geschlecht','Klassenstufe']]\n",
    "temp = temp.drop_duplicates()\n",
    "\n",
    "df_user = pd.merge(df_user, temp, how='left', on='UserID')\n",
    "\n",
    "print('Anzahl User pro Geschlecht')\n",
    "s = df_user.groupby(['Geschlecht'])['UserID'].count()\n",
    "print(s)\n",
    "print('----')\n",
    "\n",
    "print('Anzahl User pro Klassenstufe')\n",
    "f = df_user.groupby(['Klassenstufe'])['UserID'].count()\n",
    "print(f)\n",
    "print('----')\n"
   ]
  },
  {
   "cell_type": "code",
   "execution_count": null,
   "metadata": {},
   "outputs": [],
   "source": [
    "data = [393, 5550, 5728]\n",
    "labels = ['N/A', 'Male', 'Female']\n",
    "\n",
    "colors = sns.color_palette(\"dark:#5A9_r\")[0:5]\n",
    "plt.pie(data, labels = labels, colors = colors, autopct='%.0f%%')\n",
    "plt.show()"
   ]
  },
  {
   "cell_type": "code",
   "execution_count": null,
   "metadata": {},
   "outputs": [],
   "source": [
    "#define data\n",
    "data = {'Class level': ['5', '6', '7','8','9','10','11','12', '13'],\n",
    "'Count':[1189, 1765, 1959, 2194, 1976, 1084, 1015, 302, 187]}\n",
    "\n",
    "df_new = pd.DataFrame(data)\n",
    "colors = sns.color_palette(\"dark:#5A9_r\")[0:5]\n",
    "sns.barplot(data=df_new, x='Count', y='Class level',palette=\"dark:#5A9_r\")\n",
    "plt.show()"
   ]
  },
  {
   "attachments": {},
   "cell_type": "markdown",
   "metadata": {},
   "source": [
    "User Sätze nach Zeitverlauf"
   ]
  },
  {
   "cell_type": "code",
   "execution_count": null,
   "metadata": {},
   "outputs": [],
   "source": [
    "zeitstrahl = xmlsaetze[['ID','Datum','interventiongroup']]\n",
    "zeitstrahl['Date'] = pd.to_datetime(zeitstrahl['Datum']).dt.date"
   ]
  },
  {
   "cell_type": "code",
   "execution_count": null,
   "metadata": {},
   "outputs": [],
   "source": [
    "temp = zeitstrahl.groupby(['Date','interventiongroup'])['ID'].count()\n",
    "temp = temp.reset_index()"
   ]
  },
  {
   "cell_type": "code",
   "execution_count": null,
   "metadata": {},
   "outputs": [],
   "source": [
    "sns.set_theme(style=\"whitegrid\")\n",
    "plt.figure(figsize=(11,6))\n",
    "gfg= sns.lineplot(data=temp, x='Date', y='ID', linewidth=1, palette=\"dark:#5A9_r\" , ci=None)\n",
    "gfg.set(xlabel =\"Date\", ylabel = \"Count of submitted Tasks\")"
   ]
  },
  {
   "cell_type": "code",
   "execution_count": null,
   "metadata": {},
   "outputs": [],
   "source": [
    "sns.countplot(x=df[\"prediction\"])"
   ]
  }
 ],
 "metadata": {
  "kernelspec": {
   "display_name": "Python 3.10.2 64-bit",
   "language": "python",
   "name": "python3"
  },
  "language_info": {
   "codemirror_mode": {
    "name": "ipython",
    "version": 3
   },
   "file_extension": ".py",
   "mimetype": "text/x-python",
   "name": "python",
   "nbconvert_exporter": "python",
   "pygments_lexer": "ipython3",
   "version": "3.10.2"
  },
  "orig_nbformat": 4,
  "vscode": {
   "interpreter": {
    "hash": "369f2c481f4da34e4445cda3fffd2e751bd1c4d706f27375911949ba6bb62e1c"
   }
  }
 },
 "nbformat": 4,
 "nbformat_minor": 2
}
