{
 "cells": [
  {
   "cell_type": "code",
   "execution_count": null,
   "metadata": {},
   "outputs": [],
   "source": [
    "import pandas as pd\n",
    "import pickle\n",
    "import numpy as np\n",
    "from datetime import timedelta\n",
    "from datetime import datetime"
   ]
  },
  {
   "cell_type": "markdown",
   "metadata": {},
   "source": [
    "Sitzungssummary"
   ]
  },
  {
   "cell_type": "code",
   "execution_count": null,
   "metadata": {},
   "outputs": [],
   "source": [
    "sitzungen = pd.read_csv('../00_data/raw/sitzungssummary.csv')\n",
    "names = ['ID','UserID','UserAttribut','AufgabenID','Version','TestID','Art','HA','Fehler','Altdatum','Datum','Saetze','Korrektur','isExperiment']\n",
    "sitzungen.columns = names\n",
    "\n",
    "# filter \n",
    "sitzungen = sitzungen.loc[sitzungen['UserAttribut'] == 'Schüler']\n",
    "sitzungen = sitzungen.loc[sitzungen['Art'] == 'GK']\n",
    "sitzungen = sitzungen.drop(columns=['Altdatum'])\n",
    "sitzungen = sitzungen[(sitzungen['Datum'] > '2022-06-21') & (sitzungen['Datum'] < '2022-10-31')]\n",
    "sitzungen = sitzungen.loc[sitzungen['isExperiment']==1]\n",
    "sitzungen = sitzungen.rename(columns={\"ID\": \"UebungsID\"})"
   ]
  },
  {
   "cell_type": "markdown",
   "metadata": {},
   "source": [
    "XML Saetze"
   ]
  },
  {
   "cell_type": "code",
   "execution_count": null,
   "metadata": {},
   "outputs": [],
   "source": [
    "xml = pd.read_csv('../00_data/raw/xmlsaetze.csv')\n",
    "names = ['ID','UserID','UebungsID','UserAttribut','Testart','Testposition','SatzID','Erstloesung','Schussel','KorrekturBenutzt','Datum','Erfolg','XMLstring','Loesungsnr']\n",
    "xml.columns = names\n",
    "\n",
    "# filter \n",
    "xml = xml.loc[xml['UserAttribut'] == 'Schüler']\n",
    "xml = xml.loc[xml['Testart'] == 'GK']\n",
    "xml = xml[(xml['Datum'] > '2022-06-21') & (xml['Datum'] < '2022-10-31')]\n",
    "\n",
    "xml['Loesungsnr']=xml['Loesungsnr'].str.split()\n",
    "xml['MehrfachFalsch'] = xml['Loesungsnr'].str.len()\n",
    "xml['MehrfachFalsch'] = xml['MehrfachFalsch'].replace([np.nan],0)\n",
    "xml['MehrfachFalsch'] = xml['MehrfachFalsch'].astype('int')\n",
    "xml['MehrfachFalsch'] = xml['MehrfachFalsch'] - 1"
   ]
  },
  {
   "cell_type": "markdown",
   "metadata": {},
   "source": [
    "Saetze"
   ]
  },
  {
   "cell_type": "code",
   "execution_count": null,
   "metadata": {},
   "outputs": [],
   "source": [
    "saetze = pd.read_csv('../00_data/raw/saetze.csv')\n",
    "names = ['satzID','AufgabenID','Art','Satznr','Versionsnr','Aufgabe','Loesung','Hilfe','Erklaerung','Schwierigkeit','Gesamtschwierigkeit','XMLstring']\n",
    "saetze.columns = names\n",
    "\n",
    "# filter \n",
    "saetze = saetze.loc[saetze['Art'] == 'GK']"
   ]
  },
  {
   "cell_type": "markdown",
   "metadata": {},
   "source": [
    "Schueler"
   ]
  },
  {
   "cell_type": "code",
   "execution_count": null,
   "metadata": {},
   "outputs": [],
   "source": [
    "schueler = pd.read_csv('../00_data/raw/schueler.csv')\n",
    "names = ['ID','Name','Passwort_express','Email','Loginname','Passwort','SessionID','Lehrername','LehrerID','Klassenname','Geschlecht','Klassenstufe','Anmeldedatum','Anmeldeklassenstufe','Altklasse','gesperrt','Aufgaben','Altaufgaben','done','Info','interventiongroup']\n",
    "schueler.columns = names\n",
    "schueler = schueler[['ID','Geschlecht','Klassenstufe','interventiongroup']]\n",
    "schueler = schueler.rename(columns={\"ID\": \"UserID\"})\n",
    "\n",
    "# filter\n",
    "schueler['interventiongroup'] = np.where(\n",
    "    (schueler.interventiongroup == 6) |\n",
    "    (schueler.interventiongroup == 2) |\n",
    "    (schueler.interventiongroup == 3) |\n",
    "    (schueler.interventiongroup == 5) |\n",
    "    (schueler.interventiongroup == '0'),\n",
    "    schueler.interventiongroup,\n",
    "    np.where(schueler.interventiongroup == 6, '6',\n",
    "    np.where(schueler.interventiongroup == 2, '2',\n",
    "    np.where(schueler.interventiongroup == 3, '3',\n",
    "    np.where(schueler.interventiongroup == 5, '5',\n",
    "    schueler.interventiongroup))))\n",
    ")"
   ]
  },
  {
   "cell_type": "markdown",
   "metadata": {},
   "source": [
    "Predictions"
   ]
  },
  {
   "cell_type": "code",
   "execution_count": null,
   "metadata": {},
   "outputs": [],
   "source": [
    "pred = pd.read_csv('../00_data/raw/predictions.csv')\n",
    "names = ['ID','UebungsID','SatzID','UserID','interventiongroup','prediction','seqMode','modus','versionline','version','Datum']\n",
    "pred.columns = names\n",
    "\n",
    "# preprocessing datetime\n",
    "pred['Datum'] = pd.to_datetime(pred['Datum'].astype(str)) + pd.DateOffset(hours=2)\n",
    "pred = pred[(pred['Datum'] > '2022-06-21') & (pred['Datum'] < '2022-10-31')]\n",
    "pred['Date'] = pd.to_datetime(pred['Datum']).dt.date\n",
    "pred['Time'] = pd.to_datetime(pred['Datum']).dt.time\n",
    "pred['Minute'] = pd.to_datetime(pred['Datum']).dt.minute\n",
    "\n",
    "# preprocessing interventiongroup\n",
    "pred['interventiongroup'] = np.where((pred.interventiongroup == 6),'6',pred.interventiongroup)\n",
    "schueler['interventiongroup'] = np.where((schueler.interventiongroup == 2),'2',schueler.interventiongroup)\n",
    "schueler['interventiongroup'] = np.where((schueler.interventiongroup == 3),'3',schueler.interventiongroup)\n",
    "schueler['interventiongroup'] = np.where((schueler.interventiongroup == 5),'5',schueler.interventiongroup)\n",
    "pred['interventiongroup'] = np.where((pred.interventiongroup == '0'),'control',pred.interventiongroup)\n"
   ]
  },
  {
   "attachments": {},
   "cell_type": "markdown",
   "metadata": {},
   "source": [
    "Filtering"
   ]
  },
  {
   "cell_type": "code",
   "execution_count": null,
   "metadata": {},
   "outputs": [],
   "source": [
    "#only keep records with users who are in sitzungen (which is filtered by isExperiment)\n",
    "userlist = sitzungen.UserID.unique()\n",
    "xml = xml.loc[xml['UserID'].isin(userlist)]\n",
    "schueler = schueler.loc[schueler['UserID'].isin(userlist)]\n",
    "valid = ['m','w','d']\n",
    "schueler = schueler.loc[schueler['Geschlecht'].isin(valid)]\n",
    "valid = ['9', '8', '10', '7', '5', '12', '6', '11', '13']\n",
    "schueler = schueler.loc[schueler['Klassenstufe'].isin(valid)]"
   ]
  },
  {
   "cell_type": "code",
   "execution_count": null,
   "metadata": {},
   "outputs": [],
   "source": [
    "# filter xml by uebungsIDs\n",
    "uebungslist = sitzungen.UebungsID.unique()\n",
    "xml = xml.loc[xml['UebungsID'].isin(uebungslist)]"
   ]
  },
  {
   "attachments": {},
   "cell_type": "markdown",
   "metadata": {},
   "source": [
    "Merge & Save files"
   ]
  },
  {
   "cell_type": "code",
   "execution_count": null,
   "metadata": {},
   "outputs": [],
   "source": [
    "sitzungen = pd.merge(sitzungen, schueler, on='UserID')\n",
    "\n",
    "sitzungen.to_pickle('../00_data/cleaned/sitzungssummary.pkl')\n",
    "pred.to_pickle('../00_data/cleaned/predictions.pkl')\n",
    "saetze.to_pickle('../00_data/cleaned/saetze.pkl')\n",
    "xml.to_pickle('../00_data/cleaned/xmlsaetze.pkl')"
   ]
  }
 ],
 "metadata": {
  "kernelspec": {
   "display_name": "Python 3.10.2 64-bit",
   "language": "python",
   "name": "python3"
  },
  "language_info": {
   "codemirror_mode": {
    "name": "ipython",
    "version": 3
   },
   "file_extension": ".py",
   "mimetype": "text/x-python",
   "name": "python",
   "nbconvert_exporter": "python",
   "pygments_lexer": "ipython3",
   "version": "3.10.2"
  },
  "orig_nbformat": 4,
  "vscode": {
   "interpreter": {
    "hash": "369f2c481f4da34e4445cda3fffd2e751bd1c4d706f27375911949ba6bb62e1c"
   }
  }
 },
 "nbformat": 4,
 "nbformat_minor": 2
}
