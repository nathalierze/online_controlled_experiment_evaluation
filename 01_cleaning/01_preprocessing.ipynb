{
 "cells": [
  {
   "cell_type": "code",
   "execution_count": 16,
   "metadata": {},
   "outputs": [],
   "source": [
    "import pandas as pd\n",
    "import pickle\n",
    "import numpy as np\n",
    "from datetime import timedelta\n",
    "from datetime import datetime"
   ]
  },
  {
   "cell_type": "markdown",
   "metadata": {},
   "source": [
    "Sitzungssummary"
   ]
  },
  {
   "cell_type": "code",
   "execution_count": 17,
   "metadata": {},
   "outputs": [
    {
     "data": {
      "text/html": [
       "<div>\n",
       "<style scoped>\n",
       "    .dataframe tbody tr th:only-of-type {\n",
       "        vertical-align: middle;\n",
       "    }\n",
       "\n",
       "    .dataframe tbody tr th {\n",
       "        vertical-align: top;\n",
       "    }\n",
       "\n",
       "    .dataframe thead th {\n",
       "        text-align: right;\n",
       "    }\n",
       "</style>\n",
       "<table border=\"1\" class=\"dataframe\">\n",
       "  <thead>\n",
       "    <tr style=\"text-align: right;\">\n",
       "      <th></th>\n",
       "      <th>UebungsID</th>\n",
       "      <th>UserID</th>\n",
       "      <th>UserAttribut</th>\n",
       "      <th>AufgabenID</th>\n",
       "      <th>Version</th>\n",
       "      <th>TestID</th>\n",
       "      <th>Art</th>\n",
       "      <th>HA</th>\n",
       "      <th>Fehler</th>\n",
       "      <th>Datum</th>\n",
       "      <th>Saetze</th>\n",
       "      <th>Korrektur</th>\n",
       "      <th>isExperiment</th>\n",
       "    </tr>\n",
       "  </thead>\n",
       "  <tbody>\n",
       "    <tr>\n",
       "      <th>9576</th>\n",
       "      <td>29905708</td>\n",
       "      <td>933218</td>\n",
       "      <td>Schüler</td>\n",
       "      <td>73</td>\n",
       "      <td>1</td>\n",
       "      <td>1913437</td>\n",
       "      <td>GK</td>\n",
       "      <td>nt</td>\n",
       "      <td>2</td>\n",
       "      <td>2022-06-21 00:02:29</td>\n",
       "      <td>b</td>\n",
       "      <td>1</td>\n",
       "      <td>1</td>\n",
       "    </tr>\n",
       "    <tr>\n",
       "      <th>9590</th>\n",
       "      <td>29896434</td>\n",
       "      <td>958267</td>\n",
       "      <td>Schüler</td>\n",
       "      <td>52</td>\n",
       "      <td>1</td>\n",
       "      <td>1955381</td>\n",
       "      <td>GK</td>\n",
       "      <td>vt</td>\n",
       "      <td>1</td>\n",
       "      <td>2022-06-21 00:12:56</td>\n",
       "      <td>b</td>\n",
       "      <td>0</td>\n",
       "      <td>1</td>\n",
       "    </tr>\n",
       "    <tr>\n",
       "      <th>9599</th>\n",
       "      <td>29896436</td>\n",
       "      <td>958267</td>\n",
       "      <td>Schüler</td>\n",
       "      <td>73</td>\n",
       "      <td>2</td>\n",
       "      <td>1955381</td>\n",
       "      <td>GK</td>\n",
       "      <td>vt</td>\n",
       "      <td>3</td>\n",
       "      <td>2022-06-21 00:24:56</td>\n",
       "      <td>b</td>\n",
       "      <td>0</td>\n",
       "      <td>1</td>\n",
       "    </tr>\n",
       "    <tr>\n",
       "      <th>9600</th>\n",
       "      <td>29905746</td>\n",
       "      <td>975835</td>\n",
       "      <td>Schüler</td>\n",
       "      <td>132</td>\n",
       "      <td>3</td>\n",
       "      <td>1990778</td>\n",
       "      <td>GK</td>\n",
       "      <td>nt</td>\n",
       "      <td>0</td>\n",
       "      <td>2022-06-21 00:25:25</td>\n",
       "      <td>b</td>\n",
       "      <td>0</td>\n",
       "      <td>1</td>\n",
       "    </tr>\n",
       "    <tr>\n",
       "      <th>9605</th>\n",
       "      <td>29896435</td>\n",
       "      <td>958267</td>\n",
       "      <td>Schüler</td>\n",
       "      <td>110</td>\n",
       "      <td>2</td>\n",
       "      <td>1955381</td>\n",
       "      <td>GK</td>\n",
       "      <td>vt</td>\n",
       "      <td>3</td>\n",
       "      <td>2022-06-21 00:31:45</td>\n",
       "      <td>b</td>\n",
       "      <td>0</td>\n",
       "      <td>1</td>\n",
       "    </tr>\n",
       "    <tr>\n",
       "      <th>...</th>\n",
       "      <td>...</td>\n",
       "      <td>...</td>\n",
       "      <td>...</td>\n",
       "      <td>...</td>\n",
       "      <td>...</td>\n",
       "      <td>...</td>\n",
       "      <td>...</td>\n",
       "      <td>...</td>\n",
       "      <td>...</td>\n",
       "      <td>...</td>\n",
       "      <td>...</td>\n",
       "      <td>...</td>\n",
       "      <td>...</td>\n",
       "    </tr>\n",
       "    <tr>\n",
       "      <th>811663</th>\n",
       "      <td>30716811</td>\n",
       "      <td>1031124</td>\n",
       "      <td>Schüler</td>\n",
       "      <td>91</td>\n",
       "      <td>1</td>\n",
       "      <td>2103679</td>\n",
       "      <td>GK</td>\n",
       "      <td>vt</td>\n",
       "      <td>9</td>\n",
       "      <td>2022-10-30 23:42:20</td>\n",
       "      <td>b</td>\n",
       "      <td>0</td>\n",
       "      <td>1</td>\n",
       "    </tr>\n",
       "    <tr>\n",
       "      <th>811664</th>\n",
       "      <td>30600394</td>\n",
       "      <td>1031479</td>\n",
       "      <td>Schüler</td>\n",
       "      <td>4</td>\n",
       "      <td>1</td>\n",
       "      <td>2104099</td>\n",
       "      <td>GK</td>\n",
       "      <td>zt</td>\n",
       "      <td>12</td>\n",
       "      <td>2022-10-30 23:47:00</td>\n",
       "      <td>b</td>\n",
       "      <td>1</td>\n",
       "      <td>1</td>\n",
       "    </tr>\n",
       "    <tr>\n",
       "      <th>811666</th>\n",
       "      <td>30716277</td>\n",
       "      <td>1031482</td>\n",
       "      <td>Schüler</td>\n",
       "      <td>69</td>\n",
       "      <td>2</td>\n",
       "      <td>2104102</td>\n",
       "      <td>GK</td>\n",
       "      <td>zt</td>\n",
       "      <td>0</td>\n",
       "      <td>2022-10-30 23:50:57</td>\n",
       "      <td>b</td>\n",
       "      <td>1</td>\n",
       "      <td>1</td>\n",
       "    </tr>\n",
       "    <tr>\n",
       "      <th>811667</th>\n",
       "      <td>30716812</td>\n",
       "      <td>1031124</td>\n",
       "      <td>Schüler</td>\n",
       "      <td>14</td>\n",
       "      <td>1</td>\n",
       "      <td>2103679</td>\n",
       "      <td>GK</td>\n",
       "      <td>vt</td>\n",
       "      <td>11</td>\n",
       "      <td>2022-10-30 23:53:38</td>\n",
       "      <td>b</td>\n",
       "      <td>0</td>\n",
       "      <td>1</td>\n",
       "    </tr>\n",
       "    <tr>\n",
       "      <th>811668</th>\n",
       "      <td>30584684</td>\n",
       "      <td>1057672</td>\n",
       "      <td>Schüler</td>\n",
       "      <td>94</td>\n",
       "      <td>3</td>\n",
       "      <td>0</td>\n",
       "      <td>GK</td>\n",
       "      <td>HA</td>\n",
       "      <td>4</td>\n",
       "      <td>2022-10-30 23:56:44</td>\n",
       "      <td>b</td>\n",
       "      <td>0</td>\n",
       "      <td>1</td>\n",
       "    </tr>\n",
       "  </tbody>\n",
       "</table>\n",
       "<p>42347 rows × 13 columns</p>\n",
       "</div>"
      ],
      "text/plain": [
       "        UebungsID   UserID UserAttribut AufgabenID  Version   TestID Art  HA  \\\n",
       "9576     29905708   933218      Schüler         73        1  1913437  GK  nt   \n",
       "9590     29896434   958267      Schüler         52        1  1955381  GK  vt   \n",
       "9599     29896436   958267      Schüler         73        2  1955381  GK  vt   \n",
       "9600     29905746   975835      Schüler        132        3  1990778  GK  nt   \n",
       "9605     29896435   958267      Schüler        110        2  1955381  GK  vt   \n",
       "...           ...      ...          ...        ...      ...      ...  ..  ..   \n",
       "811663   30716811  1031124      Schüler         91        1  2103679  GK  vt   \n",
       "811664   30600394  1031479      Schüler          4        1  2104099  GK  zt   \n",
       "811666   30716277  1031482      Schüler         69        2  2104102  GK  zt   \n",
       "811667   30716812  1031124      Schüler         14        1  2103679  GK  vt   \n",
       "811668   30584684  1057672      Schüler         94        3        0  GK  HA   \n",
       "\n",
       "        Fehler                Datum Saetze  Korrektur  isExperiment  \n",
       "9576         2  2022-06-21 00:02:29      b          1             1  \n",
       "9590         1  2022-06-21 00:12:56      b          0             1  \n",
       "9599         3  2022-06-21 00:24:56      b          0             1  \n",
       "9600         0  2022-06-21 00:25:25      b          0             1  \n",
       "9605         3  2022-06-21 00:31:45      b          0             1  \n",
       "...        ...                  ...    ...        ...           ...  \n",
       "811663       9  2022-10-30 23:42:20      b          0             1  \n",
       "811664      12  2022-10-30 23:47:00      b          1             1  \n",
       "811666       0  2022-10-30 23:50:57      b          1             1  \n",
       "811667      11  2022-10-30 23:53:38      b          0             1  \n",
       "811668       4  2022-10-30 23:56:44      b          0             1  \n",
       "\n",
       "[42347 rows x 13 columns]"
      ]
     },
     "execution_count": 17,
     "metadata": {},
     "output_type": "execute_result"
    }
   ],
   "source": [
    "sitzungen = pd.read_csv('../00_data/raw/sitzungssummary.csv')\n",
    "names = ['ID','UserID','UserAttribut','AufgabenID','Version','TestID','Art','HA','Fehler','Altdatum','Datum','Saetze','Korrektur','isExperiment']\n",
    "sitzungen.columns = names\n",
    "\n",
    "# Filter \n",
    "sitzungen = sitzungen.loc[sitzungen['UserAttribut'] == 'Schüler']\n",
    "sitzungen = sitzungen.loc[sitzungen['Art'] == 'GK']\n",
    "sitzungen = sitzungen.drop(columns=['Altdatum'])\n",
    "sitzungen = sitzungen[(sitzungen['Datum'] > '2022-06-21') & (sitzungen['Datum'] < '2022-10-31')]\n",
    "sitzungen = sitzungen.loc[sitzungen['isExperiment']==1]\n",
    "sitzungen = sitzungen.rename(columns={\"ID\": \"UebungsID\"})\n",
    "\n",
    "sitzungen"
   ]
  },
  {
   "cell_type": "markdown",
   "metadata": {},
   "source": [
    "XML Saetze"
   ]
  },
  {
   "cell_type": "code",
   "execution_count": 18,
   "metadata": {},
   "outputs": [],
   "source": [
    "xml = pd.read_csv('../00_data/raw/xmlsaetze.csv')\n",
    "names = ['ID','UserID','UebungsID','UserAttribut','Testart','Testposition','SatzID','Erstloesung','Schussel','KorrekturBenutzt','Datum','Erfolg','XMLstring','Loesungsnr']\n",
    "xml.columns = names\n",
    "\n",
    "# Filter \n",
    "xml = xml.loc[xml['UserAttribut'] == 'Schüler']\n",
    "xml = xml.loc[xml['Testart'] == 'GK']\n",
    "xml = xml[(xml['Datum'] > '2022-06-21') & (xml['Datum'] < '2022-10-31')]\n",
    "\n",
    "xml['Loesungsnr']=xml['Loesungsnr'].str.split()\n",
    "xml['MehrfachFalsch'] = xml['Loesungsnr'].str.len()\n",
    "xml['MehrfachFalsch'] = xml['MehrfachFalsch'].replace([np.nan],0)\n",
    "xml['MehrfachFalsch'] = xml['MehrfachFalsch'].astype('int')\n",
    "xml['MehrfachFalsch'] = xml['MehrfachFalsch'] - 1\n",
    "\n"
   ]
  },
  {
   "cell_type": "markdown",
   "metadata": {},
   "source": [
    "Saetze"
   ]
  },
  {
   "cell_type": "code",
   "execution_count": 19,
   "metadata": {},
   "outputs": [],
   "source": [
    "saetze = pd.read_csv('../00_data/raw/saetze.csv')\n",
    "names = ['satzID','AufgabenID','Art','Satznr','Versionsnr','Aufgabe','Loesung','Hilfe','Erklaerung','Schwierigkeit','Gesamtschwierigkeit','XMLstring']\n",
    "saetze.columns = names\n",
    "#Filter \n",
    "saetze = saetze.loc[saetze['Art'] == 'GK']"
   ]
  },
  {
   "cell_type": "markdown",
   "metadata": {},
   "source": [
    "Schueler"
   ]
  },
  {
   "cell_type": "code",
   "execution_count": 20,
   "metadata": {},
   "outputs": [
    {
     "name": "stderr",
     "output_type": "stream",
     "text": [
      "C:\\Users\\Nathalie\\AppData\\Local\\Temp\\ipykernel_4980\\3544100862.py:1: DtypeWarning: Columns (1,2,3,6,7,15,17,19,20) have mixed types. Specify dtype option on import or set low_memory=False.\n",
      "  schueler = pd.read_csv('../00_data/raw/schueler.csv')\n"
     ]
    }
   ],
   "source": [
    "schueler = pd.read_csv('../00_data/raw/schueler.csv')\n",
    "names = ['ID','Name','Passwort_express','Email','Loginname','Passwort','SessionID','Lehrername','LehrerID','Klassenname','Geschlecht','Klassenstufe','Anmeldedatum','Anmeldeklassenstufe','Altklasse','gesperrt','Aufgaben','Altaufgaben','done','Info','interventiongroup']\n",
    "schueler.columns = names\n",
    "schueler = schueler[['ID','Geschlecht','Klassenstufe','interventiongroup']]\n",
    "schueler = schueler.rename(columns={\"ID\": \"UserID\"})\n",
    "schueler['interventiongroup'] = np.where((schueler.interventiongroup == 6),'6',schueler.interventiongroup)\n",
    "schueler['interventiongroup'] = np.where((schueler.interventiongroup == 2),'2',schueler.interventiongroup)\n",
    "schueler['interventiongroup'] = np.where((schueler.interventiongroup == 3),'3',schueler.interventiongroup)\n",
    "schueler['interventiongroup'] = np.where((schueler.interventiongroup == 5),'5',schueler.interventiongroup)\n",
    "schueler['interventiongroup'] = np.where((schueler.interventiongroup == '0'),'control',schueler.interventiongroup)\n"
   ]
  },
  {
   "cell_type": "markdown",
   "metadata": {},
   "source": [
    "Predictions"
   ]
  },
  {
   "cell_type": "code",
   "execution_count": 21,
   "metadata": {},
   "outputs": [],
   "source": [
    "pred = pd.read_csv('../00_data/raw/predictions.csv')\n",
    "names = ['ID','UebungsID','SatzID','UserID','interventiongroup','prediction','seqMode','modus','versionline','version','Datum']\n",
    "pred.columns = names\n",
    "pred['Datum'] = pd.to_datetime(pred['Datum'].astype(str)) + pd.DateOffset(hours=2)\n",
    "pred = pred[(pred['Datum'] > '2022-06-21') & (pred['Datum'] < '2022-10-31')]\n",
    "pred['Date'] = pd.to_datetime(pred['Datum']).dt.date\n",
    "pred['Time'] = pd.to_datetime(pred['Datum']).dt.time\n",
    "pred['Minute'] = pd.to_datetime(pred['Datum']).dt.minute\n",
    "pred['interventiongroup'] = np.where((pred.interventiongroup == 6),'6',pred.interventiongroup)\n",
    "schueler['interventiongroup'] = np.where((schueler.interventiongroup == 2),'2',schueler.interventiongroup)\n",
    "schueler['interventiongroup'] = np.where((schueler.interventiongroup == 3),'3',schueler.interventiongroup)\n",
    "schueler['interventiongroup'] = np.where((schueler.interventiongroup == 5),'5',schueler.interventiongroup)\n",
    "pred['interventiongroup'] = np.where((pred.interventiongroup == '0'),'control',pred.interventiongroup)\n"
   ]
  },
  {
   "cell_type": "markdown",
   "metadata": {},
   "source": [
    "Merging and Filtering"
   ]
  },
  {
   "cell_type": "code",
   "execution_count": 22,
   "metadata": {},
   "outputs": [],
   "source": [
    "#only keep records with users who are in sitzungen (which is filtered by isExperiment)\n",
    "userlist = sitzungen.UserID.unique()\n",
    "xml = xml.loc[xml['UserID'].isin(userlist)]\n",
    "schueler = schueler.loc[schueler['UserID'].isin(userlist)]\n",
    "valid = ['m','w','d']\n",
    "schueler = schueler.loc[schueler['Geschlecht'].isin(valid)]\n",
    "valid = ['9', '8', '10', '7', '5', '12', '6', '11', '13']\n",
    "schueler = schueler.loc[schueler['Klassenstufe'].isin(valid)]"
   ]
  },
  {
   "cell_type": "code",
   "execution_count": 23,
   "metadata": {},
   "outputs": [],
   "source": [
    "# filter xml by uebungsIDs\n",
    "uebungslist = sitzungen.UebungsID.unique()\n",
    "xml = xml.loc[xml['UebungsID'].isin(uebungslist)]\n"
   ]
  },
  {
   "cell_type": "code",
   "execution_count": 24,
   "metadata": {},
   "outputs": [],
   "source": [
    "sitzungen = pd.merge(sitzungen, schueler, on='UserID')"
   ]
  },
  {
   "cell_type": "markdown",
   "metadata": {},
   "source": [
    "Save files"
   ]
  },
  {
   "cell_type": "code",
   "execution_count": 25,
   "metadata": {},
   "outputs": [],
   "source": [
    "sitzungen.to_pickle('../00_data/cleaned/sitzungssummary.pkl')\n",
    "pred.to_pickle('../00_data/cleaned/predictions.pkl')\n",
    "saetze.to_pickle('../00_data/cleaned/saetze.pkl')\n",
    "xml.to_pickle('../00_data/cleaned/xmlsaetze.pkl')\n"
   ]
  }
 ],
 "metadata": {
  "kernelspec": {
   "display_name": "Python 3.10.2 64-bit",
   "language": "python",
   "name": "python3"
  },
  "language_info": {
   "codemirror_mode": {
    "name": "ipython",
    "version": 3
   },
   "file_extension": ".py",
   "mimetype": "text/x-python",
   "name": "python",
   "nbconvert_exporter": "python",
   "pygments_lexer": "ipython3",
   "version": "3.10.2"
  },
  "orig_nbformat": 4,
  "vscode": {
   "interpreter": {
    "hash": "369f2c481f4da34e4445cda3fffd2e751bd1c4d706f27375911949ba6bb62e1c"
   }
  }
 },
 "nbformat": 4,
 "nbformat_minor": 2
}
