{
 "cells": [
  {
   "cell_type": "markdown",
   "metadata": {},
   "source": [
    "Wie gut war das Modell tatsaechlich im Feld?"
   ]
  },
  {
   "cell_type": "code",
   "execution_count": 72,
   "metadata": {},
   "outputs": [],
   "source": [
    "import pandas as pd\n",
    "import pickle\n",
    "import seaborn as sns\n",
    "from datetime import datetime\n",
    "import matplotlib.pyplot as plt\n"
   ]
  },
  {
   "cell_type": "code",
   "execution_count": 2,
   "metadata": {},
   "outputs": [],
   "source": [
    "df = pickle.load(open( '../00_data/cleaned/predictions.pkl','rb') )\n",
    "df = df[['ID','UebungsID','UserID','SatzID','prediction','modus','interventiongroup','Minute']]\n",
    "\n",
    "xmlsaetze = pickle.load(open( '../00_data/cleaned/xmlsaetze.pkl','rb') )\n",
    "xmlsaetze['Minute'] = pd.to_datetime(xmlsaetze['Datum']).dt.minute\n",
    "xmlsaetze = xmlsaetze[['ID','UebungsID','UserID','SatzID','Erfolg','Minute','MehrfachFalsch','Testposition']]\n",
    "\n",
    "df_merged = pd.merge(xmlsaetze, df, on=['UserID','UebungsID','SatzID','Minute'])"
   ]
  },
  {
   "cell_type": "code",
   "execution_count": 66,
   "metadata": {},
   "outputs": [
    {
     "name": "stderr",
     "output_type": "stream",
     "text": [
      "C:\\Users\\Nathalie\\AppData\\Local\\Temp\\ipykernel_8904\\2974134672.py:20: SettingWithCopyWarning: \n",
      "A value is trying to be set on a copy of a slice from a DataFrame.\n",
      "Try using .loc[row_indexer,col_indexer] = value instead\n",
      "\n",
      "See the caveats in the documentation: https://pandas.pydata.org/pandas-docs/stable/user_guide/indexing.html#returning-a-view-versus-a-copy\n",
      "  vergleich['correct'] = df_merged.apply (lambda row: test(row), axis=1)\n"
     ]
    },
    {
     "data": {
      "text/plain": [
       "correct\n",
       "0     52401\n",
       "1    374070\n",
       "3    161230\n",
       "4     81297\n",
       "Name: Erfolg, dtype: int64"
      ]
     },
     "execution_count": 66,
     "metadata": {},
     "output_type": "execute_result"
    }
   ],
   "source": [
    "vergleich = df_merged[['Erfolg','prediction']]\n",
    "\n",
    "def test(vergleich):\n",
    "    # if(vergleich.prediction > 0.4 and vergleich.prediction < 0.6):\n",
    "    #     return 2\n",
    "    if(vergleich.Erfolg == True):\n",
    "        if(vergleich.prediction>0.5):\n",
    "            return 1 #true positiv\n",
    "        else:\n",
    "            return 0 # false negativ\n",
    "    elif(vergleich.Erfolg == False):\n",
    "        if(vergleich.prediction<0.5):\n",
    "            return 3 #true negative\n",
    "        else:\n",
    "            return 4 # false positiv\n",
    "    else:\n",
    "        return  0\n",
    "\n",
    "\n",
    "vergleich['correct'] = df_merged.apply (lambda row: test(row), axis=1)\n",
    "vergleich_grouped = vergleich.groupby(['correct'])['Erfolg'].count()\n",
    "vergleich_grouped"
   ]
  },
  {
   "cell_type": "code",
   "execution_count": 67,
   "metadata": {},
   "outputs": [],
   "source": [
    "precision = 374070 / (374070 + 81297)\n",
    "recall = 374070 / (374070 + 52401)\n",
    "accuracy = (374070+161230)/ (374070+161230+81297+52401)"
   ]
  },
  {
   "cell_type": "code",
   "execution_count": 62,
   "metadata": {},
   "outputs": [],
   "source": [
    "## ohne werte zwischen 0.4 und 0.6\n",
    "# precision = 374070 / (374070 + 81275)\n",
    "# recall = 374070 / (374070 + 26594)\n",
    "# accuracy = (374070+141554)/ (374070+141554+81275+26594)"
   ]
  },
  {
   "cell_type": "code",
   "execution_count": 68,
   "metadata": {},
   "outputs": [
    {
     "data": {
      "text/plain": [
       "0.8001518689144064"
      ]
     },
     "execution_count": 68,
     "metadata": {},
     "output_type": "execute_result"
    }
   ],
   "source": [
    "accuracy"
   ]
  },
  {
   "cell_type": "code",
   "execution_count": 69,
   "metadata": {},
   "outputs": [
    {
     "data": {
      "text/plain": [
       "0.8771288082894265"
      ]
     },
     "execution_count": 69,
     "metadata": {},
     "output_type": "execute_result"
    }
   ],
   "source": [
    "recall"
   ]
  },
  {
   "cell_type": "code",
   "execution_count": 70,
   "metadata": {},
   "outputs": [
    {
     "data": {
      "text/plain": [
       "0.8214692764297808"
      ]
     },
     "execution_count": 70,
     "metadata": {},
     "output_type": "execute_result"
    }
   ],
   "source": [
    "precision"
   ]
  },
  {
   "cell_type": "code",
   "execution_count": 82,
   "metadata": {},
   "outputs": [
    {
     "data": {
      "image/png": "[encoded data removed]",
      "text/plain": [
       "<Figure size 432x288 with 1 Axes>"
      ]
     },
     "metadata": {
      "needs_background": "light"
     },
     "output_type": "display_data"
    }
   ],
   "source": [
    "g=sns.histplot(data=vergleich, x='prediction',hue='Erfolg',multiple=\"stack\")\n",
    "sns.move_legend(g, \"upper center\")\n"
   ]
  },
  {
   "cell_type": "code",
   "execution_count": 6,
   "metadata": {},
   "outputs": [
    {
     "data": {
      "text/plain": [
       "<AxesSubplot:xlabel='Pred_binaer', ylabel='count'>"
      ]
     },
     "execution_count": 6,
     "metadata": {},
     "output_type": "execute_result"
    },
    {
     "data": {
      "image/png": "[encoded data removed]",
      "text/plain": [
       "<Figure size 432x288 with 1 Axes>"
      ]
     },
     "metadata": {
      "needs_background": "light"
     },
     "output_type": "display_data"
    }
   ],
   "source": [
    "sns.countplot(data=vergleich, x=vergleich.Pred_binaer)"
   ]
  }
 ],
 "metadata": {
  "kernelspec": {
   "display_name": "Python 3.10.2 64-bit",
   "language": "python",
   "name": "python3"
  },
  "language_info": {
   "codemirror_mode": {
    "name": "ipython",
    "version": 3
   },
   "file_extension": ".py",
   "mimetype": "text/x-python",
   "name": "python",
   "nbconvert_exporter": "python",
   "pygments_lexer": "ipython3",
   "version": "3.10.2 (tags/v3.10.2:a58ebcc, Jan 17 2022, 14:12:15) [MSC v.1929 64 bit (AMD64)]"
  },
  "orig_nbformat": 4,
  "vscode": {
   "interpreter": {
    "hash": "369f2c481f4da34e4445cda3fffd2e751bd1c4d706f27375911949ba6bb62e1c"
   }
  }
 },
 "nbformat": 4,
 "nbformat_minor": 2
}
