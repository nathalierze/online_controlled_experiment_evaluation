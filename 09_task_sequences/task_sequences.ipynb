{
 "cells": [
  {
   "attachments": {},
   "cell_type": "markdown",
   "metadata": {},
   "source": [
    "Analyse acutal task sequences (intv 5 and 6)"
   ]
  },
  {
   "cell_type": "code",
   "execution_count": null,
   "metadata": {},
   "outputs": [],
   "source": [
    "import pandas as pd\n",
    "import pickle\n",
    "import seaborn as sns\n",
    "import matplotlib.pyplot as plt"
   ]
  },
  {
   "cell_type": "code",
   "execution_count": null,
   "metadata": {},
   "outputs": [],
   "source": [
    "# load data\n",
    "xmlsaetze = pickle.load(open( '../00_data/cleaned/xmlsaetze.pkl','rb') )\n",
    "df = pickle.load(open( '../00_data/cleaned/sitzungssummary.pkl','rb') )"
   ]
  },
  {
   "attachments": {},
   "cell_type": "markdown",
   "metadata": {},
   "source": [
    "Intervention 5"
   ]
  },
  {
   "cell_type": "code",
   "execution_count": null,
   "metadata": {},
   "outputs": [],
   "source": [
    "# merge and prepare\n",
    "df_5 = df[df.interventiongroup=='5']\n",
    "df_5 = pd.merge(df_5,xmlsaetze, on='UebungsID')\n",
    "df_5 = df_5[['UebungsID','UserID_x','AufgabenID', 'Version', 'Datum_y','SatzID']]\n",
    "\n",
    "# get all exercises from Intv 5 \n",
    "aufgabenID = df_5.AufgabenID.unique()\n",
    "\n",
    "# Create an empty list of the sequences\n",
    "sequences = []\n",
    "\n",
    "for x in aufgabenID:\n",
    "    df_aufg = df_5[df_5.AufgabenID ==x]\n",
    "\n",
    "    #all session ids\n",
    "    uebungsID = df_aufg.UebungsID.unique()\n",
    "    \n",
    "    for y in uebungsID:\n",
    "        sequence_temp = df_aufg[df_aufg.UebungsID == y]\n",
    "        sequence_temp = sequence_temp.sort_values(by=['Datum_y'])\n",
    "        id_list = sequence_temp['SatzID'].tolist()\n",
    "        sequences.extend([id_list])\n",
    "\n",
    "\n",
    "from Levenshtein import distance\n",
    "\n",
    "# Create  empty list to store Levenshtein distances\n",
    "distances = []\n",
    "\n",
    "# Iterate through sequences and calculate Levenshtein distance\n",
    "for i in range(len(sequences)):\n",
    "    for j in range(i+1,len(sequences)):\n",
    "        distances.append(distance(sequences[i], sequences[j]))\n",
    "\n",
    "# Create DataFrame to store Levenshtein distances\n",
    "levenshtein_score_intv5 = pd.DataFrame(distances, columns=['Levenshtein_score'])\n",
    "\n",
    "print(len(levenshtein_score_intv5))"
   ]
  },
  {
   "cell_type": "code",
   "execution_count": null,
   "metadata": {},
   "outputs": [],
   "source": [
    "# downsample and plot\n",
    "n= 100000\n",
    "downsampled_data_intv5 = levenshtein_score_intv5.sample(n)\n",
    "sns.histplot(data=downsampled_data_intv5, x=\"Levenshtein_score\")"
   ]
  },
  {
   "attachments": {},
   "cell_type": "markdown",
   "metadata": {},
   "source": [
    "Intervention 6"
   ]
  },
  {
   "cell_type": "code",
   "execution_count": null,
   "metadata": {},
   "outputs": [],
   "source": [
    "df_6 = df[df.interventiongroup=='6']\n",
    "df_6 = pd.merge(df_6,xmlsaetze, on='UebungsID')\n",
    "df_6 = df_6[['UebungsID','UserID_x','AufgabenID', 'Version', 'Datum_y','SatzID']]\n",
    "\n",
    "# get all exercises from Intv 5 \n",
    "aufgabenID = df_6.AufgabenID.unique()\n",
    "\n",
    "# Create an empty list of the sequences\n",
    "sequences = []\n",
    "\n",
    "for x in aufgabenID:\n",
    "    df_aufg = df_6[df_6.AufgabenID ==x]\n",
    "\n",
    "    #all session ids\n",
    "    uebungsID = df_aufg.UebungsID.unique()\n",
    "    \n",
    "    for y in uebungsID:\n",
    "        sequence_temp = df_aufg[df_aufg.UebungsID == y]\n",
    "        sequence_temp = sequence_temp.sort_values(by=['Datum_y'])\n",
    "        id_list = sequence_temp['SatzID'].tolist()\n",
    "        sequences.extend([id_list])\n",
    "\n",
    "\n",
    "from Levenshtein import distance\n",
    "# Create empty list to store Levenshtein distances\n",
    "distances = []\n",
    "\n",
    "# Iterate through sequences and calculate Levenshtein distance\n",
    "for i in range(len(sequences)):\n",
    "    for j in range(i+1,len(sequences)):\n",
    "        distances.append(distance(sequences[i], sequences[j]))\n",
    "\n",
    "# Create DataFrame to store Levenshtein distances\n",
    "levenshtein_score_intv6 = pd.DataFrame(distances, columns=['Levenshtein_score'])\n",
    "\n",
    "print(len(levenshtein_score_intv6))"
   ]
  },
  {
   "cell_type": "code",
   "execution_count": null,
   "metadata": {},
   "outputs": [],
   "source": [
    "# downsample and split\n",
    "n = 100000\n",
    "downsampled_data_intv6 = levenshtein_score_intv6.sample(n)\n",
    "sns.histplot(data=downsampled_data_intv6, x=\"Levenshtein_score\")"
   ]
  }
 ],
 "metadata": {
  "kernelspec": {
   "display_name": "Python 3",
   "language": "python",
   "name": "python3"
  },
  "language_info": {
   "codemirror_mode": {
    "name": "ipython",
    "version": 3
   },
   "file_extension": ".py",
   "mimetype": "text/x-python",
   "name": "python",
   "nbconvert_exporter": "python",
   "pygments_lexer": "ipython3",
   "version": "3.10.2"
  },
  "orig_nbformat": 4,
  "vscode": {
   "interpreter": {
    "hash": "369f2c481f4da34e4445cda3fffd2e751bd1c4d706f27375911949ba6bb62e1c"
   }
  }
 },
 "nbformat": 4,
 "nbformat_minor": 2
}
