{
 "cells": [
  {
   "cell_type": "code",
   "execution_count": 11,
   "metadata": {},
   "outputs": [],
   "source": [
    "import pandas as pd\n",
    "import pickle\n",
    "from scipy import stats\n",
    "import pandas as pd\n",
    "import seaborn as sns\n",
    "from cliffs_delta import cliffs_delta"
   ]
  },
  {
   "cell_type": "code",
   "execution_count": 2,
   "metadata": {},
   "outputs": [],
   "source": [
    "time1 = pickle.load(open( '../00_data/competency_development/competence_time_period_1.pkl','rb') )\n",
    "time2 = pickle.load(open( '../00_data/competency_development/competence_time_period_2.pkl','rb') )\n",
    "time1 = time1.rename(columns={\"ability\": \"ability_t1\"})\n",
    "time2 = time2.rename(columns={\"ability\": \"ability_t2\"})\n",
    "time2 = time2[['UserID','ability_t2']]\n",
    "\n",
    "final = pd.merge(time1, time2, on='UserID',how='inner')\n",
    "final['change'] = final.ability_t2-final.ability_t1"
   ]
  },
  {
   "cell_type": "code",
   "execution_count": 3,
   "metadata": {},
   "outputs": [],
   "source": [
    "intvcontrol = final[(final['interventiongroup']=='control')]\n",
    "intv2 = final[(final['interventiongroup']=='2')]\n",
    "intv3 = final[(final['interventiongroup']=='3')]\n",
    "intv4 = final[(final['interventiongroup']=='4')]\n",
    "intv5 = final[(final['interventiongroup']=='5')]\n",
    "intv6 = final[(final['interventiongroup']=='6')]\n"
   ]
  },
  {
   "attachments": {},
   "cell_type": "markdown",
   "metadata": {},
   "source": [
    "Check Mean and Median"
   ]
  },
  {
   "cell_type": "code",
   "execution_count": 4,
   "metadata": {},
   "outputs": [
    {
     "data": {
      "text/html": [
       "<div>\n",
       "<style scoped>\n",
       "    .dataframe tbody tr th:only-of-type {\n",
       "        vertical-align: middle;\n",
       "    }\n",
       "\n",
       "    .dataframe tbody tr th {\n",
       "        vertical-align: top;\n",
       "    }\n",
       "\n",
       "    .dataframe thead th {\n",
       "        text-align: right;\n",
       "    }\n",
       "</style>\n",
       "<table border=\"1\" class=\"dataframe\">\n",
       "  <thead>\n",
       "    <tr style=\"text-align: right;\">\n",
       "      <th></th>\n",
       "      <th>ability_t1</th>\n",
       "      <th>ability_t2</th>\n",
       "      <th>change</th>\n",
       "      <th>count</th>\n",
       "    </tr>\n",
       "    <tr>\n",
       "      <th>interventiongroup</th>\n",
       "      <th></th>\n",
       "      <th></th>\n",
       "      <th></th>\n",
       "      <th></th>\n",
       "    </tr>\n",
       "  </thead>\n",
       "  <tbody>\n",
       "    <tr>\n",
       "      <th>2</th>\n",
       "      <td>3.43323</td>\n",
       "      <td>3.964825</td>\n",
       "      <td>0.290495</td>\n",
       "      <td>456</td>\n",
       "    </tr>\n",
       "    <tr>\n",
       "      <th>3</th>\n",
       "      <td>2.72828</td>\n",
       "      <td>3.544150</td>\n",
       "      <td>0.457820</td>\n",
       "      <td>588</td>\n",
       "    </tr>\n",
       "    <tr>\n",
       "      <th>4</th>\n",
       "      <td>2.61939</td>\n",
       "      <td>4.028830</td>\n",
       "      <td>0.854480</td>\n",
       "      <td>676</td>\n",
       "    </tr>\n",
       "    <tr>\n",
       "      <th>5</th>\n",
       "      <td>2.76571</td>\n",
       "      <td>3.898770</td>\n",
       "      <td>0.974940</td>\n",
       "      <td>524</td>\n",
       "    </tr>\n",
       "    <tr>\n",
       "      <th>6</th>\n",
       "      <td>2.42349</td>\n",
       "      <td>3.883365</td>\n",
       "      <td>1.210350</td>\n",
       "      <td>520</td>\n",
       "    </tr>\n",
       "    <tr>\n",
       "      <th>control</th>\n",
       "      <td>3.02071</td>\n",
       "      <td>3.845850</td>\n",
       "      <td>0.368730</td>\n",
       "      <td>812</td>\n",
       "    </tr>\n",
       "  </tbody>\n",
       "</table>\n",
       "</div>"
      ],
      "text/plain": [
       "                   ability_t1  ability_t2    change  count\n",
       "interventiongroup                                         \n",
       "2                     3.43323    3.964825  0.290495    456\n",
       "3                     2.72828    3.544150  0.457820    588\n",
       "4                     2.61939    4.028830  0.854480    676\n",
       "5                     2.76571    3.898770  0.974940    524\n",
       "6                     2.42349    3.883365  1.210350    520\n",
       "control               3.02071    3.845850  0.368730    812"
      ]
     },
     "execution_count": 4,
     "metadata": {},
     "output_type": "execute_result"
    }
   ],
   "source": [
    "ability_by_group = final.groupby(['interventiongroup']).agg({'ability_t1':'median','ability_t2':'median','change':'median','Geschlecht':'count'})\n",
    "ability_by_group = ability_by_group.rename(columns={'Geschlecht':'count'})\n",
    "ability_by_group"
   ]
  },
  {
   "cell_type": "code",
   "execution_count": 5,
   "metadata": {},
   "outputs": [
    {
     "data": {
      "text/html": [
       "<div>\n",
       "<style scoped>\n",
       "    .dataframe tbody tr th:only-of-type {\n",
       "        vertical-align: middle;\n",
       "    }\n",
       "\n",
       "    .dataframe tbody tr th {\n",
       "        vertical-align: top;\n",
       "    }\n",
       "\n",
       "    .dataframe thead th {\n",
       "        text-align: right;\n",
       "    }\n",
       "</style>\n",
       "<table border=\"1\" class=\"dataframe\">\n",
       "  <thead>\n",
       "    <tr style=\"text-align: right;\">\n",
       "      <th></th>\n",
       "      <th>ability_t1</th>\n",
       "      <th>ability_t2</th>\n",
       "      <th>change</th>\n",
       "      <th>count</th>\n",
       "    </tr>\n",
       "    <tr>\n",
       "      <th>interventiongroup</th>\n",
       "      <th></th>\n",
       "      <th></th>\n",
       "      <th></th>\n",
       "      <th></th>\n",
       "    </tr>\n",
       "  </thead>\n",
       "  <tbody>\n",
       "    <tr>\n",
       "      <th>2</th>\n",
       "      <td>3.221242</td>\n",
       "      <td>3.439092</td>\n",
       "      <td>0.217849</td>\n",
       "      <td>456</td>\n",
       "    </tr>\n",
       "    <tr>\n",
       "      <th>3</th>\n",
       "      <td>2.833778</td>\n",
       "      <td>3.482728</td>\n",
       "      <td>0.648950</td>\n",
       "      <td>588</td>\n",
       "    </tr>\n",
       "    <tr>\n",
       "      <th>4</th>\n",
       "      <td>2.745159</td>\n",
       "      <td>3.638288</td>\n",
       "      <td>0.893130</td>\n",
       "      <td>676</td>\n",
       "    </tr>\n",
       "    <tr>\n",
       "      <th>5</th>\n",
       "      <td>2.605993</td>\n",
       "      <td>3.750456</td>\n",
       "      <td>1.144464</td>\n",
       "      <td>524</td>\n",
       "    </tr>\n",
       "    <tr>\n",
       "      <th>6</th>\n",
       "      <td>2.624220</td>\n",
       "      <td>3.661927</td>\n",
       "      <td>1.037707</td>\n",
       "      <td>520</td>\n",
       "    </tr>\n",
       "    <tr>\n",
       "      <th>control</th>\n",
       "      <td>3.062115</td>\n",
       "      <td>3.614208</td>\n",
       "      <td>0.552092</td>\n",
       "      <td>812</td>\n",
       "    </tr>\n",
       "  </tbody>\n",
       "</table>\n",
       "</div>"
      ],
      "text/plain": [
       "                   ability_t1  ability_t2    change  count\n",
       "interventiongroup                                         \n",
       "2                    3.221242    3.439092  0.217849    456\n",
       "3                    2.833778    3.482728  0.648950    588\n",
       "4                    2.745159    3.638288  0.893130    676\n",
       "5                    2.605993    3.750456  1.144464    524\n",
       "6                    2.624220    3.661927  1.037707    520\n",
       "control              3.062115    3.614208  0.552092    812"
      ]
     },
     "execution_count": 5,
     "metadata": {},
     "output_type": "execute_result"
    }
   ],
   "source": [
    "ability_by_group = final.groupby(['interventiongroup']).agg({'ability_t1':'mean','ability_t2':'mean','change':'mean','Geschlecht':'count'})\n",
    "ability_by_group = ability_by_group.rename(columns={'Geschlecht':'count'})\n",
    "ability_by_group"
   ]
  },
  {
   "cell_type": "code",
   "execution_count": 13,
   "metadata": {},
   "outputs": [
    {
     "data": {
      "text/plain": [
       "<AxesSubplot:xlabel='change', ylabel='interventiongroup'>"
      ]
     },
     "execution_count": 13,
     "metadata": {},
     "output_type": "execute_result"
    },
    {
     "data": {
      "image/png": "[encoded data removed]",
      "text/plain": [
       "<Figure size 432x288 with 1 Axes>"
      ]
     },
     "metadata": {
      "needs_background": "light"
     },
     "output_type": "display_data"
    }
   ],
   "source": [
    "sns.boxplot(data=final, x=\"change\", y=\"interventiongroup\",showfliers = True, order=[\"control\", \"2\",'3','4','5','6'])\n"
   ]
  },
  {
   "attachments": {},
   "cell_type": "markdown",
   "metadata": {},
   "source": [
    "Wilcoxon Mann Whitney Tests and Cliffs Delta (# thresholds: .11 (small), .28 (medium), .43 (large))"
   ]
  },
  {
   "cell_type": "code",
   "execution_count": 14,
   "metadata": {},
   "outputs": [
    {
     "name": "stdout",
     "output_type": "stream",
     "text": [
      "MannwhitneyuResult(statistic=194720.0, pvalue=0.12563842235148148)\n",
      "0.05176734940800277\n",
      "MannwhitneyuResult(statistic=231024.0, pvalue=0.30216681789746913)\n",
      "-0.0322710364934151\n",
      "MannwhitneyuResult(statistic=252624.0, pvalue=0.008161554161628564)\n",
      "-0.0795464482467135\n",
      "MannwhitneyuResult(statistic=188096.0, pvalue=0.0003438876776589836)\n",
      "-0.11585755649983079\n",
      "MannwhitneyuResult(statistic=184464.0, pvalue=9.93782775001678e-05)\n",
      "-0.12625994694960213\n"
     ]
    }
   ],
   "source": [
    "# control group\n",
    "groups = [intv2, intv3, intv4, intv5, intv6]\n",
    "for x in groups:\n",
    "    print(stats.mannwhitneyu(intvcontrol['change'], x['change']))\n",
    "    print(cliffs_delta(intvcontrol['change'], x['change'])[0])"
   ]
  },
  {
   "cell_type": "code",
   "execution_count": 15,
   "metadata": {},
   "outputs": [
    {
     "name": "stdout",
     "output_type": "stream",
     "text": [
      "MannwhitneyuResult(statistic=122624.0, pvalue=0.017913618018982315)\n",
      "-0.08533237856546128\n",
      "MannwhitneyuResult(statistic=133936.0, pvalue=0.0001820160163227062)\n",
      "-0.1310079933561715\n",
      "MannwhitneyuResult(statistic=99712.0, pvalue=7.791946513947393e-06)\n",
      "-0.16539440203562342\n",
      "MannwhitneyuResult(statistic=98016.0, pvalue=2.9309919452806033e-06)\n",
      "-0.17327935222672064\n"
     ]
    }
   ],
   "source": [
    "# Intv 2\n",
    "groups = [intv3, intv4, intv5, intv6]\n",
    "for x in groups:\n",
    "    print(stats.mannwhitneyu(intv2['change'], x['change']))\n",
    "    print(cliffs_delta(intv2['change'], x['change'])[0])"
   ]
  },
  {
   "cell_type": "code",
   "execution_count": 16,
   "metadata": {},
   "outputs": [
    {
     "name": "stdout",
     "output_type": "stream",
     "text": [
      "MannwhitneyuResult(statistic=188560.0, pvalue=0.11567375804773353)\n",
      "-0.05124179849454575\n",
      "MannwhitneyuResult(statistic=141056.0, pvalue=0.01502628550558008)\n",
      "-0.08438489899776705\n",
      "MannwhitneyuResult(statistic=137488.0, pvalue=0.003785988924198661)\n",
      "-0.10068027210884353\n"
     ]
    }
   ],
   "source": [
    "# Intv 3\n",
    "groups = [intv4, intv5, intv6]\n",
    "for x in groups:\n",
    "    print(stats.mannwhitneyu(intv3['change'], x['change']))\n",
    "    print(cliffs_delta(intv3['change'], x['change'])[0])"
   ]
  },
  {
   "cell_type": "code",
   "execution_count": 17,
   "metadata": {},
   "outputs": [
    {
     "name": "stdout",
     "output_type": "stream",
     "text": [
      "MannwhitneyuResult(statistic=171296.0, pvalue=0.32870849353518106)\n",
      "-0.032837978228465604\n",
      "MannwhitneyuResult(statistic=168560.0, pvalue=0.22404938303206123)\n",
      "-0.040964952207555756\n"
     ]
    }
   ],
   "source": [
    "# Intv 4\n",
    "print(stats.mannwhitneyu(intv4['change'], intv5['change']))\n",
    "print(cliffs_delta(intv4['change'], intv5['change'])[0])\n",
    "print(stats.mannwhitneyu(intv4['change'], intv6['change']))\n",
    "print(cliffs_delta(intv4['change'], intv6['change'])[0])"
   ]
  },
  {
   "cell_type": "code",
   "execution_count": 18,
   "metadata": {},
   "outputs": [
    {
     "name": "stdout",
     "output_type": "stream",
     "text": [
      "MannwhitneyuResult(statistic=135248.0, pvalue=0.8387089190033309)\n",
      "-0.00728126834997064\n"
     ]
    }
   ],
   "source": [
    "# Intv 5\n",
    "print(stats.mannwhitneyu(intv5['change'], intv6['change']))\n",
    "print(cliffs_delta(intv5['change'], intv6['change'])[0])"
   ]
  }
 ],
 "metadata": {
  "kernelspec": {
   "display_name": "Python 3.10.2 64-bit",
   "language": "python",
   "name": "python3"
  },
  "language_info": {
   "codemirror_mode": {
    "name": "ipython",
    "version": 3
   },
   "file_extension": ".py",
   "mimetype": "text/x-python",
   "name": "python",
   "nbconvert_exporter": "python",
   "pygments_lexer": "ipython3",
   "version": "3.10.2"
  },
  "orig_nbformat": 4,
  "vscode": {
   "interpreter": {
    "hash": "369f2c481f4da34e4445cda3fffd2e751bd1c4d706f27375911949ba6bb62e1c"
   }
  }
 },
 "nbformat": 4,
 "nbformat_minor": 2
}
