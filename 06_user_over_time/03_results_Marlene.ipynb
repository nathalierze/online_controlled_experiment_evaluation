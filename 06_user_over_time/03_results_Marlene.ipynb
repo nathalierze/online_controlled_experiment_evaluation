{
 "cells": [
  {
   "cell_type": "code",
   "execution_count": 1,
   "metadata": {},
   "outputs": [],
   "source": [
    "import pandas as pd\n",
    "import pickle\n",
    "from scipy import stats\n",
    "import pandas as pd\n",
    "import seaborn as sns\n",
    "from cliffs_delta import cliffs_delta"
   ]
  },
  {
   "cell_type": "code",
   "execution_count": 2,
   "metadata": {},
   "outputs": [],
   "source": [
    "time1 = pickle.load(\n",
    "    open(\"/Users/marlenebultemann/Desktop/IUG/Journal_Deutschunterricht/models/competence_time_period_1.pkl\", \"rb\")\n",
    ")\n",
    "time2 = pickle.load(\n",
    "    open(\"/Users/marlenebultemann/Desktop/IUG/Journal_Deutschunterricht/models/competence_time_period_2.pkl\", \"rb\")\n",
    ")\n",
    "time1 = time1.rename(columns={\"ability\": \"ability_t1\"})\n",
    "time2 = time2.rename(columns={\"ability\": \"ability_t2\"})\n",
    "time2 = time2[[\"UserID\", \"ability_t2\"]]\n",
    "\n",
    "final = pd.merge(time1, time2, on=\"UserID\", how=\"inner\")\n",
    "final[\"change\"] = final.ability_t2 - final.ability_t1"
   ]
  },
  {
   "cell_type": "code",
   "execution_count": 3,
   "metadata": {},
   "outputs": [
    {
     "data": {
      "text/html": [
       "<div>\n",
       "<style scoped>\n",
       "    .dataframe tbody tr th:only-of-type {\n",
       "        vertical-align: middle;\n",
       "    }\n",
       "\n",
       "    .dataframe tbody tr th {\n",
       "        vertical-align: top;\n",
       "    }\n",
       "\n",
       "    .dataframe thead th {\n",
       "        text-align: right;\n",
       "    }\n",
       "</style>\n",
       "<table border=\"1\" class=\"dataframe\">\n",
       "  <thead>\n",
       "    <tr style=\"text-align: right;\">\n",
       "      <th></th>\n",
       "      <th>UserID</th>\n",
       "      <th>ability_t1</th>\n",
       "      <th>interventiongroup</th>\n",
       "      <th>Geschlecht</th>\n",
       "      <th>Klassenstufe</th>\n",
       "      <th>ability_t2</th>\n",
       "      <th>change</th>\n",
       "    </tr>\n",
       "  </thead>\n",
       "  <tbody>\n",
       "    <tr>\n",
       "      <th>0</th>\n",
       "      <td>499305</td>\n",
       "      <td>6.77015</td>\n",
       "      <td>4</td>\n",
       "      <td>m</td>\n",
       "      <td>10</td>\n",
       "      <td>1.25437</td>\n",
       "      <td>-5.51578</td>\n",
       "    </tr>\n",
       "    <tr>\n",
       "      <th>1</th>\n",
       "      <td>499305</td>\n",
       "      <td>6.77015</td>\n",
       "      <td>4</td>\n",
       "      <td>m</td>\n",
       "      <td>10</td>\n",
       "      <td>1.25437</td>\n",
       "      <td>-5.51578</td>\n",
       "    </tr>\n",
       "    <tr>\n",
       "      <th>2</th>\n",
       "      <td>499305</td>\n",
       "      <td>6.77015</td>\n",
       "      <td>4</td>\n",
       "      <td>m</td>\n",
       "      <td>10</td>\n",
       "      <td>1.25437</td>\n",
       "      <td>-5.51578</td>\n",
       "    </tr>\n",
       "    <tr>\n",
       "      <th>3</th>\n",
       "      <td>499305</td>\n",
       "      <td>6.77015</td>\n",
       "      <td>4</td>\n",
       "      <td>m</td>\n",
       "      <td>10</td>\n",
       "      <td>1.25437</td>\n",
       "      <td>-5.51578</td>\n",
       "    </tr>\n",
       "    <tr>\n",
       "      <th>4</th>\n",
       "      <td>499306</td>\n",
       "      <td>0.79506</td>\n",
       "      <td>2</td>\n",
       "      <td>m</td>\n",
       "      <td>10</td>\n",
       "      <td>4.78523</td>\n",
       "      <td>3.99017</td>\n",
       "    </tr>\n",
       "    <tr>\n",
       "      <th>...</th>\n",
       "      <td>...</td>\n",
       "      <td>...</td>\n",
       "      <td>...</td>\n",
       "      <td>...</td>\n",
       "      <td>...</td>\n",
       "      <td>...</td>\n",
       "      <td>...</td>\n",
       "    </tr>\n",
       "    <tr>\n",
       "      <th>3571</th>\n",
       "      <td>1043018</td>\n",
       "      <td>6.25562</td>\n",
       "      <td>4</td>\n",
       "      <td>w</td>\n",
       "      <td>9</td>\n",
       "      <td>5.47942</td>\n",
       "      <td>-0.77620</td>\n",
       "    </tr>\n",
       "    <tr>\n",
       "      <th>3572</th>\n",
       "      <td>1043305</td>\n",
       "      <td>1.80546</td>\n",
       "      <td>3</td>\n",
       "      <td>m</td>\n",
       "      <td>8</td>\n",
       "      <td>3.06444</td>\n",
       "      <td>1.25898</td>\n",
       "    </tr>\n",
       "    <tr>\n",
       "      <th>3573</th>\n",
       "      <td>1043305</td>\n",
       "      <td>1.80546</td>\n",
       "      <td>3</td>\n",
       "      <td>m</td>\n",
       "      <td>8</td>\n",
       "      <td>3.06444</td>\n",
       "      <td>1.25898</td>\n",
       "    </tr>\n",
       "    <tr>\n",
       "      <th>3574</th>\n",
       "      <td>1043305</td>\n",
       "      <td>1.80546</td>\n",
       "      <td>3</td>\n",
       "      <td>m</td>\n",
       "      <td>8</td>\n",
       "      <td>3.06444</td>\n",
       "      <td>1.25898</td>\n",
       "    </tr>\n",
       "    <tr>\n",
       "      <th>3575</th>\n",
       "      <td>1043305</td>\n",
       "      <td>1.80546</td>\n",
       "      <td>3</td>\n",
       "      <td>m</td>\n",
       "      <td>8</td>\n",
       "      <td>3.06444</td>\n",
       "      <td>1.25898</td>\n",
       "    </tr>\n",
       "  </tbody>\n",
       "</table>\n",
       "<p>3576 rows × 7 columns</p>\n",
       "</div>"
      ],
      "text/plain": [
       "       UserID  ability_t1 interventiongroup Geschlecht Klassenstufe  \\\n",
       "0      499305     6.77015                 4          m           10   \n",
       "1      499305     6.77015                 4          m           10   \n",
       "2      499305     6.77015                 4          m           10   \n",
       "3      499305     6.77015                 4          m           10   \n",
       "4      499306     0.79506                 2          m           10   \n",
       "...       ...         ...               ...        ...          ...   \n",
       "3571  1043018     6.25562                 4          w            9   \n",
       "3572  1043305     1.80546                 3          m            8   \n",
       "3573  1043305     1.80546                 3          m            8   \n",
       "3574  1043305     1.80546                 3          m            8   \n",
       "3575  1043305     1.80546                 3          m            8   \n",
       "\n",
       "      ability_t2   change  \n",
       "0        1.25437 -5.51578  \n",
       "1        1.25437 -5.51578  \n",
       "2        1.25437 -5.51578  \n",
       "3        1.25437 -5.51578  \n",
       "4        4.78523  3.99017  \n",
       "...          ...      ...  \n",
       "3571     5.47942 -0.77620  \n",
       "3572     3.06444  1.25898  \n",
       "3573     3.06444  1.25898  \n",
       "3574     3.06444  1.25898  \n",
       "3575     3.06444  1.25898  \n",
       "\n",
       "[3576 rows x 7 columns]"
      ]
     },
     "execution_count": 3,
     "metadata": {},
     "output_type": "execute_result"
    }
   ],
   "source": [
    "final"
   ]
  },
  {
   "cell_type": "code",
   "execution_count": 4,
   "metadata": {},
   "outputs": [],
   "source": [
    "intvcontrol = final[(final[\"interventiongroup\"] == \"control\")]\n",
    "intv2 = final[(final[\"interventiongroup\"] == \"2\")]\n",
    "intv3 = final[(final[\"interventiongroup\"] == \"3\")]\n",
    "intv4 = final[(final[\"interventiongroup\"] == \"4\")]\n",
    "intv5 = final[(final[\"interventiongroup\"] == \"5\")]\n",
    "intv6 = final[(final[\"interventiongroup\"] == \"6\")]"
   ]
  },
  {
   "attachments": {},
   "cell_type": "markdown",
   "metadata": {},
   "source": [
    "Check Mean and Median"
   ]
  },
  {
   "cell_type": "code",
   "execution_count": 5,
   "metadata": {},
   "outputs": [
    {
     "data": {
      "text/html": [
       "<div>\n",
       "<style scoped>\n",
       "    .dataframe tbody tr th:only-of-type {\n",
       "        vertical-align: middle;\n",
       "    }\n",
       "\n",
       "    .dataframe tbody tr th {\n",
       "        vertical-align: top;\n",
       "    }\n",
       "\n",
       "    .dataframe thead th {\n",
       "        text-align: right;\n",
       "    }\n",
       "</style>\n",
       "<table border=\"1\" class=\"dataframe\">\n",
       "  <thead>\n",
       "    <tr style=\"text-align: right;\">\n",
       "      <th></th>\n",
       "      <th>ability_t1</th>\n",
       "      <th>ability_t2</th>\n",
       "      <th>change</th>\n",
       "      <th>count</th>\n",
       "    </tr>\n",
       "    <tr>\n",
       "      <th>interventiongroup</th>\n",
       "      <th></th>\n",
       "      <th></th>\n",
       "      <th></th>\n",
       "      <th></th>\n",
       "    </tr>\n",
       "  </thead>\n",
       "  <tbody>\n",
       "    <tr>\n",
       "      <th>2</th>\n",
       "      <td>3.43323</td>\n",
       "      <td>3.964825</td>\n",
       "      <td>0.290495</td>\n",
       "      <td>456</td>\n",
       "    </tr>\n",
       "    <tr>\n",
       "      <th>3</th>\n",
       "      <td>2.72828</td>\n",
       "      <td>3.544150</td>\n",
       "      <td>0.457820</td>\n",
       "      <td>588</td>\n",
       "    </tr>\n",
       "    <tr>\n",
       "      <th>4</th>\n",
       "      <td>2.61939</td>\n",
       "      <td>4.028830</td>\n",
       "      <td>0.854480</td>\n",
       "      <td>676</td>\n",
       "    </tr>\n",
       "    <tr>\n",
       "      <th>5</th>\n",
       "      <td>2.76571</td>\n",
       "      <td>3.898770</td>\n",
       "      <td>0.974940</td>\n",
       "      <td>524</td>\n",
       "    </tr>\n",
       "    <tr>\n",
       "      <th>6</th>\n",
       "      <td>2.42349</td>\n",
       "      <td>3.883365</td>\n",
       "      <td>1.210350</td>\n",
       "      <td>520</td>\n",
       "    </tr>\n",
       "    <tr>\n",
       "      <th>control</th>\n",
       "      <td>3.02071</td>\n",
       "      <td>3.845850</td>\n",
       "      <td>0.368730</td>\n",
       "      <td>812</td>\n",
       "    </tr>\n",
       "  </tbody>\n",
       "</table>\n",
       "</div>"
      ],
      "text/plain": [
       "                   ability_t1  ability_t2    change  count\n",
       "interventiongroup                                         \n",
       "2                     3.43323    3.964825  0.290495    456\n",
       "3                     2.72828    3.544150  0.457820    588\n",
       "4                     2.61939    4.028830  0.854480    676\n",
       "5                     2.76571    3.898770  0.974940    524\n",
       "6                     2.42349    3.883365  1.210350    520\n",
       "control               3.02071    3.845850  0.368730    812"
      ]
     },
     "execution_count": 5,
     "metadata": {},
     "output_type": "execute_result"
    }
   ],
   "source": [
    "ability_by_group = final.groupby([\"interventiongroup\"]).agg(\n",
    "    {\n",
    "        \"ability_t1\": \"median\",\n",
    "        \"ability_t2\": \"median\",\n",
    "        \"change\": \"median\",\n",
    "        \"Geschlecht\": \"count\",\n",
    "    }\n",
    ")\n",
    "ability_by_group = ability_by_group.rename(columns={\"Geschlecht\": \"count\"})\n",
    "ability_by_group"
   ]
  },
  {
   "cell_type": "code",
   "execution_count": 6,
   "metadata": {},
   "outputs": [
    {
     "data": {
      "text/html": [
       "<div>\n",
       "<style scoped>\n",
       "    .dataframe tbody tr th:only-of-type {\n",
       "        vertical-align: middle;\n",
       "    }\n",
       "\n",
       "    .dataframe tbody tr th {\n",
       "        vertical-align: top;\n",
       "    }\n",
       "\n",
       "    .dataframe thead th {\n",
       "        text-align: right;\n",
       "    }\n",
       "</style>\n",
       "<table border=\"1\" class=\"dataframe\">\n",
       "  <thead>\n",
       "    <tr style=\"text-align: right;\">\n",
       "      <th></th>\n",
       "      <th>ability_t1</th>\n",
       "      <th>ability_t2</th>\n",
       "      <th>change</th>\n",
       "      <th>count</th>\n",
       "    </tr>\n",
       "    <tr>\n",
       "      <th>interventiongroup</th>\n",
       "      <th></th>\n",
       "      <th></th>\n",
       "      <th></th>\n",
       "      <th></th>\n",
       "    </tr>\n",
       "  </thead>\n",
       "  <tbody>\n",
       "    <tr>\n",
       "      <th>2</th>\n",
       "      <td>3.221242</td>\n",
       "      <td>3.439092</td>\n",
       "      <td>0.217849</td>\n",
       "      <td>456</td>\n",
       "    </tr>\n",
       "    <tr>\n",
       "      <th>3</th>\n",
       "      <td>2.833778</td>\n",
       "      <td>3.482728</td>\n",
       "      <td>0.648950</td>\n",
       "      <td>588</td>\n",
       "    </tr>\n",
       "    <tr>\n",
       "      <th>4</th>\n",
       "      <td>2.745159</td>\n",
       "      <td>3.638288</td>\n",
       "      <td>0.893130</td>\n",
       "      <td>676</td>\n",
       "    </tr>\n",
       "    <tr>\n",
       "      <th>5</th>\n",
       "      <td>2.605993</td>\n",
       "      <td>3.750456</td>\n",
       "      <td>1.144464</td>\n",
       "      <td>524</td>\n",
       "    </tr>\n",
       "    <tr>\n",
       "      <th>6</th>\n",
       "      <td>2.624220</td>\n",
       "      <td>3.661927</td>\n",
       "      <td>1.037707</td>\n",
       "      <td>520</td>\n",
       "    </tr>\n",
       "    <tr>\n",
       "      <th>control</th>\n",
       "      <td>3.062115</td>\n",
       "      <td>3.614208</td>\n",
       "      <td>0.552092</td>\n",
       "      <td>812</td>\n",
       "    </tr>\n",
       "  </tbody>\n",
       "</table>\n",
       "</div>"
      ],
      "text/plain": [
       "                   ability_t1  ability_t2    change  count\n",
       "interventiongroup                                         \n",
       "2                    3.221242    3.439092  0.217849    456\n",
       "3                    2.833778    3.482728  0.648950    588\n",
       "4                    2.745159    3.638288  0.893130    676\n",
       "5                    2.605993    3.750456  1.144464    524\n",
       "6                    2.624220    3.661927  1.037707    520\n",
       "control              3.062115    3.614208  0.552092    812"
      ]
     },
     "execution_count": 6,
     "metadata": {},
     "output_type": "execute_result"
    }
   ],
   "source": [
    "ability_by_group = final.groupby([\"interventiongroup\"]).agg(\n",
    "    {\n",
    "        \"ability_t1\": \"mean\",\n",
    "        \"ability_t2\": \"mean\",\n",
    "        \"change\": \"mean\",\n",
    "        \"Geschlecht\": \"count\",\n",
    "    }\n",
    ")\n",
    "ability_by_group = ability_by_group.rename(columns={\"Geschlecht\": \"count\"})\n",
    "ability_by_group"
   ]
  },
  {
   "cell_type": "code",
   "execution_count": 7,
   "metadata": {},
   "outputs": [
    {
     "data": {
      "text/plain": [
       "<AxesSubplot:xlabel='change', ylabel='interventiongroup'>"
      ]
     },
     "execution_count": 7,
     "metadata": {},
     "output_type": "execute_result"
    },
    {
     "data": {
      "image/png": "[encoded data removed]",
      "text/plain": [
       "<Figure size 640x480 with 1 Axes>"
      ]
     },
     "metadata": {},
     "output_type": "display_data"
    }
   ],
   "source": [
    "sns.boxplot(\n",
    "    data=final,\n",
    "    x=\"change\",\n",
    "    y=\"interventiongroup\",\n",
    "    showfliers=True,\n",
    "    order=[\"control\", \"2\", \"3\", \"4\", \"5\", \"6\"],\n",
    ")"
   ]
  },
  {
   "attachments": {},
   "cell_type": "markdown",
   "metadata": {},
   "source": [
    "Wilcoxon Mann Whitney Tests and Cliffs Delta (# thresholds: .11 (small), .28 (medium), .43 (large))"
   ]
  },
  {
   "cell_type": "code",
   "execution_count": 8,
   "metadata": {},
   "outputs": [
    {
     "name": "stdout",
     "output_type": "stream",
     "text": [
      "MannwhitneyuResult(statistic=194720.0, pvalue=0.12563842235148148)\n",
      "0.05176734940800277\n",
      "MannwhitneyuResult(statistic=231024.0, pvalue=0.30216681789746913)\n",
      "-0.0322710364934151\n",
      "MannwhitneyuResult(statistic=252624.0, pvalue=0.008161554161628564)\n",
      "-0.0795464482467135\n",
      "MannwhitneyuResult(statistic=188096.0, pvalue=0.0003438876776589836)\n",
      "-0.11585755649983079\n",
      "MannwhitneyuResult(statistic=184464.0, pvalue=9.93782775001678e-05)\n",
      "-0.12625994694960213\n"
     ]
    }
   ],
   "source": [
    "# control group\n",
    "groups = [intv2, intv3, intv4, intv5, intv6]\n",
    "for x in groups:\n",
    "    print(stats.mannwhitneyu(intvcontrol[\"change\"], x[\"change\"]))\n",
    "    print(cliffs_delta(intvcontrol[\"change\"], x[\"change\"])[0])"
   ]
  },
  {
   "cell_type": "code",
   "execution_count": 9,
   "metadata": {},
   "outputs": [
    {
     "name": "stdout",
     "output_type": "stream",
     "text": [
      "MannwhitneyuResult(statistic=122624.0, pvalue=0.017913618018982315)\n",
      "-0.08533237856546128\n",
      "MannwhitneyuResult(statistic=133936.0, pvalue=0.0001820160163227062)\n",
      "-0.1310079933561715\n",
      "MannwhitneyuResult(statistic=99712.0, pvalue=7.791946513947393e-06)\n",
      "-0.16539440203562342\n",
      "MannwhitneyuResult(statistic=98016.0, pvalue=2.9309919452806033e-06)\n",
      "-0.17327935222672064\n"
     ]
    }
   ],
   "source": [
    "# Intv 2\n",
    "groups = [intv3, intv4, intv5, intv6]\n",
    "for x in groups:\n",
    "    print(stats.mannwhitneyu(intv2[\"change\"], x[\"change\"]))\n",
    "    print(cliffs_delta(intv2[\"change\"], x[\"change\"])[0])"
   ]
  },
  {
   "cell_type": "code",
   "execution_count": 10,
   "metadata": {},
   "outputs": [
    {
     "name": "stdout",
     "output_type": "stream",
     "text": [
      "MannwhitneyuResult(statistic=188560.0, pvalue=0.11567375804773353)\n",
      "-0.05124179849454575\n",
      "MannwhitneyuResult(statistic=141056.0, pvalue=0.01502628550558008)\n",
      "-0.08438489899776705\n",
      "MannwhitneyuResult(statistic=137488.0, pvalue=0.003785988924198661)\n",
      "-0.10068027210884353\n"
     ]
    }
   ],
   "source": [
    "# Intv 3\n",
    "groups = [intv4, intv5, intv6]\n",
    "for x in groups:\n",
    "    print(stats.mannwhitneyu(intv3[\"change\"], x[\"change\"]))\n",
    "    print(cliffs_delta(intv3[\"change\"], x[\"change\"])[0])"
   ]
  },
  {
   "cell_type": "code",
   "execution_count": 11,
   "metadata": {},
   "outputs": [
    {
     "name": "stdout",
     "output_type": "stream",
     "text": [
      "MannwhitneyuResult(statistic=171296.0, pvalue=0.32870849353518106)\n",
      "-0.032837978228465604\n",
      "MannwhitneyuResult(statistic=168560.0, pvalue=0.22404938303206123)\n",
      "-0.040964952207555756\n"
     ]
    }
   ],
   "source": [
    "# Intv 4\n",
    "print(stats.mannwhitneyu(intv4[\"change\"], intv5[\"change\"]))\n",
    "print(cliffs_delta(intv4[\"change\"], intv5[\"change\"])[0])\n",
    "print(stats.mannwhitneyu(intv4[\"change\"], intv6[\"change\"]))\n",
    "print(cliffs_delta(intv4[\"change\"], intv6[\"change\"])[0])"
   ]
  },
  {
   "cell_type": "code",
   "execution_count": 12,
   "metadata": {},
   "outputs": [
    {
     "name": "stdout",
     "output_type": "stream",
     "text": [
      "MannwhitneyuResult(statistic=135248.0, pvalue=0.8387089190033309)\n",
      "-0.00728126834997064\n"
     ]
    }
   ],
   "source": [
    "# Intv 5\n",
    "print(stats.mannwhitneyu(intv5[\"change\"], intv6[\"change\"]))\n",
    "print(cliffs_delta(intv5[\"change\"], intv6[\"change\"])[0])"
   ]
  },
  {
   "cell_type": "code",
   "execution_count": 13,
   "metadata": {},
   "outputs": [
    {
     "name": "stdout",
     "output_type": "stream",
     "text": [
      "       UserID  ability_t1 interventiongroup Geschlecht Klassenstufe  \\\n",
      "0      499305     6.77015                 4          m           10   \n",
      "1      499305     6.77015                 4          m           10   \n",
      "2      499305     6.77015                 4          m           10   \n",
      "3      499305     6.77015                 4          m           10   \n",
      "4      499306     0.79506                 2          m           10   \n",
      "...       ...         ...               ...        ...          ...   \n",
      "3567  1042963     0.54098           control          m            8   \n",
      "3572  1043305     1.80546                 3          m            8   \n",
      "3573  1043305     1.80546                 3          m            8   \n",
      "3574  1043305     1.80546                 3          m            8   \n",
      "3575  1043305     1.80546                 3          m            8   \n",
      "\n",
      "      ability_t2   change  \n",
      "0        1.25437 -5.51578  \n",
      "1        1.25437 -5.51578  \n",
      "2        1.25437 -5.51578  \n",
      "3        1.25437 -5.51578  \n",
      "4        4.78523  3.99017  \n",
      "...          ...      ...  \n",
      "3567     2.37435  1.83337  \n",
      "3572     3.06444  1.25898  \n",
      "3573     3.06444  1.25898  \n",
      "3574     3.06444  1.25898  \n",
      "3575     3.06444  1.25898  \n",
      "\n",
      "[1596 rows x 7 columns]\n"
     ]
    }
   ],
   "source": [
    "#Aufteilung nach Geschlecht\n",
    "final_m = final.loc[final.Geschlecht == 'm']\n",
    "final_w = final.loc[final.Geschlecht == 'w']\n",
    "print(final_m)"
   ]
  },
  {
   "cell_type": "code",
   "execution_count": 14,
   "metadata": {},
   "outputs": [
    {
     "name": "stdout",
     "output_type": "stream",
     "text": [
      "       UserID  ability_t1 interventiongroup Geschlecht Klassenstufe  \\\n",
      "8      499308     6.04589           control          m           10   \n",
      "9      499308     6.04589           control          m           10   \n",
      "10     499308     6.04589           control          m           10   \n",
      "11     499308     6.04589           control          m           10   \n",
      "68     707197     4.63233           control          m           12   \n",
      "...       ...         ...               ...        ...          ...   \n",
      "3551  1040910     1.41754           control          m            5   \n",
      "3564  1042963     0.54098           control          m            8   \n",
      "3565  1042963     0.54098           control          m            8   \n",
      "3566  1042963     0.54098           control          m            8   \n",
      "3567  1042963     0.54098           control          m            8   \n",
      "\n",
      "      ability_t2   change  \n",
      "8        1.16645 -4.87944  \n",
      "9        1.16645 -4.87944  \n",
      "10       1.16645 -4.87944  \n",
      "11       1.16645 -4.87944  \n",
      "68       2.94398 -1.68835  \n",
      "...          ...      ...  \n",
      "3551     3.26842  1.85088  \n",
      "3564     2.37435  1.83337  \n",
      "3565     2.37435  1.83337  \n",
      "3566     2.37435  1.83337  \n",
      "3567     2.37435  1.83337  \n",
      "\n",
      "[388 rows x 7 columns]\n"
     ]
    }
   ],
   "source": [
    "#split by interventiongroup\n",
    "intvcontrol_m = final_m[(final_m[\"interventiongroup\"]=='control')]\n",
    "intv2_m = final_m[(final_m[\"interventiongroup\"]=='2')]\n",
    "intv3_m = final_m[(final_m[\"interventiongroup\"]=='3')]\n",
    "intv4_m = final_m[(final_m[\"interventiongroup\"]=='4')]\n",
    "intv5_m = final_m[(final_m[\"interventiongroup\"]=='5')]\n",
    "intv6_m = final_m[(final_m[\"interventiongroup\"]=='6')]\n",
    "print(intvcontrol_m)\n",
    "\n",
    "intvcontrol_w = final_w[(final_w[\"interventiongroup\"]=='control')]\n",
    "intv2_w = final_w[(final_w[\"interventiongroup\"]=='2')]\n",
    "intv3_w = final_w[(final_w[\"interventiongroup\"]=='3')]\n",
    "intv4_w = final_w[(final_w[\"interventiongroup\"]=='4')]\n",
    "intv5_w = final_w[(final_w[\"interventiongroup\"]=='5')]\n",
    "intv6_w = final_w[(final_w[\"interventiongroup\"]=='6')]"
   ]
  },
  {
   "cell_type": "code",
   "execution_count": 15,
   "metadata": {},
   "outputs": [
    {
     "name": "stdout",
     "output_type": "stream",
     "text": [
      "MannwhitneyuResult(statistic=40832.0, pvalue=0.6021715318314862)\n",
      "-0.025582283314242078\n",
      "MannwhitneyuResult(statistic=49632.0, pvalue=0.01295208148926652)\n",
      "-0.11168384879725086\n",
      "MannwhitneyuResult(statistic=54016.0, pvalue=0.05739727396086619)\n",
      "-0.08410200759631037\n",
      "MannwhitneyuResult(statistic=37200.0, pvalue=0.11575766348542807)\n",
      "-0.07811260904044409\n",
      "MannwhitneyuResult(statistic=26704.0, pvalue=2.8281014722088217e-08)\n",
      "-0.28307560137457044\n"
     ]
    }
   ],
   "source": [
    "#controlgroup m\n",
    "groups_m = [intv2_m, intv3_m, intv4_m, intv5_m, intv6_m]\n",
    "for x in groups_m:\n",
    "    print(stats.mannwhitneyu(intvcontrol_m['change'], x['change']))\n",
    "    print(cliffs_delta(intvcontrol_m['change'], x['change'])[0])"
   ]
  },
  {
   "cell_type": "code",
   "execution_count": 16,
   "metadata": {},
   "outputs": [
    {
     "name": "stdout",
     "output_type": "stream",
     "text": [
      "MannwhitneyuResult(statistic=28368.0, pvalue=0.0908905404855196)\n",
      "-0.08796296296296297\n",
      "MannwhitneyuResult(statistic=30736.0, pvalue=0.21456772253000966)\n",
      "-0.0638401559454191\n",
      "MannwhitneyuResult(statistic=21248.0, pvalue=0.335231032128389)\n",
      "-0.05413105413105413\n",
      "MannwhitneyuResult(statistic=15840.0, pvalue=3.8246154423976135e-05)\n",
      "-0.2361111111111111\n"
     ]
    }
   ],
   "source": [
    "#intv2 m\n",
    "groups_m = [intv3_m, intv4_m, intv5_m, intv6_m]\n",
    "for x in groups_m:\n",
    "    print(stats.mannwhitneyu(intv2_m[\"change\"], x[\"change\"]))\n",
    "    print(cliffs_delta(intv2_m[\"change\"], x[\"change\"])[0])"
   ]
  },
  {
   "cell_type": "code",
   "execution_count": 17,
   "metadata": {},
   "outputs": [
    {
     "name": "stdout",
     "output_type": "stream",
     "text": [
      "MannwhitneyuResult(statistic=44896.0, pvalue=0.5904219224116546)\n",
      "0.025584795321637425\n",
      "MannwhitneyuResult(statistic=30800.0, pvalue=0.5905298470145446)\n",
      "0.028311965811965812\n",
      "MannwhitneyuResult(statistic=22736.0, pvalue=0.0009698476633002802)\n",
      "-0.17766203703703703\n"
     ]
    }
   ],
   "source": [
    "#intv3 m\n",
    "groups_m = [intv4_m, intv5_m, intv6_m]\n",
    "for x in groups_m:\n",
    "    print(stats.mannwhitneyu(intv3_m[\"change\"], x[\"change\"]))\n",
    "    print(cliffs_delta(intv3_m[\"change\"], x[\"change\"])[0])"
   ]
  },
  {
   "cell_type": "code",
   "execution_count": 18,
   "metadata": {},
   "outputs": [
    {
     "name": "stdout",
     "output_type": "stream",
     "text": [
      "MannwhitneyuResult(statistic=32048.0, pvalue=0.7929698097585052)\n",
      "0.013663967611336033\n",
      "MannwhitneyuResult(statistic=23648.0, pvalue=0.0003703327904058431)\n",
      "-0.18969298245614036\n"
     ]
    }
   ],
   "source": [
    "#intv4 m\n",
    "groups_m = [intv5_m, intv6_m]\n",
    "for x in groups_m:\n",
    "    print(stats.mannwhitneyu(intv4_m[\"change\"], x[\"change\"]))\n",
    "    print(cliffs_delta(intv4_m[\"change\"], x[\"change\"])[0])"
   ]
  },
  {
   "cell_type": "code",
   "execution_count": 19,
   "metadata": {},
   "outputs": [
    {
     "name": "stdout",
     "output_type": "stream",
     "text": [
      "MannwhitneyuResult(statistic=16224.0, pvalue=0.0011925057291658128)\n",
      "-0.1875\n"
     ]
    }
   ],
   "source": [
    "#intv 5 m\n",
    "print(stats.mannwhitneyu(intv5_m[\"change\"], intv6_m[\"change\"]))\n",
    "print(cliffs_delta(intv5_m[\"change\"], intv6_m[\"change\"])[0])"
   ]
  },
  {
   "cell_type": "code",
   "execution_count": 20,
   "metadata": {},
   "outputs": [
    {
     "name": "stdout",
     "output_type": "stream",
     "text": [
      "MannwhitneyuResult(statistic=51472.0, pvalue=0.014016398784322082)\n",
      "0.11759597012332812\n",
      "MannwhitneyuResult(statistic=60928.0, pvalue=0.45779797828023516)\n",
      "0.03295809032958091\n",
      "MannwhitneyuResult(statistic=68384.0, pvalue=0.15449131846888478)\n",
      "-0.05962596259625962\n",
      "MannwhitneyuResult(statistic=54624.0, pvalue=0.0052384995341270444)\n",
      "-0.12202648836312202\n",
      "MannwhitneyuResult(statistic=63568.0, pvalue=0.7014217445738873)\n",
      "-0.016584158415841585\n"
     ]
    }
   ],
   "source": [
    "#controlgroup w\n",
    "groups_w = [intv2_w, intv3_w, intv4_w, intv5_w, intv6_w]\n",
    "for x in groups_w:\n",
    "    print(stats.mannwhitneyu(intvcontrol_w['change'], x['change']))\n",
    "    print(cliffs_delta(intvcontrol_w['change'], x['change'])[0])"
   ]
  },
  {
   "cell_type": "code",
   "execution_count": 21,
   "metadata": {},
   "outputs": [
    {
     "name": "stdout",
     "output_type": "stream",
     "text": [
      "MannwhitneyuResult(statistic=30416.0, pvalue=0.09121635233599845)\n",
      "-0.08627733717856284\n",
      "MannwhitneyuResult(statistic=33984.0, pvalue=0.0004394031074018321)\n",
      "-0.17192982456140352\n",
      "MannwhitneyuResult(statistic=26656.0, pvalue=1.8429673747005975e-06)\n",
      "-0.24082934609250398\n",
      "MannwhitneyuResult(statistic=31472.0, pvalue=0.006127038497053081)\n",
      "-0.13728070175438598\n"
     ]
    }
   ],
   "source": [
    "#intv2 w\n",
    "groups_w = [intv3_w, intv4_w, intv5_w, intv6_w]\n",
    "for x in groups_w:\n",
    "    print(stats.mannwhitneyu(intv2_w[\"change\"], x[\"change\"]))\n",
    "    print(cliffs_delta(intv2_w[\"change\"], x[\"change\"])[0])"
   ]
  },
  {
   "cell_type": "code",
   "execution_count": 22,
   "metadata": {},
   "outputs": [
    {
     "name": "stdout",
     "output_type": "stream",
     "text": [
      "MannwhitneyuResult(statistic=47456.0, pvalue=0.03285375375066504)\n",
      "-0.09710806697108067\n",
      "MannwhitneyuResult(statistic=37424.0, pvalue=0.0003788160744748187)\n",
      "-0.16776374310620887\n",
      "MannwhitneyuResult(statistic=44480.0, pvalue=0.3053299249107998)\n",
      "-0.04794520547945205\n"
     ]
    }
   ],
   "source": [
    "#intv3 w\n",
    "groups_w = [intv4_w, intv5_w, intv6_w]\n",
    "for x in groups_w:\n",
    "    print(stats.mannwhitneyu(intv3_w[\"change\"], x[\"change\"]))\n",
    "    print(cliffs_delta(intv3_w[\"change\"], x[\"change\"])[0])"
   ]
  },
  {
   "cell_type": "code",
   "execution_count": 23,
   "metadata": {},
   "outputs": [
    {
     "name": "stdout",
     "output_type": "stream",
     "text": [
      "MannwhitneyuResult(statistic=51856.0, pvalue=0.14948937864986245)\n",
      "-0.06464646464646465\n",
      "MannwhitneyuResult(statistic=60448.0, pvalue=0.2654151892742729)\n",
      "0.049444444444444444\n"
     ]
    }
   ],
   "source": [
    "#intv4 w\n",
    "groups_w = [intv5_w, intv6_w]\n",
    "for x in groups_w:\n",
    "    print(stats.mannwhitneyu(intv4_w[\"change\"], x[\"change\"]))\n",
    "    print(cliffs_delta(intv4_w[\"change\"], x[\"change\"])[0])"
   ]
  },
  {
   "cell_type": "code",
   "execution_count": 24,
   "metadata": {},
   "outputs": [
    {
     "name": "stdout",
     "output_type": "stream",
     "text": [
      "MannwhitneyuResult(statistic=54912.0, pvalue=0.013223527868977611)\n",
      "0.11428571428571428\n"
     ]
    }
   ],
   "source": [
    "#intv5 w\n",
    "print(stats.mannwhitneyu(intv5_w[\"change\"], intv6_w[\"change\"]))\n",
    "print(cliffs_delta(intv5_w[\"change\"], intv6_w[\"change\"])[0])"
   ]
  },
  {
   "cell_type": "code",
   "execution_count": 53,
   "metadata": {},
   "outputs": [
    {
     "name": "stdout",
     "output_type": "stream",
     "text": [
      "Intervention group: intvcontrol_w\n",
      "Comparison group: intv2_w\n",
      "MannwhitneyuResult(statistic=51472.0, pvalue=0.014016398784322082)\n",
      "0.11759597012332812\n",
      "Comparison group: intv3_w\n",
      "MannwhitneyuResult(statistic=60928.0, pvalue=0.45779797828023516)\n",
      "0.03295809032958091\n",
      "Comparison group: intv4_w\n",
      "MannwhitneyuResult(statistic=68384.0, pvalue=0.15449131846888478)\n",
      "-0.05962596259625962\n",
      "Comparison group: intv5_w\n",
      "MannwhitneyuResult(statistic=54624.0, pvalue=0.0052384995341270444)\n",
      "-0.12202648836312202\n",
      "Comparison group: x\n",
      "MannwhitneyuResult(statistic=63568.0, pvalue=0.7014217445738873)\n",
      "-0.016584158415841585\n",
      "Intervention group: intv2_w\n",
      "Comparison group: intv3_w\n",
      "MannwhitneyuResult(statistic=30416.0, pvalue=0.09121635233599845)\n",
      "-0.08627733717856284\n",
      "Comparison group: intv4_w\n",
      "MannwhitneyuResult(statistic=33984.0, pvalue=0.0004394031074018321)\n",
      "-0.17192982456140352\n",
      "Comparison group: intv5_w\n",
      "MannwhitneyuResult(statistic=26656.0, pvalue=1.8429673747005975e-06)\n",
      "-0.24082934609250398\n",
      "Comparison group: x\n",
      "MannwhitneyuResult(statistic=31472.0, pvalue=0.006127038497053081)\n",
      "-0.13728070175438598\n",
      "Intervention group: intv3_w\n",
      "Comparison group: intv4_w\n",
      "MannwhitneyuResult(statistic=47456.0, pvalue=0.03285375375066504)\n",
      "-0.09710806697108067\n",
      "Comparison group: intv5_w\n",
      "MannwhitneyuResult(statistic=37424.0, pvalue=0.0003788160744748187)\n",
      "-0.16776374310620887\n",
      "Comparison group: x\n",
      "MannwhitneyuResult(statistic=44480.0, pvalue=0.3053299249107998)\n",
      "-0.04794520547945205\n",
      "Intervention group: intv4_w\n",
      "Comparison group: intv5_w\n",
      "MannwhitneyuResult(statistic=51856.0, pvalue=0.14948937864986245)\n",
      "-0.06464646464646465\n",
      "Comparison group: x\n",
      "MannwhitneyuResult(statistic=60448.0, pvalue=0.2654151892742729)\n",
      "0.049444444444444444\n",
      "Intervention group: intv5_w\n",
      "Comparison group: x\n",
      "MannwhitneyuResult(statistic=54912.0, pvalue=0.013223527868977611)\n",
      "0.11428571428571428\n",
      "Intervention group: x\n"
     ]
    }
   ],
   "source": [
    "#Versuch Loop; intv_6 wird irgendwie als x geprintet\n",
    "groups_w = [intvcontrol_w, intv2_w, intv3_w, intv4_w, intv5_w, intv6_w]\n",
    "\n",
    "for i in range(len(groups_w)):\n",
    "    intv = groups_w[i]\n",
    "    intv_name = [k for k, v in globals().items() if v is intv][0]\n",
    "    print('Intervention group:', intv_name)\n",
    "    \n",
    "    for j in range(i+1, len(groups_w)):\n",
    "        comparison = groups_w[j]\n",
    "        comparison_name = [k for k, v in globals().items() if v is comparison][0]\n",
    "        print('Comparison group:', comparison_name)\n",
    "        \n",
    "        common_cols = list(set(intv.columns).intersection(comparison.columns))\n",
    "\n",
    "        intv_common = intv.reindex(columns=common_cols)\n",
    "        comparison_common = comparison.reindex(columns=common_cols)\n",
    "        \n",
    "        print(stats.mannwhitneyu(intv_common['change'], comparison_common['change']))\n",
    "        print(cliffs_delta(intv_common['change'], comparison_common['change'])[0])\n"
   ]
  },
  {
   "cell_type": "code",
   "execution_count": 26,
   "metadata": {},
   "outputs": [
    {
     "data": {
      "text/plain": [
       "<AxesSubplot:xlabel='change', ylabel='interventiongroup'>"
      ]
     },
     "execution_count": 26,
     "metadata": {},
     "output_type": "execute_result"
    },
    {
     "data": {
      "image/png": "[encoded data removed]",
      "text/plain": [
       "<Figure size 640x480 with 1 Axes>"
      ]
     },
     "metadata": {},
     "output_type": "display_data"
    }
   ],
   "source": [
    "sns.boxplot(\n",
    "    data=final_m,\n",
    "    x=\"change\",\n",
    "    y=\"interventiongroup\",\n",
    "    showfliers=True,\n",
    "    order=[\"control\", \"2\", \"3\", \"4\", \"5\", \"6\"],\n",
    ")"
   ]
  },
  {
   "cell_type": "code",
   "execution_count": 27,
   "metadata": {},
   "outputs": [
    {
     "data": {
      "text/plain": [
       "<AxesSubplot:xlabel='change', ylabel='interventiongroup'>"
      ]
     },
     "execution_count": 27,
     "metadata": {},
     "output_type": "execute_result"
    },
    {
     "data": {
      "image/png": "[encoded data removed]",
      "text/plain": [
       "<Figure size 640x480 with 1 Axes>"
      ]
     },
     "metadata": {},
     "output_type": "display_data"
    }
   ],
   "source": [
    "sns.boxplot(\n",
    "    data=final_w,\n",
    "    x=\"change\",\n",
    "    y=\"interventiongroup\",\n",
    "    showfliers=True,\n",
    "    order=[\"control\", \"2\", \"3\", \"4\", \"5\", \"6\"],\n",
    ")"
   ]
  },
  {
   "cell_type": "code",
   "execution_count": 28,
   "metadata": {},
   "outputs": [
    {
     "name": "stdout",
     "output_type": "stream",
     "text": [
      "Jahrgang 5\n",
      "196\n",
      "Jahrgang 6\n",
      "484\n",
      "Jahrgang 7\n",
      "444\n",
      "Jahrgang 8\n",
      "832\n",
      "Jahrgang 9\n",
      "668\n",
      "Jahrgang 10\n",
      "560\n",
      "Jahrgang 11\n",
      "204\n",
      "Jahrgang 12\n",
      "148\n"
     ]
    }
   ],
   "source": [
    "count = 5\n",
    "for count in range(5,13):\n",
    "    print('Jahrgang '+ str(count))\n",
    "    print((final['Klassenstufe']==str(count)).sum())\n",
    "    count = count + 1"
   ]
  },
  {
   "cell_type": "code",
   "execution_count": 48,
   "metadata": {},
   "outputs": [
    {
     "name": "stdout",
     "output_type": "stream",
     "text": [
      "       UserID  ability_t1 interventiongroup Geschlecht Klassenstufe  \\\n",
      "184    728122     2.45977           control          m            7   \n",
      "185    728122     2.45977           control          m            7   \n",
      "186    728122     2.45977           control          m            7   \n",
      "187    728122     2.45977           control          m            7   \n",
      "188    728129     4.86489                 4          w            7   \n",
      "...       ...         ...               ...        ...          ...   \n",
      "3331  1036373    -2.72192                 2          m            7   \n",
      "3552  1042127    -0.97320                 6          m            7   \n",
      "3553  1042127    -0.97320                 6          m            7   \n",
      "3554  1042127    -0.97320                 6          m            7   \n",
      "3555  1042127    -0.97320                 6          m            7   \n",
      "\n",
      "      ability_t2   change  \n",
      "184      3.21113  0.75136  \n",
      "185      3.21113  0.75136  \n",
      "186      3.21113  0.75136  \n",
      "187      3.21113  0.75136  \n",
      "188      6.00833  1.14344  \n",
      "...          ...      ...  \n",
      "3331     3.65642  6.37834  \n",
      "3552     2.08999  3.06319  \n",
      "3553     2.08999  3.06319  \n",
      "3554     2.08999  3.06319  \n",
      "3555     2.08999  3.06319  \n",
      "\n",
      "[444 rows x 7 columns]\n"
     ]
    }
   ],
   "source": [
    "#Aufteilung nach Klassenstufe\n",
    "final_grade7 = final.loc[final.Klassenstufe == '7']\n",
    "final_grade8 = final.loc[final.Klassenstufe == '8']\n",
    "final_grade9 = final.loc[final.Klassenstufe == '9']"
   ]
  },
  {
   "cell_type": "code",
   "execution_count": 49,
   "metadata": {},
   "outputs": [],
   "source": [
    "intvcontrol_grade7 = final_grade7[(final_grade7[\"interventiongroup\"] == \"control\")]\n",
    "intv2_grade7 = final_grade7[(final_grade7[\"interventiongroup\"] == \"2\")]\n",
    "intv3_grade7 = final_grade7[(final_grade7[\"interventiongroup\"] == \"3\")]\n",
    "intv4_grade7 = final_grade7[(final_grade7[\"interventiongroup\"] == \"4\")]\n",
    "intv5_grade7 = final_grade7[(final_grade7[\"interventiongroup\"] == \"5\")]\n",
    "intv6_grade7 = final_grade7[(final_grade7[\"interventiongroup\"] == \"6\")]"
   ]
  },
  {
   "cell_type": "code",
   "execution_count": 50,
   "metadata": {},
   "outputs": [],
   "source": [
    "intvcontrol_grade8 = final_grade8[(final_grade8[\"interventiongroup\"] == \"control\")]\n",
    "intv2_grade8 = final_grade8[(final_grade8[\"interventiongroup\"] == \"2\")]\n",
    "intv3_grade8 = final_grade8[(final_grade8[\"interventiongroup\"] == \"3\")]\n",
    "intv4_grade8 = final_grade8[(final_grade8[\"interventiongroup\"] == \"4\")]\n",
    "intv5_grade8 = final_grade8[(final_grade8[\"interventiongroup\"] == \"5\")]\n",
    "intv6_grade8 = final_grade8[(final_grade8[\"interventiongroup\"] == \"6\")]"
   ]
  },
  {
   "cell_type": "code",
   "execution_count": 51,
   "metadata": {},
   "outputs": [],
   "source": [
    "intvcontrol_grade9 = final_grade9[(final_grade9[\"interventiongroup\"] == \"control\")]\n",
    "intv2_grade9 = final_grade9[(final_grade9[\"interventiongroup\"] == \"2\")]\n",
    "intv3_grade9 = final_grade9[(final_grade9[\"interventiongroup\"] == \"3\")]\n",
    "intv4_grade9 = final_grade9[(final_grade9[\"interventiongroup\"] == \"4\")]\n",
    "intv5_grade9 = final_grade9[(final_grade9[\"interventiongroup\"] == \"5\")]\n",
    "intv6_grade9 = final_grade9[(final_grade9[\"interventiongroup\"] == \"6\")]"
   ]
  },
  {
   "cell_type": "code",
   "execution_count": 56,
   "metadata": {},
   "outputs": [
    {
     "name": "stdout",
     "output_type": "stream",
     "text": [
      "Intervention group: intv\n",
      "Comparison group: comparison\n",
      "MannwhitneyuResult(statistic=2768.0, pvalue=0.13008739641000533)\n",
      "0.16498316498316498\n",
      "Comparison group: comparison\n",
      "MannwhitneyuResult(statistic=3888.0, pvalue=0.3675518108607584)\n",
      "-0.07954545454545454\n",
      "Comparison group: comparison\n",
      "MannwhitneyuResult(statistic=5888.0, pvalue=0.037043006069749314)\n",
      "0.17384370015948963\n",
      "Comparison group: comparison\n",
      "MannwhitneyuResult(statistic=3712.0, pvalue=0.4879292122543254)\n",
      "-0.06262626262626263\n",
      "Comparison group: comparison\n",
      "MannwhitneyuResult(statistic=4848.0, pvalue=0.6885768115887232)\n",
      "-0.03349282296650718\n",
      "Intervention group: intv\n",
      "Comparison group: comparison\n",
      "MannwhitneyuResult(statistic=864.0, pvalue=0.038818495680184195)\n",
      "-0.25\n",
      "Comparison group: comparison\n",
      "MannwhitneyuResult(statistic=1344.0, pvalue=0.8835311017408222)\n",
      "-0.017543859649122806\n",
      "Comparison group: comparison\n",
      "MannwhitneyuResult(statistic=832.0, pvalue=0.06084882683235471)\n",
      "-0.22962962962962963\n",
      "Comparison group: comparison\n",
      "MannwhitneyuResult(statistic=1088.0, pvalue=0.0814474956814286)\n",
      "-0.2046783625730994\n",
      "Intervention group: intv\n",
      "Comparison group: comparison\n",
      "MannwhitneyuResult(statistic=3104.0, pvalue=0.004955122448711422)\n",
      "0.27631578947368424\n",
      "Comparison group: comparison\n",
      "MannwhitneyuResult(statistic=1872.0, pvalue=0.8121789874004192)\n",
      "-0.025\n",
      "Comparison group: comparison\n",
      "MannwhitneyuResult(statistic=2416.0, pvalue=0.9482848394070427)\n",
      "-0.006578947368421052\n",
      "Intervention group: intv\n",
      "Comparison group: comparison\n",
      "MannwhitneyuResult(statistic=1744.0, pvalue=0.01887849821381203)\n",
      "-0.23508771929824562\n",
      "Comparison group: comparison\n",
      "MannwhitneyuResult(statistic=2336.0, pvalue=0.04206175272911393)\n",
      "-0.19113573407202217\n",
      "Intervention group: intv\n",
      "Comparison group: comparison\n",
      "MannwhitneyuResult(statistic=2384.0, pvalue=0.649972813144819)\n",
      "0.0456140350877193\n",
      "Intervention group: intv\n"
     ]
    }
   ],
   "source": [
    "groups_grade7 = [intvcontrol_grade7, intv2_grade7, intv3_grade7, intv4_grade7, intv5_grade7, intv6_grade7]\n",
    "\n",
    "for i in range(len(groups_grade7)):\n",
    "    intv = groups_grade7[i]\n",
    "    intv_name = [k for k, v in globals().items() if v is intv][0]\n",
    "    print('Intervention group:', intv_name)\n",
    "    \n",
    "    for j in range(i+1, len(groups_grade7)):\n",
    "        comparison = groups_grade7[j]\n",
    "        comparison_name = [k for k, v in globals().items() if v is comparison][0]\n",
    "        print('Comparison group:', comparison_name)\n",
    "        \n",
    "        common_cols = list(set(intv.columns).intersection(comparison.columns))\n",
    "\n",
    "        intv_common = intv.reindex(columns=common_cols)\n",
    "        comparison_common = comparison.reindex(columns=common_cols)\n",
    "        \n",
    "        print(stats.mannwhitneyu(intv_common['change'], comparison_common['change']))\n",
    "        print(cliffs_delta(intv_common['change'], comparison_common['change'])[0])\n"
   ]
  },
  {
   "cell_type": "code",
   "execution_count": 57,
   "metadata": {},
   "outputs": [
    {
     "data": {
      "text/plain": [
       "<AxesSubplot:xlabel='change', ylabel='interventiongroup'>"
      ]
     },
     "execution_count": 57,
     "metadata": {},
     "output_type": "execute_result"
    },
    {
     "data": {
      "image/png": "[encoded data removed]",
      "text/plain": [
       "<Figure size 640x480 with 1 Axes>"
      ]
     },
     "metadata": {},
     "output_type": "display_data"
    }
   ],
   "source": [
    "sns.boxplot(\n",
    "    data=final_grade7,\n",
    "    x=\"change\",\n",
    "    y=\"interventiongroup\",\n",
    "    showfliers=True,\n",
    "    order=[\"control\", \"2\", \"3\", \"4\", \"5\", \"6\"],\n",
    ")"
   ]
  },
  {
   "cell_type": "code",
   "execution_count": 58,
   "metadata": {},
   "outputs": [
    {
     "name": "stdout",
     "output_type": "stream",
     "text": [
      "Intervention group: intv\n",
      "Comparison group: comparison\n",
      "MannwhitneyuResult(statistic=10352.0, pvalue=0.5508093234215216)\n",
      "0.04186795491143317\n",
      "Comparison group: comparison\n",
      "MannwhitneyuResult(statistic=12192.0, pvalue=0.0060059430205656565)\n",
      "-0.17173913043478262\n",
      "Comparison group: comparison\n",
      "MannwhitneyuResult(statistic=12800.0, pvalue=0.036929257025105196)\n",
      "-0.13043478260869565\n",
      "Comparison group: comparison\n",
      "MannwhitneyuResult(statistic=8480.0, pvalue=0.0006333985438064545)\n",
      "-0.2318840579710145\n",
      "Comparison group: comparison\n",
      "MannwhitneyuResult(statistic=7552.0, pvalue=0.012686798335458372)\n",
      "-0.1791304347826087\n",
      "Intervention group: intv\n",
      "Comparison group: comparison\n",
      "MannwhitneyuResult(statistic=6464.0, pvalue=0.00047263598936853865)\n",
      "-0.2518518518518518\n",
      "Comparison group: comparison\n",
      "MannwhitneyuResult(statistic=6960.0, pvalue=0.0069593523729231934)\n",
      "-0.19444444444444445\n",
      "Comparison group: comparison\n",
      "MannwhitneyuResult(statistic=4752.0, pvalue=0.0005124356561407239)\n",
      "-0.26666666666666666\n",
      "Comparison group: comparison\n",
      "MannwhitneyuResult(statistic=4208.0, pvalue=0.0060008366982514435)\n",
      "-0.22074074074074074\n",
      "Intervention group: intv\n",
      "Comparison group: comparison\n",
      "MannwhitneyuResult(statistic=13520.0, pvalue=0.3845615060640847)\n",
      "0.05625\n",
      "Comparison group: comparison\n",
      "MannwhitneyuResult(statistic=8976.0, pvalue=0.35239114311204833)\n",
      "-0.065\n",
      "Comparison group: comparison\n",
      "MannwhitneyuResult(statistic=8064.0, pvalue=0.9142697428186856)\n",
      "0.008\n",
      "Intervention group: intv\n",
      "Comparison group: comparison\n",
      "MannwhitneyuResult(statistic=8224.0, pvalue=0.04021025063371766)\n",
      "-0.14333333333333334\n",
      "Comparison group: comparison\n",
      "MannwhitneyuResult(statistic=7536.0, pvalue=0.4319886087455843)\n",
      "-0.058\n",
      "Intervention group: intv\n",
      "Comparison group: comparison\n",
      "MannwhitneyuResult(statistic=6656.0, pvalue=0.16314210709657406)\n",
      "0.10933333333333334\n",
      "Intervention group: intv\n"
     ]
    }
   ],
   "source": [
    "groups_grade8 = [intvcontrol_grade8, intv2_grade8, intv3_grade8, intv4_grade8, intv5_grade8, intv6_grade8]\n",
    "\n",
    "for i in range(len(groups_grade8)):\n",
    "    intv = groups_grade8[i]\n",
    "    intv_name = [k for k, v in globals().items() if v is intv][0]\n",
    "    print('Intervention group:', intv_name)\n",
    "    \n",
    "    for j in range(i+1, len(groups_grade8)):\n",
    "        comparison = groups_grade8[j]\n",
    "        comparison_name = [k for k, v in globals().items() if v is comparison][0]\n",
    "        print('Comparison group:', comparison_name)\n",
    "        \n",
    "        common_cols = list(set(intv.columns).intersection(comparison.columns))\n",
    "\n",
    "        intv_common = intv.reindex(columns=common_cols)\n",
    "        comparison_common = comparison.reindex(columns=common_cols)\n",
    "        \n",
    "        print(stats.mannwhitneyu(intv_common['change'], comparison_common['change']))\n",
    "        print(cliffs_delta(intv_common['change'], comparison_common['change'])[0])\n"
   ]
  },
  {
   "cell_type": "code",
   "execution_count": 59,
   "metadata": {},
   "outputs": [
    {
     "data": {
      "text/plain": [
       "<AxesSubplot:xlabel='change', ylabel='interventiongroup'>"
      ]
     },
     "execution_count": 59,
     "metadata": {},
     "output_type": "execute_result"
    },
    {
     "data": {
      "image/png": "[encoded data removed]",
      "text/plain": [
       "<Figure size 640x480 with 1 Axes>"
      ]
     },
     "metadata": {},
     "output_type": "display_data"
    }
   ],
   "source": [
    "sns.boxplot(\n",
    "    data=final_grade8,\n",
    "    x=\"change\",\n",
    "    y=\"interventiongroup\",\n",
    "    showfliers=True,\n",
    "    order=[\"control\", \"2\", \"3\", \"4\", \"5\", \"6\"],\n",
    ")"
   ]
  },
  {
   "cell_type": "code",
   "execution_count": 60,
   "metadata": {},
   "outputs": [
    {
     "name": "stdout",
     "output_type": "stream",
     "text": [
      "Intervention group: intv\n",
      "Comparison group: comparison\n",
      "MannwhitneyuResult(statistic=7248.0, pvalue=0.701024668529524)\n",
      "0.029545454545454545\n",
      "Comparison group: comparison\n",
      "MannwhitneyuResult(statistic=8240.0, pvalue=0.11222143203044944)\n",
      "-0.11206896551724138\n",
      "Comparison group: comparison\n",
      "MannwhitneyuResult(statistic=4640.0, pvalue=1.3523245871425972e-12)\n",
      "-0.5\n",
      "Comparison group: comparison\n",
      "MannwhitneyuResult(statistic=6208.0, pvalue=0.038711186951652626)\n",
      "-0.1565217391304348\n",
      "Comparison group: comparison\n",
      "MannwhitneyuResult(statistic=4192.0, pvalue=1.1925419118966372e-09)\n",
      "-0.45416666666666666\n",
      "Intervention group: intv\n",
      "Comparison group: comparison\n",
      "MannwhitneyuResult(statistic=4560.0, pvalue=0.19300841280640924)\n",
      "-0.10658307210031348\n",
      "Comparison group: comparison\n",
      "MannwhitneyuResult(statistic=2784.0, pvalue=2.7696278507131312e-08)\n",
      "-0.45454545454545453\n",
      "Comparison group: comparison\n",
      "MannwhitneyuResult(statistic=3584.0, pvalue=0.1846143576840782)\n",
      "-0.11462450592885376\n",
      "Comparison group: comparison\n",
      "MannwhitneyuResult(statistic=2864.0, pvalue=0.0001646044170132234)\n",
      "-0.32196969696969696\n",
      "Intervention group: intv\n",
      "Comparison group: comparison\n",
      "MannwhitneyuResult(statistic=4160.0, pvalue=5.067942124924209e-07)\n",
      "-0.3816884661117717\n",
      "Comparison group: comparison\n",
      "MannwhitneyuResult(statistic=4960.0, pvalue=0.3836866310750059)\n",
      "-0.0704647676161919\n",
      "Comparison group: comparison\n",
      "MannwhitneyuResult(statistic=3680.0, pvalue=2.1747198646319826e-05)\n",
      "-0.3390804597701149\n",
      "Intervention group: intv\n",
      "Comparison group: comparison\n",
      "MannwhitneyuResult(statistic=6720.0, pvalue=0.001329262078248365)\n",
      "0.2593703148425787\n",
      "Comparison group: comparison\n",
      "MannwhitneyuResult(statistic=5744.0, pvalue=0.6929846755782114)\n",
      "0.031609195402298854\n",
      "Intervention group: intv\n",
      "Comparison group: comparison\n",
      "MannwhitneyuResult(statistic=3488.0, pvalue=0.012869998068366058)\n",
      "-0.21014492753623187\n",
      "Intervention group: intv\n"
     ]
    }
   ],
   "source": [
    "groups_grade9 = [intvcontrol_grade9, intv2_grade9, intv3_grade9, intv4_grade9, intv5_grade9, intv6_grade9]\n",
    "\n",
    "for i in range(len(groups_grade9)):\n",
    "    intv = groups_grade9[i]\n",
    "    intv_name = [k for k, v in globals().items() if v is intv][0]\n",
    "    print('Intervention group:', intv_name)\n",
    "    \n",
    "    for j in range(i+1, len(groups_grade9)):\n",
    "        comparison = groups_grade9[j]\n",
    "        comparison_name = [k for k, v in globals().items() if v is comparison][0]\n",
    "        print('Comparison group:', comparison_name)\n",
    "        \n",
    "        common_cols = list(set(intv.columns).intersection(comparison.columns))\n",
    "\n",
    "        intv_common = intv.reindex(columns=common_cols)\n",
    "        comparison_common = comparison.reindex(columns=common_cols)\n",
    "        \n",
    "        print(stats.mannwhitneyu(intv_common['change'], comparison_common['change']))\n",
    "        print(cliffs_delta(intv_common['change'], comparison_common['change'])[0])\n"
   ]
  },
  {
   "cell_type": "code",
   "execution_count": 61,
   "metadata": {},
   "outputs": [
    {
     "data": {
      "text/plain": [
       "<AxesSubplot:xlabel='change', ylabel='interventiongroup'>"
      ]
     },
     "execution_count": 61,
     "metadata": {},
     "output_type": "execute_result"
    },
    {
     "data": {
      "image/png": "[encoded data removed]",
      "text/plain": [
       "<Figure size 640x480 with 1 Axes>"
      ]
     },
     "metadata": {},
     "output_type": "display_data"
    }
   ],
   "source": [
    "sns.boxplot(\n",
    "    data=final_grade9,\n",
    "    x=\"change\",\n",
    "    y=\"interventiongroup\",\n",
    "    showfliers=True,\n",
    "    order=[\"control\", \"2\", \"3\", \"4\", \"5\", \"6\"],\n",
    ")"
   ]
  }
 ],
 "metadata": {
  "kernelspec": {
   "display_name": "Python 3.10.2 64-bit",
   "language": "python",
   "name": "python3"
  },
  "language_info": {
   "codemirror_mode": {
    "name": "ipython",
    "version": 3
   },
   "file_extension": ".py",
   "mimetype": "text/x-python",
   "name": "python",
   "nbconvert_exporter": "python",
   "pygments_lexer": "ipython3",
   "version": "3.10.7"
  },
  "orig_nbformat": 4,
  "vscode": {
   "interpreter": {
    "hash": "369f2c481f4da34e4445cda3fffd2e751bd1c4d706f27375911949ba6bb62e1c"
   }
  }
 },
 "nbformat": 4,
 "nbformat_minor": 2
}
