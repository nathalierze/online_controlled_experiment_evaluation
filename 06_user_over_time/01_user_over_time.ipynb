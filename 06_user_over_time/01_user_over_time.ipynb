{
 "cells": [
  {
   "cell_type": "code",
   "execution_count": null,
   "metadata": {},
   "outputs": [],
   "source": [
    "import pandas as pd\n",
    "import pickle\n",
    "from scipy import stats\n",
    "import pandas as pd\n",
    "import seaborn as sns\n",
    "import pingouin as pg\n",
    "import statsmodels.formula.api as s\n",
    "import numpy as np"
   ]
  },
  {
   "cell_type": "code",
   "execution_count": null,
   "metadata": {},
   "outputs": [],
   "source": [
    "# import data from main experimental period\n",
    "df = pickle.load(open(\"../00_data/cleaned/sitzungssummary.pkl\", \"rb\"))\n",
    "xmlsaetze = pickle.load(open(\"../00_data/cleaned/xmlsaetze.pkl\", \"rb\"))\n",
    "intv = df[[\"UserID\", \"interventiongroup\"]]\n",
    "\n",
    "# import data from additional experimental period\n",
    "df_nov_mar = pickle.load(\n",
    "    open(\"../00_data/competency_development/sitzungssummary_nov_mar.pkl\", \"rb\")\n",
    ")\n",
    "xmlsaetze_nov_mar = pickle.load(\n",
    "    open(\"../00_data/competency_development/xmlsaetze_nov_mar.pkl\", \"rb\")\n",
    ")\n",
    "intv_nov_mar = df_nov_mar[[\"UserID\", \"interventiongroup\"]]\n",
    "\n",
    "df = pd.concat([df, df_nov_mar])\n",
    "xmlsaetze = pd.concat([xmlsaetze, xmlsaetze_nov_mar])"
   ]
  },
  {
   "cell_type": "code",
   "execution_count": null,
   "metadata": {},
   "outputs": [],
   "source": [
    "# get a list of user that had sessions in july and in late september / october\n",
    "df_min = df.groupby([\"UserID\", \"UebungsID\"]).agg({\"Datum\": np.min})\n",
    "df_max = df.groupby([\"UserID\", \"UebungsID\"]).agg({\"Datum\": np.max})\n",
    "df_min = df_min[(df_min[\"Datum\"] > \"2022-06-21\") & (df_min[\"Datum\"] < \"2022-09-21\")]\n",
    "df_max = df_max[(df_max[\"Datum\"] > \"2022-11-21\") & (df_max[\"Datum\"] < \"2023-02-21\")]\n",
    "merge = pd.merge(df_min, df_max, on=\"UserID\", how=\"inner\")\n",
    "merge = merge.reset_index()\n",
    "user_both_sessions = merge[[\"UserID\"]]\n",
    "user_both_sessions = user_both_sessions.drop_duplicates()"
   ]
  },
  {
   "attachments": {},
   "cell_type": "markdown",
   "metadata": {},
   "source": [
    "Time period 1"
   ]
  },
  {
   "cell_type": "code",
   "execution_count": null,
   "metadata": {},
   "outputs": [],
   "source": [
    "rasch_1 = xmlsaetze[[\"UserID\", \"SatzID\", \"Erfolg\", \"Datum\"]]\n",
    "rasch_1[\"UserID\"].astype(str)\n",
    "rasch_1[\"SatzID\"].astype(str)\n",
    "\n",
    "# only keep users in both time periods\n",
    "rasch_1 = pd.merge(user_both_sessions, rasch_1, on=\"UserID\", how=\"left\")\n",
    "\n",
    "# only use input from the first time\n",
    "rasch_1 = rasch_1[(rasch_1[\"Datum\"] > \"2022-06-21\") & (rasch_1[\"Datum\"] < \"2022-09-21\")]"
   ]
  },
  {
   "cell_type": "code",
   "execution_count": null,
   "metadata": {},
   "outputs": [],
   "source": [
    "time1 = rasch_1.groupby([\"UserID\", \"SatzID\"]).agg({\"Datum\": np.max})\n",
    "time1 = time1.reset_index()\n",
    "time1 = pd.merge(time1, rasch_1, on=[\"UserID\", \"SatzID\", \"Datum\"])\n",
    "rasch_1 = time1.pivot_table(\n",
    "    values=\"Erfolg\", index=time1.UserID, columns=\"SatzID\", aggfunc=\"last\"\n",
    ")"
   ]
  },
  {
   "cell_type": "code",
   "execution_count": null,
   "metadata": {},
   "outputs": [],
   "source": [
    "delete_li = []\n",
    "for col in rasch_1:\n",
    "    cnt = rasch_1[col].count()\n",
    "    if cnt < 2:\n",
    "        delete_li.append(col)"
   ]
  },
  {
   "cell_type": "code",
   "execution_count": null,
   "metadata": {},
   "outputs": [],
   "source": [
    "rasch_1 = rasch_1.drop(\n",
    "    columns=[\n",
    "        9991889.0,\n",
    "        9991891.0,\n",
    "        9991895.0,\n",
    "        9992088.0,\n",
    "        9992089.0,\n",
    "        9992094.0,\n",
    "        9992110.0,\n",
    "    ]\n",
    ")"
   ]
  },
  {
   "cell_type": "code",
   "execution_count": null,
   "metadata": {},
   "outputs": [],
   "source": [
    "delete_li = []\n",
    "for index, row in rasch_1.iterrows():\n",
    "    cnt = row.count()\n",
    "    if cnt < 2:\n",
    "        delete_li.append(index)\n",
    "        rasch_1 = rasch_1.drop([index])\n",
    "\n",
    "rasch_1"
   ]
  },
  {
   "cell_type": "code",
   "execution_count": null,
   "metadata": {},
   "outputs": [],
   "source": [
    "rasch_1.to_csv(\"../00_data/competency_development/learning_data_period_1.csv\")"
   ]
  },
  {
   "cell_type": "code",
   "execution_count": null,
   "metadata": {},
   "outputs": [],
   "source": [
    "df = pd.read_csv(\"../00_data/competency_development/learning_data_period_1.csv\")\n",
    "# user id as index\n",
    "df = df.set_index(\"UserID\")\n",
    "# drop rows with 0 values\n",
    "df = df.dropna(how=\"all\")\n",
    "# create index with four digits\n",
    "df.index = df.index.astype(str).str.pad(7, side=\"left\", fillchar=\"0\")\n",
    "# change 1.0 to 1\n",
    "df = df.replace([1.0], \"1\")\n",
    "# change 0.0 to 0\n",
    "df = df.replace([0.0], \"0\")\n",
    "# change NaN to .\n",
    "df = df.fillna(\".\", inplace=False)"
   ]
  },
  {
   "cell_type": "code",
   "execution_count": null,
   "metadata": {},
   "outputs": [],
   "source": [
    "df.to_csv(\"../00_data/competency_development/concquest_input_data_period_1.csv\")"
   ]
  },
  {
   "cell_type": "code",
   "execution_count": null,
   "metadata": {},
   "outputs": [],
   "source": [
    "######## Manually\n",
    "# open as csv in excel\n",
    "## drop column row\n",
    "## row to string -> delete commas\n",
    "## close csv\n",
    "# open csv in editor\n",
    "## save as dat"
   ]
  },
  {
   "attachments": {},
   "cell_type": "markdown",
   "metadata": {},
   "source": [
    "Time period 2"
   ]
  },
  {
   "cell_type": "code",
   "execution_count": null,
   "metadata": {},
   "outputs": [],
   "source": [
    "rasch_2 = xmlsaetze[[\"UserID\", \"SatzID\", \"Erfolg\", \"Datum\"]]\n",
    "rasch_2[\"UserID\"].astype(str)\n",
    "rasch_2[\"SatzID\"].astype(str)\n",
    "\n",
    "# only keeps users in both time periods\n",
    "rasch_2 = pd.merge(user_both_sessions, rasch_2, on=\"UserID\", how=\"left\")\n",
    "\n",
    "# only use input from the first time\n",
    "rasch_2 = rasch_2[(rasch_2[\"Datum\"] > \"2022-11-21\") & (rasch_2[\"Datum\"] < \"2023-02-21\")]"
   ]
  },
  {
   "cell_type": "code",
   "execution_count": null,
   "metadata": {},
   "outputs": [],
   "source": [
    "time2 = rasch_2.groupby([\"UserID\", \"SatzID\"]).agg({\"Datum\": np.max})\n",
    "time2 = time2.reset_index()\n",
    "time2 = pd.merge(time2, rasch_2, on=[\"UserID\", \"SatzID\", \"Datum\"])"
   ]
  },
  {
   "cell_type": "code",
   "execution_count": null,
   "metadata": {},
   "outputs": [],
   "source": [
    "rasch_2 = time2.pivot_table(\n",
    "    values=\"Erfolg\", index=time2.UserID, columns=\"SatzID\", aggfunc=\"last\"\n",
    ")\n",
    "rasch_2"
   ]
  },
  {
   "cell_type": "code",
   "execution_count": null,
   "metadata": {},
   "outputs": [],
   "source": [
    "delete_li = []\n",
    "for col in rasch_2:\n",
    "    cnt = rasch_2[col].count()\n",
    "    if cnt < 2:\n",
    "        delete_li.append(col)"
   ]
  },
  {
   "cell_type": "code",
   "execution_count": null,
   "metadata": {},
   "outputs": [],
   "source": [
    "delete_li = []\n",
    "for index, row in rasch_2.iterrows():\n",
    "    cnt = row.count()\n",
    "    if cnt < 2:\n",
    "        delete_li.append(index)\n",
    "        rasch_2 = rasch_2.drop([index])\n",
    "\n",
    "rasch_2"
   ]
  },
  {
   "cell_type": "code",
   "execution_count": null,
   "metadata": {},
   "outputs": [],
   "source": [
    "rasch_2.to_csv(\"../00_data/competency_development/learning_data_period_2.csv\")"
   ]
  },
  {
   "cell_type": "code",
   "execution_count": null,
   "metadata": {},
   "outputs": [],
   "source": [
    "df = pd.read_csv(\"../00_data/competency_development/learning_data_period_2.csv\")\n",
    "# user id as index\n",
    "df = df.set_index(\"UserID\")\n",
    "# drop rows with 0 values\n",
    "df = df.dropna(how=\"all\")\n",
    "# create index with four digits\n",
    "df.index = df.index.astype(str).str.pad(7, side=\"left\", fillchar=\"0\")\n",
    "# change 1.0 to 1\n",
    "df = df.replace([1.0], \"1\")\n",
    "# change 0.0 to 0\n",
    "df = df.replace([0.0], \"0\")\n",
    "# change NaN to .\n",
    "df = df.fillna(\".\", inplace=False)\n",
    "df.to_csv(\"../00_data/competency_development/concquest_input_data_period_2.csv\")"
   ]
  }
 ],
 "metadata": {
  "kernelspec": {
   "display_name": "Python 3.10.2 64-bit",
   "language": "python",
   "name": "python3"
  },
  "language_info": {
   "codemirror_mode": {
    "name": "ipython",
    "version": 3
   },
   "file_extension": ".py",
   "mimetype": "text/x-python",
   "name": "python",
   "nbconvert_exporter": "python",
   "pygments_lexer": "ipython3",
   "version": "3.10.2"
  },
  "orig_nbformat": 4,
  "vscode": {
   "interpreter": {
    "hash": "369f2c481f4da34e4445cda3fffd2e751bd1c4d706f27375911949ba6bb62e1c"
   }
  }
 },
 "nbformat": 4,
 "nbformat_minor": 2
}
