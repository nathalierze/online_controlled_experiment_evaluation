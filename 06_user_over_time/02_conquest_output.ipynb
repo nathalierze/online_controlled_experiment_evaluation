{
 "cells": [
  {
   "cell_type": "code",
   "execution_count": 12,
   "metadata": {},
   "outputs": [],
   "source": [
    "import pandas as pd\n",
    "import pickle"
   ]
  },
  {
   "cell_type": "code",
   "execution_count": 13,
   "metadata": {},
   "outputs": [],
   "source": [
    "interventiongroup = pickle.load(open(\"../00_data/cleaned/sitzungssummary.pkl\", \"rb\"))\n",
    "interventiongroup = interventiongroup[\n",
    "    [\"UserID\", \"interventiongroup\", \"Geschlecht\", \"Klassenstufe\"]\n",
    "]\n",
    "interventiongroup = interventiongroup.drop_duplicates()\n",
    "\n",
    "# import data from additional experimental period\n",
    "df_nov_mar = pickle.load(\n",
    "    open(\"../00_data/competency_development/sitzungssummary_nov_mar.pkl\", \"rb\")\n",
    ")\n",
    "intv_nov_mar = df_nov_mar[[\"UserID\", \"interventiongroup\", \"Geschlecht\", \"Klassenstufe\"]]\n",
    "intv_nov_mar = intv_nov_mar.drop_duplicates()\n",
    "\n",
    "interventiongroup = pd.concat([interventiongroup, intv_nov_mar])"
   ]
  },
  {
   "attachments": {},
   "cell_type": "markdown",
   "metadata": {},
   "source": [
    "Period 1"
   ]
  },
  {
   "cell_type": "code",
   "execution_count": 14,
   "metadata": {},
   "outputs": [],
   "source": [
    "userIDs = pd.read_csv(\"../00_data/competency_development/learning_data_period_1.csv\")\n",
    "userIDs = userIDs[[\"UserID\"]]\n",
    "userIDs = userIDs.reset_index()\n",
    "userIDs[\"index\"] = userIDs[\"index\"] + 1"
   ]
  },
  {
   "cell_type": "code",
   "execution_count": 16,
   "metadata": {},
   "outputs": [],
   "source": [
    "df = pd.read_csv(\n",
    "    \"../00_data/competency_development/conquest_output_period_1.csv\",\n",
    "    delimiter=\";\",\n",
    "    decimal=\",\",\n",
    ")"
   ]
  },
  {
   "cell_type": "code",
   "execution_count": 17,
   "metadata": {},
   "outputs": [],
   "source": [
    "names = [\"ID\", \"score\", \"max_score\", \"ability\", \"ste\"]\n",
    "df.columns = names"
   ]
  },
  {
   "cell_type": "code",
   "execution_count": 18,
   "metadata": {},
   "outputs": [],
   "source": [
    "# merge output with userID\n",
    "competence = pd.merge(df, userIDs, left_on=\"ID\", right_on=\"index\")\n",
    "competence = competence[[\"UserID\", \"ability\"]]"
   ]
  },
  {
   "cell_type": "code",
   "execution_count": null,
   "metadata": {},
   "outputs": [],
   "source": [
    "competence = pd.merge(competence, interventiongroup, on=\"UserID\", how=\"left\")"
   ]
  },
  {
   "cell_type": "code",
   "execution_count": 20,
   "metadata": {},
   "outputs": [],
   "source": [
    "competence.to_pickle(\"../00_data/competency_development/competence_time_period_1.pkl\")"
   ]
  },
  {
   "attachments": {},
   "cell_type": "markdown",
   "metadata": {},
   "source": [
    "Period 2"
   ]
  },
  {
   "cell_type": "code",
   "execution_count": null,
   "metadata": {},
   "outputs": [],
   "source": [
    "userIDs = pd.read_csv(\"../00_data/competency_development/learning_data_period_1.csv\")\n",
    "userIDs = userIDs[[\"UserID\"]]\n",
    "userIDs = userIDs.reset_index()\n",
    "userIDs[\"index\"] = userIDs[\"index\"] + 1"
   ]
  },
  {
   "cell_type": "code",
   "execution_count": null,
   "metadata": {},
   "outputs": [],
   "source": [
    "df = pd.read_csv(\n",
    "    \"../00_data/competency_development/conquest_output_period_2.csv\",\n",
    "    delimiter=\";\",\n",
    "    decimal=\",\",\n",
    ")"
   ]
  },
  {
   "cell_type": "code",
   "execution_count": null,
   "metadata": {},
   "outputs": [],
   "source": [
    "names = [\"ID\", \"score\", \"max_score\", \"ability\", \"ste\"]\n",
    "df.columns = names"
   ]
  },
  {
   "cell_type": "code",
   "execution_count": null,
   "metadata": {},
   "outputs": [],
   "source": [
    "# merge output with userID\n",
    "competence = pd.merge(df, userIDs, left_on=\"ID\", right_on=\"index\")\n",
    "competence = competence[[\"UserID\", \"ability\"]]"
   ]
  },
  {
   "cell_type": "code",
   "execution_count": null,
   "metadata": {},
   "outputs": [],
   "source": [
    "competence = pd.merge(competence, interventiongroup, on=\"UserID\", how=\"left\")"
   ]
  },
  {
   "cell_type": "code",
   "execution_count": null,
   "metadata": {},
   "outputs": [],
   "source": [
    "competence.to_pickle(\"../00_data/competency_development/competence_time_period_2.pkl\")"
   ]
  }
 ],
 "metadata": {
  "kernelspec": {
   "display_name": "Python 3.10.2 64-bit",
   "language": "python",
   "name": "python3"
  },
  "language_info": {
   "codemirror_mode": {
    "name": "ipython",
    "version": 3
   },
   "file_extension": ".py",
   "mimetype": "text/x-python",
   "name": "python",
   "nbconvert_exporter": "python",
   "pygments_lexer": "ipython3",
   "version": "3.10.2"
  },
  "orig_nbformat": 4,
  "vscode": {
   "interpreter": {
    "hash": "369f2c481f4da34e4445cda3fffd2e751bd1c4d706f27375911949ba6bb62e1c"
   }
  }
 },
 "nbformat": 4,
 "nbformat_minor": 2
}
